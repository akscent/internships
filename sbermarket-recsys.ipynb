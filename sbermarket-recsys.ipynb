{
 "cells": [
  {
   "cell_type": "markdown",
   "id": "8941267c",
   "metadata": {
    "papermill": {
     "duration": 0.011419,
     "end_time": "2024-03-06T07:35:42.095417",
     "exception": false,
     "start_time": "2024-03-06T07:35:42.083998",
     "status": "completed"
    },
    "tags": []
   },
   "source": [
    "## Импорт библиотек"
   ]
  },
  {
   "cell_type": "code",
   "execution_count": 1,
   "id": "3fd9b94b",
   "metadata": {
    "_kg_hide-input": true,
    "_kg_hide-output": true,
    "execution": {
     "iopub.execute_input": "2024-03-06T07:35:42.120219Z",
     "iopub.status.busy": "2024-03-06T07:35:42.119835Z",
     "iopub.status.idle": "2024-03-06T07:40:02.107646Z",
     "shell.execute_reply": "2024-03-06T07:40:02.106203Z"
    },
    "papermill": {
     "duration": 260.003713,
     "end_time": "2024-03-06T07:40:02.110725",
     "exception": false,
     "start_time": "2024-03-06T07:35:42.107012",
     "status": "completed"
    },
    "tags": []
   },
   "outputs": [
    {
     "name": "stdout",
     "output_type": "stream",
     "text": [
      "Found existing installation: pandas 2.2.0\r\n",
      "Uninstalling pandas-2.2.0:\r\n",
      "  Successfully uninstalled pandas-2.2.0\r\n",
      "\u001b[31mERROR: pip's dependency resolver does not currently take into account all the packages that are installed. This behaviour is the source of the following dependency conflicts.\r\n",
      "fastai 2.7.14 requires pandas, which is not installed.\u001b[0m\u001b[31m\r\n",
      "\u001b[0m\u001b[31mERROR: pip's dependency resolver does not currently take into account all the packages that are installed. This behaviour is the source of the following dependency conflicts.\r\n",
      "fastai 2.7.14 requires pandas, which is not installed.\r\n",
      "stable-baselines3 2.1.0 requires pandas, which is not installed.\r\n",
      "torchaudio 2.1.2+cpu requires torch==2.1.2, but you have torch 2.0.0 which is incompatible.\r\n",
      "torchtext 0.16.2+cpu requires torch==2.1.2, but you have torch 2.0.0 which is incompatible.\r\n",
      "torchvision 0.16.2+cpu requires torch==2.1.2, but you have torch 2.0.0 which is incompatible.\u001b[0m\u001b[31m\r\n",
      "\u001b[0m\u001b[31mERROR: pip's dependency resolver does not currently take into account all the packages that are installed. This behaviour is the source of the following dependency conflicts.\r\n",
      "tensorflow-decision-forests 1.8.1 requires wurlitzer, which is not installed.\r\n",
      "beatrix-jupyterlab 2023.128.151533 requires jupyterlab~=3.6.0, but you have jupyterlab 4.1.2 which is incompatible.\r\n",
      "featuretools 1.29.0 requires pandas>=1.5.0, but you have pandas 1.4.3 which is incompatible.\r\n",
      "fitter 1.7.0 requires joblib<2.0.0,>=1.3.1, but you have joblib 1.2.0 which is incompatible.\r\n",
      "libpysal 4.9.2 requires packaging>=22, but you have packaging 21.3 which is incompatible.\r\n",
      "libpysal 4.9.2 requires shapely>=2.0.1, but you have shapely 1.8.5.post1 which is incompatible.\r\n",
      "mizani 0.11.0 requires pandas>=2.1.0, but you have pandas 1.4.3 which is incompatible.\r\n",
      "momepy 0.7.0 requires shapely>=2, but you have shapely 1.8.5.post1 which is incompatible.\r\n",
      "osmnx 1.9.1 requires shapely>=2.0, but you have shapely 1.8.5.post1 which is incompatible.\r\n",
      "plotnine 0.13.0 requires pandas>=2.1.0, but you have pandas 1.4.3 which is incompatible.\r\n",
      "pyldavis 3.4.1 requires pandas>=2.0.0, but you have pandas 1.4.3 which is incompatible.\r\n",
      "spopt 0.6.0 requires shapely>=2.0.1, but you have shapely 1.8.5.post1 which is incompatible.\r\n",
      "xarray 2024.2.0 requires packaging>=22, but you have packaging 21.3 which is incompatible.\r\n",
      "xarray 2024.2.0 requires pandas>=1.5, but you have pandas 1.4.3 which is incompatible.\r\n",
      "ydata-profiling 4.6.4 requires numpy<1.26,>=1.16.0, but you have numpy 1.26.4 which is incompatible.\u001b[0m\u001b[31m\r\n",
      "\u001b[0m"
     ]
    }
   ],
   "source": [
    "# Для построения пайплайна обучения используется lightautoml, который конфликтуает с новой версией pandas. Поэтому\n",
    "!pip uninstall pandas -y\n",
    "!pip install --upgrade pip > installations.txt\n",
    "!pip uninstall torch -y > installations.txt # конфликтует \n",
    "!pip install torch==2.0.0 > installations.txt\n",
    "!pip install pandas==1.4.3 pyarrow yellowbrick polars transformers nltk gensim lightautoml fastparquet > installations.txt"
   ]
  },
  {
   "cell_type": "code",
   "execution_count": null,
   "id": "f62380a8",
   "metadata": {
    "papermill": {
     "duration": 0.012451,
     "end_time": "2024-03-06T07:40:02.135310",
     "exception": false,
     "start_time": "2024-03-06T07:40:02.122859",
     "status": "completed"
    },
    "tags": []
   },
   "outputs": [],
   "source": []
  },
  {
   "cell_type": "code",
   "execution_count": 2,
   "id": "68dabec1",
   "metadata": {
    "_cell_guid": "b1076dfc-b9ad-4769-8c92-a6c4dae69d19",
    "_uuid": "8f2839f25d086af736a60e9eeb907d3b93b6e0e5",
    "execution": {
     "iopub.execute_input": "2024-03-06T07:40:02.164223Z",
     "iopub.status.busy": "2024-03-06T07:40:02.163072Z",
     "iopub.status.idle": "2024-03-06T07:41:03.095391Z",
     "shell.execute_reply": "2024-03-06T07:41:03.093944Z"
    },
    "papermill": {
     "duration": 60.951659,
     "end_time": "2024-03-06T07:41:03.099385",
     "exception": false,
     "start_time": "2024-03-06T07:40:02.147726",
     "status": "completed"
    },
    "tags": []
   },
   "outputs": [],
   "source": [
    "# for dataframe\n",
    "import polars as pl\n",
    "import numpy as np\n",
    "import pyarrow as pa\n",
    "import pandas as pd\n",
    "import fastparquet\n",
    "\n",
    "# for system\n",
    "import os\n",
    "import time\n",
    "import sys\n",
    "\n",
    "# for metric\n",
    "from sklearn.metrics import f1_score\n",
    "from sklearn.model_selection import train_test_split\n",
    "\n",
    "# for demention decrease\n",
    "from sklearn.cluster import KMeans\n",
    "from sklearn.preprocessing import RobustScaler\n",
    "from sklearn.decomposition import PCA\n",
    "\n",
    "# for common functions\n",
    "from collections import OrderedDict\n",
    "from collections import Counter\n",
    "from kaggle_secrets import UserSecretsClient\n",
    "from copy import deepcopy as copy\n",
    "from typing import Tuple, List\n",
    "\n",
    "# for monitoring of models\n",
    "import wandb\n",
    "\n",
    "# for machine learning\n",
    "from lightautoml.reader.base import PandasToPandasReader\n",
    "from lightautoml.tasks import Task\n",
    "from lightautoml.automl.presets.tabular_presets import TabularAutoML, TabularUtilizedAutoML\n",
    "from lightautoml.report.report_deco import ReportDeco\n",
    "\n",
    "# my functions\n",
    "sys.path.append('/kaggle/input/next-orders')\n",
    "from my_functions import MarketDataProcessor"
   ]
  },
  {
   "cell_type": "markdown",
   "id": "b7665ba1",
   "metadata": {
    "papermill": {
     "duration": 0.01321,
     "end_time": "2024-03-06T07:41:03.127153",
     "exception": false,
     "start_time": "2024-03-06T07:41:03.113943",
     "status": "completed"
    },
    "tags": []
   },
   "source": [
    "## Препроцессинг данных\n",
    "\n",
    "____________________________________________________\n",
    "Использовался ноутбук с TPU и RAM 300GB, чтобы не испытывать проблем с памятью во время операционных обработок датасета."
   ]
  },
  {
   "cell_type": "code",
   "execution_count": 3,
   "id": "102342e4",
   "metadata": {
    "execution": {
     "iopub.execute_input": "2024-03-06T07:41:03.158350Z",
     "iopub.status.busy": "2024-03-06T07:41:03.156695Z",
     "iopub.status.idle": "2024-03-06T07:41:03.163387Z",
     "shell.execute_reply": "2024-03-06T07:41:03.162374Z"
    },
    "papermill": {
     "duration": 0.024463,
     "end_time": "2024-03-06T07:41:03.165735",
     "exception": false,
     "start_time": "2024-03-06T07:41:03.141272",
     "status": "completed"
    },
    "tags": []
   },
   "outputs": [],
   "source": [
    "# # tmp импорт в pandas\n",
    "# raw = pd.read_csv('../input/sbermarket-internship-competition/train.csv')\n",
    "# sub = pd.read_csv('../input/sbermarket-internship-competition/sample_submission.csv', sep = \",\")\n",
    "\n",
    "# # Приведение столбца 'cart' к int\n",
    "# raw['cart'] = raw['cart'].astype(int)\n",
    "\n",
    "# mk_data = MarketDataProcessor(raw, sub)\n",
    "\n",
    "# # Отбрасываем выбросы - юзеров с малым количеством товаров в истории их заказов\n",
    "# filtered_raw, filtered_sub, proportion = mk_data.filter_train_data()\n",
    "# print(f\"Процент наблюдений, используемый для тренировки: {proportion:.2f}%\")"
   ]
  },
  {
   "cell_type": "markdown",
   "id": "433c5580",
   "metadata": {
    "papermill": {
     "duration": 0.012582,
     "end_time": "2024-03-06T07:41:03.192158",
     "exception": false,
     "start_time": "2024-03-06T07:41:03.179576",
     "status": "completed"
    },
    "tags": []
   },
   "source": [
    "### Polars ускоряет обработку данных\n",
    "__________________________________________________\n",
    "В итоге мы получаем pd датафрейм с усредненным рейтингом id во всем датасете и набор временных переменных, основанных на этой метрике (рейтинг)"
   ]
  },
  {
   "cell_type": "code",
   "execution_count": 4,
   "id": "0c39fdff",
   "metadata": {
    "execution": {
     "iopub.execute_input": "2024-03-06T07:41:03.222739Z",
     "iopub.status.busy": "2024-03-06T07:41:03.221962Z",
     "iopub.status.idle": "2024-03-06T07:41:03.226700Z",
     "shell.execute_reply": "2024-03-06T07:41:03.225471Z"
    },
    "papermill": {
     "duration": 0.022672,
     "end_time": "2024-03-06T07:41:03.229129",
     "exception": false,
     "start_time": "2024-03-06T07:41:03.206457",
     "status": "completed"
    },
    "tags": []
   },
   "outputs": [],
   "source": [
    "# %%time\n",
    "# mk_data.get_dummies_matrix()\n",
    "# mk_data.generate_time_features()\n",
    "# Train = mk_data.compile_dataset()\n",
    "\n",
    "# Test = mk_data.compile_dataset(history_flag = 1)"
   ]
  },
  {
   "cell_type": "markdown",
   "id": "d8d889e6",
   "metadata": {
    "papermill": {
     "duration": 0.013592,
     "end_time": "2024-03-06T07:41:03.255790",
     "exception": false,
     "start_time": "2024-03-06T07:41:03.242198",
     "status": "completed"
    },
    "tags": []
   },
   "source": [
    "### X / Y "
   ]
  },
  {
   "cell_type": "code",
   "execution_count": 5,
   "id": "7f0e96fe",
   "metadata": {
    "execution": {
     "iopub.execute_input": "2024-03-06T07:41:03.285802Z",
     "iopub.status.busy": "2024-03-06T07:41:03.285279Z",
     "iopub.status.idle": "2024-03-06T07:41:03.289998Z",
     "shell.execute_reply": "2024-03-06T07:41:03.288895Z"
    },
    "papermill": {
     "duration": 0.023108,
     "end_time": "2024-03-06T07:41:03.292666",
     "exception": false,
     "start_time": "2024-03-06T07:41:03.269558",
     "status": "completed"
    },
    "tags": []
   },
   "outputs": [],
   "source": [
    "# x_cols = Train.select_dtypes(include=['int', 'int8', 'int32', 'uint32', 'uint8', 'float']).drop(columns = ['target'], axis = 1).columns.tolist()\n",
    "# x_cols_pca = Train.select_dtypes(include=['int', 'int8', 'int32', 'uint32', 'uint8', 'float']).drop(columns = ['user_id', 'target'], axis = 1).columns.tolist()\n",
    "# print(x_cols)\n",
    "# y_cols = ['target']\n",
    "# print(y_cols)"
   ]
  },
  {
   "cell_type": "markdown",
   "id": "caa1e4ae",
   "metadata": {
    "papermill": {
     "duration": 0.013375,
     "end_time": "2024-03-06T07:41:03.319742",
     "exception": false,
     "start_time": "2024-03-06T07:41:03.306367",
     "status": "completed"
    },
    "tags": []
   },
   "source": [
    "### Добавляем главные компоненты"
   ]
  },
  {
   "cell_type": "code",
   "execution_count": 6,
   "id": "b0eee489",
   "metadata": {
    "execution": {
     "iopub.execute_input": "2024-03-06T07:41:03.349196Z",
     "iopub.status.busy": "2024-03-06T07:41:03.348109Z",
     "iopub.status.idle": "2024-03-06T07:41:03.353853Z",
     "shell.execute_reply": "2024-03-06T07:41:03.352539Z"
    },
    "papermill": {
     "duration": 0.023146,
     "end_time": "2024-03-06T07:41:03.356512",
     "exception": false,
     "start_time": "2024-03-06T07:41:03.333366",
     "status": "completed"
    },
    "tags": []
   },
   "outputs": [],
   "source": [
    "# scaler = RobustScaler()\n",
    "\n",
    "# s_Train = Train.copy()\n",
    "# s_Test = Test.copy()\n",
    "# s_Train[x_cols_pca] = scaler.fit_transform(s_Train[x_cols_pca])\n",
    "# s_Test[x_cols_pca] = scaler.transform(s_Test[x_cols_pca])\n",
    "\n",
    "# pca = PCA(n_components=10)\n",
    "\n",
    "# s_Train_pca = pca.fit_transform(s_Train[x_cols])\n",
    "# s_Test_pca = pca.transform(s_Test[x_cols])\n",
    "\n",
    "# Train_pca = pd.DataFrame(s_Train_pca, columns=[f'pc{i+1}' for i in range(s_Train_pca.shape[1])])\n",
    "# Test_pca = pd.DataFrame(s_Test_pca, columns=[f'pc{i+1}' for i in range(s_Train_pca.shape[1])])\n",
    "\n",
    "# s_Train[Train_pca.columns.to_list()] = Train_pca\n",
    "# s_Test[Test_pca.columns.to_list()] = Test_pca"
   ]
  },
  {
   "cell_type": "markdown",
   "id": "35388073",
   "metadata": {
    "papermill": {
     "duration": 0.011417,
     "end_time": "2024-03-06T07:41:03.379960",
     "exception": false,
     "start_time": "2024-03-06T07:41:03.368543",
     "status": "completed"
    },
    "tags": []
   },
   "source": [
    "### Кластеризация id(юзер-категория)"
   ]
  },
  {
   "cell_type": "code",
   "execution_count": 7,
   "id": "1767faea",
   "metadata": {
    "execution": {
     "iopub.execute_input": "2024-03-06T07:41:03.406309Z",
     "iopub.status.busy": "2024-03-06T07:41:03.405903Z",
     "iopub.status.idle": "2024-03-06T07:41:03.410646Z",
     "shell.execute_reply": "2024-03-06T07:41:03.409639Z"
    },
    "papermill": {
     "duration": 0.021184,
     "end_time": "2024-03-06T07:41:03.413015",
     "exception": false,
     "start_time": "2024-03-06T07:41:03.391831",
     "status": "completed"
    },
    "tags": []
   },
   "outputs": [],
   "source": [
    "# from sklearn.cluster import KMeans\n",
    "# from yellowbrick.cluster.elbow import kelbow_visualizer\n",
    "\n",
    "# print('Elbow Method to determine the number of clusters for id and target:')\n",
    "# kelbow_visualizer(KMeans(random_state=4), \n",
    "#                   Train_pca, \n",
    "#                   k=(2,21))\n"
   ]
  },
  {
   "cell_type": "code",
   "execution_count": 8,
   "id": "13b342a0",
   "metadata": {
    "execution": {
     "iopub.execute_input": "2024-03-06T07:41:03.440040Z",
     "iopub.status.busy": "2024-03-06T07:41:03.439607Z",
     "iopub.status.idle": "2024-03-06T07:41:03.445008Z",
     "shell.execute_reply": "2024-03-06T07:41:03.443821Z"
    },
    "papermill": {
     "duration": 0.023051,
     "end_time": "2024-03-06T07:41:03.448317",
     "exception": false,
     "start_time": "2024-03-06T07:41:03.425266",
     "status": "completed"
    },
    "tags": []
   },
   "outputs": [],
   "source": [
    "# from sklearn.cluster import KMeans\n",
    "# kmeans = KMeans(n_clusters=5)\n",
    "# cluster = kmeans.fit_predict(Train_pca)\n",
    "# test_cluster = kmeans.predict(Test_pca)\n",
    "# s_Train[\"Clusters\"] = cluster\n",
    "# s_Test[\"Clusters\"] = test_cluster"
   ]
  },
  {
   "cell_type": "markdown",
   "id": "8b3e949c",
   "metadata": {
    "papermill": {
     "duration": 0.013183,
     "end_time": "2024-03-06T07:41:03.475476",
     "exception": false,
     "start_time": "2024-03-06T07:41:03.462293",
     "status": "completed"
    },
    "tags": []
   },
   "source": [
    "### Сохранение данных в parquet"
   ]
  },
  {
   "cell_type": "code",
   "execution_count": 9,
   "id": "60933dd3",
   "metadata": {
    "execution": {
     "iopub.execute_input": "2024-03-06T07:41:03.504957Z",
     "iopub.status.busy": "2024-03-06T07:41:03.504461Z",
     "iopub.status.idle": "2024-03-06T07:41:03.509406Z",
     "shell.execute_reply": "2024-03-06T07:41:03.508290Z"
    },
    "papermill": {
     "duration": 0.022257,
     "end_time": "2024-03-06T07:41:03.512016",
     "exception": false,
     "start_time": "2024-03-06T07:41:03.489759",
     "status": "completed"
    },
    "tags": []
   },
   "outputs": [],
   "source": [
    "# Train.to_parquet('Train.parquet', index=False)\n",
    "# s_Train.to_parquet('s_Train.parquet', index=False)\n",
    "# s_Test.to_parquet('s_Test.parquet', index=False)"
   ]
  },
  {
   "cell_type": "code",
   "execution_count": 10,
   "id": "b6c5d559",
   "metadata": {
    "execution": {
     "iopub.execute_input": "2024-03-06T07:41:03.541458Z",
     "iopub.status.busy": "2024-03-06T07:41:03.541066Z",
     "iopub.status.idle": "2024-03-06T07:41:50.441796Z",
     "shell.execute_reply": "2024-03-06T07:41:50.439478Z"
    },
    "papermill": {
     "duration": 46.92375,
     "end_time": "2024-03-06T07:41:50.449161",
     "exception": false,
     "start_time": "2024-03-06T07:41:03.525411",
     "status": "completed"
    },
    "tags": []
   },
   "outputs": [],
   "source": [
    "s_Train = pd.read_parquet('/kaggle/input/next-orders/s_Train (1).parquet')\n",
    "# s_Test = pd.read_parquet('/kaggle/input/next-orders/s_Test (1).parquet')"
   ]
  },
  {
   "cell_type": "markdown",
   "id": "2e3e0cc8",
   "metadata": {
    "papermill": {
     "duration": 0.011774,
     "end_time": "2024-03-06T07:41:50.479762",
     "exception": false,
     "start_time": "2024-03-06T07:41:50.467988",
     "status": "completed"
    },
    "tags": []
   },
   "source": [
    "## LightAutoML пайплайн\n"
   ]
  },
  {
   "cell_type": "code",
   "execution_count": 11,
   "id": "7a82ee4a",
   "metadata": {
    "execution": {
     "iopub.execute_input": "2024-03-06T07:41:50.507239Z",
     "iopub.status.busy": "2024-03-06T07:41:50.506779Z",
     "iopub.status.idle": "2024-03-06T07:41:50.528487Z",
     "shell.execute_reply": "2024-03-06T07:41:50.527138Z"
    },
    "papermill": {
     "duration": 0.040244,
     "end_time": "2024-03-06T07:41:50.531909",
     "exception": false,
     "start_time": "2024-03-06T07:41:50.491665",
     "status": "completed"
    },
    "tags": []
   },
   "outputs": [],
   "source": [
    "def f1 (real, pred, **kwargs):\n",
    "    return f1_score(real, (pred > 0.2).astype(int), **kwargs)\n",
    "\n",
    "N_THREADS = 4\n",
    "N_FOLDS = 5\n",
    "RANDOM_STATE = 42\n",
    "TEST_SIZE = 0.2\n",
    "TARGET_NAME = 'target'\n",
    "ROLES = {'target': TARGET_NAME, 'drop': ['id', 'user_id', 'category'], 'category': ['Clusters']}\n",
    "TASK = Task('binary', metric = f1)"
   ]
  },
  {
   "cell_type": "code",
   "execution_count": 12,
   "id": "b6e522de",
   "metadata": {
    "execution": {
     "iopub.execute_input": "2024-03-06T07:41:50.557213Z",
     "iopub.status.busy": "2024-03-06T07:41:50.556799Z",
     "iopub.status.idle": "2024-03-06T07:42:46.390214Z",
     "shell.execute_reply": "2024-03-06T07:42:46.388562Z"
    },
    "papermill": {
     "duration": 55.850326,
     "end_time": "2024-03-06T07:42:46.393990",
     "exception": false,
     "start_time": "2024-03-06T07:41:50.543664",
     "status": "completed"
    },
    "tags": []
   },
   "outputs": [],
   "source": [
    "Train_set, Valid_set = train_test_split(s_Train, test_size = TEST_SIZE,\n",
    "                                        stratify = s_Train[TARGET_NAME], random_state = 23)\n",
    "Train_set.reset_index(drop=True, inplace=True)\n",
    "Valid_set.reset_index(drop=True, inplace=True)\n"
   ]
  },
  {
   "cell_type": "code",
   "execution_count": 13,
   "id": "3bfb9d7a",
   "metadata": {
    "execution": {
     "iopub.execute_input": "2024-03-06T07:42:46.422397Z",
     "iopub.status.busy": "2024-03-06T07:42:46.420832Z",
     "iopub.status.idle": "2024-03-06T07:42:46.685614Z",
     "shell.execute_reply": "2024-03-06T07:42:46.684253Z"
    },
    "papermill": {
     "duration": 0.282098,
     "end_time": "2024-03-06T07:42:46.688687",
     "exception": false,
     "start_time": "2024-03-06T07:42:46.406589",
     "status": "completed"
    },
    "tags": []
   },
   "outputs": [],
   "source": [
    "del s_Train"
   ]
  },
  {
   "cell_type": "code",
   "execution_count": 14,
   "id": "161a6c6f",
   "metadata": {
    "execution": {
     "iopub.execute_input": "2024-03-06T07:42:46.715280Z",
     "iopub.status.busy": "2024-03-06T07:42:46.714823Z",
     "iopub.status.idle": "2024-03-06T07:42:46.721998Z",
     "shell.execute_reply": "2024-03-06T07:42:46.720758Z"
    },
    "papermill": {
     "duration": 0.023665,
     "end_time": "2024-03-06T07:42:46.724834",
     "exception": false,
     "start_time": "2024-03-06T07:42:46.701169",
     "status": "completed"
    },
    "tags": []
   },
   "outputs": [],
   "source": [
    "real_estimators = ['total_order_in_cat_max',\n",
    " 'ordered_mean',\n",
    " 'pc2',\n",
    " 'total_rating_cat_max',\n",
    " 'rating_max',\n",
    " 'rating_mean',\n",
    " 'pc5',\n",
    " 'weekday_mean',\n",
    " 'pc6',\n",
    " 'pc4',\n",
    " 'pc10',\n",
    " 'pc3',\n",
    " 'pc1',\n",
    " 'pc7',\n",
    " 'pc8',\n",
    " 'pc9',\n",
    " 'rating_per_month_mean',\n",
    " 'month_std',\n",
    " 'month_mean',\n",
    " 'rating_per_month_std',\n",
    " 'weekday_std',\n",
    " 'month_max',\n",
    " 'ordered_std',\n",
    " 'rating_std',\n",
    " 'weekday_min',\n",
    " 'month_min',\n",
    " 't_rating_per_month_mean',\n",
    " 'Clusters',\n",
    " 'weekday_max',\n",
    " 't_rating_per_month_sum',\n",
    " 'tc_rating_per_month_mean',\n",
    " 't_rating_per_month_median',\n",
    " 't_rating_per_month_std',\n",
    " 'tc_rating_per_month_sum',\n",
    " 'ordered_max',\n",
    " 'tc_rating_per_month_std']"
   ]
  },
  {
   "cell_type": "code",
   "execution_count": 15,
   "id": "69b52336",
   "metadata": {
    "execution": {
     "iopub.execute_input": "2024-03-06T07:42:46.750835Z",
     "iopub.status.busy": "2024-03-06T07:42:46.750096Z",
     "iopub.status.idle": "2024-03-06T07:42:53.752597Z",
     "shell.execute_reply": "2024-03-06T07:42:53.751221Z"
    },
    "papermill": {
     "duration": 7.018525,
     "end_time": "2024-03-06T07:42:53.755130",
     "exception": false,
     "start_time": "2024-03-06T07:42:46.736605",
     "status": "completed"
    },
    "tags": []
   },
   "outputs": [
    {
     "data": {
      "text/html": [
       "<div>\n",
       "<style scoped>\n",
       "    .dataframe tbody tr th:only-of-type {\n",
       "        vertical-align: middle;\n",
       "    }\n",
       "\n",
       "    .dataframe tbody tr th {\n",
       "        vertical-align: top;\n",
       "    }\n",
       "\n",
       "    .dataframe thead th {\n",
       "        text-align: right;\n",
       "    }\n",
       "</style>\n",
       "<table border=\"1\" class=\"dataframe\">\n",
       "  <thead>\n",
       "    <tr style=\"text-align: right;\">\n",
       "      <th></th>\n",
       "      <th>total_order_in_cat_max</th>\n",
       "      <th>ordered_mean</th>\n",
       "      <th>pc2</th>\n",
       "      <th>total_rating_cat_max</th>\n",
       "      <th>rating_max</th>\n",
       "      <th>rating_mean</th>\n",
       "      <th>pc5</th>\n",
       "      <th>weekday_mean</th>\n",
       "      <th>pc6</th>\n",
       "      <th>pc4</th>\n",
       "      <th>...</th>\n",
       "      <th>Clusters</th>\n",
       "      <th>weekday_max</th>\n",
       "      <th>t_rating_per_month_sum</th>\n",
       "      <th>tc_rating_per_month_mean</th>\n",
       "      <th>t_rating_per_month_median</th>\n",
       "      <th>t_rating_per_month_std</th>\n",
       "      <th>tc_rating_per_month_sum</th>\n",
       "      <th>ordered_max</th>\n",
       "      <th>tc_rating_per_month_std</th>\n",
       "      <th>target</th>\n",
       "    </tr>\n",
       "  </thead>\n",
       "  <tbody>\n",
       "    <tr>\n",
       "      <th>0</th>\n",
       "      <td>0.019940</td>\n",
       "      <td>0.0</td>\n",
       "      <td>-6.889078</td>\n",
       "      <td>0.017995</td>\n",
       "      <td>0.0</td>\n",
       "      <td>0.0</td>\n",
       "      <td>-1.640512</td>\n",
       "      <td>-0.925466</td>\n",
       "      <td>-0.422434</td>\n",
       "      <td>-0.597641</td>\n",
       "      <td>...</td>\n",
       "      <td>4</td>\n",
       "      <td>0.0</td>\n",
       "      <td>1.250000e-01</td>\n",
       "      <td>1.250000e-01</td>\n",
       "      <td>0.125</td>\n",
       "      <td>1.250000e-01</td>\n",
       "      <td>1.250000e-01</td>\n",
       "      <td>0.0</td>\n",
       "      <td>1.250000e-01</td>\n",
       "      <td>0</td>\n",
       "    </tr>\n",
       "    <tr>\n",
       "      <th>1</th>\n",
       "      <td>0.632104</td>\n",
       "      <td>0.0</td>\n",
       "      <td>-12.856729</td>\n",
       "      <td>0.275386</td>\n",
       "      <td>0.0</td>\n",
       "      <td>0.0</td>\n",
       "      <td>-1.113097</td>\n",
       "      <td>0.645963</td>\n",
       "      <td>1.158294</td>\n",
       "      <td>3.769233</td>\n",
       "      <td>...</td>\n",
       "      <td>3</td>\n",
       "      <td>0.0</td>\n",
       "      <td>-2.500000e-01</td>\n",
       "      <td>-2.500000e-01</td>\n",
       "      <td>-0.250</td>\n",
       "      <td>-2.500000e-01</td>\n",
       "      <td>-2.500000e-01</td>\n",
       "      <td>0.0</td>\n",
       "      <td>-2.500000e-01</td>\n",
       "      <td>0</td>\n",
       "    </tr>\n",
       "    <tr>\n",
       "      <th>2</th>\n",
       "      <td>12.365902</td>\n",
       "      <td>0.0</td>\n",
       "      <td>4.616176</td>\n",
       "      <td>5.948104</td>\n",
       "      <td>0.0</td>\n",
       "      <td>0.0</td>\n",
       "      <td>3.105760</td>\n",
       "      <td>0.360248</td>\n",
       "      <td>1.232610</td>\n",
       "      <td>2.886364</td>\n",
       "      <td>...</td>\n",
       "      <td>3</td>\n",
       "      <td>-1.0</td>\n",
       "      <td>-2.500000e-01</td>\n",
       "      <td>-2.500000e-01</td>\n",
       "      <td>-0.250</td>\n",
       "      <td>-2.500000e-01</td>\n",
       "      <td>-2.500000e-01</td>\n",
       "      <td>0.0</td>\n",
       "      <td>-2.500000e-01</td>\n",
       "      <td>0</td>\n",
       "    </tr>\n",
       "    <tr>\n",
       "      <th>3</th>\n",
       "      <td>0.047856</td>\n",
       "      <td>0.0</td>\n",
       "      <td>-6.050937</td>\n",
       "      <td>-0.007069</td>\n",
       "      <td>0.0</td>\n",
       "      <td>0.0</td>\n",
       "      <td>0.967077</td>\n",
       "      <td>-0.782609</td>\n",
       "      <td>-1.139021</td>\n",
       "      <td>1.133094</td>\n",
       "      <td>...</td>\n",
       "      <td>4</td>\n",
       "      <td>-2.0</td>\n",
       "      <td>-2.500000e-01</td>\n",
       "      <td>-2.500000e-01</td>\n",
       "      <td>-0.250</td>\n",
       "      <td>-2.500000e-01</td>\n",
       "      <td>-2.500000e-01</td>\n",
       "      <td>0.0</td>\n",
       "      <td>-2.500000e-01</td>\n",
       "      <td>0</td>\n",
       "    </tr>\n",
       "    <tr>\n",
       "      <th>4</th>\n",
       "      <td>1.052841</td>\n",
       "      <td>0.0</td>\n",
       "      <td>-13.254814</td>\n",
       "      <td>0.658098</td>\n",
       "      <td>0.0</td>\n",
       "      <td>0.0</td>\n",
       "      <td>-0.765891</td>\n",
       "      <td>-0.354037</td>\n",
       "      <td>0.215610</td>\n",
       "      <td>3.762774</td>\n",
       "      <td>...</td>\n",
       "      <td>2</td>\n",
       "      <td>0.0</td>\n",
       "      <td>-1.250000e-01</td>\n",
       "      <td>-1.250000e-01</td>\n",
       "      <td>-0.125</td>\n",
       "      <td>-1.250000e-01</td>\n",
       "      <td>-1.250000e-01</td>\n",
       "      <td>0.0</td>\n",
       "      <td>-1.250000e-01</td>\n",
       "      <td>0</td>\n",
       "    </tr>\n",
       "    <tr>\n",
       "      <th>...</th>\n",
       "      <td>...</td>\n",
       "      <td>...</td>\n",
       "      <td>...</td>\n",
       "      <td>...</td>\n",
       "      <td>...</td>\n",
       "      <td>...</td>\n",
       "      <td>...</td>\n",
       "      <td>...</td>\n",
       "      <td>...</td>\n",
       "      <td>...</td>\n",
       "      <td>...</td>\n",
       "      <td>...</td>\n",
       "      <td>...</td>\n",
       "      <td>...</td>\n",
       "      <td>...</td>\n",
       "      <td>...</td>\n",
       "      <td>...</td>\n",
       "      <td>...</td>\n",
       "      <td>...</td>\n",
       "      <td>...</td>\n",
       "      <td>...</td>\n",
       "    </tr>\n",
       "    <tr>\n",
       "      <th>14095995</th>\n",
       "      <td>0.019940</td>\n",
       "      <td>0.0</td>\n",
       "      <td>-5.122734</td>\n",
       "      <td>-0.007712</td>\n",
       "      <td>0.0</td>\n",
       "      <td>0.0</td>\n",
       "      <td>1.303213</td>\n",
       "      <td>-1.854037</td>\n",
       "      <td>-3.402771</td>\n",
       "      <td>0.234976</td>\n",
       "      <td>...</td>\n",
       "      <td>4</td>\n",
       "      <td>-4.0</td>\n",
       "      <td>-1.250000e-01</td>\n",
       "      <td>-1.250000e-01</td>\n",
       "      <td>-0.125</td>\n",
       "      <td>-1.250000e-01</td>\n",
       "      <td>-1.250000e-01</td>\n",
       "      <td>0.0</td>\n",
       "      <td>-1.250000e-01</td>\n",
       "      <td>0</td>\n",
       "    </tr>\n",
       "    <tr>\n",
       "      <th>14095996</th>\n",
       "      <td>-0.055833</td>\n",
       "      <td>0.0</td>\n",
       "      <td>-19.395690</td>\n",
       "      <td>-0.054627</td>\n",
       "      <td>0.0</td>\n",
       "      <td>0.0</td>\n",
       "      <td>-0.937692</td>\n",
       "      <td>0.196983</td>\n",
       "      <td>0.282705</td>\n",
       "      <td>3.841568</td>\n",
       "      <td>...</td>\n",
       "      <td>0</td>\n",
       "      <td>0.0</td>\n",
       "      <td>2.500000e-01</td>\n",
       "      <td>2.500000e-01</td>\n",
       "      <td>0.250</td>\n",
       "      <td>2.500000e-01</td>\n",
       "      <td>2.500000e-01</td>\n",
       "      <td>0.0</td>\n",
       "      <td>2.500000e-01</td>\n",
       "      <td>0</td>\n",
       "    </tr>\n",
       "    <tr>\n",
       "      <th>14095997</th>\n",
       "      <td>0.060818</td>\n",
       "      <td>0.0</td>\n",
       "      <td>-19.966819</td>\n",
       "      <td>0.038078</td>\n",
       "      <td>0.0</td>\n",
       "      <td>0.0</td>\n",
       "      <td>-0.621160</td>\n",
       "      <td>-0.782609</td>\n",
       "      <td>-0.832282</td>\n",
       "      <td>5.325156</td>\n",
       "      <td>...</td>\n",
       "      <td>0</td>\n",
       "      <td>-1.0</td>\n",
       "      <td>-1.200078e-15</td>\n",
       "      <td>-3.104845e-16</td>\n",
       "      <td>0.000</td>\n",
       "      <td>-1.462479e-16</td>\n",
       "      <td>-4.229074e-16</td>\n",
       "      <td>0.0</td>\n",
       "      <td>-2.061510e-16</td>\n",
       "      <td>0</td>\n",
       "    </tr>\n",
       "    <tr>\n",
       "      <th>14095998</th>\n",
       "      <td>-0.048853</td>\n",
       "      <td>0.0</td>\n",
       "      <td>-4.699529</td>\n",
       "      <td>-0.055591</td>\n",
       "      <td>0.0</td>\n",
       "      <td>0.0</td>\n",
       "      <td>2.035184</td>\n",
       "      <td>-1.211180</td>\n",
       "      <td>-1.802539</td>\n",
       "      <td>1.282033</td>\n",
       "      <td>...</td>\n",
       "      <td>4</td>\n",
       "      <td>-3.0</td>\n",
       "      <td>-3.750000e-01</td>\n",
       "      <td>-3.750000e-01</td>\n",
       "      <td>-0.375</td>\n",
       "      <td>-3.750000e-01</td>\n",
       "      <td>-3.750000e-01</td>\n",
       "      <td>0.0</td>\n",
       "      <td>-3.750000e-01</td>\n",
       "      <td>0</td>\n",
       "    </tr>\n",
       "    <tr>\n",
       "      <th>14095999</th>\n",
       "      <td>0.019940</td>\n",
       "      <td>0.0</td>\n",
       "      <td>-6.891528</td>\n",
       "      <td>0.005141</td>\n",
       "      <td>0.0</td>\n",
       "      <td>0.0</td>\n",
       "      <td>-0.900165</td>\n",
       "      <td>0.074534</td>\n",
       "      <td>0.690815</td>\n",
       "      <td>0.087107</td>\n",
       "      <td>...</td>\n",
       "      <td>4</td>\n",
       "      <td>0.0</td>\n",
       "      <td>-7.000453e-16</td>\n",
       "      <td>3.881056e-16</td>\n",
       "      <td>0.000</td>\n",
       "      <td>-1.462479e-16</td>\n",
       "      <td>3.524228e-16</td>\n",
       "      <td>0.0</td>\n",
       "      <td>-3.092266e-16</td>\n",
       "      <td>0</td>\n",
       "    </tr>\n",
       "  </tbody>\n",
       "</table>\n",
       "<p>14096000 rows × 37 columns</p>\n",
       "</div>"
      ],
      "text/plain": [
       "          total_order_in_cat_max  ordered_mean        pc2  \\\n",
       "0                       0.019940           0.0  -6.889078   \n",
       "1                       0.632104           0.0 -12.856729   \n",
       "2                      12.365902           0.0   4.616176   \n",
       "3                       0.047856           0.0  -6.050937   \n",
       "4                       1.052841           0.0 -13.254814   \n",
       "...                          ...           ...        ...   \n",
       "14095995                0.019940           0.0  -5.122734   \n",
       "14095996               -0.055833           0.0 -19.395690   \n",
       "14095997                0.060818           0.0 -19.966819   \n",
       "14095998               -0.048853           0.0  -4.699529   \n",
       "14095999                0.019940           0.0  -6.891528   \n",
       "\n",
       "          total_rating_cat_max  rating_max  rating_mean       pc5  \\\n",
       "0                     0.017995         0.0          0.0 -1.640512   \n",
       "1                     0.275386         0.0          0.0 -1.113097   \n",
       "2                     5.948104         0.0          0.0  3.105760   \n",
       "3                    -0.007069         0.0          0.0  0.967077   \n",
       "4                     0.658098         0.0          0.0 -0.765891   \n",
       "...                        ...         ...          ...       ...   \n",
       "14095995             -0.007712         0.0          0.0  1.303213   \n",
       "14095996             -0.054627         0.0          0.0 -0.937692   \n",
       "14095997              0.038078         0.0          0.0 -0.621160   \n",
       "14095998             -0.055591         0.0          0.0  2.035184   \n",
       "14095999              0.005141         0.0          0.0 -0.900165   \n",
       "\n",
       "          weekday_mean       pc6       pc4  ...  Clusters  weekday_max  \\\n",
       "0            -0.925466 -0.422434 -0.597641  ...         4          0.0   \n",
       "1             0.645963  1.158294  3.769233  ...         3          0.0   \n",
       "2             0.360248  1.232610  2.886364  ...         3         -1.0   \n",
       "3            -0.782609 -1.139021  1.133094  ...         4         -2.0   \n",
       "4            -0.354037  0.215610  3.762774  ...         2          0.0   \n",
       "...                ...       ...       ...  ...       ...          ...   \n",
       "14095995     -1.854037 -3.402771  0.234976  ...         4         -4.0   \n",
       "14095996      0.196983  0.282705  3.841568  ...         0          0.0   \n",
       "14095997     -0.782609 -0.832282  5.325156  ...         0         -1.0   \n",
       "14095998     -1.211180 -1.802539  1.282033  ...         4         -3.0   \n",
       "14095999      0.074534  0.690815  0.087107  ...         4          0.0   \n",
       "\n",
       "          t_rating_per_month_sum  tc_rating_per_month_mean  \\\n",
       "0                   1.250000e-01              1.250000e-01   \n",
       "1                  -2.500000e-01             -2.500000e-01   \n",
       "2                  -2.500000e-01             -2.500000e-01   \n",
       "3                  -2.500000e-01             -2.500000e-01   \n",
       "4                  -1.250000e-01             -1.250000e-01   \n",
       "...                          ...                       ...   \n",
       "14095995           -1.250000e-01             -1.250000e-01   \n",
       "14095996            2.500000e-01              2.500000e-01   \n",
       "14095997           -1.200078e-15             -3.104845e-16   \n",
       "14095998           -3.750000e-01             -3.750000e-01   \n",
       "14095999           -7.000453e-16              3.881056e-16   \n",
       "\n",
       "          t_rating_per_month_median  t_rating_per_month_std  \\\n",
       "0                             0.125            1.250000e-01   \n",
       "1                            -0.250           -2.500000e-01   \n",
       "2                            -0.250           -2.500000e-01   \n",
       "3                            -0.250           -2.500000e-01   \n",
       "4                            -0.125           -1.250000e-01   \n",
       "...                             ...                     ...   \n",
       "14095995                     -0.125           -1.250000e-01   \n",
       "14095996                      0.250            2.500000e-01   \n",
       "14095997                      0.000           -1.462479e-16   \n",
       "14095998                     -0.375           -3.750000e-01   \n",
       "14095999                      0.000           -1.462479e-16   \n",
       "\n",
       "          tc_rating_per_month_sum  ordered_max  tc_rating_per_month_std  \\\n",
       "0                    1.250000e-01          0.0             1.250000e-01   \n",
       "1                   -2.500000e-01          0.0            -2.500000e-01   \n",
       "2                   -2.500000e-01          0.0            -2.500000e-01   \n",
       "3                   -2.500000e-01          0.0            -2.500000e-01   \n",
       "4                   -1.250000e-01          0.0            -1.250000e-01   \n",
       "...                           ...          ...                      ...   \n",
       "14095995            -1.250000e-01          0.0            -1.250000e-01   \n",
       "14095996             2.500000e-01          0.0             2.500000e-01   \n",
       "14095997            -4.229074e-16          0.0            -2.061510e-16   \n",
       "14095998            -3.750000e-01          0.0            -3.750000e-01   \n",
       "14095999             3.524228e-16          0.0            -3.092266e-16   \n",
       "\n",
       "          target  \n",
       "0              0  \n",
       "1              0  \n",
       "2              0  \n",
       "3              0  \n",
       "4              0  \n",
       "...          ...  \n",
       "14095995       0  \n",
       "14095996       0  \n",
       "14095997       0  \n",
       "14095998       0  \n",
       "14095999       0  \n",
       "\n",
       "[14096000 rows x 37 columns]"
      ]
     },
     "execution_count": 15,
     "metadata": {},
     "output_type": "execute_result"
    }
   ],
   "source": [
    "Train_set[real_estimators + ['target']]"
   ]
  },
  {
   "cell_type": "code",
   "execution_count": 16,
   "id": "294273c0",
   "metadata": {
    "_kg_hide-output": true,
    "execution": {
     "iopub.execute_input": "2024-03-06T07:42:53.782111Z",
     "iopub.status.busy": "2024-03-06T07:42:53.781660Z",
     "iopub.status.idle": "2024-03-06T09:28:20.338349Z",
     "shell.execute_reply": "2024-03-06T09:28:20.334717Z"
    },
    "papermill": {
     "duration": 6326.5912,
     "end_time": "2024-03-06T09:28:20.358848",
     "exception": false,
     "start_time": "2024-03-06T07:42:53.767648",
     "status": "completed"
    },
    "tags": []
   },
   "outputs": [
    {
     "name": "stdout",
     "output_type": "stream",
     "text": [
      "[07:42:55] Stdout logging level is INFO2.\n",
      "[07:42:55] Copying TaskTimer may affect the parent PipelineTimer, so copy will create new unlimited TaskTimer\n",
      "[07:42:55] Task: binary\n",
      "\n",
      "[07:42:55] Start automl preset with listed constraints:\n",
      "[07:42:55] - time: 2400.00 seconds\n",
      "[07:42:55] - CPU: 4 cores\n",
      "[07:42:55] - memory: 16 GB\n",
      "\n",
      "[07:42:55] \u001b[1mTrain data shape: (14096000, 37)\u001b[0m\n",
      "\n"
     ]
    },
    {
     "name": "stderr",
     "output_type": "stream",
     "text": [
      "/opt/conda/lib/python3.10/site-packages/joblib/externals/loky/backend/fork_exec.py:37: RuntimeWarning: os.fork() was called. os.fork() is incompatible with multithreaded code, and JAX is multithreaded, so this will likely lead to a deadlock.\n",
      "  pid = os.fork()\n"
     ]
    },
    {
     "name": "stdout",
     "output_type": "stream",
     "text": [
      "[07:43:41] Layer \u001b[1m1\u001b[0m train process start. Time left 2353.81 secs\n",
      "[07:59:26] \u001b[1mSelector_LightGBM\u001b[0m fitting and predicting completed\n",
      "[08:01:55] Start hyperparameters optimization for \u001b[1mLvl_0_Pipe_0_Mod_0_Tuned_LightGBM\u001b[0m ... Time budget is 1.00 secs\n",
      "[08:44:13] Hyperparameters optimization for \u001b[1mLvl_0_Pipe_0_Mod_0_Tuned_LightGBM\u001b[0m completed\n",
      "[08:44:13] The set of hyperparameters \u001b[1m{'feature_fraction': 0.6872700594236812, 'num_leaves': 244, 'bagging_fraction': 0.8659969709057025, 'min_sum_hessian_in_leaf': 0.24810409748678125, 'reg_alpha': 2.5361081166471375e-07, 'reg_lambda': 2.5348407664333426e-07}\u001b[0m\n",
      " achieve 0.4312 AutoML Metric\n",
      "[08:44:13] Start fitting \u001b[1mLvl_0_Pipe_0_Mod_0_Tuned_LightGBM\u001b[0m ...\n",
      "[08:44:17] ===== Start working with \u001b[1mfold 0\u001b[0m for \u001b[1mLvl_0_Pipe_0_Mod_0_Tuned_LightGBM\u001b[0m =====\n",
      "[09:26:14] Time limit exceeded after calculating fold 0\n",
      "\n",
      "[09:26:16] Fitting \u001b[1mLvl_0_Pipe_0_Mod_0_Tuned_LightGBM\u001b[0m finished. score = \u001b[1m0.431177159533821\u001b[0m\n",
      "[09:26:16] \u001b[1mLvl_0_Pipe_0_Mod_0_Tuned_LightGBM\u001b[0m fitting and predicting completed\n",
      "[09:26:16] Time left -3800.41 secs\n",
      "\n",
      "[09:26:16] Time limit exceeded. Last level models will be blended and unused pipelines will be pruned.\n",
      "\n",
      "[09:26:16] \u001b[1mLayer 1 training completed.\u001b[0m\n",
      "\n",
      "[09:26:16] \u001b[1mAutoml preset training completed in 6200.42 seconds\u001b[0m\n",
      "\n",
      "[09:26:16] Model description:\n",
      "Final prediction for new objects (level 0) = \n",
      "\t 1.00000 * (1 averaged models Lvl_0_Pipe_0_Mod_0_Tuned_LightGBM) \n",
      "\n",
      "Score 0.15812\n",
      "Score on out of folds validation 0.42668\n",
      "CPU times: user 3h 47min 12s, sys: 4min 39s, total: 3h 51min 52s\n",
      "Wall time: 1h 45min 26s\n"
     ]
    }
   ],
   "source": [
    "%%time \n",
    "\n",
    "automl = TabularAutoML(\n",
    "    task = TASK,\n",
    "    timeout = 2400,\n",
    "    cpu_limit = N_THREADS,\n",
    "    reader_params = {'n_jobs': N_THREADS, 'cv': N_FOLDS, 'random_state': RANDOM_STATE},\n",
    "    general_params = {'use_algos': [['lgb_tuned', 'cb_tuned']]}\n",
    ")\n",
    "\n",
    "\n",
    "train_pred = automl.fit_predict(Train_set[real_estimators + ['target']], roles = ROLES, verbose = 2)\n",
    "\n",
    "print('Score', \"%.5f\" % f1(Train_set.target, train_pred.data))\n",
    "valid_pred = automl.predict(Valid_set[real_estimators + ['target']])\n",
    "print('Score on out of folds validation', \"%.5f\" % f1(Valid_set.target, valid_pred.data))"
   ]
  },
  {
   "cell_type": "code",
   "execution_count": 17,
   "id": "bf835783",
   "metadata": {
    "execution": {
     "iopub.execute_input": "2024-03-06T09:28:20.396653Z",
     "iopub.status.busy": "2024-03-06T09:28:20.395767Z",
     "iopub.status.idle": "2024-03-06T09:28:20.404335Z",
     "shell.execute_reply": "2024-03-06T09:28:20.403128Z"
    },
    "papermill": {
     "duration": 0.030981,
     "end_time": "2024-03-06T09:28:20.407235",
     "exception": false,
     "start_time": "2024-03-06T09:28:20.376254",
     "status": "completed"
    },
    "tags": []
   },
   "outputs": [],
   "source": [
    "# print(automl.create_model_str_desc())"
   ]
  },
  {
   "cell_type": "code",
   "execution_count": 18,
   "id": "34d21d47",
   "metadata": {
    "execution": {
     "iopub.execute_input": "2024-03-06T09:28:20.442750Z",
     "iopub.status.busy": "2024-03-06T09:28:20.441883Z",
     "iopub.status.idle": "2024-03-06T09:28:20.446534Z",
     "shell.execute_reply": "2024-03-06T09:28:20.445528Z"
    },
    "papermill": {
     "duration": 0.025946,
     "end_time": "2024-03-06T09:28:20.449261",
     "exception": false,
     "start_time": "2024-03-06T09:28:20.423315",
     "status": "completed"
    },
    "tags": []
   },
   "outputs": [],
   "source": [
    "# fast_fi = automl.get_feature_scores('fast', silent=False)\n",
    "# fast_fi.set_index('Feature')['Importance'].plot.bar(figsize = (30, 10), grid = True)"
   ]
  },
  {
   "cell_type": "code",
   "execution_count": 19,
   "id": "b716ab7e",
   "metadata": {
    "execution": {
     "iopub.execute_input": "2024-03-06T09:28:20.483064Z",
     "iopub.status.busy": "2024-03-06T09:28:20.482275Z",
     "iopub.status.idle": "2024-03-06T09:28:21.157209Z",
     "shell.execute_reply": "2024-03-06T09:28:21.155954Z"
    },
    "papermill": {
     "duration": 0.695113,
     "end_time": "2024-03-06T09:28:21.159942",
     "exception": false,
     "start_time": "2024-03-06T09:28:20.464829",
     "status": "completed"
    },
    "tags": []
   },
   "outputs": [
    {
     "data": {
      "text/plain": [
       "['automl_lgbm.pkl']"
      ]
     },
     "execution_count": 19,
     "metadata": {},
     "output_type": "execute_result"
    }
   ],
   "source": [
    "import joblib\n",
    "\n",
    "joblib.dump(automl, 'automl_lgbm.pkl')\n",
    "# automl=joblib.load('/kaggle/working/automl_03.pkl')"
   ]
  },
  {
   "cell_type": "code",
   "execution_count": 20,
   "id": "7f9e7a7e",
   "metadata": {
    "execution": {
     "iopub.execute_input": "2024-03-06T09:28:21.194778Z",
     "iopub.status.busy": "2024-03-06T09:28:21.193971Z",
     "iopub.status.idle": "2024-03-06T09:30:14.564707Z",
     "shell.execute_reply": "2024-03-06T09:30:14.562807Z"
    },
    "papermill": {
     "duration": 113.415028,
     "end_time": "2024-03-06T09:30:14.591428",
     "exception": false,
     "start_time": "2024-03-06T09:28:21.176400",
     "status": "completed"
    },
    "tags": []
   },
   "outputs": [
    {
     "name": "stdout",
     "output_type": "stream",
     "text": [
      "Score on out of folds validation 0.42668\n"
     ]
    }
   ],
   "source": [
    "valid_pred = automl.predict(Valid_set)\n",
    "print('Score on out of folds validation', \"%.5f\" % f1(Valid_set.target, valid_pred.data))"
   ]
  },
  {
   "cell_type": "markdown",
   "id": "05e3332d",
   "metadata": {
    "papermill": {
     "duration": 0.016425,
     "end_time": "2024-03-06T09:30:14.624286",
     "exception": false,
     "start_time": "2024-03-06T09:30:14.607861",
     "status": "completed"
    },
    "tags": []
   },
   "source": [
    "### Нахождение лучшего порогового значения для сепарации 0 и 1"
   ]
  },
  {
   "cell_type": "code",
   "execution_count": 21,
   "id": "597b94a1",
   "metadata": {
    "execution": {
     "iopub.execute_input": "2024-03-06T09:30:14.660795Z",
     "iopub.status.busy": "2024-03-06T09:30:14.660281Z",
     "iopub.status.idle": "2024-03-06T09:30:14.666109Z",
     "shell.execute_reply": "2024-03-06T09:30:14.664594Z"
    },
    "papermill": {
     "duration": 0.02892,
     "end_time": "2024-03-06T09:30:14.670706",
     "exception": false,
     "start_time": "2024-03-06T09:30:14.641786",
     "status": "completed"
    },
    "tags": []
   },
   "outputs": [],
   "source": [
    "# best_score = 0\n",
    "# for i in np.arange(0.01, 1.0, 0.01):\n",
    "#     score = f1 = f1_score(Valid_set.target, (valid_pred.data > i).astype(int))\n",
    "#     if score > best_score:\n",
    "#         best_score = score\n",
    "#         proba_split = i\n",
    "\n",
    "# print('At i =', \"%.2f\" % proba_split,'score is : ' \"%.5f\" % best_score)"
   ]
  },
  {
   "cell_type": "code",
   "execution_count": 22,
   "id": "67c31521",
   "metadata": {
    "execution": {
     "iopub.execute_input": "2024-03-06T09:30:14.706583Z",
     "iopub.status.busy": "2024-03-06T09:30:14.706060Z",
     "iopub.status.idle": "2024-03-06T09:30:14.712380Z",
     "shell.execute_reply": "2024-03-06T09:30:14.710346Z"
    },
    "papermill": {
     "duration": 0.028379,
     "end_time": "2024-03-06T09:30:14.716322",
     "exception": false,
     "start_time": "2024-03-06T09:30:14.687943",
     "status": "completed"
    },
    "tags": []
   },
   "outputs": [],
   "source": [
    "# s_Test['target'] = (predictions.data > proba_split).astype(int)\n",
    "# submit = pd.merge(sub['id'], s_Test[['id', 'target']], on='id')"
   ]
  },
  {
   "cell_type": "markdown",
   "id": "28ea863a",
   "metadata": {
    "papermill": {
     "duration": 0.017626,
     "end_time": "2024-03-06T09:30:14.751365",
     "exception": false,
     "start_time": "2024-03-06T09:30:14.733739",
     "status": "completed"
    },
    "tags": []
   },
   "source": [
    "## Подготовка сабмита"
   ]
  },
  {
   "cell_type": "code",
   "execution_count": 23,
   "id": "cd71c464",
   "metadata": {
    "execution": {
     "iopub.execute_input": "2024-03-06T09:30:14.790586Z",
     "iopub.status.busy": "2024-03-06T09:30:14.789961Z",
     "iopub.status.idle": "2024-03-06T09:30:14.796439Z",
     "shell.execute_reply": "2024-03-06T09:30:14.794797Z"
    },
    "papermill": {
     "duration": 0.029663,
     "end_time": "2024-03-06T09:30:14.799254",
     "exception": false,
     "start_time": "2024-03-06T09:30:14.769591",
     "status": "completed"
    },
    "tags": []
   },
   "outputs": [],
   "source": [
    "# import csv\n",
    "\n",
    "# with open('submission02.csv', 'w', newline='') as csvfile:\n",
    "#     csvwriter = csv.writer(csvfile)\n",
    "#     csvwriter.writerow(submit.columns)\n",
    "#     for row in submit.values:\n",
    "#         csvwriter.writerow(row)"
   ]
  },
  {
   "cell_type": "code",
   "execution_count": null,
   "id": "0f16f20e",
   "metadata": {
    "papermill": {
     "duration": 0.017095,
     "end_time": "2024-03-06T09:30:14.833898",
     "exception": false,
     "start_time": "2024-03-06T09:30:14.816803",
     "status": "completed"
    },
    "tags": []
   },
   "outputs": [],
   "source": []
  },
  {
   "cell_type": "markdown",
   "id": "81c78b87",
   "metadata": {
    "papermill": {
     "duration": 0.016295,
     "end_time": "2024-03-06T09:30:14.866242",
     "exception": false,
     "start_time": "2024-03-06T09:30:14.849947",
     "status": "completed"
    },
    "tags": []
   },
   "source": [
    "##  Dense"
   ]
  },
  {
   "cell_type": "code",
   "execution_count": 24,
   "id": "c41e6459",
   "metadata": {
    "execution": {
     "iopub.execute_input": "2024-03-06T09:30:14.906829Z",
     "iopub.status.busy": "2024-03-06T09:30:14.905449Z",
     "iopub.status.idle": "2024-03-06T09:30:14.913007Z",
     "shell.execute_reply": "2024-03-06T09:30:14.911336Z"
    },
    "papermill": {
     "duration": 0.032879,
     "end_time": "2024-03-06T09:30:14.916218",
     "exception": false,
     "start_time": "2024-03-06T09:30:14.883339",
     "status": "completed"
    },
    "tags": []
   },
   "outputs": [],
   "source": [
    "# default_lama_params = {\n",
    "#     \"task\": task,\n",
    "#     \"timeout\": TIMEOUT,\n",
    "#     \"cpu_limit\": N_THREADS,\n",
    "#     \"reader_params\": {'n_jobs': N_THREADS, 'cv': N_FOLDS, 'random_state': RANDOM_STATE}\n",
    "# }\n",
    "\n",
    "# default_nn_params = {\n",
    "#     \"bs\": 512, \"num_workers\": 4, \"path_to_save\": None, \"n_epochs\": 10, \"freeze_defaults\": True\n",
    "# }"
   ]
  },
  {
   "cell_type": "code",
   "execution_count": 25,
   "id": "7b23510c",
   "metadata": {
    "execution": {
     "iopub.execute_input": "2024-03-06T09:30:14.955487Z",
     "iopub.status.busy": "2024-03-06T09:30:14.955011Z",
     "iopub.status.idle": "2024-03-06T09:30:14.962364Z",
     "shell.execute_reply": "2024-03-06T09:30:14.960392Z"
    },
    "papermill": {
     "duration": 0.029045,
     "end_time": "2024-03-06T09:30:14.965302",
     "exception": false,
     "start_time": "2024-03-06T09:30:14.936257",
     "status": "completed"
    },
    "tags": []
   },
   "outputs": [],
   "source": [
    "# import torch.nn as nn\n",
    "# from lightautoml.automl.presets.tabular_presets import TabularAutoML\n",
    "\n",
    "# Train_set, Valid_set = train_test_split(s_Train, test_size = TEST_SIZE,\n",
    "#                                         stratify = s_Train[TARGET_NAME], random_state = 23)\n",
    "# Train_set.reset_index(drop=True, inplace=True)\n",
    "# Valid_set.reset_index(drop=True, inplace=True)\n",
    "\n",
    "# automl = TabularAutoML(\n",
    "#     **default_lama_params,\n",
    "#     general_params={\"use_algos\": [[\"denselight_tuned\"]]},\n",
    "#     nn_params={\n",
    "#         **default_nn_params,\n",
    "#         \"n_epochs\": 5,\n",
    "#         \"tuning_params\": {\n",
    "#             \"max_tuning_iter\": 5,\n",
    "#             \"max_tuning_time\": 500,\n",
    "#             \"fit_on_holdout\": True\n",
    "#         }\n",
    "#     },\n",
    "# )\n",
    "\n",
    "# train_pred = automl.fit_predict(Train_set[real_estimators + ['target']], roles = ROLES, verbose = 2)\n",
    "\n",
    "# print('Score', \"%.5f\" % f1(Train_set.target, train_pred.data))\n",
    "# valid_pred = automl.predict(Valid_set[real_estimators + ['target']])\n",
    "# print('Score on out of folds validation', \"%.5f\" % f1(Valid_set.target, valid_pred.data))"
   ]
  },
  {
   "cell_type": "code",
   "execution_count": null,
   "id": "142974ed",
   "metadata": {
    "papermill": {
     "duration": 0.0162,
     "end_time": "2024-03-06T09:30:14.999609",
     "exception": false,
     "start_time": "2024-03-06T09:30:14.983409",
     "status": "completed"
    },
    "tags": []
   },
   "outputs": [],
   "source": []
  }
 ],
 "metadata": {
  "kaggle": {
   "accelerator": "none",
   "dataSources": [
    {
     "databundleVersionId": 2344227,
     "sourceId": 29296,
     "sourceType": "competition"
    },
    {
     "datasetId": 4484528,
     "isSourceIdPinned": true,
     "sourceId": 7765064,
     "sourceType": "datasetVersion"
    }
   ],
   "dockerImageVersionId": 30664,
   "isGpuEnabled": false,
   "isInternetEnabled": true,
   "language": "python",
   "sourceType": "notebook"
  },
  "kernelspec": {
   "display_name": "Python 3",
   "language": "python",
   "name": "python3"
  },
  "language_info": {
   "codemirror_mode": {
    "name": "ipython",
    "version": 3
   },
   "file_extension": ".py",
   "mimetype": "text/x-python",
   "name": "python",
   "nbconvert_exporter": "python",
   "pygments_lexer": "ipython3",
   "version": "3.10.13"
  },
  "papermill": {
   "default_parameters": {},
   "duration": 6879.273483,
   "end_time": "2024-03-06T09:30:18.067292",
   "environment_variables": {},
   "exception": null,
   "input_path": "__notebook__.ipynb",
   "output_path": "__notebook__.ipynb",
   "parameters": {},
   "start_time": "2024-03-06T07:35:38.793809",
   "version": "2.5.0"
  }
 },
 "nbformat": 4,
 "nbformat_minor": 5
}
