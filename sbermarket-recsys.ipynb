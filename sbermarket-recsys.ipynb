{
 "cells": [
  {
   "cell_type": "markdown",
   "id": "f4416563",
   "metadata": {
    "papermill": {
     "duration": 0.006421,
     "end_time": "2024-03-05T06:22:41.142233",
     "exception": false,
     "start_time": "2024-03-05T06:22:41.135812",
     "status": "completed"
    },
    "tags": []
   },
   "source": [
    "## Импорт библиотек"
   ]
  },
  {
   "cell_type": "code",
   "execution_count": null,
   "id": "dba1db76",
   "metadata": {
    "papermill": {
     "duration": 0.007317,
     "end_time": "2024-03-05T06:22:41.155072",
     "exception": false,
     "start_time": "2024-03-05T06:22:41.147755",
     "status": "completed"
    },
    "tags": []
   },
   "outputs": [],
   "source": []
  },
  {
   "cell_type": "code",
   "execution_count": 1,
   "id": "d45653bf",
   "metadata": {
    "_kg_hide-input": true,
    "_kg_hide-output": true,
    "execution": {
     "iopub.execute_input": "2024-03-05T06:22:41.168379Z",
     "iopub.status.busy": "2024-03-05T06:22:41.167602Z",
     "iopub.status.idle": "2024-03-05T06:26:17.278121Z",
     "shell.execute_reply": "2024-03-05T06:26:17.277198Z"
    },
    "papermill": {
     "duration": 216.119516,
     "end_time": "2024-03-05T06:26:17.280353",
     "exception": false,
     "start_time": "2024-03-05T06:22:41.160837",
     "status": "completed"
    },
    "tags": []
   },
   "outputs": [
    {
     "name": "stdout",
     "output_type": "stream",
     "text": [
      "Found existing installation: pandas 2.2.0\r\n"
     ]
    },
    {
     "name": "stdout",
     "output_type": "stream",
     "text": [
      "Uninstalling pandas-2.2.0:\r\n"
     ]
    },
    {
     "name": "stdout",
     "output_type": "stream",
     "text": [
      "  Successfully uninstalled pandas-2.2.0\r\n"
     ]
    },
    {
     "name": "stdout",
     "output_type": "stream",
     "text": [
      "\u001b[33mWARNING: Running pip as the 'root' user can result in broken permissions and conflicting behaviour with the system package manager. It is recommended to use a virtual environment instead: https://pip.pypa.io/warnings/venv\u001b[0m\u001b[33m\r\n",
      "\u001b[0m"
     ]
    },
    {
     "name": "stdout",
     "output_type": "stream",
     "text": [
      "\u001b[33mWARNING: Running pip as the 'root' user can result in broken permissions and conflicting behaviour with the system package manager. It is recommended to use a virtual environment instead: https://pip.pypa.io/warnings/venv\u001b[0m\u001b[33m\r\n",
      "\u001b[0m"
     ]
    },
    {
     "name": "stdout",
     "output_type": "stream",
     "text": [
      "\u001b[33mWARNING: Running pip as the 'root' user can result in broken permissions and conflicting behaviour with the system package manager. It is recommended to use a virtual environment instead: https://pip.pypa.io/warnings/venv\u001b[0m\u001b[33m\r\n",
      "\u001b[0m"
     ]
    },
    {
     "name": "stdout",
     "output_type": "stream",
     "text": [
      "\u001b[31mERROR: pip's dependency resolver does not currently take into account all the packages that are installed. This behaviour is the source of the following dependency conflicts.\r\n",
      "torchaudio 2.1.0 requires torch==2.1.0, but you have torch 2.0.0 which is incompatible.\r\n",
      "torchdata 0.7.0 requires torch==2.1.0, but you have torch 2.0.0 which is incompatible.\r\n",
      "torchtext 0.16.0 requires torch==2.1.0, but you have torch 2.0.0 which is incompatible.\r\n",
      "torchvision 0.16.0 requires torch==2.1.0, but you have torch 2.0.0 which is incompatible.\u001b[0m\u001b[31m\r\n",
      "\u001b[0m\u001b[33mWARNING: Running pip as the 'root' user can result in broken permissions and conflicting behaviour with the system package manager. It is recommended to use a virtual environment instead: https://pip.pypa.io/warnings/venv\u001b[0m\u001b[33m\r\n",
      "\u001b[0m"
     ]
    },
    {
     "name": "stdout",
     "output_type": "stream",
     "text": [
      "\u001b[33mWARNING: Running pip as the 'root' user can result in broken permissions and conflicting behaviour with the system package manager. It is recommended to use a virtual environment instead: https://pip.pypa.io/warnings/venv\u001b[0m\u001b[33m\r\n",
      "\u001b[0m"
     ]
    },
    {
     "name": "stdout",
     "output_type": "stream",
     "text": [
      "\u001b[33mWARNING: Running pip as the 'root' user can result in broken permissions and conflicting behaviour with the system package manager. It is recommended to use a virtual environment instead: https://pip.pypa.io/warnings/venv\u001b[0m\u001b[33m\r\n",
      "\u001b[0m"
     ]
    }
   ],
   "source": [
    "# Для построения пайплайна обучения используется lightautoml, который конфликтуает с новой версией pandas. Поэтому\n",
    "!pip uninstall pandas -y\n",
    "!pip install --upgrade pip > installations.txt\n",
    "!pip uninstall torch -y > installations.txt # конфликтует \n",
    "!pip install torch==2.0.0 > installations.txt\n",
    "!pip install pandas==1.4.3 pyarrow yellowbrick polars transformers nltk gensim lightautoml > installations.txt\n",
    "!pip install --upgrade -q wandb > installations.txt"
   ]
  },
  {
   "cell_type": "code",
   "execution_count": 2,
   "id": "8bdd24a6",
   "metadata": {
    "_cell_guid": "b1076dfc-b9ad-4769-8c92-a6c4dae69d19",
    "_uuid": "8f2839f25d086af736a60e9eeb907d3b93b6e0e5",
    "execution": {
     "iopub.execute_input": "2024-03-05T06:26:17.294336Z",
     "iopub.status.busy": "2024-03-05T06:26:17.294073Z",
     "iopub.status.idle": "2024-03-05T06:26:42.832527Z",
     "shell.execute_reply": "2024-03-05T06:26:42.831672Z"
    },
    "papermill": {
     "duration": 25.548403,
     "end_time": "2024-03-05T06:26:42.834799",
     "exception": false,
     "start_time": "2024-03-05T06:26:17.286396",
     "status": "completed"
    },
    "tags": []
   },
   "outputs": [
    {
     "name": "stderr",
     "output_type": "stream",
     "text": [
      "/usr/local/lib/python3.10/site-packages/tqdm/auto.py:21: TqdmWarning: IProgress not found. Please update jupyter and ipywidgets. See https://ipywidgets.readthedocs.io/en/stable/user_install.html\n",
      "  from .autonotebook import tqdm as notebook_tqdm\n"
     ]
    }
   ],
   "source": [
    "# for dataframe\n",
    "import polars as pl\n",
    "import numpy as np\n",
    "import pyarrow as pa\n",
    "import pandas as pd\n",
    "\n",
    "# for system\n",
    "import os\n",
    "import time\n",
    "import sys\n",
    "\n",
    "# for metric\n",
    "from sklearn.metrics import f1_score\n",
    "from sklearn.model_selection import train_test_split\n",
    "\n",
    "# for demention decrease\n",
    "from sklearn.cluster import KMeans\n",
    "from sklearn.preprocessing import RobustScaler\n",
    "from sklearn.decomposition import PCA\n",
    "\n",
    "# for common functions\n",
    "from collections import OrderedDict\n",
    "from collections import Counter\n",
    "from kaggle_secrets import UserSecretsClient\n",
    "from copy import deepcopy as copy\n",
    "from typing import Tuple, List\n",
    "\n",
    "# for monitoring of models\n",
    "import wandb\n",
    "\n",
    "# for machine learning\n",
    "from lightautoml.reader.base import PandasToPandasReader\n",
    "from lightautoml.tasks import Task\n",
    "from lightautoml.automl.presets.tabular_presets import TabularAutoML, TabularUtilizedAutoML\n",
    "from lightautoml.report.report_deco import ReportDeco\n",
    "\n",
    "# my functions\n",
    "sys.path.append('/kaggle/input/next-orders')\n",
    "from my_functions import MarketDataProcessor"
   ]
  },
  {
   "cell_type": "code",
   "execution_count": 3,
   "id": "bfbc2136",
   "metadata": {
    "execution": {
     "iopub.execute_input": "2024-03-05T06:26:42.849354Z",
     "iopub.status.busy": "2024-03-05T06:26:42.848918Z",
     "iopub.status.idle": "2024-03-05T06:26:42.886587Z",
     "shell.execute_reply": "2024-03-05T06:26:42.885910Z"
    },
    "papermill": {
     "duration": 0.046879,
     "end_time": "2024-03-05T06:26:42.888171",
     "exception": false,
     "start_time": "2024-03-05T06:26:42.841292",
     "status": "completed"
    },
    "tags": []
   },
   "outputs": [],
   "source": [
    "class MarketDataProcessor:\n",
    "    \"\"\"_Преобразования тренировочного датасета из задачи recsys в binary_\"\"\"\n",
    "\n",
    "    def __init__(self, train: pd.DataFrame, test: pd.DataFrame, k: int = 25):\n",
    "        \"\"\"\n",
    "        Инициализирует объект с заданными необработанными данными,\n",
    "        дополнительными данными и необязательным значением k.\n",
    "\n",
    "        Parameters:\n",
    "            train (pd.DataFrame): история покупок пользователей в формате\n",
    "            (user_id `int`| order_completed_at `datetime` |\tcart `int`).\n",
    "            test (pd.DataFrame): пустой сабмит (id `str: user_id;cart`| target `int`).\n",
    "            k (int, необязательно): значение k для инициализации. По умолчанию 25.\n",
    "\n",
    "        Returns:\n",
    "            None\n",
    "        \"\"\"\n",
    "        self.train_data = train\n",
    "        self.test_data = test\n",
    "        self.k = k\n",
    "        self.filtered_train = None\n",
    "        self.filtered_test = None\n",
    "        self.proportion = None\n",
    "        self.ohe_data = None\n",
    "        self.processed_data = None\n",
    "\n",
    "    def filter_train_data(self) -> Tuple[pd.DataFrame, pd.DataFrame, float]:\n",
    "        \"\"\"\n",
    "        Фильтрует необработанные данные на основе частоты появления пользо\\\n",
    "        Returns:\n",
    "            Tuple[pd.DataFrame, pd.DataFrame, float]: Отфильтрованные данные истории покупок по заданному условию k, отфильтрованный датафрейм по test, и процент наблюдений, используемых в итоге для обучения.\n",
    "        \"\"\"\n",
    "        users = map(int, (x.split(\";\")[0] for x in self.test_data[\"id\"]))\n",
    "        user_counts = Counter(users)\n",
    "        frequent_users = {user for user, count in user_counts.items() if count > self.k}\n",
    "        test_users = {user for user, _ in user_counts.items()}\n",
    "        self.filtered_train = self.train_data[\n",
    "            self.train_data[\"user_id\"].isin(frequent_users)\n",
    "        ]\n",
    "        self.filtered_test = self.train_data[\n",
    "            self.train_data[\"user_id\"].isin(test_users)\n",
    "        ]\n",
    "        total_count = sum(user_counts.values())\n",
    "        frequent_count = sum(\n",
    "            count for user, count in user_counts.items() if user in frequent_users\n",
    "        )\n",
    "        self.proportion = frequent_count / total_count\n",
    "\n",
    "        return self.filtered_train, self.filtered_test, self.proportion\n",
    "\n",
    "    def get_dummies_matrix(self):\n",
    "        \"\"\"\n",
    "        Вовращает dummies матрицу для категорий(cart). Таким образом для каждой категории, если она была в установленное время в заказе у пользователя, будет 1\n",
    "        Returns:\n",
    "            (tpl.DataFrame).\n",
    "        \"\"\"\n",
    "        train_train = pd.get_dummies(self.train_data, columns=[\"cart\"])\n",
    "        train_train = pl.from_pandas(train_train)\n",
    "        train_train = train_train.group_by([\"user_id\", \"order_completed_at\"]).max()\n",
    "        self.ohe_data = train_train.sort([\"user_id\", \"order_completed_at\"])\n",
    "\n",
    "    def generate_time_features(self):\n",
    "        \"\"\"\n",
    "        Генерирует временные фичи на основе столбца order_completed_at.\n",
    "        Returns:\n",
    "            pl.DataFrame: Обработанный DataFrame для train.\n",
    "        \"\"\"\n",
    "\n",
    "        # Вычисление переменных времени\n",
    "        self.ohe_data = self.ohe_data.with_columns(\n",
    "            pl.col(\"order_completed_at\").str.to_datetime()\n",
    "        )\n",
    "        self.ohe_data = self.ohe_data.with_columns(\n",
    "            [\n",
    "                (pl.col(\"user_id\").cum_count() - pl.lit(1))\n",
    "                .over([\"user_id\"])\n",
    "                .alias(\"order_number\"),\n",
    "                pl.col(\"order_completed_at\").dt.weekday().alias(\"weekday\"),\n",
    "                pl.col(\"order_completed_at\").dt.month().alias(\"month\"),\n",
    "            ]\n",
    "        )\n",
    "        self.processed_data = self.ohe_data.drop(\"order_completed_at\")\n",
    "\n",
    "    def compile_dataset(self, history_flag: int = 0) -> pd.DataFrame:\n",
    "        \"\"\"\n",
    "        Компилирует историю заказов в укомплектованный тренировочный DataFrame \"Train\".\n",
    "\n",
    "        Args:\n",
    "            history_flag (int): Флаг 0 - тренировочный датасет,\n",
    "                                1 - общий (тестовый) датасет без таргета.\n",
    "\n",
    "        Returns:\n",
    "            pd.DataFrame: X + Y for model/ or just X.\n",
    "        \"\"\"\n",
    "        _, _, last_order = self._separate_last_order()\n",
    "\n",
    "        train_tmp, val_data = self._split_train_and_valid(last_order)\n",
    "\n",
    "        train_set = self._transform_to_long_format(train_tmp, history_flag)\n",
    "\n",
    "        order_number_df, dl_tmp = self._calculate_order_and_category_counts(\n",
    "            train_set, val_data, history_flag\n",
    "        )\n",
    "\n",
    "        train_set = self._join_order_and_category_counts(\n",
    "            train_set, order_number_df, dl_tmp\n",
    "        )\n",
    "\n",
    "        train_set = self._calculate_ratings(train_set)\n",
    "\n",
    "        rating_per_weekday = self._calculate_rating_per_time(train_set, \"weekday\")\n",
    "        rating_per_month = self._calculate_rating_per_time(train_set, \"month\")\n",
    "\n",
    "        train_set = self._join_rating_per_time(\n",
    "            train_set,\n",
    "            rating_per_weekday,\n",
    "            rating_per_month,\n",
    "        )\n",
    "\n",
    "        if not history_flag:\n",
    "            train_set = self._join_target(train_set, val_data)\n",
    "            \n",
    "        train_set = train_set.to_pandas()\n",
    "        train_set[\"id\"] = train_set[\"id\"].str.replace(\"cart_\", \"\")\n",
    "        train_set[\"category\"] = train_set[\"category\"].str.replace(\"cart_\", \"\")\n",
    "\n",
    "        return train_set\n",
    "\n",
    "    def _separate_last_order(self):\n",
    "        \"\"\"\n",
    "        This function separates the last order from the processed data\n",
    "        and returns grouped, merged, and last_order.\n",
    "        \"\"\"\n",
    "        grouped = self.processed_data.group_by(\"user_id\").agg(\n",
    "            pl.max(\"order_number\").alias(\"max_order_number\")\n",
    "        )\n",
    "        merged = self.processed_data.join(grouped, on=\"user_id\")\n",
    "        last_order = merged[\"max_order_number\"] == merged[\"order_number\"]\n",
    "        return grouped, merged, last_order\n",
    "\n",
    "    def _split_train_and_valid(self, last_order):\n",
    "        \"\"\"\n",
    "        Splits the processed data into training and validation sets based on the last order.\n",
    "\n",
    "        Parameters:\n",
    "        - last_order: boolean array indicating whether each record is part of the last order\n",
    "\n",
    "        Returns:\n",
    "        - train_tmp: training data excluding the last order\n",
    "        - val_data: validation data excluding specific time-related columns\n",
    "        \"\"\"\n",
    "        train_tmp = self.processed_data.filter(~last_order)\n",
    "        val_data = self.processed_data.filter(last_order).drop(\n",
    "            \"hour\", \"week\", \"weekday\", \"day\", \"month\", \"year\"\n",
    "        )\n",
    "        return train_tmp, val_data\n",
    "\n",
    "    def _transform_to_long_format(self, train_tmp, history_flag):\n",
    "        \"\"\"\n",
    "        Transforms the input data into long format, based on the 'history_flag' parameter.\n",
    "        Parameters:\n",
    "            train_tmp: the input data frame\n",
    "            history_flag: a flag indicating whether to use the 'train_tmp' or 'self.processed_data'\n",
    "        Returns:\n",
    "            train_melt: the data frame in long format\n",
    "        \"\"\"\n",
    "        if not history_flag:\n",
    "            train_melt = train_tmp.drop(\"order_number\").melt(\n",
    "                id_vars=[\"user_id\", \"weekday\", \"month\"],\n",
    "                variable_name=\"category\",\n",
    "                value_name=\"ordered\",\n",
    "            )\n",
    "        elif history_flag == 1:\n",
    "            train_melt = self.processed_data.drop(\"order_number\").melt(\n",
    "                id_vars=[\"user_id\", \"weekday\", \"month\"],\n",
    "                variable_name=\"category\",\n",
    "                value_name=\"ordered\",\n",
    "            )\n",
    "        else:\n",
    "            print(\"Invalid history flag. Exiting...\")\n",
    "            sys.exit()\n",
    "        return train_melt\n",
    "\n",
    "    def _calculate_order_and_category_counts(self, train_set, val_data, history_flag):\n",
    "        \"\"\"\n",
    "        Calculate order and category counts based on the provided training\n",
    "        and validation data and a history flag.\n",
    "\n",
    "        Args:\n",
    "            train_set: The training dataset.\n",
    "            val_data: The validation data.\n",
    "            history_flag: Flag indicating whether to consider historical data.\n",
    "\n",
    "        Returns:\n",
    "            order_number_df: DataFrame containing user IDs and order numbers.\n",
    "            dl_tmp: Aggregated DataFrame with category and ordered item counts.\n",
    "        \"\"\"\n",
    "        order_number_df = val_data.select([\"user_id\", \"order_number\"]).unique()\n",
    "        dl_tmp = train_set.group_by(\"category\").agg(pl.col([\"ordered\"]).sum())\n",
    "        if history_flag == 1:\n",
    "            order_number_df = order_number_df.with_columns(pl.col(\"order_number\") + 1)\n",
    "            dl_tmp = train_set.group_by(\"category\").agg(pl.col([\"ordered\"]).sum() + 1)\n",
    "        return order_number_df, dl_tmp\n",
    "\n",
    "    def _join_order_and_category_counts(self, train_set, order_number_df, dl_tmp):\n",
    "        \"\"\"\n",
    "        Joins order and category counts to the train_set and returns the updated train_set.\n",
    "\n",
    "        Parameters:\n",
    "        - train_set: The original train set dataframe.\n",
    "        - order_number_df: The dataframe containing order number information.\n",
    "        - dl_tmp: The temporary dataframe used for joining category information.\n",
    "\n",
    "        Returns:\n",
    "        - train_set: The updated train set dataframe.\n",
    "        - unique_users_count: unique users count\n",
    "        \"\"\"\n",
    "        train_set = train_set.join(order_number_df, on=\"user_id\").rename(\n",
    "            {\"order_number\": \"total_order_num\"}\n",
    "        )\n",
    "        train_set = train_set.join(dl_tmp, on=\"category\").rename(\n",
    "            {\"ordered_right\": \"total_order_in_cat\"}\n",
    "        )\n",
    "        return train_set\n",
    "\n",
    "    def _calculate_ratings(self, train_set):\n",
    "        \"\"\"\n",
    "        Calculate the rating statistics for the train set and return the modified train set.\n",
    "        \"\"\"\n",
    "        unique_users_count = train_set.select(\"user_id\").n_unique()\n",
    "        unique_cat_count = train_set.select(\"category\").n_unique()\n",
    "        train_set = train_set.with_columns(\n",
    "            [\n",
    "                (pl.col(\"ordered\") / pl.col(\"total_order_num\")).alias(\"rating\"),\n",
    "                (\n",
    "                    pl.col(\"total_order_num\")\n",
    "                    * (pl.col(\"total_order_in_cat\") / unique_users_count)\n",
    "                ).alias(\"total_rating\"),\n",
    "                (\n",
    "                    pl.col(\"total_order_num\")\n",
    "                    * (pl.col(\"total_order_in_cat\") / unique_cat_count)\n",
    "                ).alias(\"total_rating_cat\"),\n",
    "                (pl.col(\"user_id\").cast(pl.Utf8) + \";\" + pl.col(\"category\")).alias(\n",
    "                    \"id\"\n",
    "                ),\n",
    "            ]\n",
    "        )\n",
    "        train_set = train_set.group_by(\"user_id\", \"category\", \"id\").agg(\n",
    "            pl.col([\"weekday\"]).mean().name.suffix(\"_mean\"),\n",
    "            pl.col([\"weekday\"]).max().name.suffix(\"_max\"),\n",
    "            pl.col([\"weekday\"]).min().name.suffix(\"_min\"),\n",
    "            pl.col([\"weekday\"]).std().name.suffix(\"_std\"),\n",
    "            pl.col([\"month\"]).mean().name.suffix(\"_mean\"),\n",
    "            pl.col([\"month\"]).max().name.suffix(\"_max\"),\n",
    "            pl.col([\"month\"]).min().name.suffix(\"_min\"),\n",
    "            pl.col([\"month\"]).std().name.suffix(\"_std\"),\n",
    "            pl.col([\"total_rating\"]).mean().name.suffix(\"_mean\"),\n",
    "            pl.col([\"total_rating\"]).max().name.suffix(\"_max\"),\n",
    "            pl.col([\"total_rating\"]).min().name.suffix(\"_min\"),\n",
    "            pl.col([\"total_rating\"]).std().name.suffix(\"_std\"),\n",
    "            pl.col([\"rating\"]).mean().name.suffix(\"_mean\"),\n",
    "            pl.col([\"rating\"]).max().name.suffix(\"_max\"),\n",
    "            pl.col([\"rating\"]).min().name.suffix(\"_min\"),\n",
    "            pl.col([\"rating\"]).std().name.suffix(\"_std\"),\n",
    "            pl.col([\"total_rating_cat\"]).mean().name.suffix(\"_mean\"),\n",
    "            pl.col([\"total_rating_cat\"]).max().name.suffix(\"_max\"),\n",
    "            pl.col([\"total_rating_cat\"]).min().name.suffix(\"_min\"),\n",
    "            pl.col([\"total_rating_cat\"]).std().name.suffix(\"_std\"),\n",
    "            pl.col([\"ordered\"]).mean().name.suffix(\"_mean\"),\n",
    "            pl.col([\"ordered\"]).max().name.suffix(\"_max\"),\n",
    "            pl.col([\"ordered\"]).min().name.suffix(\"_min\"),\n",
    "            pl.col([\"ordered\"]).std().name.suffix(\"_std\"),\n",
    "            pl.col([\"total_order_in_cat\"]).mean().name.suffix(\"_mean\"),\n",
    "            pl.col([\"total_order_in_cat\"]).max().name.suffix(\"_max\"),\n",
    "            pl.col([\"total_order_in_cat\"]).min().name.suffix(\"_min\"),\n",
    "            pl.col([\"total_order_in_cat\"]).std().name.suffix(\"_std\"),\n",
    "            pl.col([\"total_order_num\"]).mean().name.suffix(\"_mean\"),\n",
    "            pl.col([\"total_order_num\"]).max().name.suffix(\"_max\"),\n",
    "            pl.col([\"total_order_num\"]).min().name.suffix(\"_min\"),\n",
    "            pl.col([\"total_order_num\"]).std().name.suffix(\"_std\"),\n",
    "        )\n",
    "        return train_set\n",
    "\n",
    "    def _calculate_rating_per_time(self, train_set, time_column):\n",
    "        \"\"\"\n",
    "        Calculate rating per time for the given train set and time column.\n",
    "\n",
    "        Parameters:\n",
    "            train_set (DataFrame): The input train set data.\n",
    "            time_column (str): The name of the time column.\n",
    "\n",
    "        Returns:\n",
    "            DataFrame: The calculated rating per time.\n",
    "        \"\"\"\n",
    "        rating_per_time = train_set.group_by([f\"{time_column}_mean\", \"user_id\"]).agg(\n",
    "            ((pl.col(\"total_rating_mean\").mean()) * 100).alias(\n",
    "                f\"t_rating_per_{time_column}_mean\"\n",
    "            ),\n",
    "            ((pl.col(\"total_rating_mean\").std()) * 100).alias(\n",
    "                f\"t_rating_per_{time_column}_std\"\n",
    "            ),\n",
    "            ((pl.col(\"total_rating_mean\").sum())).alias(\n",
    "                f\"t_rating_per_{time_column}_sum\"\n",
    "            ),\n",
    "            ((pl.col(\"total_rating_mean\").median()) * 100).alias(\n",
    "                f\"t_rating_per_{time_column}_median\"\n",
    "            ),\n",
    "            ((pl.col(\"rating_mean\").mean()) * 100).alias(\n",
    "                f\"rating_per_{time_column}_mean\"\n",
    "            ),\n",
    "            ((pl.col(\"rating_mean\").std()) * 100).alias(\n",
    "                f\"rating_per_{time_column}_std\"\n",
    "            ),\n",
    "            ((pl.col(\"rating_mean\").sum())).alias(f\"rating_per_{time_column}_sum\"),\n",
    "            ((pl.col(\"rating_mean\").median()) * 100).alias(\n",
    "                f\"rating_per_{time_column}_median\"\n",
    "            ),\n",
    "            ((pl.col(\"total_rating_cat_mean\").mean()) * 100).alias(\n",
    "                f\"tc_rating_per_{time_column}_mean\"\n",
    "            ),\n",
    "            ((pl.col(\"total_rating_cat_mean\").std()) * 100).alias(\n",
    "                f\"tc_rating_per_{time_column}_std\"\n",
    "            ),\n",
    "            ((pl.col(\"total_rating_cat_mean\").sum())).alias(\n",
    "                f\"tc_rating_per_{time_column}_sum\"\n",
    "            ),\n",
    "            ((pl.col(\"total_rating_cat_mean\").median()) * 100).alias(\n",
    "                f\"tc_rating_per_{time_column}_median\"\n",
    "            ),\n",
    "        )\n",
    "        return rating_per_time\n",
    "\n",
    "    def _join_rating_per_time(\n",
    "        self,\n",
    "        train_set,\n",
    "        rating_per_weekday,\n",
    "        rating_per_month,\n",
    "    ):\n",
    "        \"\"\"\n",
    "        Joins rating data per time period to the given train_set dataframe using the\n",
    "        provided rating data per hour, per weekday, per day, and per month.\n",
    "\n",
    "        Args:\n",
    "            train_set: The input train_set dataframe to which the rating data will be joined.\n",
    "            rating_per_weekday: The dataframe containing rating data per weekday.\n",
    "            rating_per_month: The dataframe containing rating data per month.\n",
    "\n",
    "        Returns:\n",
    "            The train_set dataframe with rating data joined for each time period.\n",
    "        \"\"\"\n",
    "        train_set = train_set.join(rating_per_month, on=[\"month_mean\", \"user_id\"])\n",
    "        train_set = train_set.join(\n",
    "            rating_per_weekday,\n",
    "            on=[\"weekday_mean\", \"user_id\"],\n",
    "        )\n",
    "        return train_set\n",
    "\n",
    "    def _join_target(self, train_set, val_data):\n",
    "        \"\"\"\n",
    "        Joins the target data from the validation set to the training\n",
    "        set based on user_id and category.\n",
    "        Parameters:\n",
    "            train_set: The training set DataFrame.\n",
    "            val_data: The validation set DataFrame.\n",
    "        Return:\n",
    "            The updated training set DataFrame with the target data joined.\n",
    "        \"\"\"\n",
    "        valid_melt = val_data.drop(\n",
    "            \"order_number\",\n",
    "        ).melt(\n",
    "            id_vars=[\n",
    "                \"user_id\",\n",
    "            ],\n",
    "            variable_name=\"category\",\n",
    "            value_name=\"target\",\n",
    "        )\n",
    "        train_set = train_set.join(valid_melt, on=[\"user_id\", \"category\"])\n",
    "        return train_set\n"
   ]
  },
  {
   "cell_type": "markdown",
   "id": "18d1ca07",
   "metadata": {
    "papermill": {
     "duration": 0.005976,
     "end_time": "2024-03-05T06:26:42.900376",
     "exception": false,
     "start_time": "2024-03-05T06:26:42.894400",
     "status": "completed"
    },
    "tags": []
   },
   "source": [
    "## Препроцессинг данных\n",
    "\n",
    "____________________________________________________\n",
    "Использовался ноутбук с TPU и RAM 300GB, чтобы не испытывать проблем с памятью во время операционных обработок датасета."
   ]
  },
  {
   "cell_type": "code",
   "execution_count": 4,
   "id": "2474685b",
   "metadata": {
    "execution": {
     "iopub.execute_input": "2024-03-05T06:26:42.913864Z",
     "iopub.status.busy": "2024-03-05T06:26:42.913609Z",
     "iopub.status.idle": "2024-03-05T06:26:45.745557Z",
     "shell.execute_reply": "2024-03-05T06:26:45.744678Z"
    },
    "papermill": {
     "duration": 2.840959,
     "end_time": "2024-03-05T06:26:45.747243",
     "exception": false,
     "start_time": "2024-03-05T06:26:42.906284",
     "status": "completed"
    },
    "tags": []
   },
   "outputs": [
    {
     "name": "stdout",
     "output_type": "stream",
     "text": [
      "Процент наблюдений, используемый для тренировки: 0.97%\n"
     ]
    }
   ],
   "source": [
    "# tmp импорт в pandas\n",
    "raw = pd.read_csv('../input/sbermarket-internship-competition/train.csv')\n",
    "sub = pd.read_csv('../input/sbermarket-internship-competition/sample_submission.csv', sep = \",\")\n",
    "\n",
    "# Приведение столбца 'cart' к int\n",
    "raw['cart'] = raw['cart'].astype(int)\n",
    "\n",
    "mk_data = MarketDataProcessor(raw, sub)\n",
    "\n",
    "# Отбрасываем выбросы - юзеров с малым количеством товаров в истории их заказов\n",
    "filtered_raw, filtered_sub, proportion = mk_data.filter_train_data()\n",
    "print(f\"Процент наблюдений, используемый для тренировки: {proportion:.2f}%\")"
   ]
  },
  {
   "cell_type": "markdown",
   "id": "5ebee8f5",
   "metadata": {
    "papermill": {
     "duration": 0.005952,
     "end_time": "2024-03-05T06:26:45.759807",
     "exception": false,
     "start_time": "2024-03-05T06:26:45.753855",
     "status": "completed"
    },
    "tags": []
   },
   "source": [
    "### Polars ускоряет обработку данных\n",
    "__________________________________________________\n",
    "В итоге мы получаем pd датафрейм с усредненным рейтингом id во всем датасете и набор временных переменных, основанных на этой метрике (рейтинг)"
   ]
  },
  {
   "cell_type": "code",
   "execution_count": 5,
   "id": "9f1f8e6c",
   "metadata": {
    "execution": {
     "iopub.execute_input": "2024-03-05T06:26:45.773549Z",
     "iopub.status.busy": "2024-03-05T06:26:45.773282Z",
     "iopub.status.idle": "2024-03-05T06:29:48.240302Z",
     "shell.execute_reply": "2024-03-05T06:29:48.239389Z"
    },
    "papermill": {
     "duration": 182.48308,
     "end_time": "2024-03-05T06:29:48.248931",
     "exception": false,
     "start_time": "2024-03-05T06:26:45.765851",
     "status": "completed"
    },
    "tags": []
   },
   "outputs": [
    {
     "name": "stdout",
     "output_type": "stream",
     "text": [
      "CPU times: user 25min 13s, sys: 8min 7s, total: 33min 20s\n",
      "Wall time: 3min 2s\n"
     ]
    }
   ],
   "source": [
    "%%time\n",
    "mk_data.get_dummies_matrix()\n",
    "mk_data.generate_time_features()\n",
    "Train = mk_data.compile_dataset()\n",
    "\n",
    "Test = mk_data.compile_dataset(history_flag = 1)"
   ]
  },
  {
   "cell_type": "markdown",
   "id": "7f7eae6b",
   "metadata": {
    "papermill": {
     "duration": 0.043388,
     "end_time": "2024-03-05T06:29:48.298661",
     "exception": false,
     "start_time": "2024-03-05T06:29:48.255273",
     "status": "completed"
    },
    "tags": []
   },
   "source": [
    "### X / Y "
   ]
  },
  {
   "cell_type": "code",
   "execution_count": 6,
   "id": "6bdeaa17",
   "metadata": {
    "execution": {
     "iopub.execute_input": "2024-03-05T06:29:48.312825Z",
     "iopub.status.busy": "2024-03-05T06:29:48.312289Z",
     "iopub.status.idle": "2024-03-05T06:29:54.153644Z",
     "shell.execute_reply": "2024-03-05T06:29:54.152836Z"
    },
    "papermill": {
     "duration": 5.850876,
     "end_time": "2024-03-05T06:29:54.155518",
     "exception": false,
     "start_time": "2024-03-05T06:29:48.304642",
     "status": "completed"
    },
    "tags": []
   },
   "outputs": [
    {
     "name": "stdout",
     "output_type": "stream",
     "text": [
      "['user_id', 'weekday_mean', 'weekday_max', 'weekday_min', 'weekday_std', 'month_mean', 'month_max', 'month_min', 'month_std', 'total_rating_mean', 'total_rating_max', 'total_rating_min', 'total_rating_std', 'rating_mean', 'rating_max', 'rating_min', 'rating_std', 'total_rating_cat_mean', 'total_rating_cat_max', 'total_rating_cat_min', 'total_rating_cat_std', 'ordered_mean', 'ordered_max', 'ordered_min', 'ordered_std', 'total_order_in_cat_mean', 'total_order_in_cat_max', 'total_order_in_cat_min', 'total_order_in_cat_std', 'total_order_num_mean', 'total_order_num_max', 'total_order_num_min', 'total_order_num_std', 't_rating_per_month_mean', 't_rating_per_month_std', 't_rating_per_month_sum', 't_rating_per_month_median', 'rating_per_month_mean', 'rating_per_month_std', 'rating_per_month_sum', 'rating_per_month_median', 'tc_rating_per_month_mean', 'tc_rating_per_month_std', 'tc_rating_per_month_sum', 'tc_rating_per_month_median', 't_rating_per_weekday_mean', 't_rating_per_weekday_std', 't_rating_per_weekday_sum', 't_rating_per_weekday_median', 'rating_per_weekday_mean', 'rating_per_weekday_std', 'rating_per_weekday_sum', 'rating_per_weekday_median', 'tc_rating_per_weekday_mean', 'tc_rating_per_weekday_std', 'tc_rating_per_weekday_sum', 'tc_rating_per_weekday_median']\n",
      "['target']\n"
     ]
    }
   ],
   "source": [
    "x_cols = Train.select_dtypes(include=['int', 'int8', 'int32', 'uint32', 'uint8', 'float']).drop(columns = ['target'], axis = 1).columns.tolist()\n",
    "x_cols_pca = Train.select_dtypes(include=['int', 'int8', 'int32', 'uint32', 'uint8', 'float']).drop(columns = ['user_id', 'target'], axis = 1).columns.tolist()\n",
    "print(x_cols)\n",
    "y_cols = ['target']\n",
    "print(y_cols)"
   ]
  },
  {
   "cell_type": "markdown",
   "id": "5c4612f7",
   "metadata": {
    "papermill": {
     "duration": 0.006537,
     "end_time": "2024-03-05T06:29:54.168828",
     "exception": false,
     "start_time": "2024-03-05T06:29:54.162291",
     "status": "completed"
    },
    "tags": []
   },
   "source": [
    "### Добавляем главные компоненты"
   ]
  },
  {
   "cell_type": "code",
   "execution_count": 7,
   "id": "50996e8e",
   "metadata": {
    "execution": {
     "iopub.execute_input": "2024-03-05T06:29:54.182609Z",
     "iopub.status.busy": "2024-03-05T06:29:54.182348Z",
     "iopub.status.idle": "2024-03-05T06:34:26.925080Z",
     "shell.execute_reply": "2024-03-05T06:34:26.924175Z"
    },
    "papermill": {
     "duration": 272.75274,
     "end_time": "2024-03-05T06:34:26.927536",
     "exception": false,
     "start_time": "2024-03-05T06:29:54.174796",
     "status": "completed"
    },
    "tags": []
   },
   "outputs": [],
   "source": [
    "scaler = RobustScaler()\n",
    "\n",
    "s_Train = Train.copy()\n",
    "s_Test = Test.copy()\n",
    "s_Train[x_cols_pca] = scaler.fit_transform(s_Train[x_cols_pca])\n",
    "s_Test[x_cols_pca] = scaler.transform(s_Test[x_cols_pca])\n",
    "\n",
    "pca = PCA(n_components=10)\n",
    "\n",
    "s_Train_pca = pca.fit_transform(s_Train[x_cols])\n",
    "s_Test_pca = pca.transform(s_Test[x_cols])\n",
    "\n",
    "Train_pca = pd.DataFrame(s_Train_pca, columns=[f'pc{i+1}' for i in range(s_Train_pca.shape[1])])\n",
    "Test_pca = pd.DataFrame(s_Test_pca, columns=[f'pc{i+1}' for i in range(s_Train_pca.shape[1])])\n",
    "\n",
    "s_Train[Train_pca.columns.to_list()] = Train_pca\n",
    "s_Test[Test_pca.columns.to_list()] = Test_pca"
   ]
  },
  {
   "cell_type": "markdown",
   "id": "fcb479f4",
   "metadata": {
    "papermill": {
     "duration": 0.006108,
     "end_time": "2024-03-05T06:34:26.940642",
     "exception": false,
     "start_time": "2024-03-05T06:34:26.934534",
     "status": "completed"
    },
    "tags": []
   },
   "source": [
    "### Кластеризация id(юзер-категория)"
   ]
  },
  {
   "cell_type": "code",
   "execution_count": 8,
   "id": "38808ebb",
   "metadata": {
    "execution": {
     "iopub.execute_input": "2024-03-05T06:34:26.954955Z",
     "iopub.status.busy": "2024-03-05T06:34:26.954669Z",
     "iopub.status.idle": "2024-03-05T06:41:24.511008Z",
     "shell.execute_reply": "2024-03-05T06:41:24.510259Z"
    },
    "papermill": {
     "duration": 417.565987,
     "end_time": "2024-03-05T06:41:24.512887",
     "exception": false,
     "start_time": "2024-03-05T06:34:26.946900",
     "status": "completed"
    },
    "tags": []
   },
   "outputs": [
    {
     "name": "stdout",
     "output_type": "stream",
     "text": [
      "Elbow Method to determine the number of clusters for id and target:\n"
     ]
    },
    {
     "name": "stderr",
     "output_type": "stream",
     "text": [
      "findfont: Generic family 'sans-serif' not found because none of the following families were found: Arial, Liberation Sans, Bitstream Vera Sans, sans-serif\n"
     ]
    },
    {
     "name": "stderr",
     "output_type": "stream",
     "text": [
      "findfont: Generic family 'sans-serif' not found because none of the following families were found: Arial, Liberation Sans, Bitstream Vera Sans, sans-serif\n"
     ]
    },
    {
     "name": "stderr",
     "output_type": "stream",
     "text": [
      "findfont: Generic family 'sans-serif' not found because none of the following families were found: Arial, Liberation Sans, Bitstream Vera Sans, sans-serif\n"
     ]
    },
    {
     "name": "stderr",
     "output_type": "stream",
     "text": [
      "findfont: Generic family 'sans-serif' not found because none of the following families were found: Arial, Liberation Sans, Bitstream Vera Sans, sans-serif\n"
     ]
    },
    {
     "name": "stderr",
     "output_type": "stream",
     "text": [
      "findfont: Generic family 'sans-serif' not found because none of the following families were found: Arial, Liberation Sans, Bitstream Vera Sans, sans-serif\n"
     ]
    },
    {
     "name": "stderr",
     "output_type": "stream",
     "text": [
      "findfont: Generic family 'sans-serif' not found because none of the following families were found: Arial, Liberation Sans, Bitstream Vera Sans, sans-serif\n"
     ]
    },
    {
     "name": "stderr",
     "output_type": "stream",
     "text": [
      "findfont: Generic family 'sans-serif' not found because none of the following families were found: Arial, Liberation Sans, Bitstream Vera Sans, sans-serif\n"
     ]
    },
    {
     "name": "stderr",
     "output_type": "stream",
     "text": [
      "findfont: Generic family 'sans-serif' not found because none of the following families were found: Arial, Liberation Sans, Bitstream Vera Sans, sans-serif\n"
     ]
    },
    {
     "name": "stderr",
     "output_type": "stream",
     "text": [
      "findfont: Generic family 'sans-serif' not found because none of the following families were found: Arial, Liberation Sans, Bitstream Vera Sans, sans-serif\n"
     ]
    },
    {
     "name": "stderr",
     "output_type": "stream",
     "text": [
      "findfont: Generic family 'sans-serif' not found because none of the following families were found: Arial, Liberation Sans, Bitstream Vera Sans, sans-serif\n"
     ]
    },
    {
     "name": "stderr",
     "output_type": "stream",
     "text": [
      "findfont: Generic family 'sans-serif' not found because none of the following families were found: Arial, Liberation Sans, Bitstream Vera Sans, sans-serif\n"
     ]
    },
    {
     "name": "stderr",
     "output_type": "stream",
     "text": [
      "findfont: Generic family 'sans-serif' not found because none of the following families were found: Arial, Liberation Sans, Bitstream Vera Sans, sans-serif\n"
     ]
    },
    {
     "name": "stderr",
     "output_type": "stream",
     "text": [
      "findfont: Generic family 'sans-serif' not found because none of the following families were found: Arial, Liberation Sans, Bitstream Vera Sans, sans-serif\n"
     ]
    },
    {
     "name": "stderr",
     "output_type": "stream",
     "text": [
      "findfont: Generic family 'sans-serif' not found because none of the following families were found: Arial, Liberation Sans, Bitstream Vera Sans, sans-serif\n"
     ]
    },
    {
     "name": "stderr",
     "output_type": "stream",
     "text": [
      "findfont: Generic family 'sans-serif' not found because none of the following families were found: Arial, Liberation Sans, Bitstream Vera Sans, sans-serif\n"
     ]
    },
    {
     "name": "stderr",
     "output_type": "stream",
     "text": [
      "findfont: Generic family 'sans-serif' not found because none of the following families were found: Arial, Liberation Sans, Bitstream Vera Sans, sans-serif\n"
     ]
    },
    {
     "name": "stderr",
     "output_type": "stream",
     "text": [
      "findfont: Generic family 'sans-serif' not found because none of the following families were found: Arial, Liberation Sans, Bitstream Vera Sans, sans-serif\n"
     ]
    },
    {
     "name": "stderr",
     "output_type": "stream",
     "text": [
      "findfont: Generic family 'sans-serif' not found because none of the following families were found: Arial, Liberation Sans, Bitstream Vera Sans, sans-serif\n"
     ]
    },
    {
     "name": "stderr",
     "output_type": "stream",
     "text": [
      "findfont: Generic family 'sans-serif' not found because none of the following families were found: Arial, Liberation Sans, Bitstream Vera Sans, sans-serif\n"
     ]
    },
    {
     "name": "stderr",
     "output_type": "stream",
     "text": [
      "findfont: Generic family 'sans-serif' not found because none of the following families were found: Arial, Liberation Sans, Bitstream Vera Sans, sans-serif\n"
     ]
    },
    {
     "name": "stderr",
     "output_type": "stream",
     "text": [
      "findfont: Generic family 'sans-serif' not found because none of the following families were found: Arial, Liberation Sans, Bitstream Vera Sans, sans-serif\n"
     ]
    },
    {
     "name": "stderr",
     "output_type": "stream",
     "text": [
      "findfont: Generic family 'sans-serif' not found because none of the following families were found: Arial, Liberation Sans, Bitstream Vera Sans, sans-serif\n"
     ]
    },
    {
     "name": "stderr",
     "output_type": "stream",
     "text": [
      "findfont: Generic family 'sans-serif' not found because none of the following families were found: Arial, Liberation Sans, Bitstream Vera Sans, sans-serif\n"
     ]
    },
    {
     "name": "stderr",
     "output_type": "stream",
     "text": [
      "findfont: Generic family 'sans-serif' not found because none of the following families were found: Arial, Liberation Sans, Bitstream Vera Sans, sans-serif\n"
     ]
    },
    {
     "name": "stderr",
     "output_type": "stream",
     "text": [
      "findfont: Generic family 'sans-serif' not found because none of the following families were found: Arial, Liberation Sans, Bitstream Vera Sans, sans-serif\n"
     ]
    },
    {
     "name": "stderr",
     "output_type": "stream",
     "text": [
      "findfont: Generic family 'sans-serif' not found because none of the following families were found: Arial, Liberation Sans, Bitstream Vera Sans, sans-serif\n"
     ]
    },
    {
     "name": "stderr",
     "output_type": "stream",
     "text": [
      "findfont: Generic family 'sans-serif' not found because none of the following families were found: Arial, Liberation Sans, Bitstream Vera Sans, sans-serif\n"
     ]
    },
    {
     "name": "stderr",
     "output_type": "stream",
     "text": [
      "findfont: Generic family 'sans-serif' not found because none of the following families were found: Arial, Liberation Sans, Bitstream Vera Sans, sans-serif\n"
     ]
    },
    {
     "name": "stderr",
     "output_type": "stream",
     "text": [
      "findfont: Font family ['sans-serif'] not found. Falling back to DejaVu Sans.\n"
     ]
    },
    {
     "name": "stderr",
     "output_type": "stream",
     "text": [
      "findfont: Generic family 'sans-serif' not found because none of the following families were found: Arial, Liberation Sans, Bitstream Vera Sans, sans-serif\n"
     ]
    },
    {
     "name": "stderr",
     "output_type": "stream",
     "text": [
      "findfont: Generic family 'sans-serif' not found because none of the following families were found: Arial, Liberation Sans, Bitstream Vera Sans, sans-serif\n"
     ]
    },
    {
     "name": "stderr",
     "output_type": "stream",
     "text": [
      "findfont: Generic family 'sans-serif' not found because none of the following families were found: Arial, Liberation Sans, Bitstream Vera Sans, sans-serif\n"
     ]
    },
    {
     "name": "stderr",
     "output_type": "stream",
     "text": [
      "findfont: Generic family 'sans-serif' not found because none of the following families were found: Arial, Liberation Sans, Bitstream Vera Sans, sans-serif\n"
     ]
    },
    {
     "name": "stderr",
     "output_type": "stream",
     "text": [
      "findfont: Generic family 'sans-serif' not found because none of the following families were found: Arial, Liberation Sans, Bitstream Vera Sans, sans-serif\n"
     ]
    },
    {
     "name": "stderr",
     "output_type": "stream",
     "text": [
      "findfont: Generic family 'sans-serif' not found because none of the following families were found: Arial, Liberation Sans, Bitstream Vera Sans, sans-serif\n"
     ]
    },
    {
     "name": "stderr",
     "output_type": "stream",
     "text": [
      "findfont: Generic family 'sans-serif' not found because none of the following families were found: Arial, Liberation Sans, Bitstream Vera Sans, sans-serif\n"
     ]
    },
    {
     "name": "stderr",
     "output_type": "stream",
     "text": [
      "findfont: Generic family 'sans-serif' not found because none of the following families were found: Arial, Liberation Sans, Bitstream Vera Sans, sans-serif\n"
     ]
    },
    {
     "name": "stderr",
     "output_type": "stream",
     "text": [
      "findfont: Generic family 'sans-serif' not found because none of the following families were found: Arial, Liberation Sans, Bitstream Vera Sans, sans-serif\n"
     ]
    },
    {
     "name": "stderr",
     "output_type": "stream",
     "text": [
      "findfont: Generic family 'sans-serif' not found because none of the following families were found: Arial, Liberation Sans, Bitstream Vera Sans, sans-serif\n"
     ]
    },
    {
     "name": "stderr",
     "output_type": "stream",
     "text": [
      "findfont: Generic family 'sans-serif' not found because none of the following families were found: Arial, Liberation Sans, Bitstream Vera Sans, sans-serif\n"
     ]
    },
    {
     "name": "stderr",
     "output_type": "stream",
     "text": [
      "findfont: Generic family 'sans-serif' not found because none of the following families were found: Arial, Liberation Sans, Bitstream Vera Sans, sans-serif\n"
     ]
    },
    {
     "name": "stderr",
     "output_type": "stream",
     "text": [
      "findfont: Generic family 'sans-serif' not found because none of the following families were found: Arial, Liberation Sans, Bitstream Vera Sans, sans-serif\n"
     ]
    },
    {
     "name": "stderr",
     "output_type": "stream",
     "text": [
      "findfont: Generic family 'sans-serif' not found because none of the following families were found: Arial, Liberation Sans, Bitstream Vera Sans, sans-serif\n"
     ]
    },
    {
     "name": "stderr",
     "output_type": "stream",
     "text": [
      "findfont: Generic family 'sans-serif' not found because none of the following families were found: Arial, Liberation Sans, Bitstream Vera Sans, sans-serif\n"
     ]
    },
    {
     "name": "stderr",
     "output_type": "stream",
     "text": [
      "findfont: Generic family 'sans-serif' not found because none of the following families were found: Arial, Liberation Sans, Bitstream Vera Sans, sans-serif\n"
     ]
    },
    {
     "name": "stderr",
     "output_type": "stream",
     "text": [
      "findfont: Generic family 'sans-serif' not found because none of the following families were found: Arial, Liberation Sans, Bitstream Vera Sans, sans-serif\n"
     ]
    },
    {
     "name": "stderr",
     "output_type": "stream",
     "text": [
      "findfont: Generic family 'sans-serif' not found because none of the following families were found: Arial, Liberation Sans, Bitstream Vera Sans, sans-serif\n"
     ]
    },
    {
     "name": "stderr",
     "output_type": "stream",
     "text": [
      "findfont: Generic family 'sans-serif' not found because none of the following families were found: Arial, Liberation Sans, Bitstream Vera Sans, sans-serif\n"
     ]
    },
    {
     "name": "stderr",
     "output_type": "stream",
     "text": [
      "findfont: Generic family 'sans-serif' not found because none of the following families were found: Arial, Liberation Sans, Bitstream Vera Sans, sans-serif\n"
     ]
    },
    {
     "name": "stderr",
     "output_type": "stream",
     "text": [
      "findfont: Generic family 'sans-serif' not found because none of the following families were found: Arial, Liberation Sans, Bitstream Vera Sans, sans-serif\n"
     ]
    },
    {
     "name": "stderr",
     "output_type": "stream",
     "text": [
      "findfont: Generic family 'sans-serif' not found because none of the following families were found: Arial, Liberation Sans, Bitstream Vera Sans, sans-serif\n"
     ]
    },
    {
     "name": "stderr",
     "output_type": "stream",
     "text": [
      "findfont: Generic family 'sans-serif' not found because none of the following families were found: Arial, Liberation Sans, Bitstream Vera Sans, sans-serif\n"
     ]
    },
    {
     "name": "stderr",
     "output_type": "stream",
     "text": [
      "findfont: Generic family 'sans-serif' not found because none of the following families were found: Arial, Liberation Sans, Bitstream Vera Sans, sans-serif\n"
     ]
    },
    {
     "name": "stderr",
     "output_type": "stream",
     "text": [
      "findfont: Generic family 'sans-serif' not found because none of the following families were found: Arial, Liberation Sans, Bitstream Vera Sans, sans-serif\n"
     ]
    },
    {
     "name": "stderr",
     "output_type": "stream",
     "text": [
      "findfont: Generic family 'sans-serif' not found because none of the following families were found: Arial, Liberation Sans, Bitstream Vera Sans, sans-serif\n"
     ]
    },
    {
     "name": "stderr",
     "output_type": "stream",
     "text": [
      "findfont: Generic family 'sans-serif' not found because none of the following families were found: Arial, Liberation Sans, Bitstream Vera Sans, sans-serif\n"
     ]
    },
    {
     "name": "stderr",
     "output_type": "stream",
     "text": [
      "findfont: Generic family 'sans-serif' not found because none of the following families were found: Arial, Liberation Sans, Bitstream Vera Sans, sans-serif\n"
     ]
    },
    {
     "name": "stderr",
     "output_type": "stream",
     "text": [
      "findfont: Generic family 'sans-serif' not found because none of the following families were found: Arial, Liberation Sans, Bitstream Vera Sans, sans-serif\n"
     ]
    },
    {
     "name": "stderr",
     "output_type": "stream",
     "text": [
      "findfont: Generic family 'sans-serif' not found because none of the following families were found: Arial, Liberation Sans, Bitstream Vera Sans, sans-serif\n"
     ]
    },
    {
     "name": "stderr",
     "output_type": "stream",
     "text": [
      "findfont: Generic family 'sans-serif' not found because none of the following families were found: Arial, Liberation Sans, Bitstream Vera Sans, sans-serif\n"
     ]
    },
    {
     "name": "stderr",
     "output_type": "stream",
     "text": [
      "findfont: Generic family 'sans-serif' not found because none of the following families were found: Arial, Liberation Sans, Bitstream Vera Sans, sans-serif\n"
     ]
    },
    {
     "name": "stderr",
     "output_type": "stream",
     "text": [
      "findfont: Generic family 'sans-serif' not found because none of the following families were found: Arial, Liberation Sans, Bitstream Vera Sans, sans-serif\n"
     ]
    },
    {
     "name": "stderr",
     "output_type": "stream",
     "text": [
      "findfont: Generic family 'sans-serif' not found because none of the following families were found: Arial, Liberation Sans, Bitstream Vera Sans, sans-serif\n"
     ]
    },
    {
     "name": "stderr",
     "output_type": "stream",
     "text": [
      "findfont: Generic family 'sans-serif' not found because none of the following families were found: Arial, Liberation Sans, Bitstream Vera Sans, sans-serif\n"
     ]
    },
    {
     "name": "stderr",
     "output_type": "stream",
     "text": [
      "findfont: Generic family 'sans-serif' not found because none of the following families were found: Arial, Liberation Sans, Bitstream Vera Sans, sans-serif\n"
     ]
    },
    {
     "name": "stderr",
     "output_type": "stream",
     "text": [
      "findfont: Generic family 'sans-serif' not found because none of the following families were found: Arial, Liberation Sans, Bitstream Vera Sans, sans-serif\n"
     ]
    },
    {
     "name": "stderr",
     "output_type": "stream",
     "text": [
      "findfont: Generic family 'sans-serif' not found because none of the following families were found: Arial, Liberation Sans, Bitstream Vera Sans, sans-serif\n"
     ]
    },
    {
     "name": "stderr",
     "output_type": "stream",
     "text": [
      "findfont: Generic family 'sans-serif' not found because none of the following families were found: Arial, Liberation Sans, Bitstream Vera Sans, sans-serif\n"
     ]
    },
    {
     "name": "stderr",
     "output_type": "stream",
     "text": [
      "findfont: Generic family 'sans-serif' not found because none of the following families were found: Arial, Liberation Sans, Bitstream Vera Sans, sans-serif\n"
     ]
    },
    {
     "name": "stderr",
     "output_type": "stream",
     "text": [
      "findfont: Generic family 'sans-serif' not found because none of the following families were found: Arial, Liberation Sans, Bitstream Vera Sans, sans-serif\n"
     ]
    },
    {
     "name": "stderr",
     "output_type": "stream",
     "text": [
      "findfont: Generic family 'sans-serif' not found because none of the following families were found: Arial, Liberation Sans, Bitstream Vera Sans, sans-serif\n"
     ]
    },
    {
     "name": "stderr",
     "output_type": "stream",
     "text": [
      "findfont: Generic family 'sans-serif' not found because none of the following families were found: Arial, Liberation Sans, Bitstream Vera Sans, sans-serif\n"
     ]
    },
    {
     "name": "stderr",
     "output_type": "stream",
     "text": [
      "findfont: Generic family 'sans-serif' not found because none of the following families were found: Arial, Liberation Sans, Bitstream Vera Sans, sans-serif\n"
     ]
    },
    {
     "name": "stderr",
     "output_type": "stream",
     "text": [
      "findfont: Generic family 'sans-serif' not found because none of the following families were found: Arial, Liberation Sans, Bitstream Vera Sans, sans-serif\n"
     ]
    },
    {
     "name": "stderr",
     "output_type": "stream",
     "text": [
      "findfont: Generic family 'sans-serif' not found because none of the following families were found: Arial, Liberation Sans, Bitstream Vera Sans, sans-serif\n"
     ]
    },
    {
     "name": "stderr",
     "output_type": "stream",
     "text": [
      "findfont: Generic family 'sans-serif' not found because none of the following families were found: Arial, Liberation Sans, Bitstream Vera Sans, sans-serif\n"
     ]
    },
    {
     "name": "stderr",
     "output_type": "stream",
     "text": [
      "findfont: Generic family 'sans-serif' not found because none of the following families were found: Arial, Liberation Sans, Bitstream Vera Sans, sans-serif\n"
     ]
    },
    {
     "name": "stderr",
     "output_type": "stream",
     "text": [
      "findfont: Generic family 'sans-serif' not found because none of the following families were found: Arial, Liberation Sans, Bitstream Vera Sans, sans-serif\n"
     ]
    },
    {
     "name": "stderr",
     "output_type": "stream",
     "text": [
      "findfont: Generic family 'sans-serif' not found because none of the following families were found: Arial, Liberation Sans, Bitstream Vera Sans, sans-serif\n"
     ]
    },
    {
     "name": "stderr",
     "output_type": "stream",
     "text": [
      "findfont: Generic family 'sans-serif' not found because none of the following families were found: Arial, Liberation Sans, Bitstream Vera Sans, sans-serif\n"
     ]
    },
    {
     "name": "stderr",
     "output_type": "stream",
     "text": [
      "findfont: Generic family 'sans-serif' not found because none of the following families were found: Arial, Liberation Sans, Bitstream Vera Sans, sans-serif\n"
     ]
    },
    {
     "name": "stderr",
     "output_type": "stream",
     "text": [
      "findfont: Generic family 'sans-serif' not found because none of the following families were found: Arial, Liberation Sans, Bitstream Vera Sans, sans-serif\n"
     ]
    },
    {
     "name": "stderr",
     "output_type": "stream",
     "text": [
      "findfont: Generic family 'sans-serif' not found because none of the following families were found: Arial, Liberation Sans, Bitstream Vera Sans, sans-serif\n"
     ]
    },
    {
     "name": "stderr",
     "output_type": "stream",
     "text": [
      "findfont: Generic family 'sans-serif' not found because none of the following families were found: Arial, Liberation Sans, Bitstream Vera Sans, sans-serif\n"
     ]
    },
    {
     "name": "stderr",
     "output_type": "stream",
     "text": [
      "findfont: Generic family 'sans-serif' not found because none of the following families were found: Arial, Liberation Sans, Bitstream Vera Sans, sans-serif\n"
     ]
    },
    {
     "name": "stderr",
     "output_type": "stream",
     "text": [
      "findfont: Generic family 'sans-serif' not found because none of the following families were found: Arial, Liberation Sans, Bitstream Vera Sans, sans-serif\n"
     ]
    },
    {
     "name": "stderr",
     "output_type": "stream",
     "text": [
      "findfont: Generic family 'sans-serif' not found because none of the following families were found: Arial, Liberation Sans, Bitstream Vera Sans, sans-serif\n"
     ]
    },
    {
     "name": "stderr",
     "output_type": "stream",
     "text": [
      "findfont: Generic family 'sans-serif' not found because none of the following families were found: Arial, Liberation Sans, Bitstream Vera Sans, sans-serif\n"
     ]
    },
    {
     "name": "stderr",
     "output_type": "stream",
     "text": [
      "findfont: Generic family 'sans-serif' not found because none of the following families were found: Arial, Liberation Sans, Bitstream Vera Sans, sans-serif\n"
     ]
    },
    {
     "name": "stderr",
     "output_type": "stream",
     "text": [
      "findfont: Generic family 'sans-serif' not found because none of the following families were found: Arial, Liberation Sans, Bitstream Vera Sans, sans-serif\n"
     ]
    },
    {
     "name": "stderr",
     "output_type": "stream",
     "text": [
      "findfont: Generic family 'sans-serif' not found because none of the following families were found: Arial, Liberation Sans, Bitstream Vera Sans, sans-serif\n"
     ]
    },
    {
     "name": "stderr",
     "output_type": "stream",
     "text": [
      "findfont: Generic family 'sans-serif' not found because none of the following families were found: Arial, Liberation Sans, Bitstream Vera Sans, sans-serif\n"
     ]
    },
    {
     "name": "stderr",
     "output_type": "stream",
     "text": [
      "findfont: Generic family 'sans-serif' not found because none of the following families were found: Arial, Liberation Sans, Bitstream Vera Sans, sans-serif\n"
     ]
    },
    {
     "name": "stderr",
     "output_type": "stream",
     "text": [
      "findfont: Generic family 'sans-serif' not found because none of the following families were found: Arial, Liberation Sans, Bitstream Vera Sans, sans-serif\n"
     ]
    },
    {
     "name": "stderr",
     "output_type": "stream",
     "text": [
      "findfont: Generic family 'sans-serif' not found because none of the following families were found: Arial, Liberation Sans, Bitstream Vera Sans, sans-serif\n"
     ]
    },
    {
     "name": "stderr",
     "output_type": "stream",
     "text": [
      "findfont: Generic family 'sans-serif' not found because none of the following families were found: Arial, Liberation Sans, Bitstream Vera Sans, sans-serif\n"
     ]
    },
    {
     "name": "stderr",
     "output_type": "stream",
     "text": [
      "findfont: Generic family 'sans-serif' not found because none of the following families were found: Arial, Liberation Sans, Bitstream Vera Sans, sans-serif\n"
     ]
    },
    {
     "name": "stderr",
     "output_type": "stream",
     "text": [
      "findfont: Generic family 'sans-serif' not found because none of the following families were found: Arial, Liberation Sans, Bitstream Vera Sans, sans-serif\n"
     ]
    },
    {
     "name": "stderr",
     "output_type": "stream",
     "text": [
      "findfont: Generic family 'sans-serif' not found because none of the following families were found: Arial, Liberation Sans, Bitstream Vera Sans, sans-serif\n"
     ]
    },
    {
     "data": {
      "image/png": "[encoded data removed]",
      "text/plain": [
       "<Figure size 800x550 with 2 Axes>"
      ]
     },
     "metadata": {},
     "output_type": "display_data"
    },
    {
     "data": {
      "text/html": [
       "<style>#sk-container-id-1 {\n",
       "  /* Definition of color scheme common for light and dark mode */\n",
       "  --sklearn-color-text: black;\n",
       "  --sklearn-color-line: gray;\n",
       "  /* Definition of color scheme for unfitted estimators */\n",
       "  --sklearn-color-unfitted-level-0: #fff5e6;\n",
       "  --sklearn-color-unfitted-level-1: #f6e4d2;\n",
       "  --sklearn-color-unfitted-level-2: #ffe0b3;\n",
       "  --sklearn-color-unfitted-level-3: chocolate;\n",
       "  /* Definition of color scheme for fitted estimators */\n",
       "  --sklearn-color-fitted-level-0: #f0f8ff;\n",
       "  --sklearn-color-fitted-level-1: #d4ebff;\n",
       "  --sklearn-color-fitted-level-2: #b3dbfd;\n",
       "  --sklearn-color-fitted-level-3: cornflowerblue;\n",
       "\n",
       "  /* Specific color for light theme */\n",
       "  --sklearn-color-text-on-default-background: var(--sg-text-color, var(--theme-code-foreground, var(--jp-content-font-color1, black)));\n",
       "  --sklearn-color-background: var(--sg-background-color, var(--theme-background, var(--jp-layout-color0, white)));\n",
       "  --sklearn-color-border-box: var(--sg-text-color, var(--theme-code-foreground, var(--jp-content-font-color1, black)));\n",
       "  --sklearn-color-icon: #696969;\n",
       "\n",
       "  @media (prefers-color-scheme: dark) {\n",
       "    /* Redefinition of color scheme for dark theme */\n",
       "    --sklearn-color-text-on-default-background: var(--sg-text-color, var(--theme-code-foreground, var(--jp-content-font-color1, white)));\n",
       "    --sklearn-color-background: var(--sg-background-color, var(--theme-background, var(--jp-layout-color0, #111)));\n",
       "    --sklearn-color-border-box: var(--sg-text-color, var(--theme-code-foreground, var(--jp-content-font-color1, white)));\n",
       "    --sklearn-color-icon: #878787;\n",
       "  }\n",
       "}\n",
       "\n",
       "#sk-container-id-1 {\n",
       "  color: var(--sklearn-color-text);\n",
       "}\n",
       "\n",
       "#sk-container-id-1 pre {\n",
       "  padding: 0;\n",
       "}\n",
       "\n",
       "#sk-container-id-1 input.sk-hidden--visually {\n",
       "  border: 0;\n",
       "  clip: rect(1px 1px 1px 1px);\n",
       "  clip: rect(1px, 1px, 1px, 1px);\n",
       "  height: 1px;\n",
       "  margin: -1px;\n",
       "  overflow: hidden;\n",
       "  padding: 0;\n",
       "  position: absolute;\n",
       "  width: 1px;\n",
       "}\n",
       "\n",
       "#sk-container-id-1 div.sk-dashed-wrapped {\n",
       "  border: 1px dashed var(--sklearn-color-line);\n",
       "  margin: 0 0.4em 0.5em 0.4em;\n",
       "  box-sizing: border-box;\n",
       "  padding-bottom: 0.4em;\n",
       "  background-color: var(--sklearn-color-background);\n",
       "}\n",
       "\n",
       "#sk-container-id-1 div.sk-container {\n",
       "  /* jupyter's `normalize.less` sets `[hidden] { display: none; }`\n",
       "     but bootstrap.min.css set `[hidden] { display: none !important; }`\n",
       "     so we also need the `!important` here to be able to override the\n",
       "     default hidden behavior on the sphinx rendered scikit-learn.org.\n",
       "     See: https://github.com/scikit-learn/scikit-learn/issues/21755 */\n",
       "  display: inline-block !important;\n",
       "  position: relative;\n",
       "}\n",
       "\n",
       "#sk-container-id-1 div.sk-text-repr-fallback {\n",
       "  display: none;\n",
       "}\n",
       "\n",
       "div.sk-parallel-item,\n",
       "div.sk-serial,\n",
       "div.sk-item {\n",
       "  /* draw centered vertical line to link estimators */\n",
       "  background-image: linear-gradient(var(--sklearn-color-text-on-default-background), var(--sklearn-color-text-on-default-background));\n",
       "  background-size: 2px 100%;\n",
       "  background-repeat: no-repeat;\n",
       "  background-position: center center;\n",
       "}\n",
       "\n",
       "/* Parallel-specific style estimator block */\n",
       "\n",
       "#sk-container-id-1 div.sk-parallel-item::after {\n",
       "  content: \"\";\n",
       "  width: 100%;\n",
       "  border-bottom: 2px solid var(--sklearn-color-text-on-default-background);\n",
       "  flex-grow: 1;\n",
       "}\n",
       "\n",
       "#sk-container-id-1 div.sk-parallel {\n",
       "  display: flex;\n",
       "  align-items: stretch;\n",
       "  justify-content: center;\n",
       "  background-color: var(--sklearn-color-background);\n",
       "  position: relative;\n",
       "}\n",
       "\n",
       "#sk-container-id-1 div.sk-parallel-item {\n",
       "  display: flex;\n",
       "  flex-direction: column;\n",
       "}\n",
       "\n",
       "#sk-container-id-1 div.sk-parallel-item:first-child::after {\n",
       "  align-self: flex-end;\n",
       "  width: 50%;\n",
       "}\n",
       "\n",
       "#sk-container-id-1 div.sk-parallel-item:last-child::after {\n",
       "  align-self: flex-start;\n",
       "  width: 50%;\n",
       "}\n",
       "\n",
       "#sk-container-id-1 div.sk-parallel-item:only-child::after {\n",
       "  width: 0;\n",
       "}\n",
       "\n",
       "/* Serial-specific style estimator block */\n",
       "\n",
       "#sk-container-id-1 div.sk-serial {\n",
       "  display: flex;\n",
       "  flex-direction: column;\n",
       "  align-items: center;\n",
       "  background-color: var(--sklearn-color-background);\n",
       "  padding-right: 1em;\n",
       "  padding-left: 1em;\n",
       "}\n",
       "\n",
       "\n",
       "/* Toggleable style: style used for estimator/Pipeline/ColumnTransformer box that is\n",
       "clickable and can be expanded/collapsed.\n",
       "- Pipeline and ColumnTransformer use this feature and define the default style\n",
       "- Estimators will overwrite some part of the style using the `sk-estimator` class\n",
       "*/\n",
       "\n",
       "/* Pipeline and ColumnTransformer style (default) */\n",
       "\n",
       "#sk-container-id-1 div.sk-toggleable {\n",
       "  /* Default theme specific background. It is overwritten whether we have a\n",
       "  specific estimator or a Pipeline/ColumnTransformer */\n",
       "  background-color: var(--sklearn-color-background);\n",
       "}\n",
       "\n",
       "/* Toggleable label */\n",
       "#sk-container-id-1 label.sk-toggleable__label {\n",
       "  cursor: pointer;\n",
       "  display: block;\n",
       "  width: 100%;\n",
       "  margin-bottom: 0;\n",
       "  padding: 0.5em;\n",
       "  box-sizing: border-box;\n",
       "  text-align: center;\n",
       "}\n",
       "\n",
       "#sk-container-id-1 label.sk-toggleable__label-arrow:before {\n",
       "  /* Arrow on the left of the label */\n",
       "  content: \"▸\";\n",
       "  float: left;\n",
       "  margin-right: 0.25em;\n",
       "  color: var(--sklearn-color-icon);\n",
       "}\n",
       "\n",
       "#sk-container-id-1 label.sk-toggleable__label-arrow:hover:before {\n",
       "  color: var(--sklearn-color-text);\n",
       "}\n",
       "\n",
       "/* Toggleable content - dropdown */\n",
       "\n",
       "#sk-container-id-1 div.sk-toggleable__content {\n",
       "  max-height: 0;\n",
       "  max-width: 0;\n",
       "  overflow: hidden;\n",
       "  text-align: left;\n",
       "  /* unfitted */\n",
       "  background-color: var(--sklearn-color-unfitted-level-0);\n",
       "}\n",
       "\n",
       "#sk-container-id-1 div.sk-toggleable__content.fitted {\n",
       "  /* fitted */\n",
       "  background-color: var(--sklearn-color-fitted-level-0);\n",
       "}\n",
       "\n",
       "#sk-container-id-1 div.sk-toggleable__content pre {\n",
       "  margin: 0.2em;\n",
       "  border-radius: 0.25em;\n",
       "  color: var(--sklearn-color-text);\n",
       "  /* unfitted */\n",
       "  background-color: var(--sklearn-color-unfitted-level-0);\n",
       "}\n",
       "\n",
       "#sk-container-id-1 div.sk-toggleable__content.fitted pre {\n",
       "  /* unfitted */\n",
       "  background-color: var(--sklearn-color-fitted-level-0);\n",
       "}\n",
       "\n",
       "#sk-container-id-1 input.sk-toggleable__control:checked~div.sk-toggleable__content {\n",
       "  /* Expand drop-down */\n",
       "  max-height: 200px;\n",
       "  max-width: 100%;\n",
       "  overflow: auto;\n",
       "}\n",
       "\n",
       "#sk-container-id-1 input.sk-toggleable__control:checked~label.sk-toggleable__label-arrow:before {\n",
       "  content: \"▾\";\n",
       "}\n",
       "\n",
       "/* Pipeline/ColumnTransformer-specific style */\n",
       "\n",
       "#sk-container-id-1 div.sk-label input.sk-toggleable__control:checked~label.sk-toggleable__label {\n",
       "  color: var(--sklearn-color-text);\n",
       "  background-color: var(--sklearn-color-unfitted-level-2);\n",
       "}\n",
       "\n",
       "#sk-container-id-1 div.sk-label.fitted input.sk-toggleable__control:checked~label.sk-toggleable__label {\n",
       "  background-color: var(--sklearn-color-fitted-level-2);\n",
       "}\n",
       "\n",
       "/* Estimator-specific style */\n",
       "\n",
       "/* Colorize estimator box */\n",
       "#sk-container-id-1 div.sk-estimator input.sk-toggleable__control:checked~label.sk-toggleable__label {\n",
       "  /* unfitted */\n",
       "  background-color: var(--sklearn-color-unfitted-level-2);\n",
       "}\n",
       "\n",
       "#sk-container-id-1 div.sk-estimator.fitted input.sk-toggleable__control:checked~label.sk-toggleable__label {\n",
       "  /* fitted */\n",
       "  background-color: var(--sklearn-color-fitted-level-2);\n",
       "}\n",
       "\n",
       "#sk-container-id-1 div.sk-label label.sk-toggleable__label,\n",
       "#sk-container-id-1 div.sk-label label {\n",
       "  /* The background is the default theme color */\n",
       "  color: var(--sklearn-color-text-on-default-background);\n",
       "}\n",
       "\n",
       "/* On hover, darken the color of the background */\n",
       "#sk-container-id-1 div.sk-label:hover label.sk-toggleable__label {\n",
       "  color: var(--sklearn-color-text);\n",
       "  background-color: var(--sklearn-color-unfitted-level-2);\n",
       "}\n",
       "\n",
       "/* Label box, darken color on hover, fitted */\n",
       "#sk-container-id-1 div.sk-label.fitted:hover label.sk-toggleable__label.fitted {\n",
       "  color: var(--sklearn-color-text);\n",
       "  background-color: var(--sklearn-color-fitted-level-2);\n",
       "}\n",
       "\n",
       "/* Estimator label */\n",
       "\n",
       "#sk-container-id-1 div.sk-label label {\n",
       "  font-family: monospace;\n",
       "  font-weight: bold;\n",
       "  display: inline-block;\n",
       "  line-height: 1.2em;\n",
       "}\n",
       "\n",
       "#sk-container-id-1 div.sk-label-container {\n",
       "  text-align: center;\n",
       "}\n",
       "\n",
       "/* Estimator-specific */\n",
       "#sk-container-id-1 div.sk-estimator {\n",
       "  font-family: monospace;\n",
       "  border: 1px dotted var(--sklearn-color-border-box);\n",
       "  border-radius: 0.25em;\n",
       "  box-sizing: border-box;\n",
       "  margin-bottom: 0.5em;\n",
       "  /* unfitted */\n",
       "  background-color: var(--sklearn-color-unfitted-level-0);\n",
       "}\n",
       "\n",
       "#sk-container-id-1 div.sk-estimator.fitted {\n",
       "  /* fitted */\n",
       "  background-color: var(--sklearn-color-fitted-level-0);\n",
       "}\n",
       "\n",
       "/* on hover */\n",
       "#sk-container-id-1 div.sk-estimator:hover {\n",
       "  /* unfitted */\n",
       "  background-color: var(--sklearn-color-unfitted-level-2);\n",
       "}\n",
       "\n",
       "#sk-container-id-1 div.sk-estimator.fitted:hover {\n",
       "  /* fitted */\n",
       "  background-color: var(--sklearn-color-fitted-level-2);\n",
       "}\n",
       "\n",
       "/* Specification for estimator info (e.g. \"i\" and \"?\") */\n",
       "\n",
       "/* Common style for \"i\" and \"?\" */\n",
       "\n",
       ".sk-estimator-doc-link,\n",
       "a:link.sk-estimator-doc-link,\n",
       "a:visited.sk-estimator-doc-link {\n",
       "  float: right;\n",
       "  font-size: smaller;\n",
       "  line-height: 1em;\n",
       "  font-family: monospace;\n",
       "  background-color: var(--sklearn-color-background);\n",
       "  border-radius: 1em;\n",
       "  height: 1em;\n",
       "  width: 1em;\n",
       "  text-decoration: none !important;\n",
       "  margin-left: 1ex;\n",
       "  /* unfitted */\n",
       "  border: var(--sklearn-color-unfitted-level-1) 1pt solid;\n",
       "  color: var(--sklearn-color-unfitted-level-1);\n",
       "}\n",
       "\n",
       ".sk-estimator-doc-link.fitted,\n",
       "a:link.sk-estimator-doc-link.fitted,\n",
       "a:visited.sk-estimator-doc-link.fitted {\n",
       "  /* fitted */\n",
       "  border: var(--sklearn-color-fitted-level-1) 1pt solid;\n",
       "  color: var(--sklearn-color-fitted-level-1);\n",
       "}\n",
       "\n",
       "/* On hover */\n",
       "div.sk-estimator:hover .sk-estimator-doc-link:hover,\n",
       ".sk-estimator-doc-link:hover,\n",
       "div.sk-label-container:hover .sk-estimator-doc-link:hover,\n",
       ".sk-estimator-doc-link:hover {\n",
       "  /* unfitted */\n",
       "  background-color: var(--sklearn-color-unfitted-level-3);\n",
       "  color: var(--sklearn-color-background);\n",
       "  text-decoration: none;\n",
       "}\n",
       "\n",
       "div.sk-estimator.fitted:hover .sk-estimator-doc-link.fitted:hover,\n",
       ".sk-estimator-doc-link.fitted:hover,\n",
       "div.sk-label-container:hover .sk-estimator-doc-link.fitted:hover,\n",
       ".sk-estimator-doc-link.fitted:hover {\n",
       "  /* fitted */\n",
       "  background-color: var(--sklearn-color-fitted-level-3);\n",
       "  color: var(--sklearn-color-background);\n",
       "  text-decoration: none;\n",
       "}\n",
       "\n",
       "/* Span, style for the box shown on hovering the info icon */\n",
       ".sk-estimator-doc-link span {\n",
       "  display: none;\n",
       "  z-index: 9999;\n",
       "  position: relative;\n",
       "  font-weight: normal;\n",
       "  right: .2ex;\n",
       "  padding: .5ex;\n",
       "  margin: .5ex;\n",
       "  width: min-content;\n",
       "  min-width: 20ex;\n",
       "  max-width: 50ex;\n",
       "  color: var(--sklearn-color-text);\n",
       "  box-shadow: 2pt 2pt 4pt #999;\n",
       "  /* unfitted */\n",
       "  background: var(--sklearn-color-unfitted-level-0);\n",
       "  border: .5pt solid var(--sklearn-color-unfitted-level-3);\n",
       "}\n",
       "\n",
       ".sk-estimator-doc-link.fitted span {\n",
       "  /* fitted */\n",
       "  background: var(--sklearn-color-fitted-level-0);\n",
       "  border: var(--sklearn-color-fitted-level-3);\n",
       "}\n",
       "\n",
       ".sk-estimator-doc-link:hover span {\n",
       "  display: block;\n",
       "}\n",
       "\n",
       "/* \"?\"-specific style due to the `<a>` HTML tag */\n",
       "\n",
       "#sk-container-id-1 a.estimator_doc_link {\n",
       "  float: right;\n",
       "  font-size: 1rem;\n",
       "  line-height: 1em;\n",
       "  font-family: monospace;\n",
       "  background-color: var(--sklearn-color-background);\n",
       "  border-radius: 1rem;\n",
       "  height: 1rem;\n",
       "  width: 1rem;\n",
       "  text-decoration: none;\n",
       "  /* unfitted */\n",
       "  color: var(--sklearn-color-unfitted-level-1);\n",
       "  border: var(--sklearn-color-unfitted-level-1) 1pt solid;\n",
       "}\n",
       "\n",
       "#sk-container-id-1 a.estimator_doc_link.fitted {\n",
       "  /* fitted */\n",
       "  border: var(--sklearn-color-fitted-level-1) 1pt solid;\n",
       "  color: var(--sklearn-color-fitted-level-1);\n",
       "}\n",
       "\n",
       "/* On hover */\n",
       "#sk-container-id-1 a.estimator_doc_link:hover {\n",
       "  /* unfitted */\n",
       "  background-color: var(--sklearn-color-unfitted-level-3);\n",
       "  color: var(--sklearn-color-background);\n",
       "  text-decoration: none;\n",
       "}\n",
       "\n",
       "#sk-container-id-1 a.estimator_doc_link.fitted:hover {\n",
       "  /* fitted */\n",
       "  background-color: var(--sklearn-color-fitted-level-3);\n",
       "}\n",
       "</style><div id=\"sk-container-id-1\" class=\"sk-top-container\"><div class=\"sk-text-repr-fallback\"><pre>KElbowVisualizer(ax=&lt;Axes: title={&#x27;center&#x27;: &#x27;Distortion Score Elbow for KMeans Clustering&#x27;}, xlabel=&#x27;k&#x27;, ylabel=&#x27;distortion score&#x27;&gt;,\n",
       "                 estimator=KMeans(n_clusters=20, random_state=4), k=(2, 21))</pre><b>In a Jupyter environment, please rerun this cell to show the HTML representation or trust the notebook. <br />On GitHub, the HTML representation is unable to render, please try loading this page with nbviewer.org.</b></div><div class=\"sk-container\" hidden><div class=\"sk-item sk-dashed-wrapped\"><div class=\"sk-label-container\"><div class=\"sk-label fitted sk-toggleable\"><input class=\"sk-toggleable__control sk-hidden--visually\" id=\"sk-estimator-id-1\" type=\"checkbox\" ><label for=\"sk-estimator-id-1\" class=\"sk-toggleable__label fitted sk-toggleable__label-arrow fitted\">&nbsp;KElbowVisualizer<span class=\"sk-estimator-doc-link fitted\">i<span>Fitted</span></span></label><div class=\"sk-toggleable__content fitted\"><pre>KElbowVisualizer(ax=&lt;Axes: title={&#x27;center&#x27;: &#x27;Distortion Score Elbow for KMeans Clustering&#x27;}, xlabel=&#x27;k&#x27;, ylabel=&#x27;distortion score&#x27;&gt;,\n",
       "                 estimator=KMeans(n_clusters=20, random_state=4), k=(2, 21))</pre></div> </div></div><div class=\"sk-parallel\"><div class=\"sk-parallel-item\"><div class=\"sk-item\"><div class=\"sk-label-container\"><div class=\"sk-label fitted sk-toggleable\"><input class=\"sk-toggleable__control sk-hidden--visually\" id=\"sk-estimator-id-2\" type=\"checkbox\" ><label for=\"sk-estimator-id-2\" class=\"sk-toggleable__label fitted sk-toggleable__label-arrow fitted\">estimator: KMeans</label><div class=\"sk-toggleable__content fitted\"><pre>KMeans(n_clusters=20, random_state=4)</pre></div> </div></div><div class=\"sk-serial\"><div class=\"sk-item\"><div class=\"sk-estimator fitted sk-toggleable\"><input class=\"sk-toggleable__control sk-hidden--visually\" id=\"sk-estimator-id-3\" type=\"checkbox\" ><label for=\"sk-estimator-id-3\" class=\"sk-toggleable__label fitted sk-toggleable__label-arrow fitted\">&nbsp;KMeans<a class=\"sk-estimator-doc-link fitted\" rel=\"noreferrer\" target=\"_blank\" href=\"https://scikit-learn.org/1.4/modules/generated/sklearn.cluster.KMeans.html\">?<span>Documentation for KMeans</span></a></label><div class=\"sk-toggleable__content fitted\"><pre>KMeans(n_clusters=20, random_state=4)</pre></div> </div></div></div></div></div></div></div></div></div>"
      ],
      "text/plain": [
       "KElbowVisualizer(ax=<Axes: title={'center': 'Distortion Score Elbow for KMeans Clustering'}, xlabel='k', ylabel='distortion score'>,\n",
       "                 estimator=KMeans(n_clusters=20, random_state=4), k=(2, 21))"
      ]
     },
     "execution_count": 8,
     "metadata": {},
     "output_type": "execute_result"
    }
   ],
   "source": [
    "from sklearn.cluster import KMeans\n",
    "from yellowbrick.cluster.elbow import kelbow_visualizer\n",
    "\n",
    "print('Elbow Method to determine the number of clusters for id and target:')\n",
    "kelbow_visualizer(KMeans(random_state=4), \n",
    "                  Train_pca, \n",
    "                  k=(2,21))\n"
   ]
  },
  {
   "cell_type": "code",
   "execution_count": 9,
   "id": "fad4caea",
   "metadata": {
    "execution": {
     "iopub.execute_input": "2024-03-05T06:41:24.540880Z",
     "iopub.status.busy": "2024-03-05T06:41:24.540345Z",
     "iopub.status.idle": "2024-03-05T06:41:38.840318Z",
     "shell.execute_reply": "2024-03-05T06:41:38.839311Z"
    },
    "papermill": {
     "duration": 14.31623,
     "end_time": "2024-03-05T06:41:38.842871",
     "exception": false,
     "start_time": "2024-03-05T06:41:24.526641",
     "status": "completed"
    },
    "tags": []
   },
   "outputs": [],
   "source": [
    "from sklearn.cluster import KMeans\n",
    "kmeans = KMeans(n_clusters=5)\n",
    "cluster = kmeans.fit_predict(Train_pca)\n",
    "test_cluster = kmeans.predict(Test_pca)\n",
    "s_Train[\"Clusters\"] = cluster\n",
    "s_Test[\"Clusters\"] = test_cluster"
   ]
  },
  {
   "cell_type": "code",
   "execution_count": null,
   "id": "520edd9d",
   "metadata": {
    "papermill": {
     "duration": 0.012441,
     "end_time": "2024-03-05T06:41:38.869209",
     "exception": false,
     "start_time": "2024-03-05T06:41:38.856768",
     "status": "completed"
    },
    "tags": []
   },
   "outputs": [],
   "source": []
  },
  {
   "cell_type": "markdown",
   "id": "5db187fc",
   "metadata": {
    "papermill": {
     "duration": 0.012229,
     "end_time": "2024-03-05T06:41:38.893902",
     "exception": false,
     "start_time": "2024-03-05T06:41:38.881673",
     "status": "completed"
    },
    "tags": []
   },
   "source": [
    "### Сохранение данных в parquet"
   ]
  },
  {
   "cell_type": "code",
   "execution_count": 10,
   "id": "50b94c06",
   "metadata": {
    "execution": {
     "iopub.execute_input": "2024-03-05T06:41:38.920362Z",
     "iopub.status.busy": "2024-03-05T06:41:38.919495Z",
     "iopub.status.idle": "2024-03-05T06:42:56.655400Z",
     "shell.execute_reply": "2024-03-05T06:42:56.654464Z"
    },
    "papermill": {
     "duration": 77.752174,
     "end_time": "2024-03-05T06:42:56.658170",
     "exception": false,
     "start_time": "2024-03-05T06:41:38.905996",
     "status": "completed"
    },
    "tags": []
   },
   "outputs": [],
   "source": [
    "# Train.to_parquet('Train.parquet', index=False)\n",
    "s_Train.to_parquet('s_Train.parquet', index=False)\n",
    "s_Test.to_parquet('s_Test.parquet', index=False)"
   ]
  },
  {
   "cell_type": "code",
   "execution_count": 11,
   "id": "f743acf5",
   "metadata": {
    "execution": {
     "iopub.execute_input": "2024-03-05T06:42:56.685184Z",
     "iopub.status.busy": "2024-03-05T06:42:56.684896Z",
     "iopub.status.idle": "2024-03-05T06:42:56.688744Z",
     "shell.execute_reply": "2024-03-05T06:42:56.687988Z"
    },
    "papermill": {
     "duration": 0.018897,
     "end_time": "2024-03-05T06:42:56.690259",
     "exception": false,
     "start_time": "2024-03-05T06:42:56.671362",
     "status": "completed"
    },
    "tags": []
   },
   "outputs": [],
   "source": [
    "# s_Train = pd.read_parquet('/kaggle/input/next-orders/s_Train.parquet')\n",
    "# s_Test = pd.read_parquet('/kaggle/input/next-orders/s_Test.parquet')"
   ]
  },
  {
   "cell_type": "markdown",
   "id": "722f2c3b",
   "metadata": {
    "papermill": {
     "duration": 0.012642,
     "end_time": "2024-03-05T06:42:56.715048",
     "exception": false,
     "start_time": "2024-03-05T06:42:56.702406",
     "status": "completed"
    },
    "tags": []
   },
   "source": [
    "## LightAutoML пайплайн\n"
   ]
  },
  {
   "cell_type": "code",
   "execution_count": 12,
   "id": "16f554ae",
   "metadata": {
    "execution": {
     "iopub.execute_input": "2024-03-05T06:42:56.741126Z",
     "iopub.status.busy": "2024-03-05T06:42:56.740849Z",
     "iopub.status.idle": "2024-03-05T06:42:56.744293Z",
     "shell.execute_reply": "2024-03-05T06:42:56.743659Z"
    },
    "papermill": {
     "duration": 0.018695,
     "end_time": "2024-03-05T06:42:56.745898",
     "exception": false,
     "start_time": "2024-03-05T06:42:56.727203",
     "status": "completed"
    },
    "tags": []
   },
   "outputs": [],
   "source": [
    "# Train_set, Valid_set = train_test_split(Train, test_size = TEST_SIZE,\n",
    "#                                         stratify = None, random_state = 23)\n",
    "# Train_set.reset_index(drop=True, inplace=True)\n",
    "# Valid_set.reset_index(drop=True, inplace=True)"
   ]
  },
  {
   "cell_type": "code",
   "execution_count": 13,
   "id": "49d35a6e",
   "metadata": {
    "execution": {
     "iopub.execute_input": "2024-03-05T06:42:56.772595Z",
     "iopub.status.busy": "2024-03-05T06:42:56.772358Z",
     "iopub.status.idle": "2024-03-05T06:42:56.775954Z",
     "shell.execute_reply": "2024-03-05T06:42:56.775342Z"
    },
    "papermill": {
     "duration": 0.018641,
     "end_time": "2024-03-05T06:42:56.777619",
     "exception": false,
     "start_time": "2024-03-05T06:42:56.758978",
     "status": "completed"
    },
    "tags": []
   },
   "outputs": [],
   "source": [
    "# def f1 (real, pred, **kwargs):\n",
    "#     return f1_score(real, (pred > 0.2).astype(int), **kwargs)\n",
    "\n",
    "# N_THREADS = 2\n",
    "# N_FOLDS = 5\n",
    "# RANDOM_STATE = 42\n",
    "# TEST_SIZE = 0.2\n",
    "# TARGET_NAME = 'target'\n",
    "# ROLES = {'target': TARGET_NAME, 'drop': ['id', 'user_id', 'category'], 'category': ['Clusters']}\n",
    "# TASK = Task('binary', metric = f1)\n",
    "\n",
    "# reader = PandasToPandasReader(TASK, cv=N_FOLDS, random_state=RANDOM_STATE)\n",
    "\n",
    "# lama_params = {\n",
    "#     \"task\": TASK,\n",
    "#     \"cpu_limit\": N_THREADS,\n",
    "#     \"reader_params\": {'n_jobs': N_THREADS, 'cv': N_FOLDS, 'random_state': RANDOM_STATE}\n",
    "# }\n",
    "# default_nn_params = {\n",
    "#     \"bs\": 128, \"num_workers\": 0, \"path_to_save\": None, \"n_epochs\": 1, \"freeze_defaults\": True\n",
    "# }\n"
   ]
  },
  {
   "cell_type": "markdown",
   "id": "ba26a0b2",
   "metadata": {
    "papermill": {
     "duration": 0.012104,
     "end_time": "2024-03-05T06:42:56.802100",
     "exception": false,
     "start_time": "2024-03-05T06:42:56.789996",
     "status": "completed"
    },
    "tags": []
   },
   "source": [
    "### Weight and Biasses мониторинг моделей"
   ]
  },
  {
   "cell_type": "code",
   "execution_count": 14,
   "id": "f3f1200f",
   "metadata": {
    "execution": {
     "iopub.execute_input": "2024-03-05T06:42:56.828888Z",
     "iopub.status.busy": "2024-03-05T06:42:56.828592Z",
     "iopub.status.idle": "2024-03-05T06:42:56.832432Z",
     "shell.execute_reply": "2024-03-05T06:42:56.831854Z"
    },
    "papermill": {
     "duration": 0.019104,
     "end_time": "2024-03-05T06:42:56.834026",
     "exception": false,
     "start_time": "2024-03-05T06:42:56.814922",
     "status": "completed"
    },
    "tags": []
   },
   "outputs": [],
   "source": [
    "# user_secrets = UserSecretsClient()\n",
    "# wandb_api = user_secrets.get_secret(\"wandb_api\") \n",
    "\n",
    "# wandb.login(key=wandb_api)\n",
    "# wandb.login()\n",
    "\n",
    "# CONFIG = dict (\n",
    "#     lama_params,\n",
    "#     general_params = {\"use_algos\": [[\"linear_12\", \"lgbm\", \"denselight\"]]},\n",
    "#     tuning_params = {'max_tuning_iter': 20},\n",
    "#     lgb_params = {'default_params': {'num_threads': N_THREADS}},\n",
    "#     nn_params={**default_nn_params,'lr': 0.03},\n",
    "#     infra = \"Kaggle\",\n",
    "#     competition = 'plant-pathology',\n",
    "#     _wandb_kernel = 'ayut'\n",
    "# )\n",
    "# CONFIG['model_name'] = 'lightAutoML-experiments_w_features_1'\n",
    "# run = wandb.init(project='sber-inter', \n",
    "#                  config=CONFIG,\n",
    "#                  group='lightAutoML', \n",
    "#                  job_type='train')\n",
    "\n",
    "# wandb.config.type = 'lightAutoML'\n",
    "# wandb.config.kaggle_competition = 'SberMarket Competition'"
   ]
  },
  {
   "cell_type": "code",
   "execution_count": 15,
   "id": "985a8c73",
   "metadata": {
    "_kg_hide-output": true,
    "execution": {
     "iopub.execute_input": "2024-03-05T06:42:56.860104Z",
     "iopub.status.busy": "2024-03-05T06:42:56.859875Z",
     "iopub.status.idle": "2024-03-05T06:42:56.864901Z",
     "shell.execute_reply": "2024-03-05T06:42:56.864305Z"
    },
    "papermill": {
     "duration": 0.02035,
     "end_time": "2024-03-05T06:42:56.866409",
     "exception": false,
     "start_time": "2024-03-05T06:42:56.846059",
     "status": "completed"
    },
    "tags": []
   },
   "outputs": [],
   "source": [
    "# %%time \n",
    "\n",
    "# # наиболее оптимальный на данный момент пайплайн\n",
    "# automl = TabularUtilizedAutoML(\n",
    "#     task = TASK,\n",
    "#     timeout = 3600*3,\n",
    "#     cpu_limit = N_THREADS,\n",
    "#     reader_params = {'n_jobs': N_THREADS, 'cv': N_FOLDS, 'random_state': RANDOM_STATE},\n",
    "# )\n",
    "\n",
    "# # выбранные среди всех наиболее значимые переменные\n",
    "# train_pred = automl.fit_predict(Train_set[['total_order_in_cat_max',\n",
    "#  'ordered_mean',\n",
    "#  'pc2',\n",
    "#  'weekday_std',\n",
    "#  'pc9',\n",
    "#  'pc10',\n",
    "#  'category',\n",
    "#  'pc4',\n",
    "#  'pc5',\n",
    "#  'pc6',\n",
    "#  'month_std',\n",
    "#  'pc3',\n",
    "#  'week_std',\n",
    "#  'hour_std',\n",
    "#  'hour_mean',\n",
    "#  'pc1',\n",
    "#  'pc7', 'target']], roles = ROLES, verbose = 2)\n",
    "\n",
    "# print('Score', \"%.5f\" % f1(Train_set.target, train_pred.data))\n",
    "# valid_pred = automl.predict(Valid_set[['total_order_in_cat_max',\n",
    "#  'ordered_mean',\n",
    "#  'pc2',\n",
    "#  'weekday_std',\n",
    "#  'pc9',\n",
    "#  'pc10',\n",
    "#  'category',\n",
    "#  'pc4',\n",
    "#  'pc5',\n",
    "#  'pc6',\n",
    "#  'month_std',\n",
    "#  'pc3',\n",
    "#  'week_std',\n",
    "#  'hour_std',\n",
    "#  'hour_mean',\n",
    "#  'pc1',\n",
    "#  'pc7', 'target']])\n",
    "# print('Score on out of folds validation', \"%.5f\" % f1(Valid_set.target, valid_pred.data))\n",
    "# # best catboost params \n",
    "# # {'task_type': 'CPU', 'thread_count': 4, 'random_seed': 42, 'num_trees': 3000, 'learning_rate': 0.03, 'l2_leaf_reg': 0.009044636094268511, 'bootstrap_type': 'Bernoulli', 'grow_policy': 'SymmetricTree', 'max_depth': 4, 'min_data_in_leaf': 7, 'one_hot_max_size': 10, 'fold_permutation_block': 1, 'boosting_type': 'Plain', 'boost_from_average': True, 'od_type': 'Iter', 'od_wait': 100, 'max_bin': 32, 'feature_border_type': 'GreedyLogSum', 'nan_mode': 'Min', 'verbose': 100, 'allow_writing_files': False}\n",
    "# # best linear\n",
    "# #\n",
    "# # best lgbm \n",
    "# # {'task': 'train', 'learning_rate': 0.05, 'num_leaves': 105, 'feature_fraction': 0.8625799184703501, 'bagging_fraction': 0.5053328530427746, 'bagging_freq': 1, 'max_depth': -1, 'verbosity': -1, 'reg_alpha': 7.265259184516205e-05, 'reg_lambda': 0.621571500507215, 'min_split_gain': 0.0, 'zero_as_missing': False, 'num_threads': 4, 'max_bin': 255, 'min_data_in_bin': 3, 'num_trees': 3000, 'early_stopping_rounds': 100, 'random_state': 42, 'min_sum_hessian_in_leaf': 4.636375055852895}\n",
    "# # best denselight\n",
    "# # {'num_workers': 0, 'pin_memory': False, 'max_length': 256, 'is_snap': False, 'input_bn': False, 'max_emb_size': 256, 'bert_name': None, 'pooling': 'cls', 'device': 'cpu', 'use_cont': True, 'use_cat': True, 'use_text': False, 'lang': 'en', 'deterministic': True, 'multigpu': False, 'random_state': 42, 'model': 'denselight', 'model_with_emb': False, 'path_to_save': None, 'verbose_inside': None, 'verbose': 1, 'n_epochs': 30, 'snap_params': {'k': 3, 'early_stopping': True, 'patience': 10, 'swa': True}, 'bs': 1024, 'emb_dropout': 0.1, 'emb_ratio': 3, 'opt': 'Adam', 'opt_params': {'lr': 0.003757084358753148, 'weight_decay': 0}, 'sch': 'ReduceLROnPlateau', 'scheduler_params': {'patience': 5, 'factor': 0.5, 'min_lr': 1e-05}, 'loss': None, 'loss_params': {}, 'loss_on_logits': True, 'clip_grad': False, 'clip_grad_params': {}, 'init_bias': True, 'dataset': 'UniversalDataset', 'tuned': True, 'optimization_search_space': None, 'verbose_bar': False, 'freeze_defaults': True, 'n_out': None, 'hid_factor': [2, 2], 'hidden_size': [512, 256], 'block_config': [2, 2], 'compression': 0.5, 'growth_size': 256, 'bn_factor': 2, 'drop_rate': 0.1, 'noise_std': 0.05, 'num_init_features': None, 'act_fun': 'LeakyReLU', 'use_noise': False, 'use_bn': True, 'embedding_size': 10, 'cat_embedder': 'cat', 'cont_embedder': 'cont', 'stop_by_metric': False, 'tuning_params': {'fit_on_holdout': True, 'max_tuning_iter': 50, 'max_tuning_time': 3600}}"
   ]
  },
  {
   "cell_type": "code",
   "execution_count": 16,
   "id": "69952660",
   "metadata": {
    "execution": {
     "iopub.execute_input": "2024-03-05T06:42:56.892075Z",
     "iopub.status.busy": "2024-03-05T06:42:56.891848Z",
     "iopub.status.idle": "2024-03-05T06:42:56.894856Z",
     "shell.execute_reply": "2024-03-05T06:42:56.894273Z"
    },
    "papermill": {
     "duration": 0.017398,
     "end_time": "2024-03-05T06:42:56.896342",
     "exception": false,
     "start_time": "2024-03-05T06:42:56.878944",
     "status": "completed"
    },
    "tags": []
   },
   "outputs": [],
   "source": [
    "# fast_fi = automl.get_feature_scores('fast', silent=False)\n",
    "# fast_fi.set_index('Feature')['Importance'].plot.bar(figsize = (30, 10), grid = True)"
   ]
  },
  {
   "cell_type": "code",
   "execution_count": 17,
   "id": "bac52457",
   "metadata": {
    "execution": {
     "iopub.execute_input": "2024-03-05T06:42:56.922301Z",
     "iopub.status.busy": "2024-03-05T06:42:56.922040Z",
     "iopub.status.idle": "2024-03-05T06:42:56.925411Z",
     "shell.execute_reply": "2024-03-05T06:42:56.924800Z"
    },
    "papermill": {
     "duration": 0.018334,
     "end_time": "2024-03-05T06:42:56.927038",
     "exception": false,
     "start_time": "2024-03-05T06:42:56.908704",
     "status": "completed"
    },
    "tags": []
   },
   "outputs": [],
   "source": [
    "# import joblib\n",
    "\n",
    "# joblib.dump(automl, 'automl_02.pkl')\n",
    "# # automl=joblib.load('/kaggle/input/next-orders/automl_rd.pkl')\n",
    "\n",
    "# run = wandb.init(project='sber-inter', \n",
    "#                  config=CONFIG,\n",
    "#                  group='lightAutoML', \n",
    "#                  job_type='save_experiment')\n",
    "\n",
    "# wandb.config.type = 'lightAutoML'\n",
    "# wandb.config.kaggle_competition = 'SberMarket Competition'\n",
    "\n",
    "# artifact = wandb.Artifact(name='automl', type='model')\n",
    "# artifact.add_file('/kaggle/working/automl_01.pkl')\n",
    "# run.log_artifact(artifact)\n",
    "\n",
    "# run.finish()"
   ]
  },
  {
   "cell_type": "markdown",
   "id": "e9736477",
   "metadata": {
    "papermill": {
     "duration": 0.012226,
     "end_time": "2024-03-05T06:42:56.952047",
     "exception": false,
     "start_time": "2024-03-05T06:42:56.939821",
     "status": "completed"
    },
    "tags": []
   },
   "source": [
    "### Нахождение лучшего порогового значения для сепарации 0 и 1"
   ]
  },
  {
   "cell_type": "code",
   "execution_count": 18,
   "id": "f12a403b",
   "metadata": {
    "execution": {
     "iopub.execute_input": "2024-03-05T06:42:56.977641Z",
     "iopub.status.busy": "2024-03-05T06:42:56.977358Z",
     "iopub.status.idle": "2024-03-05T06:42:56.980706Z",
     "shell.execute_reply": "2024-03-05T06:42:56.980113Z"
    },
    "papermill": {
     "duration": 0.017935,
     "end_time": "2024-03-05T06:42:56.982196",
     "exception": false,
     "start_time": "2024-03-05T06:42:56.964261",
     "status": "completed"
    },
    "tags": []
   },
   "outputs": [],
   "source": [
    "# best_score = 0\n",
    "# for i in np.arange(0.01, 1.0, 0.01):\n",
    "#     score = f1 = f1_score(Valid_set.target, (valid_pred.data > i).astype(int))\n",
    "#     if score > best_score:\n",
    "#         best_score = score\n",
    "#         proba_split = i\n",
    "\n",
    "# print('At i =', \"%.2f\" % proba_split,'score is : ' \"%.5f\" % best_score)"
   ]
  },
  {
   "cell_type": "code",
   "execution_count": 19,
   "id": "a27cd25b",
   "metadata": {
    "execution": {
     "iopub.execute_input": "2024-03-05T06:42:57.007820Z",
     "iopub.status.busy": "2024-03-05T06:42:57.007530Z",
     "iopub.status.idle": "2024-03-05T06:42:57.010796Z",
     "shell.execute_reply": "2024-03-05T06:42:57.010148Z"
    },
    "papermill": {
     "duration": 0.017871,
     "end_time": "2024-03-05T06:42:57.012279",
     "exception": false,
     "start_time": "2024-03-05T06:42:56.994408",
     "status": "completed"
    },
    "tags": []
   },
   "outputs": [],
   "source": [
    "# s_Test['target'] = (predictions.data > proba_split).astype(int)\n",
    "# submit = pd.merge(sub['id'], s_Test[['id', 'target']], on='id')"
   ]
  },
  {
   "cell_type": "markdown",
   "id": "1032af7a",
   "metadata": {
    "papermill": {
     "duration": 0.01251,
     "end_time": "2024-03-05T06:42:57.037393",
     "exception": false,
     "start_time": "2024-03-05T06:42:57.024883",
     "status": "completed"
    },
    "tags": []
   },
   "source": [
    "## Подготовка сабмита"
   ]
  },
  {
   "cell_type": "code",
   "execution_count": 20,
   "id": "fc4e0c1a",
   "metadata": {
    "execution": {
     "iopub.execute_input": "2024-03-05T06:42:57.063219Z",
     "iopub.status.busy": "2024-03-05T06:42:57.062986Z",
     "iopub.status.idle": "2024-03-05T06:42:57.066139Z",
     "shell.execute_reply": "2024-03-05T06:42:57.065525Z"
    },
    "papermill": {
     "duration": 0.017867,
     "end_time": "2024-03-05T06:42:57.067691",
     "exception": false,
     "start_time": "2024-03-05T06:42:57.049824",
     "status": "completed"
    },
    "tags": []
   },
   "outputs": [],
   "source": [
    "# import csv\n",
    "\n",
    "# with open('submission02.csv', 'w', newline='') as csvfile:\n",
    "#     csvwriter = csv.writer(csvfile)\n",
    "#     csvwriter.writerow(submit.columns)\n",
    "#     for row in submit.values:\n",
    "#         csvwriter.writerow(row)"
   ]
  },
  {
   "cell_type": "code",
   "execution_count": null,
   "id": "1bd3550f",
   "metadata": {
    "papermill": {
     "duration": 0.012669,
     "end_time": "2024-03-05T06:42:57.092824",
     "exception": false,
     "start_time": "2024-03-05T06:42:57.080155",
     "status": "completed"
    },
    "tags": []
   },
   "outputs": [],
   "source": []
  }
 ],
 "metadata": {
  "kaggle": {
   "accelerator": "tpu1vmV38",
   "dataSources": [
    {
     "databundleVersionId": 2344227,
     "sourceId": 29296,
     "sourceType": "competition"
    },
    {
     "datasetId": 4484528,
     "isSourceIdPinned": true,
     "sourceId": 7763818,
     "sourceType": "datasetVersion"
    }
   ],
   "dockerImageVersionId": 30664,
   "isGpuEnabled": false,
   "isInternetEnabled": true,
   "language": "python",
   "sourceType": "notebook"
  },
  "kernelspec": {
   "display_name": "Python 3",
   "language": "python",
   "name": "python3"
  },
  "language_info": {
   "codemirror_mode": {
    "name": "ipython",
    "version": 3
   },
   "file_extension": ".py",
   "mimetype": "text/x-python",
   "name": "python",
   "nbconvert_exporter": "python",
   "pygments_lexer": "ipython3",
   "version": "3.10.13"
  },
  "papermill": {
   "default_parameters": {},
   "duration": 1222.207733,
   "end_time": "2024-03-05T06:43:01.534689",
   "environment_variables": {},
   "exception": null,
   "input_path": "__notebook__.ipynb",
   "output_path": "__notebook__.ipynb",
   "parameters": {},
   "start_time": "2024-03-05T06:22:39.326956",
   "version": "2.5.0"
  }
 },
 "nbformat": 4,
 "nbformat_minor": 5
}
