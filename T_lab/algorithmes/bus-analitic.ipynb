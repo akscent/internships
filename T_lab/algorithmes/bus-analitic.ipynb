{
 "cells": [
  {
   "cell_type": "code",
   "execution_count": null,
   "id": "85a6ea2a",
   "metadata": {},
   "outputs": [],
   "source": []
  },
  {
   "cell_type": "code",
   "execution_count": null,
   "id": "fa6f5d6d",
   "metadata": {},
   "outputs": [],
   "source": [
    "# В клетках квадрата\n",
    "# 3×3﻿ сидят рыцари, которые всегда говорят правду, и лжецы, которые всегда лгут (по одному человеку в каждой клетке). Каждый из них сказал: \"Среди моих соседей по стороне лжецов больше\". Сколько среди них могло быть рыцарей? Если вариантов несколько, то напишите в качестве ответа их произведение.\n",
    "# Замечание: соседями по стороне считаются люди, находящие в клетках, имеющих общую сторону."
   ]
  },
  {
   "cell_type": "code",
   "execution_count": 2,
   "id": "d1b51327",
   "metadata": {},
   "outputs": [
    {
     "name": "stdout",
     "output_type": "stream",
     "text": [
      "Knights: []\n",
      "Liars: [1, 2, 3, 4, 5, 6, 7, 8, 9]\n",
      "Product: 0\n",
      "Knights: [4, 5, 6, 7, 8, 9]\n",
      "Liars: [1, 2, 3]\n",
      "Product: 18\n",
      "Knights: [2, 3, 5, 6, 8, 9]\n",
      "Liars: [1, 4, 7]\n",
      "Product: 18\n",
      "Knights: [1, 2, 4, 5, 7, 8]\n",
      "Liars: [3, 6, 9]\n",
      "Product: 18\n",
      "Knights: [1, 2, 3, 4, 5, 6]\n",
      "Liars: [7, 8, 9]\n",
      "Product: 18\n",
      "Knights: [1, 2, 3, 4, 5, 6, 7, 8, 9]\n",
      "Liars: []\n",
      "Product: 0\n",
      "Total product: 0\n"
     ]
    }
   ],
   "source": [
    "# Define the graph as a list of neighbor lists\n",
    "graph = [\n",
    "    [2, 4],\n",
    "    [1, 3, 5],\n",
    "    [2, 6],\n",
    "    [1, 5, 7],\n",
    "    [2, 4, 6, 8],\n",
    "    [3, 5, 9],\n",
    "    [4, 8],\n",
    "    [5, 7, 9],\n",
    "    [6, 8]\n",
    "]\n",
    "\n",
    "# Define a function to check if a given arrangement is consistent\n",
    "def is_consistent(arrangement):\n",
    "    for vertex in range(9):\n",
    "        neighbors = graph[vertex]\n",
    "        liars_count = sum([not arrangement[n-1] for n in neighbors])\n",
    "        knights_count = len(neighbors) - liars_count\n",
    "        if (arrangement[vertex] and liars_count >= knights_count) or \\\n",
    "           (not arrangement[vertex] and liars_count < knights_count):\n",
    "            return False\n",
    "    return True\n",
    "\n",
    "# Try all possible arrangements of knights and liars\n",
    "product = 1\n",
    "for i in range(2**9):\n",
    "    arrangement = [bool(int(c)) for c in format(i, '09b')]\n",
    "    if is_consistent(arrangement):\n",
    "        num_knights = sum(arrangement)\n",
    "        num_liars = 9 - num_knights\n",
    "        print(\"Knights:\", [i+1 for i in range(9) if arrangement[i]])\n",
    "        print(\"Liars:\", [i+1 for i in range(9) if not arrangement[i]])\n",
    "        print(\"Product:\", num_knights * num_liars)\n",
    "        product *= num_knights * num_liars\n",
    "\n",
    "print(\"Total product:\", product)\n"
   ]
  },
  {
   "cell_type": "code",
   "execution_count": null,
   "id": "eb4d157c",
   "metadata": {},
   "outputs": [],
   "source": [
    "# Аня решает задачи по математике и дает правильный ответ на задачу с вероятностью 0,8﻿. У Ани есть только одна попытка чтобы дать ответ на задачу. Маша дала Ане ﻿15﻿ задач и за каждый неправильный ответ дает ей ещё ﻿2﻿ задачи. Аня решает задачи, пока они не кончатся. Найдите математическое ожидание количества задач, которые Маша суммарно даст Ане. "
   ]
  },
  {
   "cell_type": "code",
   "execution_count": 5,
   "id": "7b6d9ef9",
   "metadata": {},
   "outputs": [
    {
     "name": "stdout",
     "output_type": "stream",
     "text": [
      "Expected value of total number of problems: 17.5\n"
     ]
    }
   ],
   "source": [
    "# Probability of getting a problem right\n",
    "p = 0.8\n",
    "\n",
    "# Number of initial problems\n",
    "n = 15\n",
    "\n",
    "# Expected value of number of problems before first failure\n",
    "q = 1.0 - p\n",
    "k = 1.0 / q\n",
    "\n",
    "# Expected value of number of additional problems per failure\n",
    "m = 2.0\n",
    "\n",
    "# Expected value of number of failures\n",
    "f = k * (q / p)\n",
    "\n",
    "# Expected value of total number of problems\n",
    "x = n + (f * m)\n",
    "\n",
    "print(\"Expected value of total number of problems:\", x)\n"
   ]
  },
  {
   "cell_type": "code",
   "execution_count": null,
   "id": "2c4e5702",
   "metadata": {},
   "outputs": [],
   "source": []
  },
  {
   "cell_type": "code",
   "execution_count": null,
   "id": "4ad16c09",
   "metadata": {},
   "outputs": [],
   "source": [
    "s = int(input(\"Enter the number of trainees on the 26th floor: \"))\n",
    "\n",
    "for k in range(1, 11):\n",
    "    # simulate the first two days of hiring\n",
    "    total_trainees = 7 + k + s\n",
    "    remaining_trainees = 28 - total_trainees\n",
    "    anya_trainees = remaining_trainees // 2\n",
    "    masha_trainees = remaining_trainees - anya_trainees\n",
    "    total_trainees += anya_trainees\n",
    "    \n",
    "    # simulate the third day of hiring by Masha\n",
    "    total_trainees += k + 1\n",
    "    \n",
    "    if total_trainees >= 28:\n",
    "        print(f\"Masha can win with k = {k}\")\n",
    "        break\n",
    "\n",
    "else:\n",
    "    print(\"Masha cannot win\")\n"
   ]
  },
  {
   "cell_type": "code",
   "execution_count": null,
   "id": "edf6680d",
   "metadata": {},
   "outputs": [],
   "source": [
    "# Шейх пришел в ювелирный магазин, чтобы купить что-нибудь для своих трех жен. Его первая жена очень капризна, поэтому если у нее есть какие-то украшения, то у других жен таких быть не должно. Вторая жена ревнует к третьей, поэтому все, что шейх дает третьей жене, он должен дать и второй. Сколько способов есть у шейха, чтобы купить подарки своим женам, если в магазине есть 8 видов украшений, и каждого достаточно? Шейх может вообще не покупать никаких украшений, если они ему не нравятся, а также может оставить жен без подарков."
   ]
  },
  {
   "cell_type": "code",
   "execution_count": null,
   "id": "88c1a685",
   "metadata": {},
   "outputs": [],
   "source": [
    "from itertools import combinations\n",
    "\n",
    "# define the number of wives\n",
    "NUM_WIVES = 3\n",
    "\n",
    "# define the jewelry options\n",
    "JEWELRY_OPTIONS = list(range(1, 9))\n",
    "\n",
    "# generate all possible combinations of jewelry\n",
    "all_combinations = []\n",
    "for i in range(NUM_WIVES):\n",
    "    all_combinations.append(list(combinations(JEWELRY_OPTIONS, i+1)))\n",
    "\n",
    "# create a set of all valid combinations\n",
    "valid_combinations = set()\n",
    "for i in range(len(all_combinations[0])):\n",
    "    for j in range(len(all_combinations[1])):\n",
    "        for k in range(len(all_combinations[2])):\n",
    "            first_wife_jewelry = set(all_combinations[0][i])\n",
    "            second_wife_jewelry = set(all_combinations[1][j])\n",
    "            third_wife_jewelry = set(all_combinations[2][k])\n",
    "            \n",
    "            # check the capricious first wife's condition\n",
    "            if not first_wife_jewelry.isdisjoint(second_wife_jewelry) or not first_wife_jewelry.isdisjoint(third_wife_jewelry):\n",
    "                continue\n",
    "                \n",
    "            # check the jealous second wife's condition\n",
    "            if not third_wife_jewelry.issubset(second_wife_jewelry):\n",
    "                continue\n",
    "                \n",
    "            # if the combination satisfies all conditions, add it to the set of valid combinations\n",
    "            valid_combinations.add((tuple(sorted(first_wife_jewelry)), tuple(sorted(second_wife_jewelry)), tuple(sorted(third_wife_jewelry))))\n",
    "            \n",
    "# print the number of valid combinations\n",
    "print(len(valid_combinations))\n"
   ]
  }
 ],
 "metadata": {
  "kernelspec": {
   "display_name": "Python 3 (ipykernel)",
   "language": "python",
   "name": "python3"
  },
  "language_info": {
   "codemirror_mode": {
    "name": "ipython",
    "version": 3
   },
   "file_extension": ".py",
   "mimetype": "text/x-python",
   "name": "python",
   "nbconvert_exporter": "python",
   "pygments_lexer": "ipython3",
   "version": "3.9.13"
  }
 },
 "nbformat": 4,
 "nbformat_minor": 5
}
