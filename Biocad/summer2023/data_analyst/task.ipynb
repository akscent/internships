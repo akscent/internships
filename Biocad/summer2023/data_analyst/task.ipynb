{
 "cells": [
  {
   "cell_type": "markdown",
   "metadata": {},
   "source": [
    "<center style=\"font-size: 26px\"> <b>Проверка уровня знаний Python</b></center>"
   ]
  },
  {
   "cell_type": "code",
   "execution_count": 7,
   "metadata": {},
   "outputs": [],
   "source": [
    "# обеспечиваем совместимость с Python 2 и 3\n",
    "from __future__ import (absolute_import, division, print_function, unicode_literals)\n",
    "\n",
    "# отключаем предупреждения дистрибутива Anaconda\n",
    "import warnings\n",
    "warnings.simplefilter('ignore')"
   ]
  },
  {
   "cell_type": "markdown",
   "metadata": {},
   "source": [
    "**Описание датасета:**   \n",
    "[Датасет вакансий с платформы HH.ru на Kaggle.com](https://www.kaggle.com/datasets/pavfedotov/heaadhunter-vacancies?resource=download&select=df2021-08-03.csv) \n",
    "\n",
    "Нужный файл - df2021-08-03.csv.\n",
    "\n",
    "- *vacancy* - наименование вакансии\n",
    "- *url* - ссылка на вакансию\n",
    "- *created* - дата и время создания\n",
    "- *has_test* - наличие тестового задания в вакансии\n",
    "- *salary_from* - нижняя граница значения заработной платы\n",
    "- *salary_to* - верхняя граница значения заработной платы\n",
    "- *currency* - валюта заработной платы\n",
    "- *experience* - требуемый опыт\n",
    "- *schedule* - тип рабочего графика\n",
    "- *skills* - требуемые навыки\n",
    "- *employer* - наименование работодателя\n",
    "- *area* - наименование города\n",
    "- *description* - описание вакансии"
   ]
  },
  {
   "cell_type": "markdown",
   "metadata": {},
   "source": [
    "#### Загрузите датасет"
   ]
  },
  {
   "cell_type": "code",
   "execution_count": 27,
   "metadata": {},
   "outputs": [],
   "source": [
    "\n",
    "import pandas as pd\n",
    "\n",
    "df = pd.read_csv('df2021-08-03.csv')"
   ]
  },
  {
   "cell_type": "code",
   "execution_count": 28,
   "metadata": {},
   "outputs": [],
   "source": [
    "df['created'] = pd.to_datetime(df['created'], format='%Y-%m-%dT%H:%M:%S%z')\n",
    "df['created'] = df['created'].dt.strftime('%Y-%m-%d %H:%M:%S')"
   ]
  },
  {
   "cell_type": "code",
   "execution_count": 10,
   "metadata": {},
   "outputs": [
    {
     "data": {
      "text/html": [
       "<div>\n",
       "<style scoped>\n",
       "    .dataframe tbody tr th:only-of-type {\n",
       "        vertical-align: middle;\n",
       "    }\n",
       "\n",
       "    .dataframe tbody tr th {\n",
       "        vertical-align: top;\n",
       "    }\n",
       "\n",
       "    .dataframe thead th {\n",
       "        text-align: right;\n",
       "    }\n",
       "</style>\n",
       "<table border=\"1\" class=\"dataframe\">\n",
       "  <thead>\n",
       "    <tr style=\"text-align: right;\">\n",
       "      <th></th>\n",
       "      <th>vacancy</th>\n",
       "      <th>url</th>\n",
       "      <th>created</th>\n",
       "      <th>has_test</th>\n",
       "      <th>salary_from</th>\n",
       "      <th>salary_to</th>\n",
       "      <th>currency</th>\n",
       "      <th>experience</th>\n",
       "      <th>schedule</th>\n",
       "      <th>skills</th>\n",
       "      <th>employer</th>\n",
       "      <th>area</th>\n",
       "      <th>description</th>\n",
       "    </tr>\n",
       "  </thead>\n",
       "  <tbody>\n",
       "    <tr>\n",
       "      <th>0</th>\n",
       "      <td>Backend/Full-stack developer (python)</td>\n",
       "      <td>https://hh.ru/applicant/vacancy_response?vacan...</td>\n",
       "      <td>2021-08-01 13:02:48</td>\n",
       "      <td>False</td>\n",
       "      <td>120000.0</td>\n",
       "      <td>NaN</td>\n",
       "      <td>RUR</td>\n",
       "      <td>От 1 года до 3 лет</td>\n",
       "      <td>Гибкий график</td>\n",
       "      <td>Python;PostgreSQL;Linux;Flask;</td>\n",
       "      <td>ATI.SU</td>\n",
       "      <td>Санкт-Петербург</td>\n",
       "      <td>Привет! Мы ATI.SU ― крупнейшая в России компан...</td>\n",
       "    </tr>\n",
       "    <tr>\n",
       "      <th>1</th>\n",
       "      <td>Бэкенд-разработчик (Python) / Middle Python / ...</td>\n",
       "      <td>https://hh.ru/applicant/vacancy_response?vacan...</td>\n",
       "      <td>2021-07-09 08:13:01</td>\n",
       "      <td>False</td>\n",
       "      <td>150000.0</td>\n",
       "      <td>220000.0</td>\n",
       "      <td>RUR</td>\n",
       "      <td>От 3 до 6 лет</td>\n",
       "      <td>Удаленная работа</td>\n",
       "      <td>Python;Git;MongoDB;Redis;Design Patterns;Flask;</td>\n",
       "      <td>ЮТэйр, Авиакомпания</td>\n",
       "      <td>Киров (Кировская область)</td>\n",
       "      <td>Utair - российская авиакомпания. Мы летаем по ...</td>\n",
       "    </tr>\n",
       "  </tbody>\n",
       "</table>\n",
       "</div>"
      ],
      "text/plain": [
       "                                             vacancy  \\\n",
       "0              Backend/Full-stack developer (python)   \n",
       "1  Бэкенд-разработчик (Python) / Middle Python / ...   \n",
       "\n",
       "                                                 url              created  \\\n",
       "0  https://hh.ru/applicant/vacancy_response?vacan...  2021-08-01 13:02:48   \n",
       "1  https://hh.ru/applicant/vacancy_response?vacan...  2021-07-09 08:13:01   \n",
       "\n",
       "   has_test  salary_from  salary_to currency          experience  \\\n",
       "0     False     120000.0        NaN      RUR  От 1 года до 3 лет   \n",
       "1     False     150000.0   220000.0      RUR       От 3 до 6 лет   \n",
       "\n",
       "           schedule                                           skills  \\\n",
       "0     Гибкий график                   Python;PostgreSQL;Linux;Flask;   \n",
       "1  Удаленная работа  Python;Git;MongoDB;Redis;Design Patterns;Flask;   \n",
       "\n",
       "              employer                       area  \\\n",
       "0               ATI.SU            Санкт-Петербург   \n",
       "1  ЮТэйр, Авиакомпания  Киров (Кировская область)   \n",
       "\n",
       "                                         description  \n",
       "0  Привет! Мы ATI.SU ― крупнейшая в России компан...  \n",
       "1  Utair - российская авиакомпания. Мы летаем по ...  "
      ]
     },
     "execution_count": 10,
     "metadata": {},
     "output_type": "execute_result"
    }
   ],
   "source": [
    "df[:2]"
   ]
  },
  {
   "cell_type": "code",
   "execution_count": 11,
   "metadata": {},
   "outputs": [
    {
     "data": {
      "text/plain": [
       "array(['RUR', nan, 'EUR', 'USD'], dtype=object)"
      ]
     },
     "execution_count": 11,
     "metadata": {},
     "output_type": "execute_result"
    }
   ],
   "source": [
    "df['currency'].unique()"
   ]
  },
  {
   "cell_type": "markdown",
   "metadata": {},
   "source": [
    "### Практические задания:"
   ]
  },
  {
   "cell_type": "markdown",
   "metadata": {},
   "source": [
    "#### 1. Изучите методы для сбора данных курсов валют в [API Центрального банка Российской Федерации](https://www.cbr.ru/development/SXML/) . Используя запросы к API, приведите значения заработной платы к рублям одним из вариантов: 1) простой вариант - на текущую дату  2) вариант посложнее - на дату создания (created)."
   ]
  },
  {
   "cell_type": "code",
   "execution_count": 29,
   "metadata": {
    "scrolled": true
   },
   "outputs": [],
   "source": [
    "\n",
    "import requests\n",
    "import numpy as np\n",
    "from datetime import datetime\n",
    "\n",
    "# Функция для получения курса валют на дату\n",
    "def get_currency_rate(date):\n",
    "    url = f'http://www.cbr.ru/scripts/XML_daily.asp?date_req={date}'\n",
    "    response = requests.get(url)\n",
    "    response.encoding = 'utf-8'\n",
    "    content = response.text\n",
    "    rate = content.split('<Valute ID=\"R01235\">')[1].split('<Value>')[1].split('</Value>')[0]\n",
    "    return float(rate.replace(',', '.'))\n",
    "\n",
    "# Функция для преобразования зарплаты в рубли на основе курса валют\n",
    "def convert_salary_to_rubles(salary_from, salary_to, currency, created):\n",
    "    if currency == 'RUR':\n",
    "        return np.nanmean([salary_from, salary_to])\n",
    "    elif pd.isna(currency):\n",
    "        return None\n",
    "    else:\n",
    "        try:\n",
    "            rate_date = datetime.strptime(created, '%Y-%m-%d %H:%M:%S').strftime('%d/%m/%Y')\n",
    "            rate = get_currency_rate(rate_date)\n",
    "        except:\n",
    "            return None\n",
    "        if currency == 'USD':\n",
    "            return round(np.nanmean([salary_from, salary_to]) * rate, 2)\n",
    "        elif currency == 'EUR':\n",
    "            return round(np.nanmean([salary_from, salary_to]) * rate, 2)    \n",
    "        else:\n",
    "            return None\n",
    "\n",
    "# Создание нового столбца с зарплатой в рублях\n",
    "df['mean_salary_rub'] = df.apply(lambda x: convert_salary_to_rubles(x['salary_from'], x['salary_to'], x['currency'], x['created']), axis=1)\n"
   ]
  },
  {
   "cell_type": "code",
   "execution_count": 13,
   "metadata": {},
   "outputs": [
    {
     "data": {
      "text/html": [
       "<div>\n",
       "<style scoped>\n",
       "    .dataframe tbody tr th:only-of-type {\n",
       "        vertical-align: middle;\n",
       "    }\n",
       "\n",
       "    .dataframe tbody tr th {\n",
       "        vertical-align: top;\n",
       "    }\n",
       "\n",
       "    .dataframe thead th {\n",
       "        text-align: right;\n",
       "    }\n",
       "</style>\n",
       "<table border=\"1\" class=\"dataframe\">\n",
       "  <thead>\n",
       "    <tr style=\"text-align: right;\">\n",
       "      <th></th>\n",
       "      <th>vacancy</th>\n",
       "      <th>url</th>\n",
       "      <th>created</th>\n",
       "      <th>has_test</th>\n",
       "      <th>salary_from</th>\n",
       "      <th>salary_to</th>\n",
       "      <th>currency</th>\n",
       "      <th>experience</th>\n",
       "      <th>schedule</th>\n",
       "      <th>skills</th>\n",
       "      <th>employer</th>\n",
       "      <th>area</th>\n",
       "      <th>description</th>\n",
       "      <th>mean_salary_rub</th>\n",
       "    </tr>\n",
       "  </thead>\n",
       "  <tbody>\n",
       "    <tr>\n",
       "      <th>142</th>\n",
       "      <td>Python Developer (Люксембург, удаленно)</td>\n",
       "      <td>https://hh.ru/applicant/vacancy_response?vacan...</td>\n",
       "      <td>2021-07-30 13:09:00</td>\n",
       "      <td>False</td>\n",
       "      <td>NaN</td>\n",
       "      <td>3500.0</td>\n",
       "      <td>USD</td>\n",
       "      <td>От 3 до 6 лет</td>\n",
       "      <td>Удаленная работа</td>\n",
       "      <td>Python;</td>\n",
       "      <td>Кадровое агентство Алексея Сухорукова</td>\n",
       "      <td>Новосибирск</td>\n",
       "      <td>IT-компания, которая предоставляет своим клиен...</td>\n",
       "      <td>256166.4</td>\n",
       "    </tr>\n",
       "  </tbody>\n",
       "</table>\n",
       "</div>"
      ],
      "text/plain": [
       "                                     vacancy  \\\n",
       "142  Python Developer (Люксембург, удаленно)   \n",
       "\n",
       "                                                   url              created  \\\n",
       "142  https://hh.ru/applicant/vacancy_response?vacan...  2021-07-30 13:09:00   \n",
       "\n",
       "     has_test  salary_from  salary_to currency     experience  \\\n",
       "142     False          NaN     3500.0      USD  От 3 до 6 лет   \n",
       "\n",
       "             schedule   skills                               employer  \\\n",
       "142  Удаленная работа  Python;  Кадровое агентство Алексея Сухорукова   \n",
       "\n",
       "            area                                        description  \\\n",
       "142  Новосибирск  IT-компания, которая предоставляет своим клиен...   \n",
       "\n",
       "     mean_salary_rub  \n",
       "142         256166.4  "
      ]
     },
     "execution_count": 13,
     "metadata": {},
     "output_type": "execute_result"
    }
   ],
   "source": [
    "df[df['currency'] == 'USD'][:1]"
   ]
  },
  {
   "cell_type": "markdown",
   "metadata": {},
   "source": [
    "#### 2. Найдите вакансию с самой высокой заработной платой, где подойдет 4 года опыта работы и не нужно проходить тестовое задание."
   ]
  },
  {
   "cell_type": "code",
   "execution_count": 30,
   "metadata": {},
   "outputs": [
    {
     "name": "stdout",
     "output_type": "stream",
     "text": [
      "Вакансия с наибольшей средней зарплатой:\n",
      "Python разработчик (middle) (backend)\n",
      "https://hh.ru/applicant/vacancy_response?vacancyId=43941903\n",
      "500000.0 руб.\n"
     ]
    }
   ],
   "source": [
    "import re\n",
    "\n",
    "# Приведение значений столбца experience к строковому типу\n",
    "df['experience'] = df['experience'].astype(str)\n",
    "\n",
    "# Создание столбца experience_min\n",
    "df['experience_min'] = df['experience'].apply(lambda x: re.findall('\\d+', x)[0] if re.findall('\\d+', x) else None)\n",
    "\n",
    "# Приведение значений столбца experience_min к числовому типу\n",
    "df['experience_min'] = pd.to_numeric(df['experience_min'], errors='coerce')\n",
    "\n",
    "# Выборка вакансий с опытом работы не более 4 лет\n",
    "df_filtered = df[(df['experience_min'] <= 4) & (df['has_test'] == False)]\n",
    "\n",
    "# Удаление строк с пропущенными значениями зарплаты\n",
    "df_filtered.dropna(subset=['experience_min'], inplace=True)\n",
    "\n",
    "# найти вакансию с самой высокой зарплатой\n",
    "highest_salary = df_filtered.loc[df_filtered['mean_salary_rub'].idxmax()]\n",
    "\n",
    "# вывести информацию о вакансии с самой высокой зарплатой\n",
    "print(\"Вакансия с наибольшей средней зарплатой:\")\n",
    "print(highest_salary['vacancy'])\n",
    "print(highest_salary['url'])\n",
    "print(highest_salary['mean_salary_rub'], \"руб.\")\n"
   ]
  },
  {
   "cell_type": "markdown",
   "metadata": {},
   "source": [
    "#### 3. Сделайте рейтинг (топ-30) навыков по всем вакансиям."
   ]
  },
  {
   "cell_type": "code",
   "execution_count": 31,
   "metadata": {},
   "outputs": [],
   "source": [
    "befor_len = len(df.columns)\n",
    "\n",
    "skills_set = set()\n",
    "for skills in df['skills']:\n",
    "    if isinstance(skills, str):\n",
    "        skills_list = skills.split(';')\n",
    "        skills_set.update(skills_list)\n",
    "\n",
    "skills_set.discard('')\n",
    "len_skills = len(skills_set)\n",
    "for skill in skills_set:\n",
    "    df[skill] = df['skills'].apply(lambda x: int(skill in x.split(';')) if isinstance(x, str) else 0)\n",
    "for skill in skills_set:\n",
    "    df[skill + '_freq'] = df.apply(lambda row: row[skill] / sum(x for x in row[skills_set] if x) if row[skill] != 0 else 0, axis=1)\n",
    "for skill in skills_set:\n",
    "    df[skill + '_a_salary'] = df[skill] * df['mean_salary_rub']\n",
    "for skill in skills_set:\n",
    "    df[skill + '_f_salary'] = df[skill + '_freq'] * df['mean_salary_rub']\n",
    "\n",
    "skills_count_top = df.iloc[:, befor_len:(len_skills+befor_len)].sum().sort_values(ascending=False).reset_index().rename(columns={0: 'Количество'})\n",
    "skills_freq_top = df.filter(regex='_freq$').mean().sort_values(ascending=False).reset_index().rename(columns={0: 'Частота'})\n",
    "skills_a_salary_top = df.filter(regex='_a_salary$').mean().sort_values(ascending=False).reset_index().rename(columns={0: 'Абсолютная стоимость'})\n",
    "skills_f_salary_top = df.filter(regex='_f_salary$').mean().sort_values(ascending=False).reset_index().rename(columns={0: 'Относительная стоимость'})\n",
    "skills_freq_top['index'] = skills_freq_top['index'].str.replace('_freq', '')\n",
    "skills_a_salary_top['index'] = skills_a_salary_top['index'].str.replace('_a_salary', '')\n",
    "skills_f_salary_top['index'] = skills_f_salary_top['index'].str.replace('_f_salary', '')\n",
    "skills_count_top['rank'] = list(reversed(range(1, (len_skills+1))))\n",
    "skills_freq_top['rank'] = list(reversed(range(1, (len_skills+1))))\n",
    "skills_a_salary_top['rank'] = list(reversed(range(1, (len_skills+1))))\n",
    "skills_f_salary_top['rank'] = list(reversed(range(1, (len_skills+1))))\n",
    "skills_count_top = skills_count_top.set_index('index')\n",
    "skills_freq_top = skills_freq_top.set_index('index')\n",
    "skills_a_salary_top = skills_a_salary_top.set_index('index')\n",
    "skills_f_salary_top = skills_f_salary_top.set_index('index')\n",
    "top_skills = pd.concat([skills_count_top, skills_freq_top, skills_a_salary_top, skills_f_salary_top], axis=1, join='outer')\n",
    "top_skills['total_score'] = top_skills['rank'].sum(axis=1)"
   ]
  },
  {
   "cell_type": "code",
   "execution_count": 43,
   "metadata": {},
   "outputs": [
    {
     "data": {
      "image/png": "[encoded data removed]",
      "text/plain": [
       "<Figure size 640x480 with 1 Axes>"
      ]
     },
     "metadata": {},
     "output_type": "display_data"
    }
   ],
   "source": [
    "import matplotlib.pyplot as plt\n",
    "import numpy as np\n",
    "import pandas as pd\n",
    "from IPython.display import display, HTML\n",
    "\n",
    "top_30_skills = top_skills.sort_values('total_score', ascending=False)\n",
    "a = (top_30_skills['total_score'].max()/100)\n",
    "\n",
    "# Строим график\n",
    "fig, ax = plt.subplots()\n",
    "ax.bar(top_30_skills.index, top_30_skills['total_score'])\n",
    "\n",
    "# Добавляем подписи к осям и заголовок\n",
    "ax.set_xlabel('Навык')\n",
    "ax.set_ylabel('Количество упоминаний')\n",
    "ax.set_title('Топ-30 наиболее востребованных навыков')\n",
    "\n",
    "plt.show()\n"
   ]
  },
  {
   "cell_type": "code",
   "execution_count": 15,
   "metadata": {
    "scrolled": true
   },
   "outputs": [],
   "source": [
    "\n",
    "# создание списка уникальных навыков\n",
    "skills_set = set()\n",
    "for skills in df['skills']:\n",
    "    if isinstance(skills, str):\n",
    "        skills_list = skills.split(';')\n",
    "        skills_set.update(skills_list)\n",
    "\n",
    "skills_set.discard('')\n",
    "len_skills = len(skills_set)\n",
    "\n",
    "# создание новых столбцов для каждого навыка\n",
    "for skill in skills_set:\n",
    "    df[skill] = df['skills'].apply(lambda x: int(skill in x.split(';')) if isinstance(x, str) else 0)\n",
    "\n",
    "# Считаем относительную частоту навыков\n",
    "for skill in skills_set:\n",
    "    df[skill + '_freq'] = df.apply(lambda row: row[skill] / sum(x for x in row[skills_set] if x) if row[skill] != 0 else 0, axis=1)\n",
    "\n",
    "# Считаем произведение относительной частоты на среднюю зарплату\n",
    "for skill in skills_set:\n",
    "    df[skill + '_a_salary'] = df[skill] * df['mean_salary_rub']\n",
    "\n",
    "# Считаем произведение относительной частоты на среднюю зарплату\n",
    "for skill in skills_set:\n",
    "    df[skill + '_f_salary'] = df[skill + '_freq'] * df['mean_salary_rub']\n",
    "\n",
    "# выбираем топ-30 наиболее употребляемых навыков\n",
    "skills_count_top30 = df.iloc[:, 16:(834+16)].sum().sort_values(ascending=False)[:30].reset_index().rename(columns={0: 'count'})\n",
    "# выбираем топ-30 наиболее значимых в вакансии навыков\n",
    "skills_freq_top30 = df.filter(regex='_freq$').mean().sort_values(ascending=False)[:30].reset_index().rename(columns={0: 'freq'})\n",
    "# выбираем топ-30 высокооплачиваемых навыков\n",
    "skills_a_salary_top30 = df.filter(regex='_a_salary$').mean().sort_values(ascending=False)[:30].reset_index().rename(columns={0: 'a_salary'})\n",
    "# выбираем топ 30 высокооплачиваемых навыков на вакансию\n",
    "skills_f_salary_top30 = df.filter(regex='_f_salary$').mean().sort_values(ascending=False)[:30].reset_index().rename(columns={0: 'f_salary'})\n",
    "\n",
    "# индексаия для merge 4 разных рейтингов\n",
    "skills_freq_top30['index'] = skills_freq_top30['index'].str.replace('_freq', '')\n",
    "skills_a_salary_top30['index'] = skills_a_salary_top30['index'].str.replace('_a_salary', '')\n",
    "skills_f_salary_top30['index'] = skills_f_salary_top30['index'].str.replace('_f_salary', '')\n",
    "\n",
    "# Создаем новый столбец rank\n",
    "skills_count_top30['rank'] = list(reversed(range(1, 31)))\n",
    "skills_freq_top30['rank'] = list(reversed(range(1, 31)))\n",
    "skills_a_salary_top30['rank'] = list(reversed(range(1, 31)))\n",
    "skills_f_salary_top30['rank'] = list(reversed(range(1, 31)))\n",
    "\n",
    "skills_count_top30 = skills_count_top30.set_index('index')\n",
    "skills_freq_top30 = skills_freq_top30.set_index('index')\n",
    "skills_a_salary_top30 = skills_a_salary_top30.set_index('index')\n",
    "skills_f_salary_top30 = skills_f_salary_top30.set_index('index')\n",
    "\n",
    "# Объединяем все наборы данных в один\n",
    "top_skills = pd.concat([skills_count_top30, skills_freq_top30, skills_a_salary_top30, skills_f_salary_top30], axis=1, join='outer')\n",
    "\n",
    "# Суммируем баллы по всем 4 рейтингам\n",
    "top_skills['total_score'] = top_skills['rank'].sum(axis=1)\n"
   ]
  },
  {
   "cell_type": "code",
   "execution_count": 16,
   "metadata": {},
   "outputs": [
    {
     "data": {
      "text/html": [
       "<div>\n",
       "<style scoped>\n",
       "    .dataframe tbody tr th:only-of-type {\n",
       "        vertical-align: middle;\n",
       "    }\n",
       "\n",
       "    .dataframe tbody tr th {\n",
       "        vertical-align: top;\n",
       "    }\n",
       "\n",
       "    .dataframe thead th {\n",
       "        text-align: right;\n",
       "    }\n",
       "</style>\n",
       "<table border=\"1\" class=\"dataframe\">\n",
       "  <thead>\n",
       "    <tr style=\"text-align: right;\">\n",
       "      <th></th>\n",
       "      <th>count</th>\n",
       "      <th>rank</th>\n",
       "      <th>freq</th>\n",
       "      <th>rank</th>\n",
       "      <th>a_salary</th>\n",
       "      <th>rank</th>\n",
       "      <th>f_salary</th>\n",
       "      <th>rank</th>\n",
       "      <th>total_score</th>\n",
       "    </tr>\n",
       "    <tr>\n",
       "      <th>index</th>\n",
       "      <th></th>\n",
       "      <th></th>\n",
       "      <th></th>\n",
       "      <th></th>\n",
       "      <th></th>\n",
       "      <th></th>\n",
       "      <th></th>\n",
       "      <th></th>\n",
       "      <th></th>\n",
       "    </tr>\n",
       "  </thead>\n",
       "  <tbody>\n",
       "    <tr>\n",
       "      <th>Python</th>\n",
       "      <td>1442.0</td>\n",
       "      <td>30.0</td>\n",
       "      <td>0.197514</td>\n",
       "      <td>30.0</td>\n",
       "      <td>134830.227651</td>\n",
       "      <td>30.0</td>\n",
       "      <td>29964.395034</td>\n",
       "      <td>30.0</td>\n",
       "      <td>120.0</td>\n",
       "    </tr>\n",
       "    <tr>\n",
       "      <th>Git</th>\n",
       "      <td>586.0</td>\n",
       "      <td>29.0</td>\n",
       "      <td>0.060135</td>\n",
       "      <td>29.0</td>\n",
       "      <td>63351.774796</td>\n",
       "      <td>29.0</td>\n",
       "      <td>10426.026026</td>\n",
       "      <td>29.0</td>\n",
       "      <td>116.0</td>\n",
       "    </tr>\n",
       "    <tr>\n",
       "      <th>PostgreSQL</th>\n",
       "      <td>499.0</td>\n",
       "      <td>27.0</td>\n",
       "      <td>0.053817</td>\n",
       "      <td>27.0</td>\n",
       "      <td>57062.739347</td>\n",
       "      <td>28.0</td>\n",
       "      <td>10087.358591</td>\n",
       "      <td>28.0</td>\n",
       "      <td>110.0</td>\n",
       "    </tr>\n",
       "    <tr>\n",
       "      <th>SQL</th>\n",
       "      <td>501.0</td>\n",
       "      <td>28.0</td>\n",
       "      <td>0.054868</td>\n",
       "      <td>28.0</td>\n",
       "      <td>41507.884910</td>\n",
       "      <td>25.0</td>\n",
       "      <td>6715.576403</td>\n",
       "      <td>26.0</td>\n",
       "      <td>107.0</td>\n",
       "    </tr>\n",
       "    <tr>\n",
       "      <th>Django Framework</th>\n",
       "      <td>467.0</td>\n",
       "      <td>26.0</td>\n",
       "      <td>0.053730</td>\n",
       "      <td>26.0</td>\n",
       "      <td>53509.486166</td>\n",
       "      <td>27.0</td>\n",
       "      <td>10040.790469</td>\n",
       "      <td>27.0</td>\n",
       "      <td>106.0</td>\n",
       "    </tr>\n",
       "    <tr>\n",
       "      <th>Linux</th>\n",
       "      <td>463.0</td>\n",
       "      <td>25.0</td>\n",
       "      <td>0.050509</td>\n",
       "      <td>25.0</td>\n",
       "      <td>42719.457423</td>\n",
       "      <td>26.0</td>\n",
       "      <td>6515.066047</td>\n",
       "      <td>25.0</td>\n",
       "      <td>101.0</td>\n",
       "    </tr>\n",
       "    <tr>\n",
       "      <th>Docker</th>\n",
       "      <td>172.0</td>\n",
       "      <td>23.0</td>\n",
       "      <td>0.015671</td>\n",
       "      <td>23.0</td>\n",
       "      <td>18824.830343</td>\n",
       "      <td>22.0</td>\n",
       "      <td>2377.873176</td>\n",
       "      <td>20.0</td>\n",
       "      <td>88.0</td>\n",
       "    </tr>\n",
       "    <tr>\n",
       "      <th>Flask</th>\n",
       "      <td>177.0</td>\n",
       "      <td>24.0</td>\n",
       "      <td>0.017194</td>\n",
       "      <td>24.0</td>\n",
       "      <td>15326.264274</td>\n",
       "      <td>20.0</td>\n",
       "      <td>2346.021770</td>\n",
       "      <td>19.0</td>\n",
       "      <td>87.0</td>\n",
       "    </tr>\n",
       "    <tr>\n",
       "      <th>MySQL</th>\n",
       "      <td>128.0</td>\n",
       "      <td>20.0</td>\n",
       "      <td>0.012299</td>\n",
       "      <td>20.0</td>\n",
       "      <td>19395.000196</td>\n",
       "      <td>23.0</td>\n",
       "      <td>2927.833854</td>\n",
       "      <td>23.0</td>\n",
       "      <td>86.0</td>\n",
       "    </tr>\n",
       "    <tr>\n",
       "      <th>JavaScript</th>\n",
       "      <td>149.0</td>\n",
       "      <td>22.0</td>\n",
       "      <td>0.015382</td>\n",
       "      <td>22.0</td>\n",
       "      <td>13920.826003</td>\n",
       "      <td>19.0</td>\n",
       "      <td>2383.364868</td>\n",
       "      <td>21.0</td>\n",
       "      <td>84.0</td>\n",
       "    </tr>\n",
       "    <tr>\n",
       "      <th>Redis</th>\n",
       "      <td>107.0</td>\n",
       "      <td>17.0</td>\n",
       "      <td>0.009836</td>\n",
       "      <td>17.0</td>\n",
       "      <td>19805.839674</td>\n",
       "      <td>24.0</td>\n",
       "      <td>3077.623353</td>\n",
       "      <td>24.0</td>\n",
       "      <td>82.0</td>\n",
       "    </tr>\n",
       "    <tr>\n",
       "      <th>MongoDB</th>\n",
       "      <td>113.0</td>\n",
       "      <td>18.0</td>\n",
       "      <td>0.011129</td>\n",
       "      <td>18.0</td>\n",
       "      <td>15611.027684</td>\n",
       "      <td>21.0</td>\n",
       "      <td>2397.429902</td>\n",
       "      <td>22.0</td>\n",
       "      <td>79.0</td>\n",
       "    </tr>\n",
       "    <tr>\n",
       "      <th>Английский язык</th>\n",
       "      <td>141.0</td>\n",
       "      <td>21.0</td>\n",
       "      <td>0.015220</td>\n",
       "      <td>21.0</td>\n",
       "      <td>11759.399103</td>\n",
       "      <td>16.0</td>\n",
       "      <td>1900.555485</td>\n",
       "      <td>15.0</td>\n",
       "      <td>73.0</td>\n",
       "    </tr>\n",
       "    <tr>\n",
       "      <th>ООП</th>\n",
       "      <td>120.0</td>\n",
       "      <td>19.0</td>\n",
       "      <td>0.011863</td>\n",
       "      <td>19.0</td>\n",
       "      <td>11787.356362</td>\n",
       "      <td>17.0</td>\n",
       "      <td>1948.812872</td>\n",
       "      <td>17.0</td>\n",
       "      <td>72.0</td>\n",
       "    </tr>\n",
       "    <tr>\n",
       "      <th>REST</th>\n",
       "      <td>70.0</td>\n",
       "      <td>16.0</td>\n",
       "      <td>0.006555</td>\n",
       "      <td>16.0</td>\n",
       "      <td>12082.126346</td>\n",
       "      <td>18.0</td>\n",
       "      <td>1928.749719</td>\n",
       "      <td>16.0</td>\n",
       "      <td>66.0</td>\n",
       "    </tr>\n",
       "    <tr>\n",
       "      <th>Django</th>\n",
       "      <td>62.0</td>\n",
       "      <td>14.0</td>\n",
       "      <td>0.005244</td>\n",
       "      <td>13.0</td>\n",
       "      <td>9573.019576</td>\n",
       "      <td>14.0</td>\n",
       "      <td>1283.706277</td>\n",
       "      <td>14.0</td>\n",
       "      <td>55.0</td>\n",
       "    </tr>\n",
       "    <tr>\n",
       "      <th>RabbitMQ</th>\n",
       "      <td>68.0</td>\n",
       "      <td>15.0</td>\n",
       "      <td>0.005097</td>\n",
       "      <td>11.0</td>\n",
       "      <td>10062.415987</td>\n",
       "      <td>15.0</td>\n",
       "      <td>1168.414743</td>\n",
       "      <td>13.0</td>\n",
       "      <td>54.0</td>\n",
       "    </tr>\n",
       "    <tr>\n",
       "      <th>Atlassian Jira</th>\n",
       "      <td>52.0</td>\n",
       "      <td>11.0</td>\n",
       "      <td>0.005361</td>\n",
       "      <td>14.0</td>\n",
       "      <td>4343.393148</td>\n",
       "      <td>4.0</td>\n",
       "      <td>934.439405</td>\n",
       "      <td>11.0</td>\n",
       "      <td>40.0</td>\n",
       "    </tr>\n",
       "    <tr>\n",
       "      <th>HTML</th>\n",
       "      <td>56.0</td>\n",
       "      <td>12.0</td>\n",
       "      <td>0.005079</td>\n",
       "      <td>10.0</td>\n",
       "      <td>4721.859706</td>\n",
       "      <td>8.0</td>\n",
       "      <td>709.095889</td>\n",
       "      <td>9.0</td>\n",
       "      <td>39.0</td>\n",
       "    </tr>\n",
       "    <tr>\n",
       "      <th>CSS</th>\n",
       "      <td>56.0</td>\n",
       "      <td>13.0</td>\n",
       "      <td>0.005142</td>\n",
       "      <td>12.0</td>\n",
       "      <td>4477.161501</td>\n",
       "      <td>6.0</td>\n",
       "      <td>655.102755</td>\n",
       "      <td>7.0</td>\n",
       "      <td>38.0</td>\n",
       "    </tr>\n",
       "    <tr>\n",
       "      <th>Базы данных</th>\n",
       "      <td>41.0</td>\n",
       "      <td>6.0</td>\n",
       "      <td>0.003632</td>\n",
       "      <td>4.0</td>\n",
       "      <td>6907.693964</td>\n",
       "      <td>13.0</td>\n",
       "      <td>950.543510</td>\n",
       "      <td>12.0</td>\n",
       "      <td>35.0</td>\n",
       "    </tr>\n",
       "    <tr>\n",
       "      <th>React</th>\n",
       "      <td>NaN</td>\n",
       "      <td>NaN</td>\n",
       "      <td>0.003284</td>\n",
       "      <td>2.0</td>\n",
       "      <td>6081.447700</td>\n",
       "      <td>12.0</td>\n",
       "      <td>1963.698999</td>\n",
       "      <td>18.0</td>\n",
       "      <td>32.0</td>\n",
       "    </tr>\n",
       "    <tr>\n",
       "      <th>C++</th>\n",
       "      <td>50.0</td>\n",
       "      <td>10.0</td>\n",
       "      <td>0.005935</td>\n",
       "      <td>15.0</td>\n",
       "      <td>NaN</td>\n",
       "      <td>NaN</td>\n",
       "      <td>570.373391</td>\n",
       "      <td>4.0</td>\n",
       "      <td>29.0</td>\n",
       "    </tr>\n",
       "    <tr>\n",
       "      <th>API</th>\n",
       "      <td>49.0</td>\n",
       "      <td>9.0</td>\n",
       "      <td>0.003973</td>\n",
       "      <td>6.0</td>\n",
       "      <td>4389.313948</td>\n",
       "      <td>5.0</td>\n",
       "      <td>509.865355</td>\n",
       "      <td>2.0</td>\n",
       "      <td>22.0</td>\n",
       "    </tr>\n",
       "    <tr>\n",
       "      <th>asyncio</th>\n",
       "      <td>NaN</td>\n",
       "      <td>NaN</td>\n",
       "      <td>NaN</td>\n",
       "      <td>NaN</td>\n",
       "      <td>5447.251876</td>\n",
       "      <td>10.0</td>\n",
       "      <td>785.250224</td>\n",
       "      <td>10.0</td>\n",
       "      <td>20.0</td>\n",
       "    </tr>\n",
       "    <tr>\n",
       "      <th>Celery</th>\n",
       "      <td>35.0</td>\n",
       "      <td>3.0</td>\n",
       "      <td>NaN</td>\n",
       "      <td>NaN</td>\n",
       "      <td>5497.553018</td>\n",
       "      <td>11.0</td>\n",
       "      <td>650.848381</td>\n",
       "      <td>6.0</td>\n",
       "      <td>20.0</td>\n",
       "    </tr>\n",
       "    <tr>\n",
       "      <th>aiohttp</th>\n",
       "      <td>33.0</td>\n",
       "      <td>1.0</td>\n",
       "      <td>0.003631</td>\n",
       "      <td>3.0</td>\n",
       "      <td>4714.618271</td>\n",
       "      <td>7.0</td>\n",
       "      <td>667.052262</td>\n",
       "      <td>8.0</td>\n",
       "      <td>19.0</td>\n",
       "    </tr>\n",
       "    <tr>\n",
       "      <th>Java</th>\n",
       "      <td>43.0</td>\n",
       "      <td>7.0</td>\n",
       "      <td>0.004783</td>\n",
       "      <td>9.0</td>\n",
       "      <td>NaN</td>\n",
       "      <td>NaN</td>\n",
       "      <td>NaN</td>\n",
       "      <td>NaN</td>\n",
       "      <td>16.0</td>\n",
       "    </tr>\n",
       "    <tr>\n",
       "      <th>NoSQL</th>\n",
       "      <td>NaN</td>\n",
       "      <td>NaN</td>\n",
       "      <td>NaN</td>\n",
       "      <td>NaN</td>\n",
       "      <td>4722.675367</td>\n",
       "      <td>9.0</td>\n",
       "      <td>609.404462</td>\n",
       "      <td>5.0</td>\n",
       "      <td>14.0</td>\n",
       "    </tr>\n",
       "    <tr>\n",
       "      <th>MS SQL</th>\n",
       "      <td>43.0</td>\n",
       "      <td>8.0</td>\n",
       "      <td>0.003751</td>\n",
       "      <td>5.0</td>\n",
       "      <td>NaN</td>\n",
       "      <td>NaN</td>\n",
       "      <td>NaN</td>\n",
       "      <td>NaN</td>\n",
       "      <td>13.0</td>\n",
       "    </tr>\n",
       "  </tbody>\n",
       "</table>\n",
       "</div>"
      ],
      "text/plain": [
       "                   count  rank      freq  rank       a_salary  rank  \\\n",
       "index                                                                 \n",
       "Python            1442.0  30.0  0.197514  30.0  134830.227651  30.0   \n",
       "Git                586.0  29.0  0.060135  29.0   63351.774796  29.0   \n",
       "PostgreSQL         499.0  27.0  0.053817  27.0   57062.739347  28.0   \n",
       "SQL                501.0  28.0  0.054868  28.0   41507.884910  25.0   \n",
       "Django Framework   467.0  26.0  0.053730  26.0   53509.486166  27.0   \n",
       "Linux              463.0  25.0  0.050509  25.0   42719.457423  26.0   \n",
       "Docker             172.0  23.0  0.015671  23.0   18824.830343  22.0   \n",
       "Flask              177.0  24.0  0.017194  24.0   15326.264274  20.0   \n",
       "MySQL              128.0  20.0  0.012299  20.0   19395.000196  23.0   \n",
       "JavaScript         149.0  22.0  0.015382  22.0   13920.826003  19.0   \n",
       "Redis              107.0  17.0  0.009836  17.0   19805.839674  24.0   \n",
       "MongoDB            113.0  18.0  0.011129  18.0   15611.027684  21.0   \n",
       "Английский язык    141.0  21.0  0.015220  21.0   11759.399103  16.0   \n",
       "ООП                120.0  19.0  0.011863  19.0   11787.356362  17.0   \n",
       "REST                70.0  16.0  0.006555  16.0   12082.126346  18.0   \n",
       "Django              62.0  14.0  0.005244  13.0    9573.019576  14.0   \n",
       "RabbitMQ            68.0  15.0  0.005097  11.0   10062.415987  15.0   \n",
       "Atlassian Jira      52.0  11.0  0.005361  14.0    4343.393148   4.0   \n",
       "HTML                56.0  12.0  0.005079  10.0    4721.859706   8.0   \n",
       "CSS                 56.0  13.0  0.005142  12.0    4477.161501   6.0   \n",
       "Базы данных         41.0   6.0  0.003632   4.0    6907.693964  13.0   \n",
       "React                NaN   NaN  0.003284   2.0    6081.447700  12.0   \n",
       "C++                 50.0  10.0  0.005935  15.0            NaN   NaN   \n",
       "API                 49.0   9.0  0.003973   6.0    4389.313948   5.0   \n",
       "asyncio              NaN   NaN       NaN   NaN    5447.251876  10.0   \n",
       "Celery              35.0   3.0       NaN   NaN    5497.553018  11.0   \n",
       "aiohttp             33.0   1.0  0.003631   3.0    4714.618271   7.0   \n",
       "Java                43.0   7.0  0.004783   9.0            NaN   NaN   \n",
       "NoSQL                NaN   NaN       NaN   NaN    4722.675367   9.0   \n",
       "MS SQL              43.0   8.0  0.003751   5.0            NaN   NaN   \n",
       "\n",
       "                      f_salary  rank  total_score  \n",
       "index                                              \n",
       "Python            29964.395034  30.0        120.0  \n",
       "Git               10426.026026  29.0        116.0  \n",
       "PostgreSQL        10087.358591  28.0        110.0  \n",
       "SQL                6715.576403  26.0        107.0  \n",
       "Django Framework  10040.790469  27.0        106.0  \n",
       "Linux              6515.066047  25.0        101.0  \n",
       "Docker             2377.873176  20.0         88.0  \n",
       "Flask              2346.021770  19.0         87.0  \n",
       "MySQL              2927.833854  23.0         86.0  \n",
       "JavaScript         2383.364868  21.0         84.0  \n",
       "Redis              3077.623353  24.0         82.0  \n",
       "MongoDB            2397.429902  22.0         79.0  \n",
       "Английский язык    1900.555485  15.0         73.0  \n",
       "ООП                1948.812872  17.0         72.0  \n",
       "REST               1928.749719  16.0         66.0  \n",
       "Django             1283.706277  14.0         55.0  \n",
       "RabbitMQ           1168.414743  13.0         54.0  \n",
       "Atlassian Jira      934.439405  11.0         40.0  \n",
       "HTML                709.095889   9.0         39.0  \n",
       "CSS                 655.102755   7.0         38.0  \n",
       "Базы данных         950.543510  12.0         35.0  \n",
       "React              1963.698999  18.0         32.0  \n",
       "C++                 570.373391   4.0         29.0  \n",
       "API                 509.865355   2.0         22.0  \n",
       "asyncio             785.250224  10.0         20.0  \n",
       "Celery              650.848381   6.0         20.0  \n",
       "aiohttp             667.052262   8.0         19.0  \n",
       "Java                       NaN   NaN         16.0  \n",
       "NoSQL               609.404462   5.0         14.0  \n",
       "MS SQL                     NaN   NaN         13.0  "
      ]
     },
     "execution_count": 16,
     "metadata": {},
     "output_type": "execute_result"
    }
   ],
   "source": [
    "top_30_skills = top_skills.sort_values('total_score', ascending=False)[:30]\n",
    "top_30_skills"
   ]
  },
  {
   "cell_type": "code",
   "execution_count": 17,
   "metadata": {},
   "outputs": [
    {
     "data": {
      "application/vnd.plotly.v1+json": {
       "config": {
        "plotlyServerURL": "https://plot.ly"
       },
       "data": [
        {
         "alignmentgroup": "True",
         "hovertemplate": "color=> 100<br>index=%{x}<br>total_score=%{y}<extra></extra>",
         "legendgroup": "> 100",
         "marker": {
          "color": "#636efa",
          "pattern": {
           "shape": ""
          }
         },
         "name": "> 100",
         "offsetgroup": "> 100",
         "orientation": "v",
         "showlegend": true,
         "textposition": "auto",
         "type": "bar",
         "x": [
          "Python",
          "Git",
          "PostgreSQL",
          "SQL",
          "Django Framework",
          "Linux"
         ],
         "xaxis": "x",
         "y": [
          120,
          116,
          110,
          107,
          106,
          101
         ],
         "yaxis": "y"
        },
        {
         "alignmentgroup": "True",
         "hovertemplate": "color=от 50 до 100<br>index=%{x}<br>total_score=%{y}<extra></extra>",
         "legendgroup": "от 50 до 100",
         "marker": {
          "color": "#EF553B",
          "pattern": {
           "shape": ""
          }
         },
         "name": "от 50 до 100",
         "offsetgroup": "от 50 до 100",
         "orientation": "v",
         "showlegend": true,
         "textposition": "auto",
         "type": "bar",
         "x": [
          "Docker",
          "Flask",
          "MySQL",
          "JavaScript",
          "Redis",
          "MongoDB",
          "Английский язык",
          "ООП",
          "REST",
          "Django",
          "RabbitMQ"
         ],
         "xaxis": "x",
         "y": [
          88,
          87,
          86,
          84,
          82,
          79,
          73,
          72,
          66,
          55,
          54
         ],
         "yaxis": "y"
        },
        {
         "alignmentgroup": "True",
         "hovertemplate": "color=< 50<br>index=%{x}<br>total_score=%{y}<extra></extra>",
         "legendgroup": "< 50",
         "marker": {
          "color": "#00cc96",
          "pattern": {
           "shape": ""
          }
         },
         "name": "< 50",
         "offsetgroup": "< 50",
         "orientation": "v",
         "showlegend": true,
         "textposition": "auto",
         "type": "bar",
         "x": [
          "Atlassian Jira",
          "HTML",
          "CSS",
          "Базы данных",
          "React",
          "C++",
          "API",
          "asyncio",
          "Celery",
          "aiohttp",
          "Java",
          "NoSQL",
          "MS SQL"
         ],
         "xaxis": "x",
         "y": [
          40,
          39,
          38,
          35,
          32,
          29,
          22,
          20,
          20,
          19,
          16,
          14,
          13
         ],
         "yaxis": "y"
        }
       ],
       "layout": {
        "barmode": "relative",
        "legend": {
         "title": {
          "text": "Категории"
         },
         "tracegroupgap": 0
        },
        "template": {
         "data": {
          "bar": [
           {
            "error_x": {
             "color": "#2a3f5f"
            },
            "error_y": {
             "color": "#2a3f5f"
            },
            "marker": {
             "line": {
              "color": "#E5ECF6",
              "width": 0.5
             },
             "pattern": {
              "fillmode": "overlay",
              "size": 10,
              "solidity": 0.2
             }
            },
            "type": "bar"
           }
          ],
          "barpolar": [
           {
            "marker": {
             "line": {
              "color": "#E5ECF6",
              "width": 0.5
             },
             "pattern": {
              "fillmode": "overlay",
              "size": 10,
              "solidity": 0.2
             }
            },
            "type": "barpolar"
           }
          ],
          "carpet": [
           {
            "aaxis": {
             "endlinecolor": "#2a3f5f",
             "gridcolor": "white",
             "linecolor": "white",
             "minorgridcolor": "white",
             "startlinecolor": "#2a3f5f"
            },
            "baxis": {
             "endlinecolor": "#2a3f5f",
             "gridcolor": "white",
             "linecolor": "white",
             "minorgridcolor": "white",
             "startlinecolor": "#2a3f5f"
            },
            "type": "carpet"
           }
          ],
          "choropleth": [
           {
            "colorbar": {
             "outlinewidth": 0,
             "ticks": ""
            },
            "type": "choropleth"
           }
          ],
          "contour": [
           {
            "colorbar": {
             "outlinewidth": 0,
             "ticks": ""
            },
            "colorscale": [
             [
              0,
              "#0d0887"
             ],
             [
              0.1111111111111111,
              "#46039f"
             ],
             [
              0.2222222222222222,
              "#7201a8"
             ],
             [
              0.3333333333333333,
              "#9c179e"
             ],
             [
              0.4444444444444444,
              "#bd3786"
             ],
             [
              0.5555555555555556,
              "#d8576b"
             ],
             [
              0.6666666666666666,
              "#ed7953"
             ],
             [
              0.7777777777777778,
              "#fb9f3a"
             ],
             [
              0.8888888888888888,
              "#fdca26"
             ],
             [
              1,
              "#f0f921"
             ]
            ],
            "type": "contour"
           }
          ],
          "contourcarpet": [
           {
            "colorbar": {
             "outlinewidth": 0,
             "ticks": ""
            },
            "type": "contourcarpet"
           }
          ],
          "heatmap": [
           {
            "colorbar": {
             "outlinewidth": 0,
             "ticks": ""
            },
            "colorscale": [
             [
              0,
              "#0d0887"
             ],
             [
              0.1111111111111111,
              "#46039f"
             ],
             [
              0.2222222222222222,
              "#7201a8"
             ],
             [
              0.3333333333333333,
              "#9c179e"
             ],
             [
              0.4444444444444444,
              "#bd3786"
             ],
             [
              0.5555555555555556,
              "#d8576b"
             ],
             [
              0.6666666666666666,
              "#ed7953"
             ],
             [
              0.7777777777777778,
              "#fb9f3a"
             ],
             [
              0.8888888888888888,
              "#fdca26"
             ],
             [
              1,
              "#f0f921"
             ]
            ],
            "type": "heatmap"
           }
          ],
          "heatmapgl": [
           {
            "colorbar": {
             "outlinewidth": 0,
             "ticks": ""
            },
            "colorscale": [
             [
              0,
              "#0d0887"
             ],
             [
              0.1111111111111111,
              "#46039f"
             ],
             [
              0.2222222222222222,
              "#7201a8"
             ],
             [
              0.3333333333333333,
              "#9c179e"
             ],
             [
              0.4444444444444444,
              "#bd3786"
             ],
             [
              0.5555555555555556,
              "#d8576b"
             ],
             [
              0.6666666666666666,
              "#ed7953"
             ],
             [
              0.7777777777777778,
              "#fb9f3a"
             ],
             [
              0.8888888888888888,
              "#fdca26"
             ],
             [
              1,
              "#f0f921"
             ]
            ],
            "type": "heatmapgl"
           }
          ],
          "histogram": [
           {
            "marker": {
             "pattern": {
              "fillmode": "overlay",
              "size": 10,
              "solidity": 0.2
             }
            },
            "type": "histogram"
           }
          ],
          "histogram2d": [
           {
            "colorbar": {
             "outlinewidth": 0,
             "ticks": ""
            },
            "colorscale": [
             [
              0,
              "#0d0887"
             ],
             [
              0.1111111111111111,
              "#46039f"
             ],
             [
              0.2222222222222222,
              "#7201a8"
             ],
             [
              0.3333333333333333,
              "#9c179e"
             ],
             [
              0.4444444444444444,
              "#bd3786"
             ],
             [
              0.5555555555555556,
              "#d8576b"
             ],
             [
              0.6666666666666666,
              "#ed7953"
             ],
             [
              0.7777777777777778,
              "#fb9f3a"
             ],
             [
              0.8888888888888888,
              "#fdca26"
             ],
             [
              1,
              "#f0f921"
             ]
            ],
            "type": "histogram2d"
           }
          ],
          "histogram2dcontour": [
           {
            "colorbar": {
             "outlinewidth": 0,
             "ticks": ""
            },
            "colorscale": [
             [
              0,
              "#0d0887"
             ],
             [
              0.1111111111111111,
              "#46039f"
             ],
             [
              0.2222222222222222,
              "#7201a8"
             ],
             [
              0.3333333333333333,
              "#9c179e"
             ],
             [
              0.4444444444444444,
              "#bd3786"
             ],
             [
              0.5555555555555556,
              "#d8576b"
             ],
             [
              0.6666666666666666,
              "#ed7953"
             ],
             [
              0.7777777777777778,
              "#fb9f3a"
             ],
             [
              0.8888888888888888,
              "#fdca26"
             ],
             [
              1,
              "#f0f921"
             ]
            ],
            "type": "histogram2dcontour"
           }
          ],
          "mesh3d": [
           {
            "colorbar": {
             "outlinewidth": 0,
             "ticks": ""
            },
            "type": "mesh3d"
           }
          ],
          "parcoords": [
           {
            "line": {
             "colorbar": {
              "outlinewidth": 0,
              "ticks": ""
             }
            },
            "type": "parcoords"
           }
          ],
          "pie": [
           {
            "automargin": true,
            "type": "pie"
           }
          ],
          "scatter": [
           {
            "fillpattern": {
             "fillmode": "overlay",
             "size": 10,
             "solidity": 0.2
            },
            "type": "scatter"
           }
          ],
          "scatter3d": [
           {
            "line": {
             "colorbar": {
              "outlinewidth": 0,
              "ticks": ""
             }
            },
            "marker": {
             "colorbar": {
              "outlinewidth": 0,
              "ticks": ""
             }
            },
            "type": "scatter3d"
           }
          ],
          "scattercarpet": [
           {
            "marker": {
             "colorbar": {
              "outlinewidth": 0,
              "ticks": ""
             }
            },
            "type": "scattercarpet"
           }
          ],
          "scattergeo": [
           {
            "marker": {
             "colorbar": {
              "outlinewidth": 0,
              "ticks": ""
             }
            },
            "type": "scattergeo"
           }
          ],
          "scattergl": [
           {
            "marker": {
             "colorbar": {
              "outlinewidth": 0,
              "ticks": ""
             }
            },
            "type": "scattergl"
           }
          ],
          "scattermapbox": [
           {
            "marker": {
             "colorbar": {
              "outlinewidth": 0,
              "ticks": ""
             }
            },
            "type": "scattermapbox"
           }
          ],
          "scatterpolar": [
           {
            "marker": {
             "colorbar": {
              "outlinewidth": 0,
              "ticks": ""
             }
            },
            "type": "scatterpolar"
           }
          ],
          "scatterpolargl": [
           {
            "marker": {
             "colorbar": {
              "outlinewidth": 0,
              "ticks": ""
             }
            },
            "type": "scatterpolargl"
           }
          ],
          "scatterternary": [
           {
            "marker": {
             "colorbar": {
              "outlinewidth": 0,
              "ticks": ""
             }
            },
            "type": "scatterternary"
           }
          ],
          "surface": [
           {
            "colorbar": {
             "outlinewidth": 0,
             "ticks": ""
            },
            "colorscale": [
             [
              0,
              "#0d0887"
             ],
             [
              0.1111111111111111,
              "#46039f"
             ],
             [
              0.2222222222222222,
              "#7201a8"
             ],
             [
              0.3333333333333333,
              "#9c179e"
             ],
             [
              0.4444444444444444,
              "#bd3786"
             ],
             [
              0.5555555555555556,
              "#d8576b"
             ],
             [
              0.6666666666666666,
              "#ed7953"
             ],
             [
              0.7777777777777778,
              "#fb9f3a"
             ],
             [
              0.8888888888888888,
              "#fdca26"
             ],
             [
              1,
              "#f0f921"
             ]
            ],
            "type": "surface"
           }
          ],
          "table": [
           {
            "cells": {
             "fill": {
              "color": "#EBF0F8"
             },
             "line": {
              "color": "white"
             }
            },
            "header": {
             "fill": {
              "color": "#C8D4E3"
             },
             "line": {
              "color": "white"
             }
            },
            "type": "table"
           }
          ]
         },
         "layout": {
          "annotationdefaults": {
           "arrowcolor": "#2a3f5f",
           "arrowhead": 0,
           "arrowwidth": 1
          },
          "autotypenumbers": "strict",
          "coloraxis": {
           "colorbar": {
            "outlinewidth": 0,
            "ticks": ""
           }
          },
          "colorscale": {
           "diverging": [
            [
             0,
             "#8e0152"
            ],
            [
             0.1,
             "#c51b7d"
            ],
            [
             0.2,
             "#de77ae"
            ],
            [
             0.3,
             "#f1b6da"
            ],
            [
             0.4,
             "#fde0ef"
            ],
            [
             0.5,
             "#f7f7f7"
            ],
            [
             0.6,
             "#e6f5d0"
            ],
            [
             0.7,
             "#b8e186"
            ],
            [
             0.8,
             "#7fbc41"
            ],
            [
             0.9,
             "#4d9221"
            ],
            [
             1,
             "#276419"
            ]
           ],
           "sequential": [
            [
             0,
             "#0d0887"
            ],
            [
             0.1111111111111111,
             "#46039f"
            ],
            [
             0.2222222222222222,
             "#7201a8"
            ],
            [
             0.3333333333333333,
             "#9c179e"
            ],
            [
             0.4444444444444444,
             "#bd3786"
            ],
            [
             0.5555555555555556,
             "#d8576b"
            ],
            [
             0.6666666666666666,
             "#ed7953"
            ],
            [
             0.7777777777777778,
             "#fb9f3a"
            ],
            [
             0.8888888888888888,
             "#fdca26"
            ],
            [
             1,
             "#f0f921"
            ]
           ],
           "sequentialminus": [
            [
             0,
             "#0d0887"
            ],
            [
             0.1111111111111111,
             "#46039f"
            ],
            [
             0.2222222222222222,
             "#7201a8"
            ],
            [
             0.3333333333333333,
             "#9c179e"
            ],
            [
             0.4444444444444444,
             "#bd3786"
            ],
            [
             0.5555555555555556,
             "#d8576b"
            ],
            [
             0.6666666666666666,
             "#ed7953"
            ],
            [
             0.7777777777777778,
             "#fb9f3a"
            ],
            [
             0.8888888888888888,
             "#fdca26"
            ],
            [
             1,
             "#f0f921"
            ]
           ]
          },
          "colorway": [
           "#636efa",
           "#EF553B",
           "#00cc96",
           "#ab63fa",
           "#FFA15A",
           "#19d3f3",
           "#FF6692",
           "#B6E880",
           "#FF97FF",
           "#FECB52"
          ],
          "font": {
           "color": "#2a3f5f"
          },
          "geo": {
           "bgcolor": "white",
           "lakecolor": "white",
           "landcolor": "#E5ECF6",
           "showlakes": true,
           "showland": true,
           "subunitcolor": "white"
          },
          "hoverlabel": {
           "align": "left"
          },
          "hovermode": "closest",
          "mapbox": {
           "style": "light"
          },
          "paper_bgcolor": "white",
          "plot_bgcolor": "#E5ECF6",
          "polar": {
           "angularaxis": {
            "gridcolor": "white",
            "linecolor": "white",
            "ticks": ""
           },
           "bgcolor": "#E5ECF6",
           "radialaxis": {
            "gridcolor": "white",
            "linecolor": "white",
            "ticks": ""
           }
          },
          "scene": {
           "xaxis": {
            "backgroundcolor": "#E5ECF6",
            "gridcolor": "white",
            "gridwidth": 2,
            "linecolor": "white",
            "showbackground": true,
            "ticks": "",
            "zerolinecolor": "white"
           },
           "yaxis": {
            "backgroundcolor": "#E5ECF6",
            "gridcolor": "white",
            "gridwidth": 2,
            "linecolor": "white",
            "showbackground": true,
            "ticks": "",
            "zerolinecolor": "white"
           },
           "zaxis": {
            "backgroundcolor": "#E5ECF6",
            "gridcolor": "white",
            "gridwidth": 2,
            "linecolor": "white",
            "showbackground": true,
            "ticks": "",
            "zerolinecolor": "white"
           }
          },
          "shapedefaults": {
           "line": {
            "color": "#2a3f5f"
           }
          },
          "ternary": {
           "aaxis": {
            "gridcolor": "white",
            "linecolor": "white",
            "ticks": ""
           },
           "baxis": {
            "gridcolor": "white",
            "linecolor": "white",
            "ticks": ""
           },
           "bgcolor": "#E5ECF6",
           "caxis": {
            "gridcolor": "white",
            "linecolor": "white",
            "ticks": ""
           }
          },
          "title": {
           "x": 0.05
          },
          "xaxis": {
           "automargin": true,
           "gridcolor": "white",
           "linecolor": "white",
           "ticks": "",
           "title": {
            "standoff": 15
           },
           "zerolinecolor": "white",
           "zerolinewidth": 2
          },
          "yaxis": {
           "automargin": true,
           "gridcolor": "white",
           "linecolor": "white",
           "ticks": "",
           "title": {
            "standoff": 15
           },
           "zerolinecolor": "white",
           "zerolinewidth": 2
          }
         }
        },
        "title": {
         "text": "Топ-30 наиболее восстребованных навыков"
        },
        "xaxis": {
         "anchor": "y",
         "domain": [
          0,
          1
         ],
         "title": {
          "text": "index"
         }
        },
        "yaxis": {
         "anchor": "x",
         "domain": [
          0,
          1
         ],
         "title": {
          "text": "total_score"
         }
        }
       }
      }
     },
     "metadata": {},
     "output_type": "display_data"
    }
   ],
   "source": [
    "import plotly.express as px\n",
    "\n",
    "def get_categories(data):\n",
    "    \"\"\"\n",
    "    Разбивает индекс переданного DataFrame на 3 категории и возвращает список из этих категорий\n",
    "    \"\"\"\n",
    "    categories = [\n",
    "        data.index[0:6],\n",
    "        data.index[6:17],\n",
    "        data.index[17:30]\n",
    "    ]\n",
    "    return categories\n",
    "\n",
    "def get_colors_list(data, colors):\n",
    "    \"\"\"\n",
    "    Возвращает список цветов для каждой категории индекса переданного DataFrame\n",
    "    \"\"\"\n",
    "    colors_list = np.select(\n",
    "        [data.index.isin(category) for category in get_categories(data)],\n",
    "        colors\n",
    "    )\n",
    "    return colors_list\n",
    "\n",
    "top_30_skills = top_skills.sort_values('total_score', ascending=False)[:30]\n",
    "a = (top_30_skills['total_score'].max()/100)\n",
    "\n",
    "# Список цветов для категорий\n",
    "colors = [f'> {a*85} процентиля', f'от {a*25} до {a*85} процентиля', f'< {a*25} процентиля']\n",
    "\n",
    "# Строим график\n",
    "fig = px.bar(top_30_skills, x=top_30_skills.index, y=top_30_skills['total_score'], \n",
    "             labels={'x':'Навык', 'y':'Количество упоминаний'}, \n",
    "             title='Топ-30 наиболее востребованных навыков',\n",
    "             color=get_colors_list(top_30_skills, colors))\n",
    "             \n",
    "# Изменяем название легенды\n",
    "fig.update_layout(legend_title_text='Категории')\n",
    "\n",
    "\n",
    "fig.show()"
   ]
  },
  {
   "cell_type": "markdown",
   "metadata": {},
   "source": [
    "#### 4. Cоставьте топ-10 городов с наибольшей средней заработной платой по вакансиям тестировщика (QA)."
   ]
  },
  {
   "cell_type": "code",
   "execution_count": 18,
   "metadata": {},
   "outputs": [
    {
     "data": {
      "text/plain": [
       "array(['Backend/Full-stack developer ', 'Бэкенд-разработчик ',\n",
       "       'Fullstack Middle Python ', 'Python Developer', 'QA Automation ',\n",
       "       'Data Engineer / Python Developer', 'Python developer',\n",
       "       'Ведущий Python разработчик', 'Разработчик Python',\n",
       "       'Python developer with AWS expertise', 'Middle Python developer ',\n",
       "       'Python developer / python программист ', 'Audio\\xa0Programmer ',\n",
       "       'Middle Python Developer for CloudLinux OS [Remote]',\n",
       "       'Golang/Python разработчик', 'Программист Python',\n",
       "       'Middle Backend Developer ', 'Разработчик Python ',\n",
       "       'Python Team Lead/Senior Python Developer',\n",
       "       'Python Software Engineer', 'Python Test Developer',\n",
       "       'Senior QA Automation Engineer ', 'Backend разработчик ',\n",
       "       'Middle Python разработчик', 'Middle/Senior Python developer',\n",
       "       'Middle Python Developer', 'Senior Python Developer',\n",
       "       'QA automation engineer ', 'Python backend developer',\n",
       "       'Middle Python/Django Developer/Python Developer ',\n",
       "       'Python разработчик Middle', 'Senior Python Developer - Wallet',\n",
       "       'Backend developer ', 'Python-разработчик ',\n",
       "       'Программист-разработчик Python', 'Разработчик Python\\\\Django ',\n",
       "       'Middle Python-разработчик в команду Navi', 'Разработчик python',\n",
       "       'Python разработчик', 'Senior Python developer',\n",
       "       'Разработчик в тестировании/SDET ',\n",
       "       'Инженер - программист 2 категории PYTHON ',\n",
       "       'Middle Python/Django Developer ', 'Разработчик Python/ Django',\n",
       "       'Python-разработчик во внутренний каталог сервисов',\n",
       "       'Python-разработчик систем сбора', 'QA Engineer ', 'Аналитик ',\n",
       "       'Python Team Lead', 'Middle разработчик Python / Django ',\n",
       "       'Python Developer ', 'Python разработчик ',\n",
       "       'Python-разработчик в команду AntiFraud', 'Python-разработчик',\n",
       "       'Python developer в научный отдел', 'Data Engineer ',\n",
       "       'Python программист ', 'Senior Python-разработчик',\n",
       "       'Middle/Senior Python разработчик ',\n",
       "       'Full Stack Python/JS разработчик', 'Разработчик ',\n",
       "       'Senior Machine Learning Developer ', 'Backend-разработчик ',\n",
       "       'Python - разработчик', 'Python/ Scala разработчик',\n",
       "       'Инженер-программист python', 'Cloud Python Engineer',\n",
       "       'Senior Backend developer Python', 'QA Automation Engineer ',\n",
       "       'Full-stack Developer ', 'Python разработчик/backend разработчик',\n",
       "       'Fullstack Python Developer', 'Python Разработчик',\n",
       "       'Senior Python\\xa0программист',\n",
       "       'Преподаватель по курсу Python для аналитиков',\n",
       "       'Middle/Senior Python Developer', 'Senior developer Python ',\n",
       "       'Python developer ', 'Junior / Pre-middle Python Developer',\n",
       "       'Web-разработчик ', 'Junior Python Developer',\n",
       "       'Python Backend Developer ', 'Middle, Senior Python Developer',\n",
       "       'Java/Python/Scala-разработчик в Big Data',\n",
       "       'Python test automation engineer ', 'Python Backend Developer',\n",
       "       'Ведущий разработчик Python', 'TeamLead Python-разработчик ',\n",
       "       'Middle Python разработчик в SberDevices', 'Python-teamlead',\n",
       "       'Тестировщик ', 'Программист Python ', 'QA engineer ',\n",
       "       'Data engineer ', 'Senior Python Back-end Developer ',\n",
       "       'Team Lead Python/Go', 'Middle / Senior Python/Go developer',\n",
       "       'Backend-разработчик сервисов ', 'Python разработчик Senior',\n",
       "       'Python backend-разработчик ',\n",
       "       'Backend Python Developer продукт Video Analytics ',\n",
       "       'Full-stack Разработчик React, Python', 'Senior Python Engineer ',\n",
       "       'Teamlead of python developers ',\n",
       "       'Backend разработчик Django/Python', 'PHP/Python developer',\n",
       "       'Senior Python Engineer', 'Python-разработчик Pre Middle / Middle',\n",
       "       'Senior/Middle Python Developer ', 'Аналитик Python ',\n",
       "       'Python Django разработчик, удаленно', 'Senior Python Developer ',\n",
       "       'Senior C++/Python Developer',\n",
       "       'Разработчик Oracle, MS SQL, Python, Pandas, NumPy',\n",
       "       'Back-end разработчик ', 'Python developer Middle',\n",
       "       'Инженер - Разработчик Python', 'Senior Software Engineer ',\n",
       "       'Разработчик-тестировщик Python / C++',\n",
       "       'Разработчик в группу качества объектных списков ',\n",
       "       'Преподаватель кружка программирования Python',\n",
       "       'Backend-разработчик Middle+/Senior ', 'Разработчик 1С ',\n",
       "       'Data Engineer / Python разработчик ',\n",
       "       'Разработчик Android/Python', 'Стажер-разработчик Python',\n",
       "       'Разработчик информационных систем на Oracle/python',\n",
       "       'Python-разработчик во Flow', 'Программист, python middle',\n",
       "       'Лингвист ', 'Python Программист-разработчик',\n",
       "       'Специалист по автоматизированному тестированию/Python QA automation engineer',\n",
       "       'Python Developer / Разработчик Python',\n",
       "       'Backend разработчик Python', 'Python Developer Middle / Senior ',\n",
       "       'Методист курсов по программированию Java/Python',\n",
       "       'Преподаватель в школу программирования ',\n",
       "       'Middle/Senior Разработчик Python',\n",
       "       'Преподаватель QA на дистанционный курс \"Автоматизация ПО на Python\"',\n",
       "       'Senior Python Backend Developer ', 'Middle веб-программист ',\n",
       "       'Python developer / Junior ML engineer', 'BackEnd Lead Python',\n",
       "       'Senior PHP/Python developer', 'Middle Python developer',\n",
       "       'Backend-разработчик Python', 'Middle backend developer ',\n",
       "       'Fullstack web-разработчик ', 'Middlе/Senior Python Developer',\n",
       "       'Fullstack разработчик ', 'Программист Python / C / C++',\n",
       "       'C++/Python разработчик в Поиск',\n",
       "       'Инженер по автоматизации тестирования Python, Логистика / TMS',\n",
       "       'Python-developer',\n",
       "       'C++/Python разработчик в группу качества геосервисов',\n",
       "       'Python Developer, Москва', 'Full-Stack Developer ',\n",
       "       'Python Lead Developer', 'Project Manager, ERP&CRM, Python',\n",
       "       'Младший разработчик Python', \"Инженер со знанием Python'а \",\n",
       "       'Разработчик Python / Django',\n",
       "       'Software Development Engineer in Test ',\n",
       "       'Ведущий программист Python + 1C',\n",
       "       'Python TeamLead / Senior Python Developer',\n",
       "       'Преподаватель Python в учебном центре', 'Разработчик SQL/Python',\n",
       "       'Python-разработчик в Процессы бэк-офиса',\n",
       "       'Технический руководитель ', 'Middle Python Developer ',\n",
       "       'Custody Risk Manager ', 'Middle Python QA Engineer',\n",
       "       'Python/ML разработчик', 'Python programmer', 'Middle, senior ',\n",
       "       'ML/Backend Engineer ', 'Python-Разработчик ',\n",
       "       'Junior python разработчик ', 'Программист С++/Python',\n",
       "       'Data Scientist/Python Developer ',\n",
       "       'Инженер по автоматизации тестирования Python, Инструменты поддержки /Сопровождение торговой площадки',\n",
       "       'Python Developer Middle/Senior ',\n",
       "       'Data analyst - QA/Data quality ', 'Разработчик DWH / Python',\n",
       "       'Инженер-программист Python',\n",
       "       'Инженер по автоматизированному тестированию ',\n",
       "       'Мидл Разработчик Python/Django', 'Python/Go developer',\n",
       "       'QA Auto Python', 'Python Developer / ML Engineer',\n",
       "       'Python Team Lead/ Senior Python Developer', 'Team Lead ',\n",
       "       'Разработчик-наставник Python/SQL',\n",
       "       'Специалист по парсингу python junior/middle',\n",
       "       'Middle++/Senior Python developer',\n",
       "       'QA Automation Engineer / Автотестировщик ',\n",
       "       'Middle/Senior QA Automation ', 'Python-разработчик в Биллинг',\n",
       "       'Pазработчик Python', 'Back-end Developer ',\n",
       "       'Python\\\\Django разработчик ', 'DevOps Инженер ',\n",
       "       'Senior Python Backend Developer',\n",
       "       'Разработчик / Developer Python', 'Python Full Stack Developer ',\n",
       "       'Python/Go разработчик', 'Преподаватель Web-разработки на Python',\n",
       "       'Back-end программист/Python', 'Python разработчик SberDevices',\n",
       "       'Преподаватель по курсу Автоматизация тестирования на Python',\n",
       "       'Test Automation Engineer / Python developer in Autotest',\n",
       "       'Python backend developer ', 'Back-end python программист',\n",
       "       'Python Engineering Manager',\n",
       "       'Старший Python-разработчик — Департамент финансового консультирования',\n",
       "       'Senior Python developer ', 'Team Lead Python',\n",
       "       'Разработчик в Яндекс.Диск ', 'QA Engineer',\n",
       "       'BackEnd Python Developer Mid+',\n",
       "       'Инженер по автоматизации тестирования ', 'BACKEND РАЗРАБОТЧИК ',\n",
       "       'Middle/Senior Python-разработчик в команду Добычи данных',\n",
       "       'DevOps-инженер ', 'Программист Python + Go',\n",
       "       'Fullstack-разработчик ', 'Python Middleware Developer',\n",
       "       'Ведущий программист ', 'Python Fullstack Developer',\n",
       "       'Python Middle Developer', 'Middle Backend разработчик ',\n",
       "       'Auto QA specialist ', 'Аналитик данных ',\n",
       "       'Go/Python разработчик ',\n",
       "       'Backend developer python / Бэкенд-разработчик python',\n",
       "       'Разработчик Python, Поиск / ML-платформа',\n",
       "       'Python Developer / Python разработчик',\n",
       "       'Test Automation Engineer ', 'Старший Python-разработчик',\n",
       "       'QA Automation Engineer Python ', 'Senior Python разработчик',\n",
       "       'Middle / Senior Python Developer ', 'Python/Go-разработчик ',\n",
       "       'Senior Backend-разработчик ', 'Python developer Банк 131',\n",
       "       'Teamlead Backend ', 'Team Lead Developer ',\n",
       "       'Lead Python Developer ', 'Разработчик Python/Django',\n",
       "       'Python Developer в Голосового ассистента', 'Программист ',\n",
       "       'VOIP Python Developer ',\n",
       "       'Ведущий Python разработчик / Senior Python Developer',\n",
       "       'Разработчик / Инженер-программист ',\n",
       "       'QA Automation Engineer / Тестировщик ',\n",
       "       'Senior программист Python', 'Middle/Senior Backend Разработчик ',\n",
       "       'Middle developer C/Python on Linux - KernelCare [Remote]',\n",
       "       'Python-разработчик со знанием Storage ',\n",
       "       'Python C++ Разработчик-исследователь ',\n",
       "       'Middle/Senior Python Developer for AlmaLinux [Remote]',\n",
       "       'Middle Python Developer for CloudLinux OS ',\n",
       "       'Middle/Senior Python разработчик',\n",
       "       'Разработчик Python в команду разработки Выделенных серверов и оборудования',\n",
       "       'Automation QA Engineer ', 'Python разработчик в SberDevices ',\n",
       "       'Full-stack developer ',\n",
       "       'Backend - разработчик на Python + Django ',\n",
       "       'Middle+/Senior Python разработчик ', 'Разработчик ГИС ',\n",
       "       'Senior/Lead Python Developer ', 'Удаленный Python разработчик ',\n",
       "       'Web Developer ', 'Python Django программист',\n",
       "       'Разработчик на Python',\n",
       "       'Middle Python разработчик для алюминиевой компании',\n",
       "       'Sr. Python backend developer', 'Разработчик Backend ',\n",
       "       'Python/Django разработчик', 'Middle/Senior Python Developer ',\n",
       "       'Automation QA ', 'Middle python developer ',\n",
       "       'Разработчик автоматических тестов GUI ',\n",
       "       'Senior C++/Python Developer ', 'Full-stack Python Developer',\n",
       "       'Backend разработчик Python ', 'Senior/Lead Python разработчик',\n",
       "       'Backend Senior разработчик Python / ведущий разработчик',\n",
       "       'Senior Python Developer продукт NLP платформа ',\n",
       "       'Backend разработчик на Python ', 'Программист-аналитик Python',\n",
       "       'Python Developer in QA',\n",
       "       'Программист-секретарь Python/JavaScript',\n",
       "       'Senior Python Backend Developer / WEB - разработчик',\n",
       "       'Программист-разработчик не Junior ',\n",
       "       'Middle Python разработчик банка', 'Разработчик C# или Python',\n",
       "       'Senior python developer',\n",
       "       'Big Data Developer with Python / Spark / AWS',\n",
       "       'Senior python developer ', 'Middle/Middle+ Python developer ',\n",
       "       'Python разработчик / Backend / Middle',\n",
       "       'Python developer & DS/ML engineer', 'SDET / Developer in Test ',\n",
       "       'Python Fullstack Developer ',\n",
       "       'Разработчик Python в команду HR сервисов', 'Ведущий ИТ-инженер ',\n",
       "       'Senior Python Developer, Media Distribution Platform',\n",
       "       'Разработчик средств автоматизации ',\n",
       "       'Tech Lead with Python Experience, Financial Software Solutions',\n",
       "       'Системный программист Linux/Python/C++',\n",
       "       'Преподаватель курса лекций \"Программирование. Язык Python\" в ВКИ ',\n",
       "       'Senior Backend Developer ',\n",
       "       'Преподаватель курса семинаров \"Программирование. Язык Python\" в ВКИ ',\n",
       "       'Инженер по автоматизации тестирования / Python разработчик',\n",
       "       'Python-разработчик/Senior Python-разработчик',\n",
       "       'Преподаватель по программированию Python', 'Python/Go Developer ',\n",
       "       'Python-разработчик в NeuroCore',\n",
       "       'Python-Team Lead отдела автоматизации сетевых сервисов',\n",
       "       'Ведущий программист Python ', 'Python Trainee',\n",
       "       'Backend - разработчик ', 'Team Lead/Senior Python developer',\n",
       "       'Системный Python разработчик',\n",
       "       'Инженер по автоматизации тестирования Python, Логистическая платформа/Доставка',\n",
       "       'Back-End разработчик - Python',\n",
       "       'Ведущий актуарий по моторным видам ', 'Python&Golang developer ',\n",
       "       'Инженер по автоматизации тестирования Python, Логистика/Автосортеры',\n",
       "       'Инженер-программист Python/Django', 'Junior разработчик ',\n",
       "       'Web-разработчик Python ',\n",
       "       'Преподаватель Программирования Python ',\n",
       "       'Middle Python разработчик в SberDevices ',\n",
       "       'Middle / Senior Python / Go developer',\n",
       "       'Разработчик backend Python',\n",
       "       'Senior\\xa0Python разработчик в SberDevices\\xa0',\n",
       "       'TeamLead\\xa0Python-разработчик в SberDevices ',\n",
       "       'Python Developer for Big Data ', 'Python Backend Engineer ',\n",
       "       'Senior Python Web Developer ', 'Ведущий Python Developer',\n",
       "       'Разработчик Python/Go', 'Python ETL разработчик в SberDevices',\n",
       "       'Senior Python разработчик в SberDevices ', 'QA specialist ',\n",
       "       'Python разработчик в HR tech',\n",
       "       'Инженер по автоматическому тестированию ',\n",
       "       'Python backend разработчик',\n",
       "       'Senior Python Developer for Imunify ',\n",
       "       'Разработчик Solidity + Python', 'Senior Python backend developer',\n",
       "       'Программист/Аналитик Python', 'Senior Python Разработчик',\n",
       "       'Middle Backend Python/Django разработчик ', 'Big Data Developer ',\n",
       "       'Senior Backend Python/Django разработчик ',\n",
       "       'Python/Fullstack developer', 'Middle Python-разработчик',\n",
       "       'Разработчик бэкенда в Единое Избранное ',\n",
       "       'Программист Python or Ruby on Rails', 'Data Scientist ',\n",
       "       'Python Developer в SberDevices ',\n",
       "       'Руководитель направления Python/GO', 'Разработчик Python backend',\n",
       "       'Middle/Senior Backend developer Python',\n",
       "       'Ведущий инженер-программист / разработчик ',\n",
       "       'Python Разработчик ', 'Web разработчик ', 'Full stack developer ',\n",
       "       'Программист Python / Go',\n",
       "       'Ведущий бизнес-аналитик со знанием SQL и Python',\n",
       "       'Middle/Senior python/Go разработчик',\n",
       "       'Senior QA Engineer Python ', 'Старший инженер по тестированию ',\n",
       "       'Инженер-программист Python ', 'Python-разработчик в Паспорт',\n",
       "       'Python Senior Developer', 'Разработчик ИСУ ',\n",
       "       'Разработчик Python в команду клиентских сервисов',\n",
       "       'Преподаватель по курсу Python и Анализу данных',\n",
       "       'Senior Python Developer for Imunify [Remote]',\n",
       "       'Senior Backend разработчик ',\n",
       "       'Middle/Senior/Lead Python Developer', 'Automation engineer ',\n",
       "       'WEB-разработчик ', 'Tech lead команды разработчиков ',\n",
       "       'Младший разработчик Python в команду автоматизации сетевых сервисов',\n",
       "       'Senior\\\\Lead Python Developer', 'Senior Automation QA ',\n",
       "       'Разработчик Python Back-end',\n",
       "       'Разработчик backend Python Кловер групп',\n",
       "       'Инженер по автоматизации тестирования Python ',\n",
       "       'Python/Go разработчик в Биллинг',\n",
       "       'Программист Python/Системный администратор',\n",
       "       'SRE в платежные системы с навыками разработки на Python',\n",
       "       'Python-разработчик GUI', 'Python-разработчик в Яндекс.Практикум',\n",
       "       'Разработчик Python, Поиск / Стенд метрик',\n",
       "       'Разработчик навигационных алгоритмов ',\n",
       "       'Backend Python Developer ', 'Разработчик PYTHON',\n",
       "       'Python Developer, Capital Markets', 'Machine Learning Engineer ',\n",
       "       'Программист Python / C++', 'Tech lead Python',\n",
       "       'Middle/Senior Python Django developer',\n",
       "       'Python-разработчик в R&D отдел', 'IT-специалист ',\n",
       "       'Программист Python со знанием Django', 'Python Auto Tester ',\n",
       "       'Developer Python', 'Senior/Middle Python Developer',\n",
       "       'Backend-разработчик / Python developer',\n",
       "       'Backend developer Python', 'Python-программист ',\n",
       "       'Системный программист ', 'Разработчик-исследователь Python',\n",
       "       'Team Lead в Tripster ', 'Старший разработчик-Python',\n",
       "       'Middle/Senior Backend Developer ', 'Fullstack-developer ',\n",
       "       'Team Lead Python/Django', 'Разработчик Python в команду DNS',\n",
       "       'Senior Python разработчик ', 'Python Middle Backend разработчик',\n",
       "       'Разработчик Python/Go в Яндекс.Биллинг',\n",
       "       'Python/Golang разработчик', 'Разработчик Python/SQL',\n",
       "       'Developer in Test / Senior QA Automation Engineer ',\n",
       "       'Full-Stack Python Developer',\n",
       "       'Python Developer проект SpeechKit ',\n",
       "       'Full-Stack Python Разработчик ', 'Junior Python - разработчик',\n",
       "       'Преподаватель курса Python для детей ', 'Senior разработчик ',\n",
       "       'Бэкенд-разработчик/Python/Middle Python/ Python Developer ',\n",
       "       'Python Backend Developer / WEB - разработчик',\n",
       "       'Junior Python разработчик',\n",
       "       'Python-разработчик в Департамент бизнес-процессов',\n",
       "       'Старший разработчик Python в тестировании в команду Cloud-net',\n",
       "       'Разработчик Python \\\\ Python Developer',\n",
       "       'Python App Backend Developer',\n",
       "       'Автор работ по программированию на Python',\n",
       "       'Python Data Engineer ', 'Full Stack программист ',\n",
       "       'Ведущий программист Python', 'Программист Python Django + React',\n",
       "       'Python/Angular разработчик', 'Python Разработчик/Developer',\n",
       "       'Middle python-разработчик ', 'Backend Python разработчик',\n",
       "       'Python Back-End разработчик', 'Разработчик Python, Java Script',\n",
       "       'Code reviewer на курс \"Middle Python разработчик\"',\n",
       "       'Инженер по автоматизации тестирования Python, Логистика/Претензионная работа',\n",
       "       'QA automation engineer/Python Блок Технологии',\n",
       "       'QA engineer по нагрузочному и автотестированию Java/Python ',\n",
       "       'Fullstack разработчик Python + Angular',\n",
       "       'Разработчик по оптимизации бизнес-процессов ',\n",
       "       'Разработчик бэкенда в Яндекс.Гараж ',\n",
       "       'Инженер по автоматизации тестирования Python, Личный кабинет продавца / Доставка',\n",
       "       'Младший операционный менеджер ',\n",
       "       'Преподаватель Python в школу программирования',\n",
       "       'Специалист по автотестированию ', 'Тестировщик-автоматизатор ',\n",
       "       'Ведущий инженер по автоматизированному тестированию ',\n",
       "       'Junior Python developer ', 'Middle Web Developer ',\n",
       "       'Разработчик 1С со знанием Python',\n",
       "       'Инженер по автоматизации тестирования Python, Логистика / Центральные логистические системы',\n",
       "       'Преподаватель по программированию Python / графический дизайн / видеоблоггинг / геймдизайн',\n",
       "       'Старший python-разработчик',\n",
       "       'Backend-Разработчик / Back-end Developer ',\n",
       "       'Junior Python Developer ',\n",
       "       'TeamLead Python разработки / руководитель группы разработчиков ',\n",
       "       'Junior разработчик Python Django', 'Администратор ',\n",
       "       'QA automation Specialist ',\n",
       "       'Python Senior программист разработчик, удалённо',\n",
       "       'Наставник на онлайн курс \"Автоматизированное тестирование ПО на Python\"',\n",
       "       'Программист Python + JavaScript',\n",
       "       'Python Middle / Senior разработчик ',\n",
       "       'Middle / Senior Python - разработчик',\n",
       "       'Python senior developer / Старший Python-Разработчик',\n",
       "       'Python-разработчик в тестировании ', 'Backend python developer ',\n",
       "       'Разработчик ETL ', 'Fullstack ', 'Python developer in Autotest',\n",
       "       'Python Data Scientist',\n",
       "       'Python разработчик на Computer Vision проект ',\n",
       "       'Senior Python Software Engineer', 'Fullstack Middle Dev Python ',\n",
       "       'Python-разработчик в команду биллинга',\n",
       "       'Python middle developer/ Python-Разработчик',\n",
       "       'Методист курса программирования на Python ',\n",
       "       'Программист-разработчик чат-ботов на Python',\n",
       "       'Senior Python/Golang Engineer [Logistics team]',\n",
       "       'Middle Python/Django Developer', 'Backend developer Python ',\n",
       "       'Middle Python программист', 'Fullstack developer ',\n",
       "       'Начинающий backend-разработчик ',\n",
       "       'Python разработчик / Data Analysis',\n",
       "       'Machine Learning Team Lead ',\n",
       "       'Python/Go-разработчик в команду биллинга',\n",
       "       'Тестировщик / Ведущий тестировщик ', 'Coding ', 'Python Senior',\n",
       "       'Стажер-программист Python', 'Python-аналитик данных ',\n",
       "       'Специалист по моделированию ', 'Программист-разработчик ',\n",
       "       'Senior BigData Developer with Python / Spark / AWS',\n",
       "       'Инженер по тестированию Python/ Middle QA, Ozon Express',\n",
       "       'Middle/+ Python Developer',\n",
       "       'Web-разработчик / Backend программист Python',\n",
       "       'Разработчик Python в команду биллинга',\n",
       "       'Python Course Online Tutor/Teacher at Kodland',\n",
       "       'QA Automation Engineer Python', 'Team lead ',\n",
       "       'Инженер по автоматизации тестирования Python, Клиентские сервисы / Сопровождение торговой площадки',\n",
       "       'Аналитик/Analyst ', 'Менеджер по анализу целевых коммуникаций ',\n",
       "       'Разработчик PowerBI, SQL, Python',\n",
       "       'Python Developer, направление «Инструменты в купле-продаже недвижимости»',\n",
       "       'Middle Backend-разработчик ', 'Ведущий Python-разработчик',\n",
       "       'Python/Scala разработчик', 'Python Full-stack Developer',\n",
       "       'Инженер-разработчик Python', 'Python developer / data engineer ',\n",
       "       'Стажер SberSeasons ', 'Senior/Middle backend-разработчик ',\n",
       "       'Python системный программист ',\n",
       "       'Middle backend-разработчик Python',\n",
       "       'Middle QA Automation Engineer ', 'Главный разработчик Python',\n",
       "       'Программист разработчик ', 'Python Fullstack Разработчик',\n",
       "       'Junior программист python, django, удалённо',\n",
       "       'Backend-разработчик Python + Django ', 'Ведущий Python-developer',\n",
       "       'Middle+/Senior Python Developer', 'QA-инженер ',\n",
       "       'Инженер-программист C++/Python ', 'Backend разработчик python',\n",
       "       'Системный программист C/C++ - Python',\n",
       "       'Python developer/Data engineer',\n",
       "       'Python разработчик middle\\\\senior', 'Middle Python Engineer ',\n",
       "       'Программист / Разработчик Python/Django ',\n",
       "       'Python-разработчик в отдел по машинному обучению ',\n",
       "       'Middle/Senior Auto Test Engineer QA Python',\n",
       "       'Django/Python Developer', 'Разработчик на Python ',\n",
       "       'Системный разработчик Python', 'Python developer удаленно',\n",
       "       'Team Lead команды разработки ', 'ML Engineer ',\n",
       "       'Python Django developer', 'Python Backend Engineer',\n",
       "       'Программист Python/Django ', 'Python Developer Intern',\n",
       "       'Python developer / Python разработчик / Программист Python',\n",
       "       'Ведущий python разработчик',\n",
       "       'Junior разработчик Computer Vision со знанием Python',\n",
       "       'Бэк-энд разработчик ',\n",
       "       'Backend разработчик на Python / Java в Яндекс. Диск',\n",
       "       'Разработчик-Python ',\n",
       "       'Разработчик на С++/Python в Яндекс.Маршрутизацию',\n",
       "       'Ведущий разработчик C/Python',\n",
       "       'Middle/Senior backend разработчик Python ',\n",
       "       'Backend Developer Middle ',\n",
       "       'Python Developer with AWS Expertise ',\n",
       "       'Разработчик Python / Django со знанием английского языка [удаленно]',\n",
       "       'Back-end Python/Django разработчик',\n",
       "       'Python разработчик на проект создания частного облака',\n",
       "       'Специалист Python', 'Сетевой инженер-разработчик ',\n",
       "       'Backend python ',\n",
       "       'Разработчик Python в команду сетевых функций облака',\n",
       "       'Python-разработчик в SberDevices ',\n",
       "       'Разработчик на С++/Python в Яндекс.Карты',\n",
       "       'Разработчик Python в команду автоматизации сетевых сервисов',\n",
       "       'Mobile-Разработчик Flutter, Python',\n",
       "       'Middle / Senior Backend developer ',\n",
       "       'Преподаватель по Python в школу программирования для детей «Алгоритмика»',\n",
       "       'Python Django разработчик', 'Ведущий аналитик ',\n",
       "       'Middle/Senior Python разработчик в SberDevices',\n",
       "       'Python developer with Big Data ',\n",
       "       'Инженер-программист 1 категории в Управлении информационных систем ',\n",
       "       'Python программист', 'Junior backend developer python',\n",
       "       'BackEnd разработчик в команду разработки чат-бота ',\n",
       "       'Middle/Senior Python-разработчик в SberDevices ',\n",
       "       'Ведущий тестировщик ', 'Pyth\\u200eon Developer',\n",
       "       'Ведущий Разработчик Python офлайн интеграции',\n",
       "       'JavaScript/Python developer SberDevices', 'QA Lead ',\n",
       "       'Backend Python Developer', 'Senior/Lead Python Developer',\n",
       "       'Junior Fullstack разработчик ',\n",
       "       'Инженер по автоматизации тестирования Python, Полигоны доставки',\n",
       "       'Инженер данных ', 'Разработчик Python/Django Middle',\n",
       "       'Стажер разработчик Python', 'E2E Test Automation Engineer ',\n",
       "       'Преподаватель индивидуальных онлайн-занятий по программированию для детей ',\n",
       "       'Backend Senior Python Developer',\n",
       "       'Разработчик Python в тестировании в команду Cloud-net',\n",
       "       'Senior Fullstack разработчик ', 'Regular Python Developer',\n",
       "       'ETL Developer AirFlow + Python', 'Разработчик на Python в Лавку',\n",
       "       'Младший инженер / Junior QA Automation Engineer ',\n",
       "       'NLP engineer / Python developer', 'Junior Python developer',\n",
       "       'Python разработчик / Data Engineer ', 'Разработчик С/С++/Python',\n",
       "       'Разработчик Go/Python ', 'Fullstack Python developer',\n",
       "       'QA automation ',\n",
       "       'Программист-разработчик Python / Django + PostgreSQL',\n",
       "       'Инфраструктурный разработчик ', 'Старший разработчик Python',\n",
       "       'QA Automation engineer ', 'Senior python developer / Teamlead ',\n",
       "       'Lead python engineer', 'Python Ingest developer',\n",
       "       'AutoQA Engineer ', 'Python-разработчик в Яндекс.Услуги',\n",
       "       'Python разработчик в команду Облака',\n",
       "       'Junior / Middle Python Developer',\n",
       "       'Программист-разработчик Java/Python', 'Python/С++ developer ',\n",
       "       'Инженер по тестированию Python, Логистика',\n",
       "       'Инженер программист Python ', 'Python-developer ',\n",
       "       'Senior backend разработчик\\xa0Python/Team lead',\n",
       "       'Ведущий программист/Python-разработчик ',\n",
       "       'Преподаватель направления «Разработка программного обеспечения Python»',\n",
       "       'Middle/Senior программист Python в Ctrl2GO Solutions',\n",
       "       'Python разработчик Middle/Senior',\n",
       "       'Python Разработчик / Team Lead',\n",
       "       'Специалист по алгоритмическому моделированию/разработчик Python [id32501]',\n",
       "       'Python-разработчик в команду статистики Маркета',\n",
       "       'Junior Data Engineer ', 'Middle\\\\Senior Python Developer',\n",
       "       'Senior python-разработчик',\n",
       "       'Старший инженер по тестированию Python/ Senior QA, Ozon Express',\n",
       "       'Веб-разработчик Python.Django ', 'Python- разработчик ',\n",
       "       'Стажер-разработчик бэкенда ',\n",
       "       'Junior Python разработчик ,удаленно', 'Разработчик SQL / Python',\n",
       "       'Младший Python-разработчик',\n",
       "       'ML инженер/Machine Learning engineer ', 'Junior data analyst ',\n",
       "       'Разработчик Python Junior/Стажёр', 'Python back-end разработчик ',\n",
       "       'Разработчик DWH ',\n",
       "       'Ведущий Python разработчик бекенда систем управления флотом',\n",
       "       'Разработчик Golang / Python ', 'Преподаватель Python',\n",
       "       'Ведущий разработчик ', 'Ведущий разработчик Python ',\n",
       "       'Преподаватель программирования ',\n",
       "       'Python разработчик в команду Видеосмотрения',\n",
       "       'Разработчик ETL/DWH',\n",
       "       'Python-разработчик платежно-финансовых систем',\n",
       "       'Руководитель группы тестирования Python, Ozon Express',\n",
       "       'Senior Python Developer, Financial Software Solutions',\n",
       "       'Backend-разработчик Python ',\n",
       "       'Инженер по автоматизации тестирования Python, Логистика/Тарификатор',\n",
       "       'Python разработчик на Computer Vision проект',\n",
       "       'Python – разработчик', 'Контент-менеджер интернет-магазина ',\n",
       "       'Senior Software Engineer in Test, iTero ',\n",
       "       'Junior Python/ML разработчик',\n",
       "       'Инженер по автоматизации тестирования Python, Логистика/Центральные логистические системы',\n",
       "       'Инженер-программист ', 'Software Engineer ',\n",
       "       'Старший программист Python', 'Back-end Python Developer ',\n",
       "       'Аналитик-разработчик ', 'Senior Go/Python Developer ',\n",
       "       'Middle Software Developer C++/Python ', 'Python Tech Lead',\n",
       "       'Senior Software Developer C++/Python ',\n",
       "       'Веб-разработчик Full stack '], dtype=object)"
      ]
     },
     "execution_count": 18,
     "metadata": {},
     "output_type": "execute_result"
    }
   ],
   "source": [
    "df['vacancy'].str.split('(').str[0].unique()"
   ]
  },
  {
   "cell_type": "code",
   "execution_count": 19,
   "metadata": {},
   "outputs": [
    {
     "data": {
      "application/vnd.plotly.v1+json": {
       "config": {
        "plotlyServerURL": "https://plot.ly"
       },
       "data": [
        {
         "domain": {
          "x": [
           0,
           1
          ],
          "y": [
           0,
           1
          ]
         },
         "hole": 0.6,
         "hovertemplate": "profession=%{label}<extra></extra>",
         "labels": [
          "Разработчик",
          "Разработчик",
          "Разработчик",
          "Разработчик",
          "Тестировщик",
          "Разработчик",
          "Разработчик",
          "Разработчик",
          "Разработчик",
          "Разработчик",
          "Разработчик",
          "Разработчик",
          "Разработчик",
          "Разработчик",
          "Разработчик",
          "Разработчик",
          "Разработчик",
          "Разработчик",
          "Разработчик",
          "Инженер",
          "Разработчик",
          "Тестировщик",
          "Разработчик",
          "Разработчик",
          "Разработчик",
          "Разработчик",
          "Разработчик",
          "Тестировщик",
          "Разработчик",
          "Разработчик",
          "Разработчик",
          "Разработчик",
          "Разработчик",
          "Разработчик",
          "Разработчик",
          "Разработчик",
          "Разработчик",
          "Разработчик",
          "Разработчик",
          "Разработчик",
          "Разработчик",
          "Разработчик",
          "Разработчик",
          "Разработчик",
          "Разработчик",
          "Разработчик",
          "Разработчик",
          "Разработчик",
          "Разработчик",
          "Разработчик",
          "Разработчик",
          "Разработчик",
          "Тестировщик",
          "Аналитик",
          "Разработчик",
          "Team Lead",
          "Разработчик",
          "Разработчик",
          "Разработчик",
          "Разработчик",
          "Разработчик",
          "Разработчик",
          "Разработчик",
          "Разработчик",
          "Разработчик",
          "Разработчик",
          "Инженер",
          "Разработчик",
          "Разработчик",
          "Разработчик",
          "Разработчик",
          "Разработчик",
          "Разработчик",
          "Разработчик",
          "Разработчик",
          "Разработчик",
          "Разработчик",
          "Разработчик",
          "Разработчик",
          "Разработчик",
          "Разработчик",
          "Разработчик",
          "Инженер",
          "Разработчик",
          "Тестировщик",
          "Разработчик",
          "Разработчик",
          "Разработчик",
          "Разработчик",
          "Разработчик",
          "Разработчик",
          "Разработчик",
          "Разработчик",
          "Разработчик",
          "Разработчик",
          "Аналитик",
          "Разработчик",
          "Разработчик",
          "Разработчик",
          "Разработчик",
          "Разработчик",
          "Разработчик",
          "Разработчик",
          "Разработчик",
          "Разработчик",
          "Разработчик",
          "Разработчик",
          "Разработчик",
          "Разработчик",
          "Инженер",
          "Разработчик",
          "Разработчик",
          "Разработчик",
          "Разработчик",
          "Разработчик",
          "Team Lead",
          "Разработчик",
          "Тестировщик",
          "Разработчик",
          "Разработчик",
          "Разработчик",
          "Тестировщик",
          "Инженер",
          "Разработчик",
          "Разработчик",
          "Team Lead",
          "Разработчик",
          "Инженер",
          "Разработчик",
          "Разработчик",
          "Разработчик",
          "Разработчик",
          "Разработчик",
          "Разработчик",
          "Разработчик",
          "Разработчик",
          "Разработчик",
          "Разработчик",
          "Разработчик",
          "Разработчик",
          "Разработчик",
          "Инженер",
          "Разработчик",
          "Разработчик",
          "Разработчик",
          "Разработчик",
          "Разработчик",
          "Разработчик",
          "Разработчик",
          "Инженер",
          "Разработчик",
          "Разработчик",
          "Разработчик",
          "Разработчик",
          "Разработчик",
          "Разработчик",
          "Разработчик",
          "Аналитик",
          "Разработчик",
          "Разработчик",
          "Разработчик",
          "Разработчик",
          "Разработчик",
          "Разработчик",
          "Разработчик",
          "Разработчик",
          "Разработчик",
          "Разработчик",
          "Разработчик",
          "Разработчик",
          "Разработчик",
          "Разработчик",
          "Инженер",
          "Разработчик",
          "Разработчик",
          "Разработчик",
          "Разработчик",
          "Разработчик",
          "Преподаватель",
          "Разработчик",
          "Разработчик",
          "Разработчик",
          "Разработчик",
          "Разработчик",
          "Разработчик",
          "Разработчик",
          "Разработчик",
          "Разработчик",
          "Разработчик",
          "Разработчик",
          "Аналитик",
          "Разработчик",
          "Разработчик",
          "Разработчик",
          "Разработчик",
          "Разработчик",
          "Разработчик",
          "Разработчик",
          "Не определено",
          "Разработчик",
          "Разработчик",
          "Разработчик",
          "Тестировщик",
          "Разработчик",
          "Разработчик",
          "Разработчик",
          "Преподаватель",
          "Разработчик",
          "Team Lead",
          "Разработчик",
          "Преподаватель",
          "Тестировщик",
          "Разработчик",
          "Разработчик",
          "Тестировщик",
          "Разработчик",
          "Разработчик",
          "Разработчик",
          "Разработчик",
          "Разработчик",
          "Разработчик",
          "Team Lead",
          "Разработчик",
          "Разработчик",
          "Разработчик",
          "Разработчик",
          "Преподаватель",
          "Разработчик",
          "Разработчик",
          "Разработчик",
          "Разработчик",
          "Разработчик",
          "Разработчик",
          "Разработчик",
          "Разработчик",
          "Разработчик",
          "Разработчик",
          "Разработчик",
          "Разработчик",
          "Разработчик",
          "Разработчик",
          "Разработчик",
          "Инженер",
          "Разработчик",
          "Разработчик",
          "Разработчик",
          "Разработчик",
          "Разработчик",
          "Разработчик",
          "Разработчик",
          "Team Lead",
          "Разработчик",
          "Разработчик",
          "Разработчик",
          "Инженер",
          "Разработчик",
          "Разработчик",
          "Разработчик",
          "Разработчик",
          "Разработчик",
          "Разработчик",
          "Разработчик",
          "Преподаватель",
          "Разработчик",
          "Разработчик",
          "Разработчик",
          "Преподаватель",
          "Разработчик",
          "Разработчик",
          "Разработчик",
          "Team Lead",
          "Разработчик",
          "Разработчик",
          "Разработчик",
          "Аналитик",
          "Тестировщик",
          "Разработчик",
          "Разработчик",
          "Разработчик",
          "Разработчик",
          "Инженер",
          "Инженер",
          "Разработчик",
          "Разработчик",
          "Разработчик",
          "Разработчик",
          "Разработчик",
          "Разработчик",
          "Разработчик",
          "Разработчик",
          "Разработчик",
          "Разработчик",
          "Разработчик",
          "Разработчик",
          "Разработчик",
          "Разработчик",
          "Разработчик",
          "Инженер",
          "Разработчик",
          "Разработчик",
          "Разработчик",
          "Разработчик",
          "Разработчик",
          "Тестировщик",
          "Разработчик",
          "Разработчик",
          "Разработчик",
          "Разработчик",
          "Разработчик",
          "Тестировщик",
          "Разработчик",
          "Инженер",
          "Разработчик",
          "Разработчик",
          "Разработчик",
          "Разработчик",
          "Разработчик",
          "Разработчик",
          "Тестировщик",
          "Разработчик",
          "Разработчик",
          "Разработчик",
          "Разработчик",
          "Team Lead",
          "Разработчик",
          "Разработчик",
          "Разработчик",
          "Разработчик",
          "Разработчик",
          "Не определено",
          "Разработчик",
          "Тестировщик",
          "Разработчик",
          "Разработчик",
          "Тестировщик",
          "Разработчик",
          "Не определено",
          "Разработчик",
          "Разработчик",
          "Разработчик",
          "Разработчик",
          "Разработчик",
          "Разработчик",
          "Разработчик",
          "Разработчик",
          "Разработчик",
          "Разработчик",
          "Разработчик",
          "Разработчик",
          "Разработчик",
          "Разработчик",
          "Разработчик",
          "Разработчик",
          "Разработчик",
          "Разработчик",
          "Инженер",
          "Разработчик",
          "Разработчик",
          "Разработчик",
          "Разработчик",
          "Разработчик",
          "Разработчик",
          "Разработчик",
          "Разработчик",
          "Разработчик",
          "Разработчик",
          "Разработчик",
          "Разработчик",
          "Разработчик",
          "Преподаватель",
          "Разработчик",
          "Разработчик",
          "Разработчик",
          "Разработчик",
          "Разработчик",
          "Разработчик",
          "Инженер",
          "Разработчик",
          "Разработчик",
          "Инженер",
          "Разработчик",
          "Разработчик",
          "Разработчик",
          "Разработчик",
          "Инженер",
          "Разработчик",
          "Разработчик",
          "Разработчик",
          "Разработчик",
          "Разработчик",
          "Разработчик",
          "Аналитик",
          "Team Lead",
          "Разработчик",
          "Разработчик",
          "Тестировщик",
          "Разработчик",
          "Разработчик",
          "Разработчик",
          "Инженер",
          "Разработчик",
          "Разработчик",
          "Разработчик",
          "Разработчик",
          "Разработчик",
          "Разработчик",
          "Инженер",
          "Разработчик",
          "Разработчик",
          "Инженер",
          "Разработчик",
          "Разработчик",
          "Инженер",
          "Разработчик",
          "Разработчик",
          "Аналитик",
          "Разработчик",
          "Разработчик",
          "Разработчик",
          "Разработчик",
          "Разработчик",
          "Разработчик",
          "Разработчик",
          "Разработчик",
          "Разработчик",
          "Разработчик",
          "Разработчик",
          "Разработчик",
          "Разработчик",
          "Аналитик",
          "Разработчик",
          "Разработчик",
          "Разработчик",
          "Разработчик",
          "Разработчик",
          "Разработчик",
          "Разработчик",
          "Разработчик",
          "Инженер",
          "Разработчик",
          "Тестировщик",
          "Аналитик",
          "Разработчик",
          "Разработчик",
          "Разработчик",
          "Разработчик",
          "Разработчик",
          "Разработчик",
          "Разработчик",
          "Разработчик",
          "Разработчик",
          "Разработчик",
          "Разработчик",
          "Разработчик",
          "Разработчик",
          "Инженер",
          "Разработчик",
          "Разработчик",
          "Тестировщик",
          "Разработчик",
          "Разработчик",
          "Разработчик",
          "Разработчик",
          "Разработчик",
          "Разработчик",
          "Разработчик",
          "Разработчик",
          "Разработчик",
          "Разработчик",
          "Разработчик",
          "Разработчик",
          "Разработчик",
          "Разработчик",
          "Разработчик",
          "Разработчик",
          "Team Lead",
          "Разработчик",
          "Разработчик",
          "Разработчик",
          "Разработчик",
          "Разработчик",
          "Разработчик",
          "Разработчик",
          "Разработчик",
          "Разработчик",
          "Разработчик",
          "Разработчик",
          "Разработчик",
          "Разработчик",
          "Разработчик",
          "Разработчик",
          "Разработчик",
          "Разработчик",
          "Разработчик",
          "Разработчик",
          "Разработчик",
          "Разработчик",
          "Разработчик",
          "Разработчик",
          "Разработчик",
          "Разработчик",
          "Разработчик",
          "Тестировщик",
          "Разработчик",
          "Разработчик",
          "Разработчик",
          "Разработчик",
          "Разработчик",
          "Разработчик",
          "Разработчик",
          "Разработчик",
          "Разработчик",
          "Разработчик",
          "Разработчик",
          "Разработчик",
          "Разработчик",
          "Разработчик",
          "Разработчик",
          "Разработчик",
          "Разработчик",
          "Разработчик",
          "Тестировщик",
          "Аналитик",
          "Разработчик",
          "Разработчик",
          "Тестировщик",
          "Разработчик",
          "Разработчик",
          "Разработчик",
          "Разработчик",
          "Разработчик",
          "Разработчик",
          "Разработчик",
          "Разработчик",
          "Разработчик",
          "Разработчик",
          "Разработчик",
          "Разработчик",
          "Разработчик",
          "Разработчик",
          "Разработчик",
          "Разработчик",
          "Разработчик",
          "Разработчик",
          "Разработчик",
          "Разработчик",
          "Разработчик",
          "Разработчик",
          "Разработчик",
          "Разработчик",
          "Разработчик",
          "Разработчик",
          "Разработчик",
          "Тестировщик",
          "Разработчик",
          "Разработчик",
          "Разработчик",
          "Тестировщик",
          "Разработчик",
          "Разработчик",
          "Разработчик",
          "Разработчик",
          "Разработчик",
          "Разработчик",
          "Разработчик",
          "Разработчик",
          "Разработчик",
          "Разработчик",
          "Разработчик",
          "Разработчик",
          "Разработчик",
          "Разработчик",
          "Разработчик",
          "Разработчик",
          "Разработчик",
          "Разработчик",
          "Разработчик",
          "Разработчик",
          "Разработчик",
          "Разработчик",
          "Разработчик",
          "Разработчик",
          "Разработчик",
          "Разработчик",
          "Разработчик",
          "Разработчик",
          "Разработчик",
          "Разработчик",
          "Разработчик",
          "Разработчик",
          "Разработчик",
          "Разработчик",
          "Разработчик",
          "Разработчик",
          "Разработчик",
          "Разработчик",
          "Разработчик",
          "Разработчик",
          "Разработчик",
          "Разработчик",
          "Разработчик",
          "Разработчик",
          "Аналитик",
          "Разработчик",
          "Разработчик",
          "Разработчик",
          "Разработчик",
          "Разработчик",
          "Разработчик",
          "Разработчик",
          "Разработчик",
          "Инженер",
          "Разработчик",
          "Разработчик",
          "Разработчик",
          "Разработчик",
          "Разработчик",
          "Разработчик",
          "Разработчик",
          "Разработчик",
          "Инженер",
          "Разработчик",
          "Разработчик",
          "Разработчик",
          "Разработчик",
          "Разработчик",
          "Преподаватель",
          "Разработчик",
          "Разработчик",
          "Преподаватель",
          "Разработчик",
          "Разработчик",
          "Преподаватель",
          "Разработчик",
          "Разработчик",
          "Тестировщик",
          "Разработчик",
          "Разработчик",
          "Разработчик",
          "Разработчик",
          "Разработчик",
          "Team Lead",
          "Разработчик",
          "Не определено",
          "Разработчик",
          "Разработчик",
          "Разработчик",
          "Разработчик",
          "Разработчик",
          "Разработчик",
          "Разработчик",
          "Разработчик",
          "Разработчик",
          "Разработчик",
          "Разработчик",
          "Разработчик",
          "Инженер",
          "Разработчик",
          "Разработчик",
          "Не определено",
          "Разработчик",
          "Разработчик",
          "Инженер",
          "Разработчик",
          "Разработчик",
          "Разработчик",
          "Разработчик",
          "Разработчик",
          "Разработчик",
          "Разработчик",
          "Тестировщик",
          "Разработчик",
          "Разработчик",
          "Разработчик",
          "Преподаватель",
          "Разработчик",
          "Разработчик",
          "Разработчик",
          "Разработчик",
          "Инженер",
          "Разработчик",
          "Разработчик",
          "Разработчик",
          "Разработчик",
          "Разработчик",
          "Инженер",
          "Разработчик",
          "Разработчик",
          "Разработчик",
          "Разработчик",
          "Разработчик",
          "Разработчик",
          "Разработчик",
          "Разработчик",
          "Инженер",
          "Разработчик",
          "Разработчик",
          "Разработчик",
          "Разработчик",
          "Разработчик",
          "Разработчик",
          "Разработчик",
          "Разработчик",
          "Тестировщик",
          "Разработчик",
          "Разработчик",
          "Разработчик",
          "Разработчик",
          "Разработчик",
          "Инженер",
          "Разработчик",
          "Разработчик",
          "Разработчик",
          "Разработчик",
          "Разработчик",
          "Разработчик",
          "Тестировщик",
          "Разработчик",
          "Разработчик",
          "Разработчик",
          "Разработчик",
          "Разработчик",
          "Разработчик",
          "Разработчик",
          "Разработчик",
          "Разработчик",
          "Разработчик",
          "Разработчик",
          "Разработчик",
          "Разработчик",
          "Инженер",
          "Разработчик",
          "Разработчик",
          "Разработчик",
          "Разработчик",
          "Разработчик",
          "Разработчик",
          "Разработчик",
          "Разработчик",
          "Разработчик",
          "Разработчик",
          "Разработчик",
          "Data Scientis",
          "Инженер",
          "Разработчик",
          "Разработчик",
          "Разработчик",
          "Разработчик",
          "Разработчик",
          "Разработчик",
          "Team Lead",
          "Разработчик",
          "Разработчик",
          "Разработчик",
          "Разработчик",
          "Разработчик",
          "Разработчик",
          "Разработчик",
          "Разработчик",
          "Разработчик",
          "Разработчик",
          "Разработчик",
          "Разработчик",
          "Разработчик",
          "Разработчик",
          "Разработчик",
          "Разработчик",
          "Разработчик",
          "Разработчик",
          "Аналитик",
          "Разработчик",
          "Разработчик",
          "Разработчик",
          "Разработчик",
          "Тестировщик",
          "Разработчик",
          "Разработчик",
          "Инженер",
          "Разработчик",
          "Разработчик",
          "Разработчик",
          "Разработчик",
          "Разработчик",
          "Разработчик",
          "Разработчик",
          "Разработчик",
          "Разработчик",
          "Разработчик",
          "Разработчик",
          "Инженер",
          "Разработчик",
          "Разработчик",
          "Разработчик",
          "Разработчик",
          "Преподаватель",
          "Разработчик",
          "Разработчик",
          "Разработчик",
          "Разработчик",
          "Разработчик",
          "Разработчик",
          "Разработчик",
          "Инженер",
          "Разработчик",
          "Разработчик",
          "Разработчик",
          "Разработчик",
          "Разработчик",
          "Разработчик",
          "Аналитик",
          "Тестировщик",
          "Разработчик",
          "Разработчик",
          "Аналитик",
          "Разработчик",
          "Разработчик",
          "Разработчик",
          "Инженер",
          "Разработчик",
          "Разработчик",
          "Разработчик",
          "Инженер",
          "Разработчик",
          "Разработчик",
          "Разработчик",
          "Разработчик",
          "Разработчик",
          "Разработчик",
          "Разработчик",
          "Разработчик",
          "Разработчик",
          "Разработчик",
          "Разработчик",
          "Разработчик",
          "Разработчик",
          "Разработчик",
          "Разработчик",
          "Инженер",
          "Разработчик",
          "Разработчик",
          "Разработчик",
          "Инженер",
          "Разработчик",
          "Разработчик",
          "Разработчик",
          "Инженер",
          "Разработчик",
          "Разработчик",
          "Разработчик",
          "Инженер",
          "Разработчик",
          "Разработчик",
          "Разработчик",
          "Разработчик",
          "Разработчик",
          "Разработчик",
          "Разработчик",
          "Разработчик",
          "Разработчик",
          "Инженер",
          "Разработчик",
          "Разработчик",
          "Разработчик",
          "Разработчик",
          "Инженер",
          "Разработчик",
          "Разработчик",
          "Разработчик",
          "Разработчик",
          "Не определено",
          "Разработчик",
          "Разработчик",
          "Разработчик",
          "Тестировщик",
          "Разработчик",
          "Разработчик",
          "Разработчик",
          "Разработчик",
          "Разработчик",
          "Разработчик",
          "Разработчик",
          "Разработчик",
          "Разработчик",
          "Разработчик",
          "Разработчик",
          "Разработчик",
          "Разработчик",
          "Разработчик",
          "Разработчик",
          "Разработчик",
          "Team Lead",
          "Разработчик",
          "Разработчик",
          "Разработчик",
          "Разработчик",
          "Разработчик",
          "Разработчик",
          "Разработчик",
          "Разработчик",
          "Разработчик",
          "Разработчик",
          "Разработчик",
          "Разработчик",
          "Разработчик",
          "Team Lead",
          "Разработчик",
          "Разработчик",
          "Разработчик",
          "Разработчик",
          "Разработчик",
          "Разработчик",
          "Разработчик",
          "Разработчик",
          "Разработчик",
          "Разработчик",
          "Разработчик",
          "Разработчик",
          "Разработчик",
          "Разработчик",
          "Разработчик",
          "Разработчик",
          "Разработчик",
          "Разработчик",
          "Разработчик",
          "Разработчик",
          "Разработчик",
          "Разработчик",
          "Разработчик",
          "Разработчик",
          "Team Lead",
          "Разработчик",
          "Разработчик",
          "Разработчик",
          "Разработчик",
          "Разработчик",
          "Разработчик",
          "Разработчик",
          "Разработчик",
          "Разработчик",
          "Разработчик",
          "Разработчик",
          "Разработчик",
          "Разработчик",
          "Разработчик",
          "Разработчик",
          "Разработчик",
          "Разработчик",
          "Разработчик",
          "Преподаватель",
          "Разработчик",
          "Разработчик",
          "Разработчик",
          "Разработчик",
          "Разработчик",
          "Разработчик",
          "Разработчик",
          "Разработчик",
          "Разработчик",
          "Разработчик",
          "Разработчик",
          "Разработчик",
          "Разработчик",
          "Разработчик",
          "Разработчик",
          "Разработчик",
          "Разработчик",
          "Data Scientis",
          "Разработчик",
          "Разработчик",
          "Разработчик",
          "Разработчик",
          "Разработчик",
          "Разработчик",
          "Преподаватель",
          "Инженер",
          "Разработчик",
          "Разработчик",
          "Разработчик",
          "Инженер",
          "Разработчик",
          "Инженер",
          "Разработчик",
          "Разработчик",
          "Разработчик",
          "Разработчик",
          "Разработчик",
          "Разработчик",
          "Разработчик",
          "Разработчик",
          "Разработчик",
          "Разработчик",
          "Разработчик",
          "Разработчик",
          "Разработчик",
          "Разработчик",
          "Разработчик",
          "Разработчик",
          "Разработчик",
          "Разработчик",
          "Разработчик",
          "Разработчик",
          "Разработчик",
          "Разработчик",
          "Разработчик",
          "Разработчик",
          "Разработчик",
          "Разработчик",
          "Разработчик",
          "Разработчик",
          "Разработчик",
          "Разработчик",
          "Разработчик",
          "Разработчик",
          "Разработчик",
          "Разработчик",
          "Разработчик",
          "Разработчик",
          "Разработчик",
          "Разработчик",
          "Разработчик",
          "Разработчик",
          "Разработчик",
          "Разработчик",
          "Разработчик",
          "Разработчик",
          "Инженер",
          "Тестировщик",
          "Тестировщик",
          "Разработчик",
          "Разработчик",
          "Разработчик",
          "Инженер",
          "Разработчик",
          "Инженер",
          "Team Lead",
          "Team Lead",
          "Разработчик",
          "Team Lead",
          "Team Lead",
          "Преподаватель",
          "Тестировщик",
          "Тестировщик",
          "Тестировщик",
          "Разработчик",
          "Разработчик",
          "Разработчик",
          "Инженер",
          "Преподаватель",
          "Разработчик",
          "Разработчик",
          "Разработчик",
          "Инженер",
          "Разработчик",
          "Разработчик",
          "Разработчик",
          "Не определено",
          "Разработчик",
          "Разработчик",
          "Разработчик",
          "Тестировщик",
          "Разработчик",
          "Преподаватель",
          "Team Lead",
          "Разработчик",
          "Разработчик",
          "Разработчик",
          "Разработчик",
          "Разработчик",
          "Разработчик",
          "Разработчик",
          "Разработчик",
          "Инженер",
          "Разработчик",
          "Разработчик",
          "Разработчик",
          "Разработчик",
          "Разработчик",
          "Инженер",
          "Разработчик",
          "Разработчик",
          "Разработчик",
          "Разработчик",
          "Инженер",
          "Разработчик",
          "Тестировщик",
          "Разработчик",
          "Разработчик",
          "Инженер",
          "Преподаватель",
          "Не определено",
          "Разработчик",
          "Разработчик",
          "Разработчик",
          "Разработчик",
          "Разработчик",
          "Тестировщик",
          "Разработчик",
          "Team Lead",
          "Разработчик",
          "Data Scientis",
          "Разработчик",
          "Разработчик",
          "Разработчик",
          "Разработчик",
          "Разработчик",
          "Разработчик",
          "Разработчик",
          "Разработчик",
          "Разработчик",
          "Преподаватель",
          "Инженер",
          "Инженер",
          "Разработчик",
          "Разработчик",
          "Разработчик",
          "Разработчик",
          "Разработчик",
          "Разработчик",
          "Разработчик",
          "Разработчик",
          "Разработчик",
          "Разработчик",
          "Разработчик",
          "Разработчик",
          "Преподаватель",
          "Разработчик",
          "Разработчик",
          "Разработчик",
          "Разработчик",
          "Разработчик",
          "Разработчик",
          "Инженер",
          "Разработчик",
          "Инженер",
          "Разработчик",
          "Разработчик",
          "Инженер",
          "Разработчик",
          "Разработчик",
          "Разработчик",
          "Разработчик",
          "Разработчик",
          "Разработчик",
          "Разработчик",
          "Разработчик",
          "Разработчик",
          "Team Lead",
          "Разработчик",
          "Тестировщик",
          "Разработчик",
          "Разработчик",
          "Преподаватель",
          "Не определено",
          "Инженер",
          "Преподаватель",
          "Разработчик",
          "Аналитик",
          "Не определено",
          "Разработчик",
          "Инженер",
          "Преподаватель",
          "Разработчик",
          "Разработчик",
          "Разработчик",
          "Разработчик",
          "Разработчик",
          "Разработчик",
          "Разработчик",
          "Тестировщик",
          "Разработчик",
          "Разработчик",
          "Разработчик",
          "Инженер",
          "Разработчик",
          "Разработчик",
          "Разработчик",
          "Разработчик",
          "Разработчик",
          "Преподаватель",
          "Разработчик",
          "Тестировщик",
          "Разработчик",
          "Team Lead",
          "Разработчик",
          "Инженер",
          "Аналитик",
          "Разработчик",
          "Team Lead",
          "Разработчик",
          "Разработчик",
          "Разработчик",
          "Разработчик",
          "Разработчик",
          "Разработчик",
          "Разработчик",
          "Разработчик",
          "Разработчик",
          "Разработчик",
          "Разработчик",
          "Тестировщик",
          "Тестировщик",
          "Разработчик",
          "Разработчик",
          "Разработчик",
          "Разработчик",
          "Разработчик",
          "Разработчик",
          "Разработчик",
          "Разработчик",
          "Разработчик",
          "Разработчик",
          "Разработчик",
          "Разработчик",
          "Разработчик",
          "Разработчик",
          "Разработчик",
          "Разработчик",
          "Разработчик",
          "Разработчик",
          "Не определено",
          "Разработчик",
          "Разработчик",
          "Разработчик",
          "Разработчик",
          "Тестировщик",
          "Разработчик",
          "Разработчик",
          "Разработчик",
          "Team Lead",
          "Разработчик",
          "Разработчик",
          "Тестировщик",
          "Разработчик",
          "Разработчик",
          "Разработчик",
          "Разработчик",
          "Разработчик",
          "Разработчик",
          "Разработчик",
          "Разработчик",
          "Разработчик",
          "Разработчик",
          "Разработчик",
          "Разработчик",
          "Тестировщик",
          "Разработчик",
          "Разработчик",
          "Разработчик",
          "Разработчик",
          "Разработчик",
          "Разработчик",
          "Разработчик",
          "Разработчик",
          "Разработчик",
          "Разработчик",
          "Разработчик",
          "Разработчик",
          "Разработчик",
          "Разработчик",
          "Разработчик",
          "Разработчик",
          "Разработчик",
          "Разработчик",
          "Разработчик",
          "Разработчик",
          "Разработчик",
          "Разработчик",
          "Инженер",
          "Разработчик",
          "Разработчик",
          "Разработчик",
          "Разработчик",
          "Разработчик",
          "Разработчик",
          "Разработчик",
          "Разработчик",
          "Разработчик",
          "Разработчик",
          "Разработчик",
          "Тестировщик",
          "Разработчик",
          "Разработчик",
          "Разработчик",
          "Разработчик",
          "Разработчик",
          "Разработчик",
          "Разработчик",
          "Разработчик",
          "Разработчик",
          "Разработчик",
          "Тестировщик",
          "Разработчик",
          "Разработчик",
          "Инженер",
          "Разработчик",
          "Разработчик",
          "Разработчик",
          "Разработчик",
          "Разработчик",
          "Разработчик",
          "Разработчик",
          "Разработчик",
          "Тестировщик",
          "Разработчик",
          "Разработчик",
          "Разработчик",
          "Разработчик",
          "Team Lead",
          "Разработчик",
          "Team Lead",
          "Разработчик",
          "Разработчик",
          "Разработчик",
          "Разработчик",
          "Разработчик",
          "Разработчик",
          "Разработчик",
          "Разработчик",
          "Разработчик",
          "Разработчик",
          "Разработчик",
          "Разработчик",
          "Разработчик",
          "Разработчик",
          "Разработчик",
          "Разработчик",
          "Разработчик",
          "Разработчик",
          "Разработчик",
          "Разработчик",
          "Разработчик",
          "Разработчик",
          "Разработчик",
          "Разработчик",
          "Разработчик",
          "Разработчик",
          "Разработчик",
          "Разработчик",
          "Разработчик",
          "Разработчик",
          "Разработчик",
          "Разработчик",
          "Разработчик",
          "Не определено",
          "Разработчик",
          "Инженер",
          "Разработчик",
          "Разработчик",
          "Разработчик",
          "Разработчик",
          "Разработчик",
          "Разработчик",
          "Разработчик",
          "Тестировщик",
          "Разработчик",
          "Разработчик",
          "Разработчик",
          "Разработчик",
          "Разработчик",
          "Разработчик",
          "Разработчик",
          "Разработчик",
          "Разработчик",
          "Разработчик",
          "Разработчик",
          "Разработчик",
          "Разработчик",
          "Разработчик",
          "Разработчик",
          "Разработчик",
          "Разработчик",
          "Разработчик",
          "Разработчик",
          "Разработчик",
          "Разработчик",
          "Разработчик",
          "Разработчик",
          "Преподаватель",
          "Разработчик",
          "Разработчик",
          "Разработчик",
          "Аналитик",
          "Разработчик",
          "Разработчик",
          "Разработчик",
          "Разработчик",
          "Разработчик",
          "Разработчик",
          "Разработчик",
          "Разработчик",
          "Разработчик",
          "Разработчик",
          "Разработчик",
          "Разработчик",
          "Тестировщик",
          "Разработчик",
          "Разработчик",
          "Разработчик",
          "Разработчик",
          "Разработчик",
          "Разработчик",
          "Тестировщик",
          "Разработчик",
          "Разработчик",
          "Разработчик",
          "Разработчик",
          "Разработчик",
          "Разработчик",
          "Разработчик",
          "Разработчик",
          "Разработчик",
          "Преподаватель",
          "Разработчик",
          "Разработчик",
          "Разработчик",
          "Разработчик",
          "Разработчик",
          "Разработчик",
          "Разработчик",
          "Разработчик",
          "Разработчик",
          "Тестировщик",
          "Разработчик",
          "Разработчик",
          "Разработчик",
          "Разработчик",
          "Разработчик",
          "Разработчик",
          "Разработчик",
          "Инженер",
          "Разработчик",
          "Инженер",
          "Разработчик",
          "Разработчик",
          "Разработчик",
          "Разработчик",
          "Разработчик",
          "Разработчик",
          "Разработчик",
          "Инженер",
          "Разработчик",
          "Преподаватель",
          "Разработчик",
          "Разработчик",
          "Разработчик",
          "Разработчик",
          "Инженер",
          "Разработчик",
          "Разработчик",
          "Аналитик",
          "Разработчик",
          "Разработчик",
          "Разработчик",
          "Разработчик",
          "Разработчик",
          "Разработчик",
          "Разработчик",
          "Разработчик",
          "Разработчик",
          "Разработчик",
          "Разработчик",
          "Разработчик",
          "Разработчик",
          "Инженер",
          "Тестировщик",
          "Разработчик",
          "Разработчик",
          "Разработчик",
          "Разработчик",
          "Разработчик",
          "Разработчик",
          "Инженер",
          "Разработчик",
          "Разработчик",
          "Разработчик",
          "Разработчик",
          "Разработчик",
          "Разработчик",
          "Разработчик",
          "Разработчик",
          "Инженер",
          "Разработчик",
          "Разработчик",
          "Разработчик",
          "Разработчик",
          "Разработчик",
          "Разработчик",
          "Разработчик",
          "Разработчик",
          "Разработчик",
          "Разработчик",
          "Разработчик",
          "Разработчик",
          "Разработчик",
          "Тестировщик",
          "Разработчик",
          "Разработчик",
          "Инженер",
          "Разработчик",
          "Тестировщик",
          "Разработчик",
          "Разработчик",
          "Разработчик",
          "Разработчик",
          "Разработчик",
          "Разработчик",
          "Разработчик",
          "Разработчик",
          "Разработчик",
          "Разработчик",
          "Разработчик",
          "Разработчик",
          "Разработчик",
          "Аналитик",
          "Разработчик",
          "Разработчик",
          "Разработчик",
          "Разработчик",
          "Разработчик",
          "Тестировщик",
          "Разработчик",
          "Разработчик",
          "Разработчик",
          "Разработчик",
          "Разработчик",
          "Инженер",
          "Разработчик",
          "Разработчик",
          "Разработчик",
          "Разработчик",
          "Разработчик",
          "Разработчик",
          "Разработчик",
          "Тестировщик",
          "Team Lead",
          "Разработчик",
          "Разработчик",
          "Разработчик",
          "Team Lead",
          "Разработчик",
          "Разработчик",
          "Разработчик",
          "Разработчик",
          "Разработчик",
          "Разработчик",
          "Разработчик",
          "Разработчик",
          "Разработчик",
          "Тестировщик",
          "Разработчик",
          "Разработчик",
          "Разработчик",
          "Разработчик",
          "Разработчик",
          "Разработчик",
          "Разработчик",
          "Разработчик",
          "Разработчик",
          "Разработчик",
          "Инженер",
          "Разработчик",
          "Разработчик",
          "Разработчик",
          "Data Scientis",
          "Разработчик",
          "Разработчик",
          "Разработчик",
          "Разработчик",
          "Разработчик",
          "Разработчик",
          "Разработчик",
          "Разработчик",
          "Разработчик",
          "Разработчик",
          "Разработчик",
          "Разработчик",
          "Разработчик",
          "Разработчик",
          "Разработчик",
          "Разработчик",
          "Преподаватель",
          "Разработчик",
          "Разработчик",
          "Разработчик",
          "Разработчик",
          "Разработчик",
          "Разработчик",
          "Team Lead",
          "Разработчик",
          "Разработчик",
          "Разработчик",
          "Разработчик",
          "Разработчик",
          "Разработчик",
          "Разработчик",
          "Инженер",
          "Инженер",
          "Разработчик",
          "Разработчик",
          "Разработчик",
          "Разработчик",
          "Разработчик",
          "Разработчик",
          "Разработчик",
          "Разработчик",
          "Разработчик",
          "Тестировщик",
          "Разработчик",
          "Разработчик",
          "Разработчик",
          "Разработчик",
          "Разработчик",
          "Разработчик",
          "Разработчик",
          "Разработчик",
          "Разработчик",
          "Разработчик",
          "Разработчик",
          "Разработчик",
          "Разработчик",
          "Инженер",
          "Аналитик",
          "Разработчик",
          "Разработчик",
          "Разработчик",
          "Разработчик",
          "Team Lead",
          "Разработчик",
          "Тестировщик",
          "Разработчик",
          "Разработчик",
          "Разработчик",
          "Team Lead",
          "Разработчик",
          "Инженер",
          "Разработчик",
          "Разработчик",
          "Разработчик",
          "Разработчик",
          "Разработчик",
          "Инженер",
          "Разработчик",
          "Разработчик",
          "Преподаватель",
          "Разработчик",
          "Разработчик",
          "Разработчик",
          "Преподаватель",
          "Разработчик",
          "Тестировщик",
          "Разработчик",
          "Инженер",
          "Разработчик",
          "Разработчик",
          "Разработчик",
          "Разработчик",
          "Разработчик",
          "Разработчик",
          "Разработчик",
          "Разработчик",
          "Разработчик",
          "Разработчик",
          "Разработчик",
          "Team Lead",
          "Разработчик",
          "Разработчик",
          "Разработчик",
          "Разработчик",
          "Разработчик",
          "Инженер",
          "Разработчик",
          "Разработчик",
          "Разработчик",
          "Team Lead",
          "Разработчик",
          "Разработчик",
          "Инженер",
          "Разработчик",
          "Разработчик",
          "Разработчик",
          "Разработчик",
          "Инженер",
          "Разработчик",
          "Разработчик",
          "Разработчик",
          "Инженер",
          "Разработчик",
          "Инженер",
          "Разработчик",
          "Инженер",
          "Разработчик",
          "Разработчик",
          "Разработчик",
          "Разработчик",
          "Разработчик",
          "Разработчик",
          "Инженер",
          "Разработчик",
          "Разработчик",
          "Разработчик"
         ],
         "legendgroup": "",
         "name": "",
         "showlegend": true,
         "type": "pie"
        }
       ],
       "layout": {
        "annotations": [
         {
          "font": {
           "size": 20
          },
          "showarrow": false,
          "text": "Количество вакансий по профессиям",
          "x": 0.5,
          "y": 1.15
         }
        ],
        "legend": {
         "tracegroupgap": 0
        },
        "margin": {
         "t": 60
        },
        "template": {
         "data": {
          "bar": [
           {
            "error_x": {
             "color": "#2a3f5f"
            },
            "error_y": {
             "color": "#2a3f5f"
            },
            "marker": {
             "line": {
              "color": "#E5ECF6",
              "width": 0.5
             },
             "pattern": {
              "fillmode": "overlay",
              "size": 10,
              "solidity": 0.2
             }
            },
            "type": "bar"
           }
          ],
          "barpolar": [
           {
            "marker": {
             "line": {
              "color": "#E5ECF6",
              "width": 0.5
             },
             "pattern": {
              "fillmode": "overlay",
              "size": 10,
              "solidity": 0.2
             }
            },
            "type": "barpolar"
           }
          ],
          "carpet": [
           {
            "aaxis": {
             "endlinecolor": "#2a3f5f",
             "gridcolor": "white",
             "linecolor": "white",
             "minorgridcolor": "white",
             "startlinecolor": "#2a3f5f"
            },
            "baxis": {
             "endlinecolor": "#2a3f5f",
             "gridcolor": "white",
             "linecolor": "white",
             "minorgridcolor": "white",
             "startlinecolor": "#2a3f5f"
            },
            "type": "carpet"
           }
          ],
          "choropleth": [
           {
            "colorbar": {
             "outlinewidth": 0,
             "ticks": ""
            },
            "type": "choropleth"
           }
          ],
          "contour": [
           {
            "colorbar": {
             "outlinewidth": 0,
             "ticks": ""
            },
            "colorscale": [
             [
              0,
              "#0d0887"
             ],
             [
              0.1111111111111111,
              "#46039f"
             ],
             [
              0.2222222222222222,
              "#7201a8"
             ],
             [
              0.3333333333333333,
              "#9c179e"
             ],
             [
              0.4444444444444444,
              "#bd3786"
             ],
             [
              0.5555555555555556,
              "#d8576b"
             ],
             [
              0.6666666666666666,
              "#ed7953"
             ],
             [
              0.7777777777777778,
              "#fb9f3a"
             ],
             [
              0.8888888888888888,
              "#fdca26"
             ],
             [
              1,
              "#f0f921"
             ]
            ],
            "type": "contour"
           }
          ],
          "contourcarpet": [
           {
            "colorbar": {
             "outlinewidth": 0,
             "ticks": ""
            },
            "type": "contourcarpet"
           }
          ],
          "heatmap": [
           {
            "colorbar": {
             "outlinewidth": 0,
             "ticks": ""
            },
            "colorscale": [
             [
              0,
              "#0d0887"
             ],
             [
              0.1111111111111111,
              "#46039f"
             ],
             [
              0.2222222222222222,
              "#7201a8"
             ],
             [
              0.3333333333333333,
              "#9c179e"
             ],
             [
              0.4444444444444444,
              "#bd3786"
             ],
             [
              0.5555555555555556,
              "#d8576b"
             ],
             [
              0.6666666666666666,
              "#ed7953"
             ],
             [
              0.7777777777777778,
              "#fb9f3a"
             ],
             [
              0.8888888888888888,
              "#fdca26"
             ],
             [
              1,
              "#f0f921"
             ]
            ],
            "type": "heatmap"
           }
          ],
          "heatmapgl": [
           {
            "colorbar": {
             "outlinewidth": 0,
             "ticks": ""
            },
            "colorscale": [
             [
              0,
              "#0d0887"
             ],
             [
              0.1111111111111111,
              "#46039f"
             ],
             [
              0.2222222222222222,
              "#7201a8"
             ],
             [
              0.3333333333333333,
              "#9c179e"
             ],
             [
              0.4444444444444444,
              "#bd3786"
             ],
             [
              0.5555555555555556,
              "#d8576b"
             ],
             [
              0.6666666666666666,
              "#ed7953"
             ],
             [
              0.7777777777777778,
              "#fb9f3a"
             ],
             [
              0.8888888888888888,
              "#fdca26"
             ],
             [
              1,
              "#f0f921"
             ]
            ],
            "type": "heatmapgl"
           }
          ],
          "histogram": [
           {
            "marker": {
             "pattern": {
              "fillmode": "overlay",
              "size": 10,
              "solidity": 0.2
             }
            },
            "type": "histogram"
           }
          ],
          "histogram2d": [
           {
            "colorbar": {
             "outlinewidth": 0,
             "ticks": ""
            },
            "colorscale": [
             [
              0,
              "#0d0887"
             ],
             [
              0.1111111111111111,
              "#46039f"
             ],
             [
              0.2222222222222222,
              "#7201a8"
             ],
             [
              0.3333333333333333,
              "#9c179e"
             ],
             [
              0.4444444444444444,
              "#bd3786"
             ],
             [
              0.5555555555555556,
              "#d8576b"
             ],
             [
              0.6666666666666666,
              "#ed7953"
             ],
             [
              0.7777777777777778,
              "#fb9f3a"
             ],
             [
              0.8888888888888888,
              "#fdca26"
             ],
             [
              1,
              "#f0f921"
             ]
            ],
            "type": "histogram2d"
           }
          ],
          "histogram2dcontour": [
           {
            "colorbar": {
             "outlinewidth": 0,
             "ticks": ""
            },
            "colorscale": [
             [
              0,
              "#0d0887"
             ],
             [
              0.1111111111111111,
              "#46039f"
             ],
             [
              0.2222222222222222,
              "#7201a8"
             ],
             [
              0.3333333333333333,
              "#9c179e"
             ],
             [
              0.4444444444444444,
              "#bd3786"
             ],
             [
              0.5555555555555556,
              "#d8576b"
             ],
             [
              0.6666666666666666,
              "#ed7953"
             ],
             [
              0.7777777777777778,
              "#fb9f3a"
             ],
             [
              0.8888888888888888,
              "#fdca26"
             ],
             [
              1,
              "#f0f921"
             ]
            ],
            "type": "histogram2dcontour"
           }
          ],
          "mesh3d": [
           {
            "colorbar": {
             "outlinewidth": 0,
             "ticks": ""
            },
            "type": "mesh3d"
           }
          ],
          "parcoords": [
           {
            "line": {
             "colorbar": {
              "outlinewidth": 0,
              "ticks": ""
             }
            },
            "type": "parcoords"
           }
          ],
          "pie": [
           {
            "automargin": true,
            "type": "pie"
           }
          ],
          "scatter": [
           {
            "fillpattern": {
             "fillmode": "overlay",
             "size": 10,
             "solidity": 0.2
            },
            "type": "scatter"
           }
          ],
          "scatter3d": [
           {
            "line": {
             "colorbar": {
              "outlinewidth": 0,
              "ticks": ""
             }
            },
            "marker": {
             "colorbar": {
              "outlinewidth": 0,
              "ticks": ""
             }
            },
            "type": "scatter3d"
           }
          ],
          "scattercarpet": [
           {
            "marker": {
             "colorbar": {
              "outlinewidth": 0,
              "ticks": ""
             }
            },
            "type": "scattercarpet"
           }
          ],
          "scattergeo": [
           {
            "marker": {
             "colorbar": {
              "outlinewidth": 0,
              "ticks": ""
             }
            },
            "type": "scattergeo"
           }
          ],
          "scattergl": [
           {
            "marker": {
             "colorbar": {
              "outlinewidth": 0,
              "ticks": ""
             }
            },
            "type": "scattergl"
           }
          ],
          "scattermapbox": [
           {
            "marker": {
             "colorbar": {
              "outlinewidth": 0,
              "ticks": ""
             }
            },
            "type": "scattermapbox"
           }
          ],
          "scatterpolar": [
           {
            "marker": {
             "colorbar": {
              "outlinewidth": 0,
              "ticks": ""
             }
            },
            "type": "scatterpolar"
           }
          ],
          "scatterpolargl": [
           {
            "marker": {
             "colorbar": {
              "outlinewidth": 0,
              "ticks": ""
             }
            },
            "type": "scatterpolargl"
           }
          ],
          "scatterternary": [
           {
            "marker": {
             "colorbar": {
              "outlinewidth": 0,
              "ticks": ""
             }
            },
            "type": "scatterternary"
           }
          ],
          "surface": [
           {
            "colorbar": {
             "outlinewidth": 0,
             "ticks": ""
            },
            "colorscale": [
             [
              0,
              "#0d0887"
             ],
             [
              0.1111111111111111,
              "#46039f"
             ],
             [
              0.2222222222222222,
              "#7201a8"
             ],
             [
              0.3333333333333333,
              "#9c179e"
             ],
             [
              0.4444444444444444,
              "#bd3786"
             ],
             [
              0.5555555555555556,
              "#d8576b"
             ],
             [
              0.6666666666666666,
              "#ed7953"
             ],
             [
              0.7777777777777778,
              "#fb9f3a"
             ],
             [
              0.8888888888888888,
              "#fdca26"
             ],
             [
              1,
              "#f0f921"
             ]
            ],
            "type": "surface"
           }
          ],
          "table": [
           {
            "cells": {
             "fill": {
              "color": "#EBF0F8"
             },
             "line": {
              "color": "white"
             }
            },
            "header": {
             "fill": {
              "color": "#C8D4E3"
             },
             "line": {
              "color": "white"
             }
            },
            "type": "table"
           }
          ]
         },
         "layout": {
          "annotationdefaults": {
           "arrowcolor": "#2a3f5f",
           "arrowhead": 0,
           "arrowwidth": 1
          },
          "autotypenumbers": "strict",
          "coloraxis": {
           "colorbar": {
            "outlinewidth": 0,
            "ticks": ""
           }
          },
          "colorscale": {
           "diverging": [
            [
             0,
             "#8e0152"
            ],
            [
             0.1,
             "#c51b7d"
            ],
            [
             0.2,
             "#de77ae"
            ],
            [
             0.3,
             "#f1b6da"
            ],
            [
             0.4,
             "#fde0ef"
            ],
            [
             0.5,
             "#f7f7f7"
            ],
            [
             0.6,
             "#e6f5d0"
            ],
            [
             0.7,
             "#b8e186"
            ],
            [
             0.8,
             "#7fbc41"
            ],
            [
             0.9,
             "#4d9221"
            ],
            [
             1,
             "#276419"
            ]
           ],
           "sequential": [
            [
             0,
             "#0d0887"
            ],
            [
             0.1111111111111111,
             "#46039f"
            ],
            [
             0.2222222222222222,
             "#7201a8"
            ],
            [
             0.3333333333333333,
             "#9c179e"
            ],
            [
             0.4444444444444444,
             "#bd3786"
            ],
            [
             0.5555555555555556,
             "#d8576b"
            ],
            [
             0.6666666666666666,
             "#ed7953"
            ],
            [
             0.7777777777777778,
             "#fb9f3a"
            ],
            [
             0.8888888888888888,
             "#fdca26"
            ],
            [
             1,
             "#f0f921"
            ]
           ],
           "sequentialminus": [
            [
             0,
             "#0d0887"
            ],
            [
             0.1111111111111111,
             "#46039f"
            ],
            [
             0.2222222222222222,
             "#7201a8"
            ],
            [
             0.3333333333333333,
             "#9c179e"
            ],
            [
             0.4444444444444444,
             "#bd3786"
            ],
            [
             0.5555555555555556,
             "#d8576b"
            ],
            [
             0.6666666666666666,
             "#ed7953"
            ],
            [
             0.7777777777777778,
             "#fb9f3a"
            ],
            [
             0.8888888888888888,
             "#fdca26"
            ],
            [
             1,
             "#f0f921"
            ]
           ]
          },
          "colorway": [
           "#636efa",
           "#EF553B",
           "#00cc96",
           "#ab63fa",
           "#FFA15A",
           "#19d3f3",
           "#FF6692",
           "#B6E880",
           "#FF97FF",
           "#FECB52"
          ],
          "font": {
           "color": "#2a3f5f"
          },
          "geo": {
           "bgcolor": "white",
           "lakecolor": "white",
           "landcolor": "#E5ECF6",
           "showlakes": true,
           "showland": true,
           "subunitcolor": "white"
          },
          "hoverlabel": {
           "align": "left"
          },
          "hovermode": "closest",
          "mapbox": {
           "style": "light"
          },
          "paper_bgcolor": "white",
          "plot_bgcolor": "#E5ECF6",
          "polar": {
           "angularaxis": {
            "gridcolor": "white",
            "linecolor": "white",
            "ticks": ""
           },
           "bgcolor": "#E5ECF6",
           "radialaxis": {
            "gridcolor": "white",
            "linecolor": "white",
            "ticks": ""
           }
          },
          "scene": {
           "xaxis": {
            "backgroundcolor": "#E5ECF6",
            "gridcolor": "white",
            "gridwidth": 2,
            "linecolor": "white",
            "showbackground": true,
            "ticks": "",
            "zerolinecolor": "white"
           },
           "yaxis": {
            "backgroundcolor": "#E5ECF6",
            "gridcolor": "white",
            "gridwidth": 2,
            "linecolor": "white",
            "showbackground": true,
            "ticks": "",
            "zerolinecolor": "white"
           },
           "zaxis": {
            "backgroundcolor": "#E5ECF6",
            "gridcolor": "white",
            "gridwidth": 2,
            "linecolor": "white",
            "showbackground": true,
            "ticks": "",
            "zerolinecolor": "white"
           }
          },
          "shapedefaults": {
           "line": {
            "color": "#2a3f5f"
           }
          },
          "ternary": {
           "aaxis": {
            "gridcolor": "white",
            "linecolor": "white",
            "ticks": ""
           },
           "baxis": {
            "gridcolor": "white",
            "linecolor": "white",
            "ticks": ""
           },
           "bgcolor": "#E5ECF6",
           "caxis": {
            "gridcolor": "white",
            "linecolor": "white",
            "ticks": ""
           }
          },
          "title": {
           "x": 0.05
          },
          "xaxis": {
           "automargin": true,
           "gridcolor": "white",
           "linecolor": "white",
           "ticks": "",
           "title": {
            "standoff": 15
           },
           "zerolinecolor": "white",
           "zerolinewidth": 2
          },
          "yaxis": {
           "automargin": true,
           "gridcolor": "white",
           "linecolor": "white",
           "ticks": "",
           "title": {
            "standoff": 15
           },
           "zerolinecolor": "white",
           "zerolinewidth": 2
          }
         }
        }
       }
      }
     },
     "metadata": {},
     "output_type": "display_data"
    }
   ],
   "source": [
    "# Словарь ключевых слов для каждой профессии\n",
    "keywords = {'Разработчик': ['разработчик', 'developer', 'программист', 'Programmer', 'dev', 'разработки'],\n",
    "            'Тестировщик': ['тестировщик', 'tester', 'qa', 'автотестированию'],\n",
    "            'Аналитик': ['аналитик', 'analyst'],\n",
    "            'Инженер': ['архитектор', 'architect', 'Tech', 'Engineer', 'инженер'],\n",
    "            'Team Lead': ['lead', 'руководитель', 'manager', 'менеджер'],\n",
    "            'Преподаватель': ['преподаватель', 'учитель', 'педагог', 'методист', 'автор', 'Teacher', 'наставник', 'course', 'курс'],\n",
    "            'Data Scientis': ['scientist', 'learning']}\n",
    "\n",
    "# Функция для определения профессии на основе ключевых слов\n",
    "def get_profession(vacancy):\n",
    "    for profession, words in keywords.items():\n",
    "        for word in words:\n",
    "            if re.search(word, vacancy, re.IGNORECASE):\n",
    "                return profession\n",
    "    return 'Не определено'\n",
    "\n",
    "# Создаем новый столбец с унифицированными названиями профессий\n",
    "df['profession'] = df['vacancy'].apply(get_profession)\n",
    "\n",
    "fig = px.pie(df, names='profession', hole=0.6)\n",
    "fig.update_layout(\n",
    "    annotations=[dict(text='Количество вакансий по профессиям', x=0.5, y=1.15, font_size=20, showarrow=False)]\n",
    ")\n",
    "fig.show()\n"
   ]
  },
  {
   "cell_type": "code",
   "execution_count": 20,
   "metadata": {},
   "outputs": [
    {
     "data": {
      "text/html": [
       "<div>\n",
       "<style scoped>\n",
       "    .dataframe tbody tr th:only-of-type {\n",
       "        vertical-align: middle;\n",
       "    }\n",
       "\n",
       "    .dataframe tbody tr th {\n",
       "        vertical-align: top;\n",
       "    }\n",
       "\n",
       "    .dataframe thead th {\n",
       "        text-align: right;\n",
       "    }\n",
       "</style>\n",
       "<table border=\"1\" class=\"dataframe\">\n",
       "  <thead>\n",
       "    <tr style=\"text-align: right;\">\n",
       "      <th></th>\n",
       "      <th>vacancy</th>\n",
       "      <th>url</th>\n",
       "      <th>created</th>\n",
       "      <th>has_test</th>\n",
       "      <th>salary_from</th>\n",
       "      <th>salary_to</th>\n",
       "      <th>currency</th>\n",
       "      <th>experience</th>\n",
       "      <th>schedule</th>\n",
       "      <th>skills</th>\n",
       "      <th>...</th>\n",
       "      <th>проектирования REST_f_salary</th>\n",
       "      <th>Fluent English_f_salary</th>\n",
       "      <th>Eclipse_f_salary</th>\n",
       "      <th>Backend-разработчик_f_salary</th>\n",
       "      <th>gunicorn_f_salary</th>\n",
       "      <th>Simulink_f_salary</th>\n",
       "      <th>Agile_f_salary</th>\n",
       "      <th>Embedded Systems_f_salary</th>\n",
       "      <th>Panda_f_salary</th>\n",
       "      <th>profession</th>\n",
       "    </tr>\n",
       "  </thead>\n",
       "  <tbody>\n",
       "    <tr>\n",
       "      <th>198</th>\n",
       "      <td>Лингвист (со знанием Python)</td>\n",
       "      <td>https://hh.ru/applicant/vacancy_response?vacan...</td>\n",
       "      <td>2021-08-02 07:04:20</td>\n",
       "      <td>False</td>\n",
       "      <td>45000.0</td>\n",
       "      <td>NaN</td>\n",
       "      <td>RUR</td>\n",
       "      <td>От 1 года до 3 лет</td>\n",
       "      <td>Полный день</td>\n",
       "      <td>Python;</td>\n",
       "      <td>...</td>\n",
       "      <td>0.0</td>\n",
       "      <td>0.0</td>\n",
       "      <td>0.0</td>\n",
       "      <td>0.0</td>\n",
       "      <td>0.0</td>\n",
       "      <td>0.0</td>\n",
       "      <td>0.0</td>\n",
       "      <td>0.0</td>\n",
       "      <td>0.0</td>\n",
       "      <td>Не определено</td>\n",
       "    </tr>\n",
       "    <tr>\n",
       "      <th>329</th>\n",
       "      <td>Специалист по парсингу python junior/middle</td>\n",
       "      <td>https://hh.ru/applicant/vacancy_response?vacan...</td>\n",
       "      <td>2021-07-27 09:51:48</td>\n",
       "      <td>False</td>\n",
       "      <td>60000.0</td>\n",
       "      <td>NaN</td>\n",
       "      <td>RUR</td>\n",
       "      <td>От 1 года до 3 лет</td>\n",
       "      <td>Удаленная работа</td>\n",
       "      <td>Парсинг;Web;Python;Ответственность и пунктуаль...</td>\n",
       "      <td>...</td>\n",
       "      <td>0.0</td>\n",
       "      <td>0.0</td>\n",
       "      <td>0.0</td>\n",
       "      <td>0.0</td>\n",
       "      <td>0.0</td>\n",
       "      <td>0.0</td>\n",
       "      <td>0.0</td>\n",
       "      <td>0.0</td>\n",
       "      <td>0.0</td>\n",
       "      <td>Не определено</td>\n",
       "    </tr>\n",
       "    <tr>\n",
       "      <th>336</th>\n",
       "      <td>Pазработчик Python</td>\n",
       "      <td>https://hh.ru/applicant/vacancy_response?vacan...</td>\n",
       "      <td>2021-07-19 15:33:23</td>\n",
       "      <td>False</td>\n",
       "      <td>NaN</td>\n",
       "      <td>NaN</td>\n",
       "      <td>NaN</td>\n",
       "      <td>От 1 года до 3 лет</td>\n",
       "      <td>Полный день</td>\n",
       "      <td>Python;SQL;Big Data;Flask;Hadoop;PostgreSQL;Hi...</td>\n",
       "      <td>...</td>\n",
       "      <td>NaN</td>\n",
       "      <td>NaN</td>\n",
       "      <td>NaN</td>\n",
       "      <td>NaN</td>\n",
       "      <td>NaN</td>\n",
       "      <td>NaN</td>\n",
       "      <td>NaN</td>\n",
       "      <td>NaN</td>\n",
       "      <td>NaN</td>\n",
       "      <td>Не определено</td>\n",
       "    </tr>\n",
       "    <tr>\n",
       "      <th>643</th>\n",
       "      <td>Python Trainee</td>\n",
       "      <td>https://hh.ru/applicant/vacancy_response?vacan...</td>\n",
       "      <td>2021-07-06 14:01:09</td>\n",
       "      <td>False</td>\n",
       "      <td>NaN</td>\n",
       "      <td>NaN</td>\n",
       "      <td>NaN</td>\n",
       "      <td>Нет опыта</td>\n",
       "      <td>Гибкий график</td>\n",
       "      <td>Python;Английский язык;Git;SQL;Django Framework;</td>\n",
       "      <td>...</td>\n",
       "      <td>NaN</td>\n",
       "      <td>NaN</td>\n",
       "      <td>NaN</td>\n",
       "      <td>NaN</td>\n",
       "      <td>NaN</td>\n",
       "      <td>NaN</td>\n",
       "      <td>NaN</td>\n",
       "      <td>NaN</td>\n",
       "      <td>NaN</td>\n",
       "      <td>Не определено</td>\n",
       "    </tr>\n",
       "    <tr>\n",
       "      <th>659</th>\n",
       "      <td>Ведущий актуарий по моторным видам (актуарная ...</td>\n",
       "      <td>https://hh.ru/applicant/vacancy_response?vacan...</td>\n",
       "      <td>2021-07-28 17:56:21</td>\n",
       "      <td>False</td>\n",
       "      <td>NaN</td>\n",
       "      <td>NaN</td>\n",
       "      <td>NaN</td>\n",
       "      <td>От 3 до 6 лет</td>\n",
       "      <td>Полный день</td>\n",
       "      <td>Python;SQL;Анализ финансовых показателей;Sas;А...</td>\n",
       "      <td>...</td>\n",
       "      <td>NaN</td>\n",
       "      <td>NaN</td>\n",
       "      <td>NaN</td>\n",
       "      <td>NaN</td>\n",
       "      <td>NaN</td>\n",
       "      <td>NaN</td>\n",
       "      <td>NaN</td>\n",
       "      <td>NaN</td>\n",
       "      <td>NaN</td>\n",
       "      <td>Не определено</td>\n",
       "    </tr>\n",
       "    <tr>\n",
       "      <th>869</th>\n",
       "      <td>IT-специалист (Python)</td>\n",
       "      <td>https://hh.ru/applicant/vacancy_response?vacan...</td>\n",
       "      <td>2021-07-26 14:02:14</td>\n",
       "      <td>False</td>\n",
       "      <td>50000.0</td>\n",
       "      <td>80000.0</td>\n",
       "      <td>RUR</td>\n",
       "      <td>Нет опыта</td>\n",
       "      <td>Гибкий график</td>\n",
       "      <td>XML;XML/Xslt;Xsd;SQL;Unix Shell Scripts;BPML;O...</td>\n",
       "      <td>...</td>\n",
       "      <td>0.0</td>\n",
       "      <td>0.0</td>\n",
       "      <td>0.0</td>\n",
       "      <td>0.0</td>\n",
       "      <td>0.0</td>\n",
       "      <td>0.0</td>\n",
       "      <td>0.0</td>\n",
       "      <td>0.0</td>\n",
       "      <td>0.0</td>\n",
       "      <td>Не определено</td>\n",
       "    </tr>\n",
       "    <tr>\n",
       "      <th>1055</th>\n",
       "      <td>Администратор (Linux, python)</td>\n",
       "      <td>https://hh.ru/applicant/vacancy_response?vacan...</td>\n",
       "      <td>2021-07-23 10:40:26</td>\n",
       "      <td>False</td>\n",
       "      <td>100000.0</td>\n",
       "      <td>NaN</td>\n",
       "      <td>RUR</td>\n",
       "      <td>От 1 года до 3 лет</td>\n",
       "      <td>Полный день</td>\n",
       "      <td>Linux;SQL;Python;MS SQL;ORACLE;</td>\n",
       "      <td>...</td>\n",
       "      <td>0.0</td>\n",
       "      <td>0.0</td>\n",
       "      <td>0.0</td>\n",
       "      <td>0.0</td>\n",
       "      <td>0.0</td>\n",
       "      <td>0.0</td>\n",
       "      <td>0.0</td>\n",
       "      <td>0.0</td>\n",
       "      <td>0.0</td>\n",
       "      <td>Не определено</td>\n",
       "    </tr>\n",
       "    <tr>\n",
       "      <th>1089</th>\n",
       "      <td>Fullstack (Python/PHP+JS)</td>\n",
       "      <td>https://hh.ru/applicant/vacancy_response?vacan...</td>\n",
       "      <td>2021-08-01 14:03:33</td>\n",
       "      <td>False</td>\n",
       "      <td>80000.0</td>\n",
       "      <td>120000.0</td>\n",
       "      <td>RUR</td>\n",
       "      <td>От 1 года до 3 лет</td>\n",
       "      <td>Гибкий график</td>\n",
       "      <td>PHP;Python;Мобильная разработка;Java;Kotlin;JS;</td>\n",
       "      <td>...</td>\n",
       "      <td>0.0</td>\n",
       "      <td>0.0</td>\n",
       "      <td>0.0</td>\n",
       "      <td>0.0</td>\n",
       "      <td>0.0</td>\n",
       "      <td>0.0</td>\n",
       "      <td>0.0</td>\n",
       "      <td>0.0</td>\n",
       "      <td>0.0</td>\n",
       "      <td>Не определено</td>\n",
       "    </tr>\n",
       "    <tr>\n",
       "      <th>1152</th>\n",
       "      <td>Python Senior</td>\n",
       "      <td>https://hh.ru/applicant/vacancy_response?vacan...</td>\n",
       "      <td>2021-07-22 10:09:34</td>\n",
       "      <td>False</td>\n",
       "      <td>NaN</td>\n",
       "      <td>NaN</td>\n",
       "      <td>NaN</td>\n",
       "      <td>От 3 до 6 лет</td>\n",
       "      <td>Полный день</td>\n",
       "      <td>Python;Pandas;PostgreSQL;Git;Jupyter;</td>\n",
       "      <td>...</td>\n",
       "      <td>NaN</td>\n",
       "      <td>NaN</td>\n",
       "      <td>NaN</td>\n",
       "      <td>NaN</td>\n",
       "      <td>NaN</td>\n",
       "      <td>NaN</td>\n",
       "      <td>NaN</td>\n",
       "      <td>NaN</td>\n",
       "      <td>NaN</td>\n",
       "      <td>Не определено</td>\n",
       "    </tr>\n",
       "    <tr>\n",
       "      <th>1157</th>\n",
       "      <td>Специалист по моделированию (Excel, Python, VBA)</td>\n",
       "      <td>https://hh.ru/applicant/vacancy_response?vacan...</td>\n",
       "      <td>2021-07-06 17:40:08</td>\n",
       "      <td>False</td>\n",
       "      <td>NaN</td>\n",
       "      <td>NaN</td>\n",
       "      <td>NaN</td>\n",
       "      <td>От 1 года до 3 лет</td>\n",
       "      <td>Полный день</td>\n",
       "      <td>Python;SQL;VBA;Бизнес-моделирование;Моделирова...</td>\n",
       "      <td>...</td>\n",
       "      <td>NaN</td>\n",
       "      <td>NaN</td>\n",
       "      <td>NaN</td>\n",
       "      <td>NaN</td>\n",
       "      <td>NaN</td>\n",
       "      <td>NaN</td>\n",
       "      <td>NaN</td>\n",
       "      <td>NaN</td>\n",
       "      <td>NaN</td>\n",
       "      <td>Не определено</td>\n",
       "    </tr>\n",
       "    <tr>\n",
       "      <th>1219</th>\n",
       "      <td>Стажер SberSeasons (SQL / Python)</td>\n",
       "      <td>https://hh.ru/applicant/vacancy_response?vacan...</td>\n",
       "      <td>2021-07-30 07:43:11</td>\n",
       "      <td>False</td>\n",
       "      <td>NaN</td>\n",
       "      <td>NaN</td>\n",
       "      <td>NaN</td>\n",
       "      <td>Нет опыта</td>\n",
       "      <td>Полный день</td>\n",
       "      <td>NaN</td>\n",
       "      <td>...</td>\n",
       "      <td>NaN</td>\n",
       "      <td>NaN</td>\n",
       "      <td>NaN</td>\n",
       "      <td>NaN</td>\n",
       "      <td>NaN</td>\n",
       "      <td>NaN</td>\n",
       "      <td>NaN</td>\n",
       "      <td>NaN</td>\n",
       "      <td>NaN</td>\n",
       "      <td>Не определено</td>\n",
       "    </tr>\n",
       "    <tr>\n",
       "      <th>1343</th>\n",
       "      <td>Специалист Python</td>\n",
       "      <td>https://hh.ru/applicant/vacancy_response?vacan...</td>\n",
       "      <td>2021-07-07 18:46:45</td>\n",
       "      <td>False</td>\n",
       "      <td>NaN</td>\n",
       "      <td>NaN</td>\n",
       "      <td>NaN</td>\n",
       "      <td>От 1 года до 3 лет</td>\n",
       "      <td>Полный день</td>\n",
       "      <td>Работа в команде;Грамотная речь;Python;MS Powe...</td>\n",
       "      <td>...</td>\n",
       "      <td>NaN</td>\n",
       "      <td>NaN</td>\n",
       "      <td>NaN</td>\n",
       "      <td>NaN</td>\n",
       "      <td>NaN</td>\n",
       "      <td>NaN</td>\n",
       "      <td>NaN</td>\n",
       "      <td>NaN</td>\n",
       "      <td>NaN</td>\n",
       "      <td>Не определено</td>\n",
       "    </tr>\n",
       "  </tbody>\n",
       "</table>\n",
       "<p>12 rows × 3352 columns</p>\n",
       "</div>"
      ],
      "text/plain": [
       "                                                vacancy  \\\n",
       "198                        Лингвист (со знанием Python)   \n",
       "329         Специалист по парсингу python junior/middle   \n",
       "336                                  Pазработчик Python   \n",
       "643                                      Python Trainee   \n",
       "659   Ведущий актуарий по моторным видам (актуарная ...   \n",
       "869                              IT-специалист (Python)   \n",
       "1055                      Администратор (Linux, python)   \n",
       "1089                          Fullstack (Python/PHP+JS)   \n",
       "1152                                      Python Senior   \n",
       "1157   Специалист по моделированию (Excel, Python, VBA)   \n",
       "1219                  Стажер SberSeasons (SQL / Python)   \n",
       "1343                                  Специалист Python   \n",
       "\n",
       "                                                    url              created  \\\n",
       "198   https://hh.ru/applicant/vacancy_response?vacan...  2021-08-02 07:04:20   \n",
       "329   https://hh.ru/applicant/vacancy_response?vacan...  2021-07-27 09:51:48   \n",
       "336   https://hh.ru/applicant/vacancy_response?vacan...  2021-07-19 15:33:23   \n",
       "643   https://hh.ru/applicant/vacancy_response?vacan...  2021-07-06 14:01:09   \n",
       "659   https://hh.ru/applicant/vacancy_response?vacan...  2021-07-28 17:56:21   \n",
       "869   https://hh.ru/applicant/vacancy_response?vacan...  2021-07-26 14:02:14   \n",
       "1055  https://hh.ru/applicant/vacancy_response?vacan...  2021-07-23 10:40:26   \n",
       "1089  https://hh.ru/applicant/vacancy_response?vacan...  2021-08-01 14:03:33   \n",
       "1152  https://hh.ru/applicant/vacancy_response?vacan...  2021-07-22 10:09:34   \n",
       "1157  https://hh.ru/applicant/vacancy_response?vacan...  2021-07-06 17:40:08   \n",
       "1219  https://hh.ru/applicant/vacancy_response?vacan...  2021-07-30 07:43:11   \n",
       "1343  https://hh.ru/applicant/vacancy_response?vacan...  2021-07-07 18:46:45   \n",
       "\n",
       "      has_test  salary_from  salary_to currency          experience  \\\n",
       "198      False      45000.0        NaN      RUR  От 1 года до 3 лет   \n",
       "329      False      60000.0        NaN      RUR  От 1 года до 3 лет   \n",
       "336      False          NaN        NaN      NaN  От 1 года до 3 лет   \n",
       "643      False          NaN        NaN      NaN           Нет опыта   \n",
       "659      False          NaN        NaN      NaN       От 3 до 6 лет   \n",
       "869      False      50000.0    80000.0      RUR           Нет опыта   \n",
       "1055     False     100000.0        NaN      RUR  От 1 года до 3 лет   \n",
       "1089     False      80000.0   120000.0      RUR  От 1 года до 3 лет   \n",
       "1152     False          NaN        NaN      NaN       От 3 до 6 лет   \n",
       "1157     False          NaN        NaN      NaN  От 1 года до 3 лет   \n",
       "1219     False          NaN        NaN      NaN           Нет опыта   \n",
       "1343     False          NaN        NaN      NaN  От 1 года до 3 лет   \n",
       "\n",
       "              schedule                                             skills  \\\n",
       "198        Полный день                                            Python;   \n",
       "329   Удаленная работа  Парсинг;Web;Python;Ответственность и пунктуаль...   \n",
       "336        Полный день  Python;SQL;Big Data;Flask;Hadoop;PostgreSQL;Hi...   \n",
       "643      Гибкий график   Python;Английский язык;Git;SQL;Django Framework;   \n",
       "659        Полный день  Python;SQL;Анализ финансовых показателей;Sas;А...   \n",
       "869      Гибкий график  XML;XML/Xslt;Xsd;SQL;Unix Shell Scripts;BPML;O...   \n",
       "1055       Полный день                    Linux;SQL;Python;MS SQL;ORACLE;   \n",
       "1089     Гибкий график    PHP;Python;Мобильная разработка;Java;Kotlin;JS;   \n",
       "1152       Полный день              Python;Pandas;PostgreSQL;Git;Jupyter;   \n",
       "1157       Полный день  Python;SQL;VBA;Бизнес-моделирование;Моделирова...   \n",
       "1219       Полный день                                                NaN   \n",
       "1343       Полный день  Работа в команде;Грамотная речь;Python;MS Powe...   \n",
       "\n",
       "      ... проектирования REST_f_salary Fluent English_f_salary  \\\n",
       "198   ...                          0.0                     0.0   \n",
       "329   ...                          0.0                     0.0   \n",
       "336   ...                          NaN                     NaN   \n",
       "643   ...                          NaN                     NaN   \n",
       "659   ...                          NaN                     NaN   \n",
       "869   ...                          0.0                     0.0   \n",
       "1055  ...                          0.0                     0.0   \n",
       "1089  ...                          0.0                     0.0   \n",
       "1152  ...                          NaN                     NaN   \n",
       "1157  ...                          NaN                     NaN   \n",
       "1219  ...                          NaN                     NaN   \n",
       "1343  ...                          NaN                     NaN   \n",
       "\n",
       "     Eclipse_f_salary  Backend-разработчик_f_salary  gunicorn_f_salary  \\\n",
       "198               0.0                           0.0                0.0   \n",
       "329               0.0                           0.0                0.0   \n",
       "336               NaN                           NaN                NaN   \n",
       "643               NaN                           NaN                NaN   \n",
       "659               NaN                           NaN                NaN   \n",
       "869               0.0                           0.0                0.0   \n",
       "1055              0.0                           0.0                0.0   \n",
       "1089              0.0                           0.0                0.0   \n",
       "1152              NaN                           NaN                NaN   \n",
       "1157              NaN                           NaN                NaN   \n",
       "1219              NaN                           NaN                NaN   \n",
       "1343              NaN                           NaN                NaN   \n",
       "\n",
       "      Simulink_f_salary  Agile_f_salary  Embedded Systems_f_salary  \\\n",
       "198                 0.0             0.0                        0.0   \n",
       "329                 0.0             0.0                        0.0   \n",
       "336                 NaN             NaN                        NaN   \n",
       "643                 NaN             NaN                        NaN   \n",
       "659                 NaN             NaN                        NaN   \n",
       "869                 0.0             0.0                        0.0   \n",
       "1055                0.0             0.0                        0.0   \n",
       "1089                0.0             0.0                        0.0   \n",
       "1152                NaN             NaN                        NaN   \n",
       "1157                NaN             NaN                        NaN   \n",
       "1219                NaN             NaN                        NaN   \n",
       "1343                NaN             NaN                        NaN   \n",
       "\n",
       "      Panda_f_salary     profession  \n",
       "198              0.0  Не определено  \n",
       "329              0.0  Не определено  \n",
       "336              NaN  Не определено  \n",
       "643              NaN  Не определено  \n",
       "659              NaN  Не определено  \n",
       "869              0.0  Не определено  \n",
       "1055             0.0  Не определено  \n",
       "1089             0.0  Не определено  \n",
       "1152             NaN  Не определено  \n",
       "1157             NaN  Не определено  \n",
       "1219             NaN  Не определено  \n",
       "1343             NaN  Не определено  \n",
       "\n",
       "[12 rows x 3352 columns]"
      ]
     },
     "execution_count": 20,
     "metadata": {},
     "output_type": "execute_result"
    }
   ],
   "source": [
    "# Посмотрим на вакансии, профессия которых не определена, для контроля\n",
    "df[df['profession'] == 'Не определено']"
   ]
  },
  {
   "cell_type": "code",
   "execution_count": 21,
   "metadata": {},
   "outputs": [
    {
     "data": {
      "application/vnd.plotly.v1+json": {
       "config": {
        "plotlyServerURL": "https://plot.ly"
       },
       "data": [
        {
         "marker": {
          "color": [
           200000,
           190555.56,
           180555.56,
           90000
          ],
          "colorscale": [
           [
            0,
            "#440154"
           ],
           [
            0.1111111111111111,
            "#482878"
           ],
           [
            0.2222222222222222,
            "#3e4989"
           ],
           [
            0.3333333333333333,
            "#31688e"
           ],
           [
            0.4444444444444444,
            "#26828e"
           ],
           [
            0.5555555555555556,
            "#1f9e89"
           ],
           [
            0.6666666666666666,
            "#35b779"
           ],
           [
            0.7777777777777778,
            "#6ece58"
           ],
           [
            0.8888888888888888,
            "#b5de2b"
           ],
           [
            1,
            "#fde725"
           ]
          ]
         },
         "text": [
          200000,
          190555.56,
          180555.56,
          90000
         ],
         "textposition": "auto",
         "type": "bar",
         "x": [
          "Тамбов",
          "Москва",
          "Санкт-Петербург",
          "Казань"
         ],
         "y": [
          200000,
          190555.56,
          180555.56,
          90000
         ]
        }
       ],
       "layout": {
        "template": {
         "data": {
          "bar": [
           {
            "error_x": {
             "color": "#2a3f5f"
            },
            "error_y": {
             "color": "#2a3f5f"
            },
            "marker": {
             "line": {
              "color": "#E5ECF6",
              "width": 0.5
             },
             "pattern": {
              "fillmode": "overlay",
              "size": 10,
              "solidity": 0.2
             }
            },
            "type": "bar"
           }
          ],
          "barpolar": [
           {
            "marker": {
             "line": {
              "color": "#E5ECF6",
              "width": 0.5
             },
             "pattern": {
              "fillmode": "overlay",
              "size": 10,
              "solidity": 0.2
             }
            },
            "type": "barpolar"
           }
          ],
          "carpet": [
           {
            "aaxis": {
             "endlinecolor": "#2a3f5f",
             "gridcolor": "white",
             "linecolor": "white",
             "minorgridcolor": "white",
             "startlinecolor": "#2a3f5f"
            },
            "baxis": {
             "endlinecolor": "#2a3f5f",
             "gridcolor": "white",
             "linecolor": "white",
             "minorgridcolor": "white",
             "startlinecolor": "#2a3f5f"
            },
            "type": "carpet"
           }
          ],
          "choropleth": [
           {
            "colorbar": {
             "outlinewidth": 0,
             "ticks": ""
            },
            "type": "choropleth"
           }
          ],
          "contour": [
           {
            "colorbar": {
             "outlinewidth": 0,
             "ticks": ""
            },
            "colorscale": [
             [
              0,
              "#0d0887"
             ],
             [
              0.1111111111111111,
              "#46039f"
             ],
             [
              0.2222222222222222,
              "#7201a8"
             ],
             [
              0.3333333333333333,
              "#9c179e"
             ],
             [
              0.4444444444444444,
              "#bd3786"
             ],
             [
              0.5555555555555556,
              "#d8576b"
             ],
             [
              0.6666666666666666,
              "#ed7953"
             ],
             [
              0.7777777777777778,
              "#fb9f3a"
             ],
             [
              0.8888888888888888,
              "#fdca26"
             ],
             [
              1,
              "#f0f921"
             ]
            ],
            "type": "contour"
           }
          ],
          "contourcarpet": [
           {
            "colorbar": {
             "outlinewidth": 0,
             "ticks": ""
            },
            "type": "contourcarpet"
           }
          ],
          "heatmap": [
           {
            "colorbar": {
             "outlinewidth": 0,
             "ticks": ""
            },
            "colorscale": [
             [
              0,
              "#0d0887"
             ],
             [
              0.1111111111111111,
              "#46039f"
             ],
             [
              0.2222222222222222,
              "#7201a8"
             ],
             [
              0.3333333333333333,
              "#9c179e"
             ],
             [
              0.4444444444444444,
              "#bd3786"
             ],
             [
              0.5555555555555556,
              "#d8576b"
             ],
             [
              0.6666666666666666,
              "#ed7953"
             ],
             [
              0.7777777777777778,
              "#fb9f3a"
             ],
             [
              0.8888888888888888,
              "#fdca26"
             ],
             [
              1,
              "#f0f921"
             ]
            ],
            "type": "heatmap"
           }
          ],
          "heatmapgl": [
           {
            "colorbar": {
             "outlinewidth": 0,
             "ticks": ""
            },
            "colorscale": [
             [
              0,
              "#0d0887"
             ],
             [
              0.1111111111111111,
              "#46039f"
             ],
             [
              0.2222222222222222,
              "#7201a8"
             ],
             [
              0.3333333333333333,
              "#9c179e"
             ],
             [
              0.4444444444444444,
              "#bd3786"
             ],
             [
              0.5555555555555556,
              "#d8576b"
             ],
             [
              0.6666666666666666,
              "#ed7953"
             ],
             [
              0.7777777777777778,
              "#fb9f3a"
             ],
             [
              0.8888888888888888,
              "#fdca26"
             ],
             [
              1,
              "#f0f921"
             ]
            ],
            "type": "heatmapgl"
           }
          ],
          "histogram": [
           {
            "marker": {
             "pattern": {
              "fillmode": "overlay",
              "size": 10,
              "solidity": 0.2
             }
            },
            "type": "histogram"
           }
          ],
          "histogram2d": [
           {
            "colorbar": {
             "outlinewidth": 0,
             "ticks": ""
            },
            "colorscale": [
             [
              0,
              "#0d0887"
             ],
             [
              0.1111111111111111,
              "#46039f"
             ],
             [
              0.2222222222222222,
              "#7201a8"
             ],
             [
              0.3333333333333333,
              "#9c179e"
             ],
             [
              0.4444444444444444,
              "#bd3786"
             ],
             [
              0.5555555555555556,
              "#d8576b"
             ],
             [
              0.6666666666666666,
              "#ed7953"
             ],
             [
              0.7777777777777778,
              "#fb9f3a"
             ],
             [
              0.8888888888888888,
              "#fdca26"
             ],
             [
              1,
              "#f0f921"
             ]
            ],
            "type": "histogram2d"
           }
          ],
          "histogram2dcontour": [
           {
            "colorbar": {
             "outlinewidth": 0,
             "ticks": ""
            },
            "colorscale": [
             [
              0,
              "#0d0887"
             ],
             [
              0.1111111111111111,
              "#46039f"
             ],
             [
              0.2222222222222222,
              "#7201a8"
             ],
             [
              0.3333333333333333,
              "#9c179e"
             ],
             [
              0.4444444444444444,
              "#bd3786"
             ],
             [
              0.5555555555555556,
              "#d8576b"
             ],
             [
              0.6666666666666666,
              "#ed7953"
             ],
             [
              0.7777777777777778,
              "#fb9f3a"
             ],
             [
              0.8888888888888888,
              "#fdca26"
             ],
             [
              1,
              "#f0f921"
             ]
            ],
            "type": "histogram2dcontour"
           }
          ],
          "mesh3d": [
           {
            "colorbar": {
             "outlinewidth": 0,
             "ticks": ""
            },
            "type": "mesh3d"
           }
          ],
          "parcoords": [
           {
            "line": {
             "colorbar": {
              "outlinewidth": 0,
              "ticks": ""
             }
            },
            "type": "parcoords"
           }
          ],
          "pie": [
           {
            "automargin": true,
            "type": "pie"
           }
          ],
          "scatter": [
           {
            "fillpattern": {
             "fillmode": "overlay",
             "size": 10,
             "solidity": 0.2
            },
            "type": "scatter"
           }
          ],
          "scatter3d": [
           {
            "line": {
             "colorbar": {
              "outlinewidth": 0,
              "ticks": ""
             }
            },
            "marker": {
             "colorbar": {
              "outlinewidth": 0,
              "ticks": ""
             }
            },
            "type": "scatter3d"
           }
          ],
          "scattercarpet": [
           {
            "marker": {
             "colorbar": {
              "outlinewidth": 0,
              "ticks": ""
             }
            },
            "type": "scattercarpet"
           }
          ],
          "scattergeo": [
           {
            "marker": {
             "colorbar": {
              "outlinewidth": 0,
              "ticks": ""
             }
            },
            "type": "scattergeo"
           }
          ],
          "scattergl": [
           {
            "marker": {
             "colorbar": {
              "outlinewidth": 0,
              "ticks": ""
             }
            },
            "type": "scattergl"
           }
          ],
          "scattermapbox": [
           {
            "marker": {
             "colorbar": {
              "outlinewidth": 0,
              "ticks": ""
             }
            },
            "type": "scattermapbox"
           }
          ],
          "scatterpolar": [
           {
            "marker": {
             "colorbar": {
              "outlinewidth": 0,
              "ticks": ""
             }
            },
            "type": "scatterpolar"
           }
          ],
          "scatterpolargl": [
           {
            "marker": {
             "colorbar": {
              "outlinewidth": 0,
              "ticks": ""
             }
            },
            "type": "scatterpolargl"
           }
          ],
          "scatterternary": [
           {
            "marker": {
             "colorbar": {
              "outlinewidth": 0,
              "ticks": ""
             }
            },
            "type": "scatterternary"
           }
          ],
          "surface": [
           {
            "colorbar": {
             "outlinewidth": 0,
             "ticks": ""
            },
            "colorscale": [
             [
              0,
              "#0d0887"
             ],
             [
              0.1111111111111111,
              "#46039f"
             ],
             [
              0.2222222222222222,
              "#7201a8"
             ],
             [
              0.3333333333333333,
              "#9c179e"
             ],
             [
              0.4444444444444444,
              "#bd3786"
             ],
             [
              0.5555555555555556,
              "#d8576b"
             ],
             [
              0.6666666666666666,
              "#ed7953"
             ],
             [
              0.7777777777777778,
              "#fb9f3a"
             ],
             [
              0.8888888888888888,
              "#fdca26"
             ],
             [
              1,
              "#f0f921"
             ]
            ],
            "type": "surface"
           }
          ],
          "table": [
           {
            "cells": {
             "fill": {
              "color": "#EBF0F8"
             },
             "line": {
              "color": "white"
             }
            },
            "header": {
             "fill": {
              "color": "#C8D4E3"
             },
             "line": {
              "color": "white"
             }
            },
            "type": "table"
           }
          ]
         },
         "layout": {
          "annotationdefaults": {
           "arrowcolor": "#2a3f5f",
           "arrowhead": 0,
           "arrowwidth": 1
          },
          "autotypenumbers": "strict",
          "coloraxis": {
           "colorbar": {
            "outlinewidth": 0,
            "ticks": ""
           }
          },
          "colorscale": {
           "diverging": [
            [
             0,
             "#8e0152"
            ],
            [
             0.1,
             "#c51b7d"
            ],
            [
             0.2,
             "#de77ae"
            ],
            [
             0.3,
             "#f1b6da"
            ],
            [
             0.4,
             "#fde0ef"
            ],
            [
             0.5,
             "#f7f7f7"
            ],
            [
             0.6,
             "#e6f5d0"
            ],
            [
             0.7,
             "#b8e186"
            ],
            [
             0.8,
             "#7fbc41"
            ],
            [
             0.9,
             "#4d9221"
            ],
            [
             1,
             "#276419"
            ]
           ],
           "sequential": [
            [
             0,
             "#0d0887"
            ],
            [
             0.1111111111111111,
             "#46039f"
            ],
            [
             0.2222222222222222,
             "#7201a8"
            ],
            [
             0.3333333333333333,
             "#9c179e"
            ],
            [
             0.4444444444444444,
             "#bd3786"
            ],
            [
             0.5555555555555556,
             "#d8576b"
            ],
            [
             0.6666666666666666,
             "#ed7953"
            ],
            [
             0.7777777777777778,
             "#fb9f3a"
            ],
            [
             0.8888888888888888,
             "#fdca26"
            ],
            [
             1,
             "#f0f921"
            ]
           ],
           "sequentialminus": [
            [
             0,
             "#0d0887"
            ],
            [
             0.1111111111111111,
             "#46039f"
            ],
            [
             0.2222222222222222,
             "#7201a8"
            ],
            [
             0.3333333333333333,
             "#9c179e"
            ],
            [
             0.4444444444444444,
             "#bd3786"
            ],
            [
             0.5555555555555556,
             "#d8576b"
            ],
            [
             0.6666666666666666,
             "#ed7953"
            ],
            [
             0.7777777777777778,
             "#fb9f3a"
            ],
            [
             0.8888888888888888,
             "#fdca26"
            ],
            [
             1,
             "#f0f921"
            ]
           ]
          },
          "colorway": [
           "#636efa",
           "#EF553B",
           "#00cc96",
           "#ab63fa",
           "#FFA15A",
           "#19d3f3",
           "#FF6692",
           "#B6E880",
           "#FF97FF",
           "#FECB52"
          ],
          "font": {
           "color": "#2a3f5f"
          },
          "geo": {
           "bgcolor": "white",
           "lakecolor": "white",
           "landcolor": "#E5ECF6",
           "showlakes": true,
           "showland": true,
           "subunitcolor": "white"
          },
          "hoverlabel": {
           "align": "left"
          },
          "hovermode": "closest",
          "mapbox": {
           "style": "light"
          },
          "paper_bgcolor": "white",
          "plot_bgcolor": "#E5ECF6",
          "polar": {
           "angularaxis": {
            "gridcolor": "white",
            "linecolor": "white",
            "ticks": ""
           },
           "bgcolor": "#E5ECF6",
           "radialaxis": {
            "gridcolor": "white",
            "linecolor": "white",
            "ticks": ""
           }
          },
          "scene": {
           "xaxis": {
            "backgroundcolor": "#E5ECF6",
            "gridcolor": "white",
            "gridwidth": 2,
            "linecolor": "white",
            "showbackground": true,
            "ticks": "",
            "zerolinecolor": "white"
           },
           "yaxis": {
            "backgroundcolor": "#E5ECF6",
            "gridcolor": "white",
            "gridwidth": 2,
            "linecolor": "white",
            "showbackground": true,
            "ticks": "",
            "zerolinecolor": "white"
           },
           "zaxis": {
            "backgroundcolor": "#E5ECF6",
            "gridcolor": "white",
            "gridwidth": 2,
            "linecolor": "white",
            "showbackground": true,
            "ticks": "",
            "zerolinecolor": "white"
           }
          },
          "shapedefaults": {
           "line": {
            "color": "#2a3f5f"
           }
          },
          "ternary": {
           "aaxis": {
            "gridcolor": "white",
            "linecolor": "white",
            "ticks": ""
           },
           "baxis": {
            "gridcolor": "white",
            "linecolor": "white",
            "ticks": ""
           },
           "bgcolor": "#E5ECF6",
           "caxis": {
            "gridcolor": "white",
            "linecolor": "white",
            "ticks": ""
           }
          },
          "title": {
           "x": 0.05
          },
          "xaxis": {
           "automargin": true,
           "gridcolor": "white",
           "linecolor": "white",
           "ticks": "",
           "title": {
            "standoff": 15
           },
           "zerolinecolor": "white",
           "zerolinewidth": 2
          },
          "yaxis": {
           "automargin": true,
           "gridcolor": "white",
           "linecolor": "white",
           "ticks": "",
           "title": {
            "standoff": 15
           },
           "zerolinecolor": "white",
           "zerolinewidth": 2
          }
         }
        },
        "title": {
         "text": "Средняя заработная плата по вакансиям тестировщика (QA)"
        },
        "xaxis": {
         "title": {
          "text": "Город"
         }
        },
        "yaxis": {
         "title": {
          "text": "Заработная плата (руб.)"
         }
        }
       }
      }
     },
     "metadata": {},
     "output_type": "display_data"
    }
   ],
   "source": [
    "import plotly.graph_objects as go\n",
    "\n",
    "# Датафрейм по профессии \"Тестировщик\"\n",
    "df_qa = df[df['profession'] == 'Тестировщик']\n",
    "df_qa.dropna(subset=['mean_salary_rub'], inplace=True)\n",
    "city_salary = df_qa.groupby('area')['mean_salary_rub'].mean().round(2)\n",
    "city_salary = city_salary.sort_values(ascending=False)\n",
    "\n",
    "# Топ-10 городов с наибольшей средней заработной платой\n",
    "top_cities = city_salary[:10]\n",
    "\n",
    "fig = go.Figure(go.Bar(\n",
    "    x=top_cities.index,\n",
    "    y=top_cities.values,\n",
    "    marker={'color': top_cities.values, 'colorscale': 'Viridis'},\n",
    "    text=top_cities.values,\n",
    "    textposition='auto',\n",
    "))\n",
    "fig.update_layout(\n",
    "    title='Средняя заработная плата по вакансиям тестировщика (QA)',\n",
    "    xaxis_title='Город',\n",
    "    yaxis_title='Заработная плата (руб.)',\n",
    ")\n",
    "fig.show()\n"
   ]
  },
  {
   "cell_type": "markdown",
   "metadata": {},
   "source": [
    "#### 5. Покажите динамику количества вакансии по месяцам даты создания."
   ]
  },
  {
   "cell_type": "code",
   "execution_count": 22,
   "metadata": {},
   "outputs": [
    {
     "data": {
      "application/vnd.plotly.v1+json": {
       "config": {
        "plotlyServerURL": "https://plot.ly"
       },
       "data": [
        {
         "marker": {
          "angleref": "previous",
          "color": "royalblue",
          "size": 26,
          "symbol": "arrow"
         },
         "mode": "markers+lines",
         "showlegend": false,
         "type": "scatter",
         "x": [
          1039,
          405,
          null,
          47,
          16,
          null,
          76,
          17,
          null,
          15,
          5,
          null,
          27,
          7,
          null,
          21,
          9,
          null,
          10,
          2,
          null,
          4,
          4,
          null
         ],
         "y": [
          "Разработчик",
          "Разработчик",
          null,
          "Тестировщик",
          "Тестировщик",
          null,
          "Инженер",
          "Инженер",
          null,
          "Аналитик",
          "Аналитик",
          null,
          "Team Lead",
          "Team Lead",
          null,
          "Преподаватель",
          "Преподаватель",
          null,
          "Не определено",
          "Не определено",
          null,
          "Data Scientis",
          "Data Scientis",
          null
         ]
        },
        {
         "hovertemplate": "Профессия: %{y} <br> Количество вакансий: %{x} <br><extra></extra>",
         "marker": {
          "color": "silver",
          "size": 26
         },
         "mode": "markers",
         "name": "July 2021",
         "type": "scatter",
         "x": [
          1039,
          47,
          76,
          15,
          27,
          21,
          10,
          4
         ],
         "y": [
          "Разработчик",
          "Тестировщик",
          "Инженер",
          "Аналитик",
          "Team Lead",
          "Преподаватель",
          "Не определено",
          "Data Scientis"
         ]
        },
        {
         "hovertemplate": "Профессия: %{y} <br> Количество вакансий: %{x} <br><extra></extra>",
         "marker": {
          "color": "lightskyblue",
          "size": 26
         },
         "mode": "markers",
         "name": "August 2021",
         "type": "scatter",
         "x": [
          405,
          16,
          17,
          5,
          7,
          9,
          2,
          4
         ],
         "y": [
          "Разработчик",
          "Тестировщик",
          "Инженер",
          "Аналитик",
          "Team Lead",
          "Преподаватель",
          "Не определено",
          "Data Scientis"
         ]
        }
       ],
       "layout": {
        "height": 500,
        "legend": {
         "itemclick": false
        },
        "template": {
         "data": {
          "bar": [
           {
            "error_x": {
             "color": "#2a3f5f"
            },
            "error_y": {
             "color": "#2a3f5f"
            },
            "marker": {
             "line": {
              "color": "#E5ECF6",
              "width": 0.5
             },
             "pattern": {
              "fillmode": "overlay",
              "size": 10,
              "solidity": 0.2
             }
            },
            "type": "bar"
           }
          ],
          "barpolar": [
           {
            "marker": {
             "line": {
              "color": "#E5ECF6",
              "width": 0.5
             },
             "pattern": {
              "fillmode": "overlay",
              "size": 10,
              "solidity": 0.2
             }
            },
            "type": "barpolar"
           }
          ],
          "carpet": [
           {
            "aaxis": {
             "endlinecolor": "#2a3f5f",
             "gridcolor": "white",
             "linecolor": "white",
             "minorgridcolor": "white",
             "startlinecolor": "#2a3f5f"
            },
            "baxis": {
             "endlinecolor": "#2a3f5f",
             "gridcolor": "white",
             "linecolor": "white",
             "minorgridcolor": "white",
             "startlinecolor": "#2a3f5f"
            },
            "type": "carpet"
           }
          ],
          "choropleth": [
           {
            "colorbar": {
             "outlinewidth": 0,
             "ticks": ""
            },
            "type": "choropleth"
           }
          ],
          "contour": [
           {
            "colorbar": {
             "outlinewidth": 0,
             "ticks": ""
            },
            "colorscale": [
             [
              0,
              "#0d0887"
             ],
             [
              0.1111111111111111,
              "#46039f"
             ],
             [
              0.2222222222222222,
              "#7201a8"
             ],
             [
              0.3333333333333333,
              "#9c179e"
             ],
             [
              0.4444444444444444,
              "#bd3786"
             ],
             [
              0.5555555555555556,
              "#d8576b"
             ],
             [
              0.6666666666666666,
              "#ed7953"
             ],
             [
              0.7777777777777778,
              "#fb9f3a"
             ],
             [
              0.8888888888888888,
              "#fdca26"
             ],
             [
              1,
              "#f0f921"
             ]
            ],
            "type": "contour"
           }
          ],
          "contourcarpet": [
           {
            "colorbar": {
             "outlinewidth": 0,
             "ticks": ""
            },
            "type": "contourcarpet"
           }
          ],
          "heatmap": [
           {
            "colorbar": {
             "outlinewidth": 0,
             "ticks": ""
            },
            "colorscale": [
             [
              0,
              "#0d0887"
             ],
             [
              0.1111111111111111,
              "#46039f"
             ],
             [
              0.2222222222222222,
              "#7201a8"
             ],
             [
              0.3333333333333333,
              "#9c179e"
             ],
             [
              0.4444444444444444,
              "#bd3786"
             ],
             [
              0.5555555555555556,
              "#d8576b"
             ],
             [
              0.6666666666666666,
              "#ed7953"
             ],
             [
              0.7777777777777778,
              "#fb9f3a"
             ],
             [
              0.8888888888888888,
              "#fdca26"
             ],
             [
              1,
              "#f0f921"
             ]
            ],
            "type": "heatmap"
           }
          ],
          "heatmapgl": [
           {
            "colorbar": {
             "outlinewidth": 0,
             "ticks": ""
            },
            "colorscale": [
             [
              0,
              "#0d0887"
             ],
             [
              0.1111111111111111,
              "#46039f"
             ],
             [
              0.2222222222222222,
              "#7201a8"
             ],
             [
              0.3333333333333333,
              "#9c179e"
             ],
             [
              0.4444444444444444,
              "#bd3786"
             ],
             [
              0.5555555555555556,
              "#d8576b"
             ],
             [
              0.6666666666666666,
              "#ed7953"
             ],
             [
              0.7777777777777778,
              "#fb9f3a"
             ],
             [
              0.8888888888888888,
              "#fdca26"
             ],
             [
              1,
              "#f0f921"
             ]
            ],
            "type": "heatmapgl"
           }
          ],
          "histogram": [
           {
            "marker": {
             "pattern": {
              "fillmode": "overlay",
              "size": 10,
              "solidity": 0.2
             }
            },
            "type": "histogram"
           }
          ],
          "histogram2d": [
           {
            "colorbar": {
             "outlinewidth": 0,
             "ticks": ""
            },
            "colorscale": [
             [
              0,
              "#0d0887"
             ],
             [
              0.1111111111111111,
              "#46039f"
             ],
             [
              0.2222222222222222,
              "#7201a8"
             ],
             [
              0.3333333333333333,
              "#9c179e"
             ],
             [
              0.4444444444444444,
              "#bd3786"
             ],
             [
              0.5555555555555556,
              "#d8576b"
             ],
             [
              0.6666666666666666,
              "#ed7953"
             ],
             [
              0.7777777777777778,
              "#fb9f3a"
             ],
             [
              0.8888888888888888,
              "#fdca26"
             ],
             [
              1,
              "#f0f921"
             ]
            ],
            "type": "histogram2d"
           }
          ],
          "histogram2dcontour": [
           {
            "colorbar": {
             "outlinewidth": 0,
             "ticks": ""
            },
            "colorscale": [
             [
              0,
              "#0d0887"
             ],
             [
              0.1111111111111111,
              "#46039f"
             ],
             [
              0.2222222222222222,
              "#7201a8"
             ],
             [
              0.3333333333333333,
              "#9c179e"
             ],
             [
              0.4444444444444444,
              "#bd3786"
             ],
             [
              0.5555555555555556,
              "#d8576b"
             ],
             [
              0.6666666666666666,
              "#ed7953"
             ],
             [
              0.7777777777777778,
              "#fb9f3a"
             ],
             [
              0.8888888888888888,
              "#fdca26"
             ],
             [
              1,
              "#f0f921"
             ]
            ],
            "type": "histogram2dcontour"
           }
          ],
          "mesh3d": [
           {
            "colorbar": {
             "outlinewidth": 0,
             "ticks": ""
            },
            "type": "mesh3d"
           }
          ],
          "parcoords": [
           {
            "line": {
             "colorbar": {
              "outlinewidth": 0,
              "ticks": ""
             }
            },
            "type": "parcoords"
           }
          ],
          "pie": [
           {
            "automargin": true,
            "type": "pie"
           }
          ],
          "scatter": [
           {
            "fillpattern": {
             "fillmode": "overlay",
             "size": 10,
             "solidity": 0.2
            },
            "type": "scatter"
           }
          ],
          "scatter3d": [
           {
            "line": {
             "colorbar": {
              "outlinewidth": 0,
              "ticks": ""
             }
            },
            "marker": {
             "colorbar": {
              "outlinewidth": 0,
              "ticks": ""
             }
            },
            "type": "scatter3d"
           }
          ],
          "scattercarpet": [
           {
            "marker": {
             "colorbar": {
              "outlinewidth": 0,
              "ticks": ""
             }
            },
            "type": "scattercarpet"
           }
          ],
          "scattergeo": [
           {
            "marker": {
             "colorbar": {
              "outlinewidth": 0,
              "ticks": ""
             }
            },
            "type": "scattergeo"
           }
          ],
          "scattergl": [
           {
            "marker": {
             "colorbar": {
              "outlinewidth": 0,
              "ticks": ""
             }
            },
            "type": "scattergl"
           }
          ],
          "scattermapbox": [
           {
            "marker": {
             "colorbar": {
              "outlinewidth": 0,
              "ticks": ""
             }
            },
            "type": "scattermapbox"
           }
          ],
          "scatterpolar": [
           {
            "marker": {
             "colorbar": {
              "outlinewidth": 0,
              "ticks": ""
             }
            },
            "type": "scatterpolar"
           }
          ],
          "scatterpolargl": [
           {
            "marker": {
             "colorbar": {
              "outlinewidth": 0,
              "ticks": ""
             }
            },
            "type": "scatterpolargl"
           }
          ],
          "scatterternary": [
           {
            "marker": {
             "colorbar": {
              "outlinewidth": 0,
              "ticks": ""
             }
            },
            "type": "scatterternary"
           }
          ],
          "surface": [
           {
            "colorbar": {
             "outlinewidth": 0,
             "ticks": ""
            },
            "colorscale": [
             [
              0,
              "#0d0887"
             ],
             [
              0.1111111111111111,
              "#46039f"
             ],
             [
              0.2222222222222222,
              "#7201a8"
             ],
             [
              0.3333333333333333,
              "#9c179e"
             ],
             [
              0.4444444444444444,
              "#bd3786"
             ],
             [
              0.5555555555555556,
              "#d8576b"
             ],
             [
              0.6666666666666666,
              "#ed7953"
             ],
             [
              0.7777777777777778,
              "#fb9f3a"
             ],
             [
              0.8888888888888888,
              "#fdca26"
             ],
             [
              1,
              "#f0f921"
             ]
            ],
            "type": "surface"
           }
          ],
          "table": [
           {
            "cells": {
             "fill": {
              "color": "#EBF0F8"
             },
             "line": {
              "color": "white"
             }
            },
            "header": {
             "fill": {
              "color": "#C8D4E3"
             },
             "line": {
              "color": "white"
             }
            },
            "type": "table"
           }
          ]
         },
         "layout": {
          "annotationdefaults": {
           "arrowcolor": "#2a3f5f",
           "arrowhead": 0,
           "arrowwidth": 1
          },
          "autotypenumbers": "strict",
          "coloraxis": {
           "colorbar": {
            "outlinewidth": 0,
            "ticks": ""
           }
          },
          "colorscale": {
           "diverging": [
            [
             0,
             "#8e0152"
            ],
            [
             0.1,
             "#c51b7d"
            ],
            [
             0.2,
             "#de77ae"
            ],
            [
             0.3,
             "#f1b6da"
            ],
            [
             0.4,
             "#fde0ef"
            ],
            [
             0.5,
             "#f7f7f7"
            ],
            [
             0.6,
             "#e6f5d0"
            ],
            [
             0.7,
             "#b8e186"
            ],
            [
             0.8,
             "#7fbc41"
            ],
            [
             0.9,
             "#4d9221"
            ],
            [
             1,
             "#276419"
            ]
           ],
           "sequential": [
            [
             0,
             "#0d0887"
            ],
            [
             0.1111111111111111,
             "#46039f"
            ],
            [
             0.2222222222222222,
             "#7201a8"
            ],
            [
             0.3333333333333333,
             "#9c179e"
            ],
            [
             0.4444444444444444,
             "#bd3786"
            ],
            [
             0.5555555555555556,
             "#d8576b"
            ],
            [
             0.6666666666666666,
             "#ed7953"
            ],
            [
             0.7777777777777778,
             "#fb9f3a"
            ],
            [
             0.8888888888888888,
             "#fdca26"
            ],
            [
             1,
             "#f0f921"
            ]
           ],
           "sequentialminus": [
            [
             0,
             "#0d0887"
            ],
            [
             0.1111111111111111,
             "#46039f"
            ],
            [
             0.2222222222222222,
             "#7201a8"
            ],
            [
             0.3333333333333333,
             "#9c179e"
            ],
            [
             0.4444444444444444,
             "#bd3786"
            ],
            [
             0.5555555555555556,
             "#d8576b"
            ],
            [
             0.6666666666666666,
             "#ed7953"
            ],
            [
             0.7777777777777778,
             "#fb9f3a"
            ],
            [
             0.8888888888888888,
             "#fdca26"
            ],
            [
             1,
             "#f0f921"
            ]
           ]
          },
          "colorway": [
           "#636efa",
           "#EF553B",
           "#00cc96",
           "#ab63fa",
           "#FFA15A",
           "#19d3f3",
           "#FF6692",
           "#B6E880",
           "#FF97FF",
           "#FECB52"
          ],
          "font": {
           "color": "#2a3f5f"
          },
          "geo": {
           "bgcolor": "white",
           "lakecolor": "white",
           "landcolor": "#E5ECF6",
           "showlakes": true,
           "showland": true,
           "subunitcolor": "white"
          },
          "hoverlabel": {
           "align": "left"
          },
          "hovermode": "closest",
          "mapbox": {
           "style": "light"
          },
          "paper_bgcolor": "white",
          "plot_bgcolor": "#E5ECF6",
          "polar": {
           "angularaxis": {
            "gridcolor": "white",
            "linecolor": "white",
            "ticks": ""
           },
           "bgcolor": "#E5ECF6",
           "radialaxis": {
            "gridcolor": "white",
            "linecolor": "white",
            "ticks": ""
           }
          },
          "scene": {
           "xaxis": {
            "backgroundcolor": "#E5ECF6",
            "gridcolor": "white",
            "gridwidth": 2,
            "linecolor": "white",
            "showbackground": true,
            "ticks": "",
            "zerolinecolor": "white"
           },
           "yaxis": {
            "backgroundcolor": "#E5ECF6",
            "gridcolor": "white",
            "gridwidth": 2,
            "linecolor": "white",
            "showbackground": true,
            "ticks": "",
            "zerolinecolor": "white"
           },
           "zaxis": {
            "backgroundcolor": "#E5ECF6",
            "gridcolor": "white",
            "gridwidth": 2,
            "linecolor": "white",
            "showbackground": true,
            "ticks": "",
            "zerolinecolor": "white"
           }
          },
          "shapedefaults": {
           "line": {
            "color": "#2a3f5f"
           }
          },
          "ternary": {
           "aaxis": {
            "gridcolor": "white",
            "linecolor": "white",
            "ticks": ""
           },
           "baxis": {
            "gridcolor": "white",
            "linecolor": "white",
            "ticks": ""
           },
           "bgcolor": "#E5ECF6",
           "caxis": {
            "gridcolor": "white",
            "linecolor": "white",
            "ticks": ""
           }
          },
          "title": {
           "x": 0.05
          },
          "xaxis": {
           "automargin": true,
           "gridcolor": "white",
           "linecolor": "white",
           "ticks": "",
           "title": {
            "standoff": 15
           },
           "zerolinecolor": "white",
           "zerolinewidth": 2
          },
          "yaxis": {
           "automargin": true,
           "gridcolor": "white",
           "linecolor": "white",
           "ticks": "",
           "title": {
            "standoff": 15
           },
           "zerolinecolor": "white",
           "zerolinewidth": 2
          }
         }
        },
        "title": {
         "text": "Динамика количества вакансий по месяцам для каждой профессии"
        }
       }
      }
     },
     "metadata": {},
     "output_type": "display_data"
    }
   ],
   "source": [
    "# Преобразование столбца даты создания в формат datetime\n",
    "df['created'] = pd.to_datetime(df['created'])\n",
    "\n",
    "# Группировка вакансий по месяцу создания и подсчет их количества\n",
    "df_monthly_prof = df.groupby([pd.Grouper(key='created', freq='M'), 'profession']).size().reset_index(name='count')\n",
    "\n",
    "# Список профессий для построения графика\n",
    "professions = df['profession'].unique()\n",
    "\n",
    "data = {\n",
    "    \"line_x\": [], \n",
    "    \"line_y\": [], \n",
    "    \"count_month_1\": [], \n",
    "    \"count_month_2\": [], \n",
    "    \"colors\": [], \n",
    "    \"months\": [], \n",
    "    \"professions\": []\n",
    "}\n",
    "\n",
    "# Для каждой профессии\n",
    "for profession in professions:\n",
    "    # Выбираем данные только для данной профессии\n",
    "    df_prof = df_monthly_prof[df_monthly_prof['profession'] == profession]\n",
    "    \n",
    "    # Добавляем данные для построения графика\n",
    "    data[\"count_month_1\"].extend(df_prof[df_prof['created'] == df_prof['created'].min()]['count'].values)\n",
    "    data[\"count_month_2\"].extend(df_prof[df_prof['created'] == df_prof['created'].max()]['count'].values)\n",
    "    data[\"line_x\"].extend(\n",
    "        [\n",
    "            df_prof[df_prof['created'] == df_prof['created'].min()]['count'].values[0],\n",
    "            df_prof[df_prof['created'] == df_prof['created'].max()]['count'].values[0],\n",
    "            None,\n",
    "        ]\n",
    "    )\n",
    "    data[\"line_y\"].extend([profession, profession, None])\n",
    "    data[\"months\"].extend([df_prof['created'].min(), df_prof['created'].max(), None])\n",
    "    data[\"professions\"].extend([profession, profession, None])\n",
    "\n",
    "fig = go.Figure(\n",
    "    data=[\n",
    "        go.Scatter(\n",
    "            x=data[\"line_x\"],\n",
    "            y=data[\"line_y\"],\n",
    "            mode=\"markers+lines\",\n",
    "            showlegend=False,\n",
    "            marker=dict(\n",
    "                symbol=\"arrow\", \n",
    "                color=\"royalblue\", \n",
    "                size=26, \n",
    "                angleref=\"previous\"\n",
    "            )\n",
    "        ),\n",
    "        go.Scatter(\n",
    "            x=data[\"count_month_1\"],\n",
    "            y=professions, \n",
    "            name=data[\"months\"][0].strftime(\"%B %Y\"),\n",
    "            mode=\"markers\",\n",
    "            marker=dict(\n",
    "                color=\"silver\",\n",
    "                size=26\n",
    "            ),\n",
    "            hovertemplate=\"\"\"Профессия: %{y} <br> Количество вакансий: %{x} <br><extra></extra>\"\"\",\n",
    "        ),\n",
    "        go.Scatter(\n",
    "            x=data[\"count_month_2\"],\n",
    "            y=professions,\n",
    "            name=data[\"months\"][1].strftime(\"%B %Y\"),\n",
    "            mode=\"markers\",\n",
    "            marker=dict(\n",
    "                color=\"lightskyblue\",\n",
    "                size=26\n",
    "            ),\n",
    "            hovertemplate=\"\"\"Профессия: %{y} <br> Количество вакансий: %{x} <br><extra></extra>\"\"\",\n",
    "        ),\n",
    "    ]\n",
    ")\n",
    "\n",
    "fig.update_layout(\n",
    "    title=\"Динамика количества вакансий по месяцам для каждой профессии\",\n",
    "    height=500,\n",
    "    legend_itemclick=False\n",
    ")\n",
    "\n",
    "fig.show()"
   ]
  },
  {
   "cell_type": "markdown",
   "metadata": {},
   "source": [
    "#### 6. Напишите функцию для поиска вакансий по переданным в нее значениям заработной платы, наличия тестового задания, наличия заданного текста в наименовании вакансии, наличия заданного навыка. В результате выведите количество найденных вакансий, среднюю заработную плату по найденным вакансиям и список ссылок найденных вакансий. "
   ]
  },
  {
   "cell_type": "code",
   "execution_count": 23,
   "metadata": {},
   "outputs": [
    {
     "name": "stdout",
     "output_type": "stream",
     "text": [
      "Найдено 159 вакансий со средней зарплатой 189655.25 руб.\n",
      "https://hh.ru/applicant/vacancy_response?vacancyId=45972293\n",
      "https://hh.ru/applicant/vacancy_response?vacancyId=46106059\n",
      "https://hh.ru/applicant/vacancy_response?vacancyId=42608114\n",
      "https://hh.ru/applicant/vacancy_response?vacancyId=46614391\n",
      "https://hh.ru/applicant/vacancy_response?vacancyId=45924294\n",
      "https://hh.ru/applicant/vacancy_response?vacancyId=46386511\n",
      "https://hh.ru/applicant/vacancy_response?vacancyId=46325809\n",
      "https://hh.ru/applicant/vacancy_response?vacancyId=43674070\n",
      "https://hh.ru/applicant/vacancy_response?vacancyId=43674066\n",
      "https://hh.ru/applicant/vacancy_response?vacancyId=45728416\n",
      "https://hh.ru/applicant/vacancy_response?vacancyId=46573009\n",
      "https://hh.ru/applicant/vacancy_response?vacancyId=43674084\n",
      "https://hh.ru/applicant/vacancy_response?vacancyId=46259725\n",
      "https://hh.ru/applicant/vacancy_response?vacancyId=46604456\n",
      "https://hh.ru/applicant/vacancy_response?vacancyId=46008191\n",
      "https://hh.ru/applicant/vacancy_response?vacancyId=38792841\n",
      "https://hh.ru/applicant/vacancy_response?vacancyId=46650664\n",
      "https://hh.ru/applicant/vacancy_response?vacancyId=46670558\n",
      "https://hh.ru/applicant/vacancy_response?vacancyId=30548119\n",
      "https://hh.ru/applicant/vacancy_response?vacancyId=45657847\n",
      "https://hh.ru/applicant/vacancy_response?vacancyId=46625950\n",
      "https://hh.ru/applicant/vacancy_response?vacancyId=46670557\n",
      "https://hh.ru/applicant/vacancy_response?vacancyId=41767380\n",
      "https://hh.ru/applicant/vacancy_response?vacancyId=42615019\n",
      "https://hh.ru/applicant/vacancy_response?vacancyId=42864896\n",
      "https://hh.ru/applicant/vacancy_response?vacancyId=46191685\n",
      "https://hh.ru/applicant/vacancy_response?vacancyId=45135675\n",
      "https://hh.ru/applicant/vacancy_response?vacancyId=46497746\n",
      "https://hh.ru/applicant/vacancy_response?vacancyId=46618136\n",
      "https://hh.ru/applicant/vacancy_response?vacancyId=43856428\n",
      "https://hh.ru/applicant/vacancy_response?vacancyId=45560000\n",
      "https://hh.ru/applicant/vacancy_response?vacancyId=46425297\n",
      "https://hh.ru/applicant/vacancy_response?vacancyId=46154323\n",
      "https://hh.ru/applicant/vacancy_response?vacancyId=45728419\n",
      "https://hh.ru/applicant/vacancy_response?vacancyId=45974501\n",
      "https://hh.ru/applicant/vacancy_response?vacancyId=42220380\n",
      "https://hh.ru/applicant/vacancy_response?vacancyId=46192071\n",
      "https://hh.ru/applicant/vacancy_response?vacancyId=46718244\n",
      "https://hh.ru/applicant/vacancy_response?vacancyId=46204923\n",
      "https://hh.ru/applicant/vacancy_response?vacancyId=46143018\n",
      "https://hh.ru/applicant/vacancy_response?vacancyId=45654903\n",
      "https://hh.ru/applicant/vacancy_response?vacancyId=46106105\n",
      "https://hh.ru/applicant/vacancy_response?vacancyId=41727993\n",
      "https://hh.ru/applicant/vacancy_response?vacancyId=45229185\n",
      "https://hh.ru/applicant/vacancy_response?vacancyId=46455110\n",
      "https://hh.ru/applicant/vacancy_response?vacancyId=46169417\n",
      "https://hh.ru/applicant/vacancy_response?vacancyId=45728420\n",
      "https://hh.ru/applicant/vacancy_response?vacancyId=46161285\n",
      "https://hh.ru/applicant/vacancy_response?vacancyId=46439735\n",
      "https://hh.ru/applicant/vacancy_response?vacancyId=45414767\n",
      "https://hh.ru/applicant/vacancy_response?vacancyId=46674084\n",
      "https://hh.ru/applicant/vacancy_response?vacancyId=46351042\n",
      "https://hh.ru/applicant/vacancy_response?vacancyId=42601947\n",
      "https://hh.ru/applicant/vacancy_response?vacancyId=46496928\n",
      "https://hh.ru/applicant/vacancy_response?vacancyId=45468885\n",
      "https://hh.ru/applicant/vacancy_response?vacancyId=44913973\n",
      "https://hh.ru/applicant/vacancy_response?vacancyId=43258642\n",
      "https://hh.ru/applicant/vacancy_response?vacancyId=46468034\n",
      "https://hh.ru/applicant/vacancy_response?vacancyId=46673320\n",
      "https://hh.ru/applicant/vacancy_response?vacancyId=46098189\n",
      "https://hh.ru/applicant/vacancy_response?vacancyId=45357150\n",
      "https://hh.ru/applicant/vacancy_response?vacancyId=46297148\n",
      "https://hh.ru/applicant/vacancy_response?vacancyId=46722594\n",
      "https://hh.ru/applicant/vacancy_response?vacancyId=45950131\n",
      "https://hh.ru/applicant/vacancy_response?vacancyId=46245740\n",
      "https://hh.ru/applicant/vacancy_response?vacancyId=40728652\n",
      "https://hh.ru/applicant/vacancy_response?vacancyId=46211168\n",
      "https://hh.ru/applicant/vacancy_response?vacancyId=41263186\n",
      "https://hh.ru/applicant/vacancy_response?vacancyId=46700993\n",
      "https://hh.ru/applicant/vacancy_response?vacancyId=46304212\n",
      "https://hh.ru/applicant/vacancy_response?vacancyId=46230357\n",
      "https://hh.ru/applicant/vacancy_response?vacancyId=46212591\n",
      "https://hh.ru/applicant/vacancy_response?vacancyId=46123880\n",
      "https://hh.ru/applicant/vacancy_response?vacancyId=46122104\n",
      "https://hh.ru/applicant/vacancy_response?vacancyId=46079761\n",
      "https://hh.ru/applicant/vacancy_response?vacancyId=45555166\n",
      "https://hh.ru/applicant/vacancy_response?vacancyId=46325964\n",
      "https://hh.ru/applicant/vacancy_response?vacancyId=45728417\n",
      "https://hh.ru/applicant/vacancy_response?vacancyId=46229759\n",
      "https://hh.ru/applicant/vacancy_response?vacancyId=46134455\n",
      "https://hh.ru/applicant/vacancy_response?vacancyId=46477773\n",
      "https://hh.ru/applicant/vacancy_response?vacancyId=46420684\n",
      "https://hh.ru/applicant/vacancy_response?vacancyId=45728421\n",
      "https://hh.ru/applicant/vacancy_response?vacancyId=46349821\n",
      "https://hh.ru/applicant/vacancy_response?vacancyId=42501464\n",
      "https://hh.ru/applicant/vacancy_response?vacancyId=45125964\n",
      "https://hh.ru/applicant/vacancy_response?vacancyId=46335651\n",
      "https://hh.ru/applicant/vacancy_response?vacancyId=46023270\n",
      "https://hh.ru/applicant/vacancy_response?vacancyId=46519294\n",
      "https://hh.ru/applicant/vacancy_response?vacancyId=46690324\n",
      "https://hh.ru/applicant/vacancy_response?vacancyId=45312291\n",
      "https://hh.ru/applicant/vacancy_response?vacancyId=46565142\n",
      "https://hh.ru/applicant/vacancy_response?vacancyId=44818284\n",
      "https://hh.ru/applicant/vacancy_response?vacancyId=46372339\n",
      "https://hh.ru/applicant/vacancy_response?vacancyId=45244551\n",
      "https://hh.ru/applicant/vacancy_response?vacancyId=46535534\n",
      "https://hh.ru/applicant/vacancy_response?vacancyId=46017566\n",
      "https://hh.ru/applicant/vacancy_response?vacancyId=46123925\n",
      "https://hh.ru/applicant/vacancy_response?vacancyId=46559189\n",
      "https://hh.ru/applicant/vacancy_response?vacancyId=46563698\n",
      "https://hh.ru/applicant/vacancy_response?vacancyId=46177661\n",
      "https://hh.ru/applicant/vacancy_response?vacancyId=46055778\n",
      "https://hh.ru/applicant/vacancy_response?vacancyId=46513996\n",
      "https://hh.ru/applicant/vacancy_response?vacancyId=46603938\n",
      "https://hh.ru/applicant/vacancy_response?vacancyId=45988894\n",
      "https://hh.ru/applicant/vacancy_response?vacancyId=46046293\n",
      "https://hh.ru/applicant/vacancy_response?vacancyId=43925214\n",
      "https://hh.ru/applicant/vacancy_response?vacancyId=45785423\n",
      "https://hh.ru/applicant/vacancy_response?vacancyId=46280996\n",
      "https://hh.ru/applicant/vacancy_response?vacancyId=44887350\n",
      "https://hh.ru/applicant/vacancy_response?vacancyId=45785483\n",
      "https://hh.ru/applicant/vacancy_response?vacancyId=46107864\n",
      "https://hh.ru/applicant/vacancy_response?vacancyId=43674097\n",
      "https://hh.ru/applicant/vacancy_response?vacancyId=45610753\n",
      "https://hh.ru/applicant/vacancy_response?vacancyId=46392030\n",
      "https://hh.ru/applicant/vacancy_response?vacancyId=45312073\n",
      "https://hh.ru/applicant/vacancy_response?vacancyId=43674102\n",
      "https://hh.ru/applicant/vacancy_response?vacancyId=46417735\n",
      "https://hh.ru/applicant/vacancy_response?vacancyId=46451141\n",
      "https://hh.ru/applicant/vacancy_response?vacancyId=46327140\n",
      "https://hh.ru/applicant/vacancy_response?vacancyId=46574931\n",
      "https://hh.ru/applicant/vacancy_response?vacancyId=46690447\n",
      "https://hh.ru/applicant/vacancy_response?vacancyId=43856438\n",
      "https://hh.ru/applicant/vacancy_response?vacancyId=43674112\n",
      "https://hh.ru/applicant/vacancy_response?vacancyId=43968966\n",
      "https://hh.ru/applicant/vacancy_response?vacancyId=46665044\n",
      "https://hh.ru/applicant/vacancy_response?vacancyId=44767329\n",
      "https://hh.ru/applicant/vacancy_response?vacancyId=46660773\n",
      "https://hh.ru/applicant/vacancy_response?vacancyId=46295113\n",
      "https://hh.ru/applicant/vacancy_response?vacancyId=46659392\n",
      "https://hh.ru/applicant/vacancy_response?vacancyId=46571498\n",
      "https://hh.ru/applicant/vacancy_response?vacancyId=43455147\n",
      "https://hh.ru/applicant/vacancy_response?vacancyId=46085687\n",
      "https://hh.ru/applicant/vacancy_response?vacancyId=43674057\n",
      "https://hh.ru/applicant/vacancy_response?vacancyId=46706519\n",
      "https://hh.ru/applicant/vacancy_response?vacancyId=46100698\n",
      "https://hh.ru/applicant/vacancy_response?vacancyId=46090006\n",
      "https://hh.ru/applicant/vacancy_response?vacancyId=40379537\n",
      "https://hh.ru/applicant/vacancy_response?vacancyId=46106065\n",
      "https://hh.ru/applicant/vacancy_response?vacancyId=46530124\n",
      "https://hh.ru/applicant/vacancy_response?vacancyId=46106111\n",
      "https://hh.ru/applicant/vacancy_response?vacancyId=46401640\n",
      "https://hh.ru/applicant/vacancy_response?vacancyId=46354450\n",
      "https://hh.ru/applicant/vacancy_response?vacancyId=46673127\n",
      "https://hh.ru/applicant/vacancy_response?vacancyId=45728418\n",
      "https://hh.ru/applicant/vacancy_response?vacancyId=46373028\n",
      "https://hh.ru/applicant/vacancy_response?vacancyId=46547779\n",
      "https://hh.ru/applicant/vacancy_response?vacancyId=46627258\n",
      "https://hh.ru/applicant/vacancy_response?vacancyId=45445490\n",
      "https://hh.ru/applicant/vacancy_response?vacancyId=44394420\n",
      "https://hh.ru/applicant/vacancy_response?vacancyId=44167873\n",
      "https://hh.ru/applicant/vacancy_response?vacancyId=43674110\n",
      "https://hh.ru/applicant/vacancy_response?vacancyId=46510274\n",
      "https://hh.ru/applicant/vacancy_response?vacancyId=46499411\n",
      "https://hh.ru/applicant/vacancy_response?vacancyId=46535895\n",
      "https://hh.ru/applicant/vacancy_response?vacancyId=45545376\n",
      "https://hh.ru/applicant/vacancy_response?vacancyId=44168409\n",
      "https://hh.ru/applicant/vacancy_response?vacancyId=44655486\n",
      "https://hh.ru/applicant/vacancy_response?vacancyId=46596485\n"
     ]
    }
   ],
   "source": [
    "\n",
    "def search_vacancies(df, mean_salary_rub=None, has_test=False, vacancy_title=None, required_skill=None):\n",
    "    \n",
    "    df['created'] = pd.to_datetime(df['created'], errors='coerce')\n",
    "    \n",
    "    # Фильтруем\n",
    "    if mean_salary_rub is not None:\n",
    "        df = df[df['mean_salary_rub'] >= mean_salary_rub]\n",
    "    if has_test:\n",
    "        df = df[df['has_test'] == True]\n",
    "    if vacancy_title is not None:\n",
    "        df = df[df['vacancy'].str.contains(vacancy_title, case=False)]\n",
    "    if required_skill is not None:\n",
    "        df = df.dropna(subset=['skills'])\n",
    "        df = df[df['skills'].str.contains(required_skill, case=False)]\n",
    "    \n",
    "    # Получаем количество найденных вакансий и среднюю зарплату\n",
    "    count_vacancies = len(df)\n",
    "    mean_salary = df['mean_salary_rub'].mean()\n",
    "    \n",
    "    # Получаем список ссылок на найденные вакансии\n",
    "    links = df['url'].tolist()\n",
    "    \n",
    "    return count_vacancies, mean_salary, links\n",
    "\n",
    "# Ищем вакансии с зарплатой от 100000 рублей, наличием тестового задания и требуемым навыком 'Python'\n",
    "count, mean_salary, links = search_vacancies(df, mean_salary_rub=100000, vacancy_title='developer', required_skill='Python')\n",
    "\n",
    "# Выводим результаты поиска\n",
    "print(f'Найдено {count} вакансий со средней зарплатой {mean_salary:.2f} руб.')\n",
    "for link in links:\n",
    "    print(link)\n"
   ]
  },
  {
   "cell_type": "markdown",
   "metadata": {},
   "source": [
    "#### *Необязательно*. Усложненный вариант - сделать атрибуты функции опциональными, чтобы иметь возможность фильтрации вакансий по любой комбинации условий."
   ]
  }
 ],
 "metadata": {
  "kernelspec": {
   "display_name": "Python 3 (ipykernel)",
   "language": "python",
   "name": "python3"
  },
  "language_info": {
   "codemirror_mode": {
    "name": "ipython",
    "version": 3
   },
   "file_extension": ".py",
   "mimetype": "text/x-python",
   "name": "python",
   "nbconvert_exporter": "python",
   "pygments_lexer": "ipython3",
   "version": "3.10.5"
  }
 },
 "nbformat": 4,
 "nbformat_minor": 4
}
