{
 "cells": [
  {
   "cell_type": "markdown",
   "metadata": {},
   "source": [
    "<center style=\"font-size: 26px\"> <b>Проверка уровня знаний Python</b></center>"
   ]
  },
  {
   "cell_type": "code",
   "execution_count": 1,
   "metadata": {},
   "outputs": [],
   "source": [
    "# обеспечиваем совместимость с Python 2 и 3\n",
    "from __future__ import (absolute_import, division, print_function, unicode_literals)\n",
    "\n",
    "# отключаем предупреждения дистрибутива Anaconda\n",
    "import warnings\n",
    "warnings.simplefilter('ignore')"
   ]
  },
  {
   "cell_type": "markdown",
   "metadata": {},
   "source": [
    "**Описание датасета:**   \n",
    "[Датасет вакансий с платформы HH.ru на Kaggle.com](https://www.kaggle.com/datasets/pavfedotov/heaadhunter-vacancies?resource=download&select=df2021-08-03.csv) \n",
    "\n",
    "Нужный файл - df2021-08-03.csv.\n",
    "\n",
    "- *vacancy* - наименование вакансии\n",
    "- *url* - ссылка на вакансию\n",
    "- *created* - дата и время создания\n",
    "- *has_test* - наличие тестового задания в вакансии\n",
    "- *salary_from* - нижняя граница значения заработной платы\n",
    "- *salary_to* - верхняя граница значения заработной платы\n",
    "- *currency* - валюта заработной платы\n",
    "- *experience* - требуемый опыт\n",
    "- *schedule* - тип рабочего графика\n",
    "- *skills* - требуемые навыки\n",
    "- *employer* - наименование работодателя\n",
    "- *area* - наименование города\n",
    "- *description* - описание вакансии"
   ]
  },
  {
   "cell_type": "markdown",
   "metadata": {},
   "source": [
    "#### Загрузите датасет"
   ]
  },
  {
   "cell_type": "code",
   "execution_count": 85,
   "metadata": {},
   "outputs": [],
   "source": [
    "\n",
    "import pandas as pd\n",
    "\n",
    "df = pd.read_csv('df2021-08-03.csv')"
   ]
  },
  {
   "cell_type": "code",
   "execution_count": 86,
   "metadata": {},
   "outputs": [],
   "source": [
    "df['created'] = pd.to_datetime(df['created'], format='%Y-%m-%dT%H:%M:%S%z')\n",
    "df['created'] = df['created'].dt.strftime('%Y-%m-%d %H:%M:%S')"
   ]
  },
  {
   "cell_type": "code",
   "execution_count": 87,
   "metadata": {},
   "outputs": [
    {
     "data": {
      "text/html": [
       "<div>\n",
       "<style scoped>\n",
       "    .dataframe tbody tr th:only-of-type {\n",
       "        vertical-align: middle;\n",
       "    }\n",
       "\n",
       "    .dataframe tbody tr th {\n",
       "        vertical-align: top;\n",
       "    }\n",
       "\n",
       "    .dataframe thead th {\n",
       "        text-align: right;\n",
       "    }\n",
       "</style>\n",
       "<table border=\"1\" class=\"dataframe\">\n",
       "  <thead>\n",
       "    <tr style=\"text-align: right;\">\n",
       "      <th></th>\n",
       "      <th>vacancy</th>\n",
       "      <th>url</th>\n",
       "      <th>created</th>\n",
       "      <th>has_test</th>\n",
       "      <th>salary_from</th>\n",
       "      <th>salary_to</th>\n",
       "      <th>currency</th>\n",
       "      <th>experience</th>\n",
       "      <th>schedule</th>\n",
       "      <th>skills</th>\n",
       "      <th>employer</th>\n",
       "      <th>area</th>\n",
       "      <th>description</th>\n",
       "    </tr>\n",
       "  </thead>\n",
       "  <tbody>\n",
       "    <tr>\n",
       "      <th>0</th>\n",
       "      <td>Backend/Full-stack developer (python)</td>\n",
       "      <td>https://hh.ru/applicant/vacancy_response?vacan...</td>\n",
       "      <td>2021-08-01 13:02:48</td>\n",
       "      <td>False</td>\n",
       "      <td>120000.0</td>\n",
       "      <td>NaN</td>\n",
       "      <td>RUR</td>\n",
       "      <td>От 1 года до 3 лет</td>\n",
       "      <td>Гибкий график</td>\n",
       "      <td>Python;PostgreSQL;Linux;Flask;</td>\n",
       "      <td>ATI.SU</td>\n",
       "      <td>Санкт-Петербург</td>\n",
       "      <td>Привет! Мы ATI.SU ― крупнейшая в России компан...</td>\n",
       "    </tr>\n",
       "    <tr>\n",
       "      <th>1</th>\n",
       "      <td>Бэкенд-разработчик (Python) / Middle Python / ...</td>\n",
       "      <td>https://hh.ru/applicant/vacancy_response?vacan...</td>\n",
       "      <td>2021-07-09 08:13:01</td>\n",
       "      <td>False</td>\n",
       "      <td>150000.0</td>\n",
       "      <td>220000.0</td>\n",
       "      <td>RUR</td>\n",
       "      <td>От 3 до 6 лет</td>\n",
       "      <td>Удаленная работа</td>\n",
       "      <td>Python;Git;MongoDB;Redis;Design Patterns;Flask;</td>\n",
       "      <td>ЮТэйр, Авиакомпания</td>\n",
       "      <td>Киров (Кировская область)</td>\n",
       "      <td>Utair - российская авиакомпания. Мы летаем по ...</td>\n",
       "    </tr>\n",
       "  </tbody>\n",
       "</table>\n",
       "</div>"
      ],
      "text/plain": [
       "                                             vacancy  \\\n",
       "0              Backend/Full-stack developer (python)   \n",
       "1  Бэкенд-разработчик (Python) / Middle Python / ...   \n",
       "\n",
       "                                                 url              created  \\\n",
       "0  https://hh.ru/applicant/vacancy_response?vacan...  2021-08-01 13:02:48   \n",
       "1  https://hh.ru/applicant/vacancy_response?vacan...  2021-07-09 08:13:01   \n",
       "\n",
       "   has_test  salary_from  salary_to currency          experience  \\\n",
       "0     False     120000.0        NaN      RUR  От 1 года до 3 лет   \n",
       "1     False     150000.0   220000.0      RUR       От 3 до 6 лет   \n",
       "\n",
       "           schedule                                           skills  \\\n",
       "0     Гибкий график                   Python;PostgreSQL;Linux;Flask;   \n",
       "1  Удаленная работа  Python;Git;MongoDB;Redis;Design Patterns;Flask;   \n",
       "\n",
       "              employer                       area  \\\n",
       "0               ATI.SU            Санкт-Петербург   \n",
       "1  ЮТэйр, Авиакомпания  Киров (Кировская область)   \n",
       "\n",
       "                                         description  \n",
       "0  Привет! Мы ATI.SU ― крупнейшая в России компан...  \n",
       "1  Utair - российская авиакомпания. Мы летаем по ...  "
      ]
     },
     "execution_count": 87,
     "metadata": {},
     "output_type": "execute_result"
    }
   ],
   "source": [
    "df[:2]"
   ]
  },
  {
   "cell_type": "code",
   "execution_count": 88,
   "metadata": {},
   "outputs": [
    {
     "data": {
      "text/plain": [
       "array(['RUR', nan, 'EUR', 'USD'], dtype=object)"
      ]
     },
     "execution_count": 88,
     "metadata": {},
     "output_type": "execute_result"
    }
   ],
   "source": [
    "df['currency'].unique()"
   ]
  },
  {
   "cell_type": "markdown",
   "metadata": {},
   "source": [
    "### Практические задания:"
   ]
  },
  {
   "cell_type": "markdown",
   "metadata": {},
   "source": [
    "#### 1. Изучите методы для сбора данных курсов валют в [API Центрального банка Российской Федерации](https://www.cbr.ru/development/SXML/) . Используя запросы к API, приведите значения заработной платы к рублям одним из вариантов: 1) простой вариант - на текущую дату  2) вариант посложнее - на дату создания (created)."
   ]
  },
  {
   "cell_type": "code",
   "execution_count": 89,
   "metadata": {
    "scrolled": true
   },
   "outputs": [],
   "source": [
    "\n",
    "import requests\n",
    "import numpy as np\n",
    "from datetime import datetime\n",
    "\n",
    "# Функция для получения курса валют на дату\n",
    "def get_currency_rate(date):\n",
    "    url = f'http://www.cbr.ru/scripts/XML_daily.asp?date_req={date}'\n",
    "    response = requests.get(url)\n",
    "    response.encoding = 'utf-8'\n",
    "    content = response.text\n",
    "    rate = content.split('<Valute ID=\"R01235\">')[1].split('<Value>')[1].split('</Value>')[0]\n",
    "    return float(rate.replace(',', '.'))\n",
    "\n",
    "# Функция для преобразования зарплаты в рубли на основе курса валют\n",
    "def convert_salary_to_rubles(salary_from, salary_to, currency, created):\n",
    "    if currency == 'RUR':\n",
    "        return np.nanmean([salary_from, salary_to])\n",
    "    elif pd.isna(currency):\n",
    "        return None\n",
    "    else:\n",
    "        try:\n",
    "            rate_date = datetime.strptime(created, '%Y-%m-%d %H:%M:%S').strftime('%d/%m/%Y')\n",
    "            rate = get_currency_rate(rate_date)\n",
    "        except:\n",
    "            return None\n",
    "        if currency == 'USD':\n",
    "            return round(np.nanmean([salary_from, salary_to]) * rate, 2)\n",
    "        elif currency == 'EUR':\n",
    "            return round(np.nanmean([salary_from, salary_to]) * rate, 2)    \n",
    "        else:\n",
    "            return None\n",
    "\n",
    "# Создание нового столбца с зарплатой в рублях\n",
    "df['mean_salary_rub'] = df.apply(lambda x: convert_salary_to_rubles(x['salary_from'], x['salary_to'], x['currency'], x['created']), axis=1)\n"
   ]
  },
  {
   "cell_type": "code",
   "execution_count": 90,
   "metadata": {},
   "outputs": [
    {
     "data": {
      "text/html": [
       "<div>\n",
       "<style scoped>\n",
       "    .dataframe tbody tr th:only-of-type {\n",
       "        vertical-align: middle;\n",
       "    }\n",
       "\n",
       "    .dataframe tbody tr th {\n",
       "        vertical-align: top;\n",
       "    }\n",
       "\n",
       "    .dataframe thead th {\n",
       "        text-align: right;\n",
       "    }\n",
       "</style>\n",
       "<table border=\"1\" class=\"dataframe\">\n",
       "  <thead>\n",
       "    <tr style=\"text-align: right;\">\n",
       "      <th></th>\n",
       "      <th>vacancy</th>\n",
       "      <th>url</th>\n",
       "      <th>created</th>\n",
       "      <th>has_test</th>\n",
       "      <th>salary_from</th>\n",
       "      <th>salary_to</th>\n",
       "      <th>currency</th>\n",
       "      <th>experience</th>\n",
       "      <th>schedule</th>\n",
       "      <th>skills</th>\n",
       "      <th>employer</th>\n",
       "      <th>area</th>\n",
       "      <th>description</th>\n",
       "      <th>mean_salary_rub</th>\n",
       "    </tr>\n",
       "  </thead>\n",
       "  <tbody>\n",
       "    <tr>\n",
       "      <th>142</th>\n",
       "      <td>Python Developer (Люксембург, удаленно)</td>\n",
       "      <td>https://hh.ru/applicant/vacancy_response?vacan...</td>\n",
       "      <td>2021-07-30 13:09:00</td>\n",
       "      <td>False</td>\n",
       "      <td>NaN</td>\n",
       "      <td>3500.0</td>\n",
       "      <td>USD</td>\n",
       "      <td>От 3 до 6 лет</td>\n",
       "      <td>Удаленная работа</td>\n",
       "      <td>Python;</td>\n",
       "      <td>Кадровое агентство Алексея Сухорукова</td>\n",
       "      <td>Новосибирск</td>\n",
       "      <td>IT-компания, которая предоставляет своим клиен...</td>\n",
       "      <td>256166.4</td>\n",
       "    </tr>\n",
       "  </tbody>\n",
       "</table>\n",
       "</div>"
      ],
      "text/plain": [
       "                                     vacancy  \\\n",
       "142  Python Developer (Люксембург, удаленно)   \n",
       "\n",
       "                                                   url              created  \\\n",
       "142  https://hh.ru/applicant/vacancy_response?vacan...  2021-07-30 13:09:00   \n",
       "\n",
       "     has_test  salary_from  salary_to currency     experience  \\\n",
       "142     False          NaN     3500.0      USD  От 3 до 6 лет   \n",
       "\n",
       "             schedule   skills                               employer  \\\n",
       "142  Удаленная работа  Python;  Кадровое агентство Алексея Сухорукова   \n",
       "\n",
       "            area                                        description  \\\n",
       "142  Новосибирск  IT-компания, которая предоставляет своим клиен...   \n",
       "\n",
       "     mean_salary_rub  \n",
       "142         256166.4  "
      ]
     },
     "execution_count": 90,
     "metadata": {},
     "output_type": "execute_result"
    }
   ],
   "source": [
    "df[df['currency'] == 'USD'][:1]"
   ]
  },
  {
   "cell_type": "markdown",
   "metadata": {},
   "source": [
    "#### 2. Найдите вакансию с самой высокой заработной платой, где подойдет 4 года опыта работы и не нужно проходить тестовое задание."
   ]
  },
  {
   "cell_type": "code",
   "execution_count": 91,
   "metadata": {},
   "outputs": [
    {
     "name": "stdout",
     "output_type": "stream",
     "text": [
      "Вакансия с наибольшей средней зарплатой:\n",
      "Python разработчик (middle) (backend)\n",
      "https://hh.ru/applicant/vacancy_response?vacancyId=43941903\n",
      "500000.0 руб.\n"
     ]
    }
   ],
   "source": [
    "import re\n",
    "\n",
    "# Приведение значений столбца experience к строковому типу\n",
    "df['experience'] = df['experience'].astype(str)\n",
    "\n",
    "# Создание столбца experience_min\n",
    "df['experience_min'] = df['experience'].apply(lambda x: re.findall('\\d+', x)[0] if re.findall('\\d+', x) else None)\n",
    "\n",
    "# Приведение значений столбца experience_min к числовому типу\n",
    "df['experience_min'] = pd.to_numeric(df['experience_min'], errors='coerce')\n",
    "\n",
    "# Выборка вакансий с опытом работы не более 4 лет\n",
    "df_filtered = df[(df['experience_min'] <= 4) & (df['has_test'] == False)]\n",
    "\n",
    "# Удаление строк с пропущенными значениями зарплаты\n",
    "df_filtered.dropna(subset=['experience_min'], inplace=True)\n",
    "\n",
    "# найти вакансию с самой высокой зарплатой\n",
    "highest_salary = df_filtered.loc[df_filtered['mean_salary_rub'].idxmax()]\n",
    "\n",
    "# вывести информацию о вакансии с самой высокой зарплатой\n",
    "print(\"Вакансия с наибольшей средней зарплатой:\")\n",
    "print(highest_salary['vacancy'])\n",
    "print(highest_salary['url'])\n",
    "print(highest_salary['mean_salary_rub'], \"руб.\")\n"
   ]
  },
  {
   "cell_type": "markdown",
   "metadata": {},
   "source": [
    "#### 3. Сделайте рейтинг (топ-30) навыков по всем вакансиям."
   ]
  },
  {
   "cell_type": "code",
   "execution_count": 139,
   "metadata": {
    "scrolled": true
   },
   "outputs": [],
   "source": [
    "\n",
    "# import plotly.express as px\n",
    "# import plotly.subplots as sp\n",
    "# import plotly.graph_objs as go\n",
    "\n",
    "# # создание списка уникальных навыков\n",
    "# skills_set = set()\n",
    "# for skills in df['skills']:\n",
    "#     if isinstance(skills, str):\n",
    "#         skills_list = skills.split(';')\n",
    "#         skills_set.update(skills_list)\n",
    "\n",
    "# # создание новых столбцов для каждого навыка\n",
    "# for skill in skills_set:\n",
    "#     df[skill] = df['skills'].apply(lambda x: int(skill in x.split(';')) if isinstance(x, str) else 0)\n",
    "\n",
    "# # Считаем относительную частоту навыков\n",
    "# for skill in skills_set:\n",
    "#     df[skill + '_freq'] = df.apply(lambda row: row[skill] / sum(x for x in row[skills_set] if x) if row[skill] != 0 else 0, axis=1)\n",
    "\n",
    "# # Считаем произведение относительной частоты на среднюю зарплату\n",
    "# for skill in skills_set:\n",
    "#     df[skill + 'a_salary'] = df[skill] * df['mean_salary_rub']\n",
    "\n",
    "# # Считаем произведение относительной частоты на среднюю зарплату\n",
    "# for skill in skills_set:\n",
    "#     df[skill + 'f_salary'] = df[skill + '_freq'] * df['mean_salary_rub']\n",
    "\n",
    "# выбираем топ-30 наиболее употребляемых навыков по 4 различным стратегиям\n",
    "skills_count_top30 = df.iloc[:, 16:850].sum().sort_values(ascending=False)[:30].reset_index().rename(columns={0: 'count'})\n",
    "skills_freq_top30 = df.filter(regex='_freq$').mean().sort_values(ascending=False)[1:31].reset_index().rename(columns={0: 'freq'})\n",
    "skills_a_salary_top30 = df.filter(regex='a_salary$').mean().sort_values(ascending=False)[1:31].reset_index().rename(columns={0: 'a_salary'})\n",
    "skills_f_salary_top30 = df.filter(regex='f_salary$').mean().sort_values(ascending=False)[1:31].reset_index().rename(columns={0: 'f_salary'})\n",
    "skills_freq_top30['index'] = skills_freq_top30['index'].str.replace('_freq', '')\n",
    "skills_a_salary_top30['index'] = skills_a_salary_top30['index'].str.replace('a_salary', '')\n",
    "skills_f_salary_top30['index'] = skills_f_salary_top30['index'].str.replace('f_salary', '')\n",
    "\n",
    "# Создаем новый столбец rank\n",
    "skills_count_top30['rank'] = list(reversed(range(1, 31)))\n",
    "skills_freq_top30['rank'] = list(reversed(range(1, 31)))\n",
    "skills_a_salary_top30['rank'] = list(reversed(range(1, 31)))\n",
    "skills_f_salary_top30['rank'] = list(reversed(range(1, 31)))\n",
    "\n",
    "skills_count_top30 = skills_count_top30.set_index('index')\n",
    "skills_freq_top30 = skills_freq_top30.set_index('index')\n",
    "skills_a_salary_top30 = skills_a_salary_top30.set_index('index')\n",
    "skills_f_salary_top30 = skills_f_salary_top30.set_index('index')\n",
    "\n",
    "# Объединяем все наборы данных в один\n",
    "top_skills = pd.concat([skills_count_top30, skills_freq_top30, skills_a_salary_top30, skills_f_salary_top30], axis=1, join='outer')\n",
    "\n",
    "# Суммируем баллы по всем 4 рейтингам\n",
    "top_skills['total_score'] = top_skills['rank'].sum(axis=1)\n",
    "\n",
    "# # Выводим топ 30 на график\n",
    "# fig = sp.make_subplots(rows=2, cols=2, subplot_titles=(\"Топ 30 наиболее упоминаемых навыков\", \"Топ 30 наиболее востребованных навыков\", \"Топ 30 высокооплачиваемых навыков\", \"Топ 30 высокооплачиваемых навыков на вакансию\"), shared_xaxes=True)\n",
    "\n",
    "# # Строим график\n",
    "# fig.add_trace(\n",
    "#     go.Bar(x=skills_count_top30.index, y=skills_count_top30.values, name='Топ 30 наиболее упоминаемых навыков',\n",
    "#            marker_color=get_colors_list(skills_count_top30, colors)), row=1, col=1)\n",
    "\n",
    "# fig.add_trace(\n",
    "#     go.Bar(x=skills_freq_top30.index, y=skills_freq_top30.values, name='Топ 30 наиболее востребованных навыков',\n",
    "#            marker_color=get_colors_list(skills_freq_top30, colors)), row=1, col=2)\n",
    "\n",
    "# fig.add_trace(\n",
    "#     go.Bar(x=skills_a_salary_top30.index, y=skills_a_salary_top30.values, name='Топ 30 высокооплачиваемых навыков',\n",
    "#            marker_color=get_colors_list(skills_a_salary_top30, colors)),row=2, col=1)\n",
    "\n",
    "# fig.add_trace(\n",
    "#     go.Bar(x=skills_f_salary_top30.index, y=skills_f_salary_top30.values, name='Топ 30 высокооплачиваемых навыков',\n",
    "#            marker_color=get_colors_list(skills_f_salary_top30, colors)),row=2, col=1)\n",
    "\n",
    "# # Настройки внешнего вида графика\n",
    "# fig.update_layout(height=900, width=1200, title_text=\"Анализ навыков вакансии Data Scientist\", font=dict(size=16), showlegend=False)\n",
    "\n",
    "# # Настройки для графиков\n",
    "# fig.update_xaxes(tickangle=45, tickfont=dict(size=14))\n",
    "# fig.update_yaxes(tickfont=dict(size=14))\n",
    "\n",
    "# fig.show()\n"
   ]
  },
  {
   "cell_type": "code",
   "execution_count": 148,
   "metadata": {},
   "outputs": [
    {
     "data": {
      "text/html": [
       "<div>\n",
       "<style scoped>\n",
       "    .dataframe tbody tr th:only-of-type {\n",
       "        vertical-align: middle;\n",
       "    }\n",
       "\n",
       "    .dataframe tbody tr th {\n",
       "        vertical-align: top;\n",
       "    }\n",
       "\n",
       "    .dataframe thead th {\n",
       "        text-align: right;\n",
       "    }\n",
       "</style>\n",
       "<table border=\"1\" class=\"dataframe\">\n",
       "  <thead>\n",
       "    <tr style=\"text-align: right;\">\n",
       "      <th></th>\n",
       "      <th>count</th>\n",
       "      <th>rank</th>\n",
       "      <th>freq</th>\n",
       "      <th>rank</th>\n",
       "      <th>a_salary</th>\n",
       "      <th>rank</th>\n",
       "      <th>f_salary</th>\n",
       "      <th>rank</th>\n",
       "      <th>total_score</th>\n",
       "    </tr>\n",
       "    <tr>\n",
       "      <th>index</th>\n",
       "      <th></th>\n",
       "      <th></th>\n",
       "      <th></th>\n",
       "      <th></th>\n",
       "      <th></th>\n",
       "      <th></th>\n",
       "      <th></th>\n",
       "      <th></th>\n",
       "      <th></th>\n",
       "    </tr>\n",
       "  </thead>\n",
       "  <tbody>\n",
       "    <tr>\n",
       "      <th>Python</th>\n",
       "      <td>1442.0</td>\n",
       "      <td>30.0</td>\n",
       "      <td>0.150592</td>\n",
       "      <td>30.0</td>\n",
       "      <td>134830.227651</td>\n",
       "      <td>30.0</td>\n",
       "      <td>22842.249041</td>\n",
       "      <td>30.0</td>\n",
       "      <td>120.0</td>\n",
       "    </tr>\n",
       "    <tr>\n",
       "      <th>Git</th>\n",
       "      <td>586.0</td>\n",
       "      <td>29.0</td>\n",
       "      <td>0.050512</td>\n",
       "      <td>29.0</td>\n",
       "      <td>63351.774796</td>\n",
       "      <td>29.0</td>\n",
       "      <td>8821.456031</td>\n",
       "      <td>29.0</td>\n",
       "      <td>116.0</td>\n",
       "    </tr>\n",
       "    <tr>\n",
       "      <th>PostgreSQL</th>\n",
       "      <td>499.0</td>\n",
       "      <td>27.0</td>\n",
       "      <td>0.044653</td>\n",
       "      <td>27.0</td>\n",
       "      <td>57062.739347</td>\n",
       "      <td>28.0</td>\n",
       "      <td>8384.920698</td>\n",
       "      <td>28.0</td>\n",
       "      <td>110.0</td>\n",
       "    </tr>\n",
       "    <tr>\n",
       "      <th>SQL</th>\n",
       "      <td>501.0</td>\n",
       "      <td>28.0</td>\n",
       "      <td>0.045298</td>\n",
       "      <td>28.0</td>\n",
       "      <td>41507.884910</td>\n",
       "      <td>25.0</td>\n",
       "      <td>5634.315108</td>\n",
       "      <td>26.0</td>\n",
       "      <td>107.0</td>\n",
       "    </tr>\n",
       "    <tr>\n",
       "      <th>Django Framework</th>\n",
       "      <td>467.0</td>\n",
       "      <td>26.0</td>\n",
       "      <td>0.044081</td>\n",
       "      <td>26.0</td>\n",
       "      <td>53509.486166</td>\n",
       "      <td>27.0</td>\n",
       "      <td>8251.678670</td>\n",
       "      <td>27.0</td>\n",
       "      <td>106.0</td>\n",
       "    </tr>\n",
       "    <tr>\n",
       "      <th>Linux</th>\n",
       "      <td>463.0</td>\n",
       "      <td>25.0</td>\n",
       "      <td>0.041882</td>\n",
       "      <td>25.0</td>\n",
       "      <td>42719.457423</td>\n",
       "      <td>26.0</td>\n",
       "      <td>5574.225736</td>\n",
       "      <td>25.0</td>\n",
       "      <td>101.0</td>\n",
       "    </tr>\n",
       "    <tr>\n",
       "      <th>Docker</th>\n",
       "      <td>172.0</td>\n",
       "      <td>23.0</td>\n",
       "      <td>0.013353</td>\n",
       "      <td>23.0</td>\n",
       "      <td>18824.830343</td>\n",
       "      <td>22.0</td>\n",
       "      <td>2081.950688</td>\n",
       "      <td>22.0</td>\n",
       "      <td>90.0</td>\n",
       "    </tr>\n",
       "    <tr>\n",
       "      <th>Flask</th>\n",
       "      <td>177.0</td>\n",
       "      <td>24.0</td>\n",
       "      <td>0.014433</td>\n",
       "      <td>24.0</td>\n",
       "      <td>15326.264274</td>\n",
       "      <td>20.0</td>\n",
       "      <td>1994.465228</td>\n",
       "      <td>20.0</td>\n",
       "      <td>88.0</td>\n",
       "    </tr>\n",
       "    <tr>\n",
       "      <th>MySQL</th>\n",
       "      <td>128.0</td>\n",
       "      <td>20.0</td>\n",
       "      <td>0.010410</td>\n",
       "      <td>20.0</td>\n",
       "      <td>19395.000196</td>\n",
       "      <td>23.0</td>\n",
       "      <td>2503.791745</td>\n",
       "      <td>23.0</td>\n",
       "      <td>86.0</td>\n",
       "    </tr>\n",
       "    <tr>\n",
       "      <th>JavaScript</th>\n",
       "      <td>149.0</td>\n",
       "      <td>22.0</td>\n",
       "      <td>0.012859</td>\n",
       "      <td>22.0</td>\n",
       "      <td>13920.826003</td>\n",
       "      <td>19.0</td>\n",
       "      <td>1982.408011</td>\n",
       "      <td>19.0</td>\n",
       "      <td>82.0</td>\n",
       "    </tr>\n",
       "    <tr>\n",
       "      <th>Redis</th>\n",
       "      <td>107.0</td>\n",
       "      <td>17.0</td>\n",
       "      <td>0.008374</td>\n",
       "      <td>17.0</td>\n",
       "      <td>19805.839674</td>\n",
       "      <td>24.0</td>\n",
       "      <td>2628.042952</td>\n",
       "      <td>24.0</td>\n",
       "      <td>82.0</td>\n",
       "    </tr>\n",
       "    <tr>\n",
       "      <th>MongoDB</th>\n",
       "      <td>113.0</td>\n",
       "      <td>18.0</td>\n",
       "      <td>0.009399</td>\n",
       "      <td>18.0</td>\n",
       "      <td>15611.027684</td>\n",
       "      <td>21.0</td>\n",
       "      <td>2055.853461</td>\n",
       "      <td>21.0</td>\n",
       "      <td>78.0</td>\n",
       "    </tr>\n",
       "    <tr>\n",
       "      <th>Английский язык</th>\n",
       "      <td>141.0</td>\n",
       "      <td>21.0</td>\n",
       "      <td>0.012661</td>\n",
       "      <td>21.0</td>\n",
       "      <td>11759.399103</td>\n",
       "      <td>16.0</td>\n",
       "      <td>1607.623678</td>\n",
       "      <td>16.0</td>\n",
       "      <td>74.0</td>\n",
       "    </tr>\n",
       "    <tr>\n",
       "      <th>ООП</th>\n",
       "      <td>120.0</td>\n",
       "      <td>19.0</td>\n",
       "      <td>0.009955</td>\n",
       "      <td>19.0</td>\n",
       "      <td>11787.356362</td>\n",
       "      <td>17.0</td>\n",
       "      <td>1643.028786</td>\n",
       "      <td>18.0</td>\n",
       "      <td>73.0</td>\n",
       "    </tr>\n",
       "    <tr>\n",
       "      <th>REST</th>\n",
       "      <td>70.0</td>\n",
       "      <td>16.0</td>\n",
       "      <td>0.005558</td>\n",
       "      <td>16.0</td>\n",
       "      <td>12082.126346</td>\n",
       "      <td>18.0</td>\n",
       "      <td>1636.687847</td>\n",
       "      <td>17.0</td>\n",
       "      <td>67.0</td>\n",
       "    </tr>\n",
       "    <tr>\n",
       "      <th>Django</th>\n",
       "      <td>62.0</td>\n",
       "      <td>14.0</td>\n",
       "      <td>0.004492</td>\n",
       "      <td>14.0</td>\n",
       "      <td>9573.019576</td>\n",
       "      <td>14.0</td>\n",
       "      <td>1109.357639</td>\n",
       "      <td>14.0</td>\n",
       "      <td>56.0</td>\n",
       "    </tr>\n",
       "    <tr>\n",
       "      <th>RabbitMQ</th>\n",
       "      <td>68.0</td>\n",
       "      <td>15.0</td>\n",
       "      <td>0.004461</td>\n",
       "      <td>12.0</td>\n",
       "      <td>10062.415987</td>\n",
       "      <td>15.0</td>\n",
       "      <td>1038.209344</td>\n",
       "      <td>13.0</td>\n",
       "      <td>55.0</td>\n",
       "    </tr>\n",
       "    <tr>\n",
       "      <th>Atlassian Jira</th>\n",
       "      <td>52.0</td>\n",
       "      <td>11.0</td>\n",
       "      <td>0.004480</td>\n",
       "      <td>13.0</td>\n",
       "      <td>4343.393148</td>\n",
       "      <td>4.0</td>\n",
       "      <td>757.612833</td>\n",
       "      <td>11.0</td>\n",
       "      <td>39.0</td>\n",
       "    </tr>\n",
       "    <tr>\n",
       "      <th>HTML</th>\n",
       "      <td>56.0</td>\n",
       "      <td>12.0</td>\n",
       "      <td>0.004342</td>\n",
       "      <td>10.0</td>\n",
       "      <td>4721.859706</td>\n",
       "      <td>8.0</td>\n",
       "      <td>607.861194</td>\n",
       "      <td>9.0</td>\n",
       "      <td>39.0</td>\n",
       "    </tr>\n",
       "    <tr>\n",
       "      <th>CSS</th>\n",
       "      <td>56.0</td>\n",
       "      <td>13.0</td>\n",
       "      <td>0.004382</td>\n",
       "      <td>11.0</td>\n",
       "      <td>4477.161501</td>\n",
       "      <td>6.0</td>\n",
       "      <td>563.068276</td>\n",
       "      <td>6.0</td>\n",
       "      <td>36.0</td>\n",
       "    </tr>\n",
       "    <tr>\n",
       "      <th>Базы данных</th>\n",
       "      <td>41.0</td>\n",
       "      <td>6.0</td>\n",
       "      <td>0.003120</td>\n",
       "      <td>4.0</td>\n",
       "      <td>6907.693964</td>\n",
       "      <td>13.0</td>\n",
       "      <td>832.911512</td>\n",
       "      <td>12.0</td>\n",
       "      <td>35.0</td>\n",
       "    </tr>\n",
       "    <tr>\n",
       "      <th>C++</th>\n",
       "      <td>50.0</td>\n",
       "      <td>10.0</td>\n",
       "      <td>0.004819</td>\n",
       "      <td>15.0</td>\n",
       "      <td>NaN</td>\n",
       "      <td>NaN</td>\n",
       "      <td>473.423056</td>\n",
       "      <td>4.0</td>\n",
       "      <td>29.0</td>\n",
       "    </tr>\n",
       "    <tr>\n",
       "      <th>React</th>\n",
       "      <td>NaN</td>\n",
       "      <td>NaN</td>\n",
       "      <td>0.002467</td>\n",
       "      <td>1.0</td>\n",
       "      <td>6081.447700</td>\n",
       "      <td>12.0</td>\n",
       "      <td>1404.953929</td>\n",
       "      <td>15.0</td>\n",
       "      <td>28.0</td>\n",
       "    </tr>\n",
       "    <tr>\n",
       "      <th>API</th>\n",
       "      <td>49.0</td>\n",
       "      <td>9.0</td>\n",
       "      <td>0.003418</td>\n",
       "      <td>8.0</td>\n",
       "      <td>4389.313948</td>\n",
       "      <td>5.0</td>\n",
       "      <td>448.226805</td>\n",
       "      <td>3.0</td>\n",
       "      <td>25.0</td>\n",
       "    </tr>\n",
       "    <tr>\n",
       "      <th>Celery</th>\n",
       "      <td>35.0</td>\n",
       "      <td>3.0</td>\n",
       "      <td>NaN</td>\n",
       "      <td>NaN</td>\n",
       "      <td>5497.553018</td>\n",
       "      <td>11.0</td>\n",
       "      <td>577.172782</td>\n",
       "      <td>7.0</td>\n",
       "      <td>21.0</td>\n",
       "    </tr>\n",
       "    <tr>\n",
       "      <th>asyncio</th>\n",
       "      <td>NaN</td>\n",
       "      <td>NaN</td>\n",
       "      <td>NaN</td>\n",
       "      <td>NaN</td>\n",
       "      <td>5447.251876</td>\n",
       "      <td>10.0</td>\n",
       "      <td>682.764640</td>\n",
       "      <td>10.0</td>\n",
       "      <td>20.0</td>\n",
       "    </tr>\n",
       "    <tr>\n",
       "      <th>aiohttp</th>\n",
       "      <td>33.0</td>\n",
       "      <td>1.0</td>\n",
       "      <td>0.002996</td>\n",
       "      <td>3.0</td>\n",
       "      <td>4714.618271</td>\n",
       "      <td>7.0</td>\n",
       "      <td>581.480843</td>\n",
       "      <td>8.0</td>\n",
       "      <td>19.0</td>\n",
       "    </tr>\n",
       "    <tr>\n",
       "      <th>Java</th>\n",
       "      <td>43.0</td>\n",
       "      <td>8.0</td>\n",
       "      <td>0.003907</td>\n",
       "      <td>9.0</td>\n",
       "      <td>NaN</td>\n",
       "      <td>NaN</td>\n",
       "      <td>NaN</td>\n",
       "      <td>NaN</td>\n",
       "      <td>17.0</td>\n",
       "    </tr>\n",
       "    <tr>\n",
       "      <th>NoSQL</th>\n",
       "      <td>NaN</td>\n",
       "      <td>NaN</td>\n",
       "      <td>NaN</td>\n",
       "      <td>NaN</td>\n",
       "      <td>4722.675367</td>\n",
       "      <td>9.0</td>\n",
       "      <td>533.189622</td>\n",
       "      <td>5.0</td>\n",
       "      <td>14.0</td>\n",
       "    </tr>\n",
       "    <tr>\n",
       "      <th>MS SQL</th>\n",
       "      <td>43.0</td>\n",
       "      <td>7.0</td>\n",
       "      <td>0.003209</td>\n",
       "      <td>5.0</td>\n",
       "      <td>NaN</td>\n",
       "      <td>NaN</td>\n",
       "      <td>NaN</td>\n",
       "      <td>NaN</td>\n",
       "      <td>12.0</td>\n",
       "    </tr>\n",
       "  </tbody>\n",
       "</table>\n",
       "</div>"
      ],
      "text/plain": [
       "                   count  rank      freq  rank       a_salary  rank  \\\n",
       "index                                                                 \n",
       "Python            1442.0  30.0  0.150592  30.0  134830.227651  30.0   \n",
       "Git                586.0  29.0  0.050512  29.0   63351.774796  29.0   \n",
       "PostgreSQL         499.0  27.0  0.044653  27.0   57062.739347  28.0   \n",
       "SQL                501.0  28.0  0.045298  28.0   41507.884910  25.0   \n",
       "Django Framework   467.0  26.0  0.044081  26.0   53509.486166  27.0   \n",
       "Linux              463.0  25.0  0.041882  25.0   42719.457423  26.0   \n",
       "Docker             172.0  23.0  0.013353  23.0   18824.830343  22.0   \n",
       "Flask              177.0  24.0  0.014433  24.0   15326.264274  20.0   \n",
       "MySQL              128.0  20.0  0.010410  20.0   19395.000196  23.0   \n",
       "JavaScript         149.0  22.0  0.012859  22.0   13920.826003  19.0   \n",
       "Redis              107.0  17.0  0.008374  17.0   19805.839674  24.0   \n",
       "MongoDB            113.0  18.0  0.009399  18.0   15611.027684  21.0   \n",
       "Английский язык    141.0  21.0  0.012661  21.0   11759.399103  16.0   \n",
       "ООП                120.0  19.0  0.009955  19.0   11787.356362  17.0   \n",
       "REST                70.0  16.0  0.005558  16.0   12082.126346  18.0   \n",
       "Django              62.0  14.0  0.004492  14.0    9573.019576  14.0   \n",
       "RabbitMQ            68.0  15.0  0.004461  12.0   10062.415987  15.0   \n",
       "Atlassian Jira      52.0  11.0  0.004480  13.0    4343.393148   4.0   \n",
       "HTML                56.0  12.0  0.004342  10.0    4721.859706   8.0   \n",
       "CSS                 56.0  13.0  0.004382  11.0    4477.161501   6.0   \n",
       "Базы данных         41.0   6.0  0.003120   4.0    6907.693964  13.0   \n",
       "C++                 50.0  10.0  0.004819  15.0            NaN   NaN   \n",
       "React                NaN   NaN  0.002467   1.0    6081.447700  12.0   \n",
       "API                 49.0   9.0  0.003418   8.0    4389.313948   5.0   \n",
       "Celery              35.0   3.0       NaN   NaN    5497.553018  11.0   \n",
       "asyncio              NaN   NaN       NaN   NaN    5447.251876  10.0   \n",
       "aiohttp             33.0   1.0  0.002996   3.0    4714.618271   7.0   \n",
       "Java                43.0   8.0  0.003907   9.0            NaN   NaN   \n",
       "NoSQL                NaN   NaN       NaN   NaN    4722.675367   9.0   \n",
       "MS SQL              43.0   7.0  0.003209   5.0            NaN   NaN   \n",
       "\n",
       "                      f_salary  rank  total_score  \n",
       "index                                              \n",
       "Python            22842.249041  30.0        120.0  \n",
       "Git                8821.456031  29.0        116.0  \n",
       "PostgreSQL         8384.920698  28.0        110.0  \n",
       "SQL                5634.315108  26.0        107.0  \n",
       "Django Framework   8251.678670  27.0        106.0  \n",
       "Linux              5574.225736  25.0        101.0  \n",
       "Docker             2081.950688  22.0         90.0  \n",
       "Flask              1994.465228  20.0         88.0  \n",
       "MySQL              2503.791745  23.0         86.0  \n",
       "JavaScript         1982.408011  19.0         82.0  \n",
       "Redis              2628.042952  24.0         82.0  \n",
       "MongoDB            2055.853461  21.0         78.0  \n",
       "Английский язык    1607.623678  16.0         74.0  \n",
       "ООП                1643.028786  18.0         73.0  \n",
       "REST               1636.687847  17.0         67.0  \n",
       "Django             1109.357639  14.0         56.0  \n",
       "RabbitMQ           1038.209344  13.0         55.0  \n",
       "Atlassian Jira      757.612833  11.0         39.0  \n",
       "HTML                607.861194   9.0         39.0  \n",
       "CSS                 563.068276   6.0         36.0  \n",
       "Базы данных         832.911512  12.0         35.0  \n",
       "C++                 473.423056   4.0         29.0  \n",
       "React              1404.953929  15.0         28.0  \n",
       "API                 448.226805   3.0         25.0  \n",
       "Celery              577.172782   7.0         21.0  \n",
       "asyncio             682.764640  10.0         20.0  \n",
       "aiohttp             581.480843   8.0         19.0  \n",
       "Java                       NaN   NaN         17.0  \n",
       "NoSQL               533.189622   5.0         14.0  \n",
       "MS SQL                     NaN   NaN         12.0  "
      ]
     },
     "execution_count": 148,
     "metadata": {},
     "output_type": "execute_result"
    }
   ],
   "source": [
    "top_30_skills = top_skills.sort_values('total_score', ascending=False)[:30]\n",
    "top_30_skills"
   ]
  },
  {
   "cell_type": "code",
   "execution_count": 152,
   "metadata": {},
   "outputs": [
    {
     "data": {
      "application/vnd.plotly.v1+json": {
       "config": {
        "plotlyServerURL": "https://plot.ly"
       },
       "data": [
        {
         "alignmentgroup": "True",
         "hovertemplate": "color=> 100<br>index=%{x}<br>total_score=%{y}<extra></extra>",
         "legendgroup": "> 100",
         "marker": {
          "color": "#636efa",
          "pattern": {
           "shape": ""
          }
         },
         "name": "> 100",
         "offsetgroup": "> 100",
         "orientation": "v",
         "showlegend": true,
         "textposition": "auto",
         "type": "bar",
         "x": [
          "Python",
          "Git",
          "PostgreSQL",
          "SQL",
          "Django Framework",
          "Linux"
         ],
         "xaxis": "x",
         "y": [
          120,
          116,
          110,
          107,
          106,
          101
         ],
         "yaxis": "y"
        },
        {
         "alignmentgroup": "True",
         "hovertemplate": "color=от 50 до 100<br>index=%{x}<br>total_score=%{y}<extra></extra>",
         "legendgroup": "от 50 до 100",
         "marker": {
          "color": "#EF553B",
          "pattern": {
           "shape": ""
          }
         },
         "name": "от 50 до 100",
         "offsetgroup": "от 50 до 100",
         "orientation": "v",
         "showlegend": true,
         "textposition": "auto",
         "type": "bar",
         "x": [
          "Docker",
          "Flask",
          "MySQL",
          "JavaScript",
          "Redis",
          "MongoDB",
          "Английский язык",
          "ООП",
          "REST",
          "Django",
          "RabbitMQ"
         ],
         "xaxis": "x",
         "y": [
          90,
          88,
          86,
          82,
          82,
          78,
          74,
          73,
          67,
          56,
          55
         ],
         "yaxis": "y"
        },
        {
         "alignmentgroup": "True",
         "hovertemplate": "color=< 50<br>index=%{x}<br>total_score=%{y}<extra></extra>",
         "legendgroup": "< 50",
         "marker": {
          "color": "#00cc96",
          "pattern": {
           "shape": ""
          }
         },
         "name": "< 50",
         "offsetgroup": "< 50",
         "orientation": "v",
         "showlegend": true,
         "textposition": "auto",
         "type": "bar",
         "x": [
          "Atlassian Jira",
          "HTML",
          "CSS",
          "Базы данных",
          "C++",
          "React",
          "API",
          "Celery",
          "asyncio",
          "aiohttp",
          "Java",
          "NoSQL",
          "MS SQL"
         ],
         "xaxis": "x",
         "y": [
          39,
          39,
          36,
          35,
          29,
          28,
          25,
          21,
          20,
          19,
          17,
          14,
          12
         ],
         "yaxis": "y"
        }
       ],
       "layout": {
        "barmode": "relative",
        "legend": {
         "title": {
          "text": "Категории"
         },
         "tracegroupgap": 0
        },
        "template": {
         "data": {
          "bar": [
           {
            "error_x": {
             "color": "#2a3f5f"
            },
            "error_y": {
             "color": "#2a3f5f"
            },
            "marker": {
             "line": {
              "color": "#E5ECF6",
              "width": 0.5
             },
             "pattern": {
              "fillmode": "overlay",
              "size": 10,
              "solidity": 0.2
             }
            },
            "type": "bar"
           }
          ],
          "barpolar": [
           {
            "marker": {
             "line": {
              "color": "#E5ECF6",
              "width": 0.5
             },
             "pattern": {
              "fillmode": "overlay",
              "size": 10,
              "solidity": 0.2
             }
            },
            "type": "barpolar"
           }
          ],
          "carpet": [
           {
            "aaxis": {
             "endlinecolor": "#2a3f5f",
             "gridcolor": "white",
             "linecolor": "white",
             "minorgridcolor": "white",
             "startlinecolor": "#2a3f5f"
            },
            "baxis": {
             "endlinecolor": "#2a3f5f",
             "gridcolor": "white",
             "linecolor": "white",
             "minorgridcolor": "white",
             "startlinecolor": "#2a3f5f"
            },
            "type": "carpet"
           }
          ],
          "choropleth": [
           {
            "colorbar": {
             "outlinewidth": 0,
             "ticks": ""
            },
            "type": "choropleth"
           }
          ],
          "contour": [
           {
            "colorbar": {
             "outlinewidth": 0,
             "ticks": ""
            },
            "colorscale": [
             [
              0,
              "#0d0887"
             ],
             [
              0.1111111111111111,
              "#46039f"
             ],
             [
              0.2222222222222222,
              "#7201a8"
             ],
             [
              0.3333333333333333,
              "#9c179e"
             ],
             [
              0.4444444444444444,
              "#bd3786"
             ],
             [
              0.5555555555555556,
              "#d8576b"
             ],
             [
              0.6666666666666666,
              "#ed7953"
             ],
             [
              0.7777777777777778,
              "#fb9f3a"
             ],
             [
              0.8888888888888888,
              "#fdca26"
             ],
             [
              1,
              "#f0f921"
             ]
            ],
            "type": "contour"
           }
          ],
          "contourcarpet": [
           {
            "colorbar": {
             "outlinewidth": 0,
             "ticks": ""
            },
            "type": "contourcarpet"
           }
          ],
          "heatmap": [
           {
            "colorbar": {
             "outlinewidth": 0,
             "ticks": ""
            },
            "colorscale": [
             [
              0,
              "#0d0887"
             ],
             [
              0.1111111111111111,
              "#46039f"
             ],
             [
              0.2222222222222222,
              "#7201a8"
             ],
             [
              0.3333333333333333,
              "#9c179e"
             ],
             [
              0.4444444444444444,
              "#bd3786"
             ],
             [
              0.5555555555555556,
              "#d8576b"
             ],
             [
              0.6666666666666666,
              "#ed7953"
             ],
             [
              0.7777777777777778,
              "#fb9f3a"
             ],
             [
              0.8888888888888888,
              "#fdca26"
             ],
             [
              1,
              "#f0f921"
             ]
            ],
            "type": "heatmap"
           }
          ],
          "heatmapgl": [
           {
            "colorbar": {
             "outlinewidth": 0,
             "ticks": ""
            },
            "colorscale": [
             [
              0,
              "#0d0887"
             ],
             [
              0.1111111111111111,
              "#46039f"
             ],
             [
              0.2222222222222222,
              "#7201a8"
             ],
             [
              0.3333333333333333,
              "#9c179e"
             ],
             [
              0.4444444444444444,
              "#bd3786"
             ],
             [
              0.5555555555555556,
              "#d8576b"
             ],
             [
              0.6666666666666666,
              "#ed7953"
             ],
             [
              0.7777777777777778,
              "#fb9f3a"
             ],
             [
              0.8888888888888888,
              "#fdca26"
             ],
             [
              1,
              "#f0f921"
             ]
            ],
            "type": "heatmapgl"
           }
          ],
          "histogram": [
           {
            "marker": {
             "pattern": {
              "fillmode": "overlay",
              "size": 10,
              "solidity": 0.2
             }
            },
            "type": "histogram"
           }
          ],
          "histogram2d": [
           {
            "colorbar": {
             "outlinewidth": 0,
             "ticks": ""
            },
            "colorscale": [
             [
              0,
              "#0d0887"
             ],
             [
              0.1111111111111111,
              "#46039f"
             ],
             [
              0.2222222222222222,
              "#7201a8"
             ],
             [
              0.3333333333333333,
              "#9c179e"
             ],
             [
              0.4444444444444444,
              "#bd3786"
             ],
             [
              0.5555555555555556,
              "#d8576b"
             ],
             [
              0.6666666666666666,
              "#ed7953"
             ],
             [
              0.7777777777777778,
              "#fb9f3a"
             ],
             [
              0.8888888888888888,
              "#fdca26"
             ],
             [
              1,
              "#f0f921"
             ]
            ],
            "type": "histogram2d"
           }
          ],
          "histogram2dcontour": [
           {
            "colorbar": {
             "outlinewidth": 0,
             "ticks": ""
            },
            "colorscale": [
             [
              0,
              "#0d0887"
             ],
             [
              0.1111111111111111,
              "#46039f"
             ],
             [
              0.2222222222222222,
              "#7201a8"
             ],
             [
              0.3333333333333333,
              "#9c179e"
             ],
             [
              0.4444444444444444,
              "#bd3786"
             ],
             [
              0.5555555555555556,
              "#d8576b"
             ],
             [
              0.6666666666666666,
              "#ed7953"
             ],
             [
              0.7777777777777778,
              "#fb9f3a"
             ],
             [
              0.8888888888888888,
              "#fdca26"
             ],
             [
              1,
              "#f0f921"
             ]
            ],
            "type": "histogram2dcontour"
           }
          ],
          "mesh3d": [
           {
            "colorbar": {
             "outlinewidth": 0,
             "ticks": ""
            },
            "type": "mesh3d"
           }
          ],
          "parcoords": [
           {
            "line": {
             "colorbar": {
              "outlinewidth": 0,
              "ticks": ""
             }
            },
            "type": "parcoords"
           }
          ],
          "pie": [
           {
            "automargin": true,
            "type": "pie"
           }
          ],
          "scatter": [
           {
            "fillpattern": {
             "fillmode": "overlay",
             "size": 10,
             "solidity": 0.2
            },
            "type": "scatter"
           }
          ],
          "scatter3d": [
           {
            "line": {
             "colorbar": {
              "outlinewidth": 0,
              "ticks": ""
             }
            },
            "marker": {
             "colorbar": {
              "outlinewidth": 0,
              "ticks": ""
             }
            },
            "type": "scatter3d"
           }
          ],
          "scattercarpet": [
           {
            "marker": {
             "colorbar": {
              "outlinewidth": 0,
              "ticks": ""
             }
            },
            "type": "scattercarpet"
           }
          ],
          "scattergeo": [
           {
            "marker": {
             "colorbar": {
              "outlinewidth": 0,
              "ticks": ""
             }
            },
            "type": "scattergeo"
           }
          ],
          "scattergl": [
           {
            "marker": {
             "colorbar": {
              "outlinewidth": 0,
              "ticks": ""
             }
            },
            "type": "scattergl"
           }
          ],
          "scattermapbox": [
           {
            "marker": {
             "colorbar": {
              "outlinewidth": 0,
              "ticks": ""
             }
            },
            "type": "scattermapbox"
           }
          ],
          "scatterpolar": [
           {
            "marker": {
             "colorbar": {
              "outlinewidth": 0,
              "ticks": ""
             }
            },
            "type": "scatterpolar"
           }
          ],
          "scatterpolargl": [
           {
            "marker": {
             "colorbar": {
              "outlinewidth": 0,
              "ticks": ""
             }
            },
            "type": "scatterpolargl"
           }
          ],
          "scatterternary": [
           {
            "marker": {
             "colorbar": {
              "outlinewidth": 0,
              "ticks": ""
             }
            },
            "type": "scatterternary"
           }
          ],
          "surface": [
           {
            "colorbar": {
             "outlinewidth": 0,
             "ticks": ""
            },
            "colorscale": [
             [
              0,
              "#0d0887"
             ],
             [
              0.1111111111111111,
              "#46039f"
             ],
             [
              0.2222222222222222,
              "#7201a8"
             ],
             [
              0.3333333333333333,
              "#9c179e"
             ],
             [
              0.4444444444444444,
              "#bd3786"
             ],
             [
              0.5555555555555556,
              "#d8576b"
             ],
             [
              0.6666666666666666,
              "#ed7953"
             ],
             [
              0.7777777777777778,
              "#fb9f3a"
             ],
             [
              0.8888888888888888,
              "#fdca26"
             ],
             [
              1,
              "#f0f921"
             ]
            ],
            "type": "surface"
           }
          ],
          "table": [
           {
            "cells": {
             "fill": {
              "color": "#EBF0F8"
             },
             "line": {
              "color": "white"
             }
            },
            "header": {
             "fill": {
              "color": "#C8D4E3"
             },
             "line": {
              "color": "white"
             }
            },
            "type": "table"
           }
          ]
         },
         "layout": {
          "annotationdefaults": {
           "arrowcolor": "#2a3f5f",
           "arrowhead": 0,
           "arrowwidth": 1
          },
          "autotypenumbers": "strict",
          "coloraxis": {
           "colorbar": {
            "outlinewidth": 0,
            "ticks": ""
           }
          },
          "colorscale": {
           "diverging": [
            [
             0,
             "#8e0152"
            ],
            [
             0.1,
             "#c51b7d"
            ],
            [
             0.2,
             "#de77ae"
            ],
            [
             0.3,
             "#f1b6da"
            ],
            [
             0.4,
             "#fde0ef"
            ],
            [
             0.5,
             "#f7f7f7"
            ],
            [
             0.6,
             "#e6f5d0"
            ],
            [
             0.7,
             "#b8e186"
            ],
            [
             0.8,
             "#7fbc41"
            ],
            [
             0.9,
             "#4d9221"
            ],
            [
             1,
             "#276419"
            ]
           ],
           "sequential": [
            [
             0,
             "#0d0887"
            ],
            [
             0.1111111111111111,
             "#46039f"
            ],
            [
             0.2222222222222222,
             "#7201a8"
            ],
            [
             0.3333333333333333,
             "#9c179e"
            ],
            [
             0.4444444444444444,
             "#bd3786"
            ],
            [
             0.5555555555555556,
             "#d8576b"
            ],
            [
             0.6666666666666666,
             "#ed7953"
            ],
            [
             0.7777777777777778,
             "#fb9f3a"
            ],
            [
             0.8888888888888888,
             "#fdca26"
            ],
            [
             1,
             "#f0f921"
            ]
           ],
           "sequentialminus": [
            [
             0,
             "#0d0887"
            ],
            [
             0.1111111111111111,
             "#46039f"
            ],
            [
             0.2222222222222222,
             "#7201a8"
            ],
            [
             0.3333333333333333,
             "#9c179e"
            ],
            [
             0.4444444444444444,
             "#bd3786"
            ],
            [
             0.5555555555555556,
             "#d8576b"
            ],
            [
             0.6666666666666666,
             "#ed7953"
            ],
            [
             0.7777777777777778,
             "#fb9f3a"
            ],
            [
             0.8888888888888888,
             "#fdca26"
            ],
            [
             1,
             "#f0f921"
            ]
           ]
          },
          "colorway": [
           "#636efa",
           "#EF553B",
           "#00cc96",
           "#ab63fa",
           "#FFA15A",
           "#19d3f3",
           "#FF6692",
           "#B6E880",
           "#FF97FF",
           "#FECB52"
          ],
          "font": {
           "color": "#2a3f5f"
          },
          "geo": {
           "bgcolor": "white",
           "lakecolor": "white",
           "landcolor": "#E5ECF6",
           "showlakes": true,
           "showland": true,
           "subunitcolor": "white"
          },
          "hoverlabel": {
           "align": "left"
          },
          "hovermode": "closest",
          "mapbox": {
           "style": "light"
          },
          "paper_bgcolor": "white",
          "plot_bgcolor": "#E5ECF6",
          "polar": {
           "angularaxis": {
            "gridcolor": "white",
            "linecolor": "white",
            "ticks": ""
           },
           "bgcolor": "#E5ECF6",
           "radialaxis": {
            "gridcolor": "white",
            "linecolor": "white",
            "ticks": ""
           }
          },
          "scene": {
           "xaxis": {
            "backgroundcolor": "#E5ECF6",
            "gridcolor": "white",
            "gridwidth": 2,
            "linecolor": "white",
            "showbackground": true,
            "ticks": "",
            "zerolinecolor": "white"
           },
           "yaxis": {
            "backgroundcolor": "#E5ECF6",
            "gridcolor": "white",
            "gridwidth": 2,
            "linecolor": "white",
            "showbackground": true,
            "ticks": "",
            "zerolinecolor": "white"
           },
           "zaxis": {
            "backgroundcolor": "#E5ECF6",
            "gridcolor": "white",
            "gridwidth": 2,
            "linecolor": "white",
            "showbackground": true,
            "ticks": "",
            "zerolinecolor": "white"
           }
          },
          "shapedefaults": {
           "line": {
            "color": "#2a3f5f"
           }
          },
          "ternary": {
           "aaxis": {
            "gridcolor": "white",
            "linecolor": "white",
            "ticks": ""
           },
           "baxis": {
            "gridcolor": "white",
            "linecolor": "white",
            "ticks": ""
           },
           "bgcolor": "#E5ECF6",
           "caxis": {
            "gridcolor": "white",
            "linecolor": "white",
            "ticks": ""
           }
          },
          "title": {
           "x": 0.05
          },
          "xaxis": {
           "automargin": true,
           "gridcolor": "white",
           "linecolor": "white",
           "ticks": "",
           "title": {
            "standoff": 15
           },
           "zerolinecolor": "white",
           "zerolinewidth": 2
          },
          "yaxis": {
           "automargin": true,
           "gridcolor": "white",
           "linecolor": "white",
           "ticks": "",
           "title": {
            "standoff": 15
           },
           "zerolinecolor": "white",
           "zerolinewidth": 2
          }
         }
        },
        "title": {
         "text": "Топ-30 наиболее восстребованных навыков"
        },
        "xaxis": {
         "anchor": "y",
         "domain": [
          0,
          1
         ],
         "title": {
          "text": "index"
         }
        },
        "yaxis": {
         "anchor": "x",
         "domain": [
          0,
          1
         ],
         "title": {
          "text": "total_score"
         }
        }
       }
      }
     },
     "metadata": {},
     "output_type": "display_data"
    }
   ],
   "source": [
    "def get_categories(data):\n",
    "    \"\"\"\n",
    "    Разбивает индекс переданного DataFrame на 3 категории и возвращает список из этих категорий\n",
    "    \"\"\"\n",
    "    categories = [\n",
    "        data.index[0:6],\n",
    "        data.index[6:17],\n",
    "        data.index[17:30]\n",
    "    ]\n",
    "    return categories\n",
    "\n",
    "def get_colors_list(data, colors):\n",
    "    \"\"\"\n",
    "    Возвращает список цветов для каждой категории индекса переданного DataFrame\n",
    "    \"\"\"\n",
    "    colors_list = np.select(\n",
    "        [data.index.isin(category) for category in get_categories(data)],\n",
    "        colors\n",
    "    )\n",
    "    return colors_list\n",
    "\n",
    "# Список цветов для категорий\n",
    "colors = ['> 100', 'от 50 до 100', '< 50']\n",
    "\n",
    "# Выводим топ 30 на график\n",
    "# fig = sp.make_subplots(rows=2, cols=2, subplot_titles=(\"Трп 30 часто встречающихся навыков\", \"Топ 30 наиболее востребованных навыков\", \"Топ 30 высокооплачиваемых навыков\", \"Топ 30 высокооплачиваемых навыков на вакансию\"))\n",
    "\n",
    "\n",
    "# Строим график\n",
    "fig = px.bar(top_30_skills, x=top_30_skills.index, y=top_30_skills['total_score'], \n",
    "             labels={'x':'Навык', 'y':'Количество упоминаний'}, \n",
    "             title='Топ-30 наиболее восстребованных навыков',\n",
    "             color=get_colors_list(top_30_skills, colors))\n",
    "             \n",
    "# Изменяем название легенды\n",
    "fig.update_layout(legend_title_text='Категории')\n",
    "\n",
    "\n",
    "fig.show()"
   ]
  },
  {
   "cell_type": "code",
   "execution_count": 153,
   "metadata": {},
   "outputs": [
    {
     "data": {
      "application/vnd.plotly.v1+json": {
       "config": {
        "plotlyServerURL": "https://plot.ly"
       },
       "data": [
        {
         "domain": {
          "x": [
           0,
           1
          ],
          "y": [
           0,
           1
          ]
         },
         "hovertemplate": "index=%{label}<br>total_score=%{value}<extra></extra>",
         "labels": [
          "Python",
          "Git",
          "SQL",
          "PostgreSQL",
          "Django Framework",
          "Linux",
          "Flask",
          "Docker",
          "JavaScript",
          "Английский язык",
          "MySQL",
          "ООП",
          "MongoDB",
          "Redis",
          "REST",
          "RabbitMQ",
          "Django",
          "CSS",
          "HTML",
          "Atlassian Jira",
          "C++",
          "API",
          "Java",
          "MS SQL",
          "Базы данных",
          "Работа в команде",
          "AWS",
          "Celery",
          "Pytest",
          "aiohttp",
          "React",
          "asyncio",
          "NoSQL",
          "Мобильность",
          "PHP",
          "Design Patterns"
         ],
         "legendgroup": "",
         "name": "",
         "showlegend": true,
         "type": "pie",
         "values": [
          120,
          116,
          107,
          110,
          106,
          101,
          88,
          90,
          82,
          74,
          86,
          73,
          78,
          82,
          67,
          55,
          56,
          36,
          39,
          39,
          29,
          25,
          17,
          12,
          35,
          10,
          10,
          21,
          9,
          19,
          28,
          20,
          14,
          2,
          2,
          2
         ]
        }
       ],
       "layout": {
        "legend": {
         "tracegroupgap": 0
        },
        "margin": {
         "t": 60
        },
        "template": {
         "data": {
          "bar": [
           {
            "error_x": {
             "color": "#2a3f5f"
            },
            "error_y": {
             "color": "#2a3f5f"
            },
            "marker": {
             "line": {
              "color": "#E5ECF6",
              "width": 0.5
             },
             "pattern": {
              "fillmode": "overlay",
              "size": 10,
              "solidity": 0.2
             }
            },
            "type": "bar"
           }
          ],
          "barpolar": [
           {
            "marker": {
             "line": {
              "color": "#E5ECF6",
              "width": 0.5
             },
             "pattern": {
              "fillmode": "overlay",
              "size": 10,
              "solidity": 0.2
             }
            },
            "type": "barpolar"
           }
          ],
          "carpet": [
           {
            "aaxis": {
             "endlinecolor": "#2a3f5f",
             "gridcolor": "white",
             "linecolor": "white",
             "minorgridcolor": "white",
             "startlinecolor": "#2a3f5f"
            },
            "baxis": {
             "endlinecolor": "#2a3f5f",
             "gridcolor": "white",
             "linecolor": "white",
             "minorgridcolor": "white",
             "startlinecolor": "#2a3f5f"
            },
            "type": "carpet"
           }
          ],
          "choropleth": [
           {
            "colorbar": {
             "outlinewidth": 0,
             "ticks": ""
            },
            "type": "choropleth"
           }
          ],
          "contour": [
           {
            "colorbar": {
             "outlinewidth": 0,
             "ticks": ""
            },
            "colorscale": [
             [
              0,
              "#0d0887"
             ],
             [
              0.1111111111111111,
              "#46039f"
             ],
             [
              0.2222222222222222,
              "#7201a8"
             ],
             [
              0.3333333333333333,
              "#9c179e"
             ],
             [
              0.4444444444444444,
              "#bd3786"
             ],
             [
              0.5555555555555556,
              "#d8576b"
             ],
             [
              0.6666666666666666,
              "#ed7953"
             ],
             [
              0.7777777777777778,
              "#fb9f3a"
             ],
             [
              0.8888888888888888,
              "#fdca26"
             ],
             [
              1,
              "#f0f921"
             ]
            ],
            "type": "contour"
           }
          ],
          "contourcarpet": [
           {
            "colorbar": {
             "outlinewidth": 0,
             "ticks": ""
            },
            "type": "contourcarpet"
           }
          ],
          "heatmap": [
           {
            "colorbar": {
             "outlinewidth": 0,
             "ticks": ""
            },
            "colorscale": [
             [
              0,
              "#0d0887"
             ],
             [
              0.1111111111111111,
              "#46039f"
             ],
             [
              0.2222222222222222,
              "#7201a8"
             ],
             [
              0.3333333333333333,
              "#9c179e"
             ],
             [
              0.4444444444444444,
              "#bd3786"
             ],
             [
              0.5555555555555556,
              "#d8576b"
             ],
             [
              0.6666666666666666,
              "#ed7953"
             ],
             [
              0.7777777777777778,
              "#fb9f3a"
             ],
             [
              0.8888888888888888,
              "#fdca26"
             ],
             [
              1,
              "#f0f921"
             ]
            ],
            "type": "heatmap"
           }
          ],
          "heatmapgl": [
           {
            "colorbar": {
             "outlinewidth": 0,
             "ticks": ""
            },
            "colorscale": [
             [
              0,
              "#0d0887"
             ],
             [
              0.1111111111111111,
              "#46039f"
             ],
             [
              0.2222222222222222,
              "#7201a8"
             ],
             [
              0.3333333333333333,
              "#9c179e"
             ],
             [
              0.4444444444444444,
              "#bd3786"
             ],
             [
              0.5555555555555556,
              "#d8576b"
             ],
             [
              0.6666666666666666,
              "#ed7953"
             ],
             [
              0.7777777777777778,
              "#fb9f3a"
             ],
             [
              0.8888888888888888,
              "#fdca26"
             ],
             [
              1,
              "#f0f921"
             ]
            ],
            "type": "heatmapgl"
           }
          ],
          "histogram": [
           {
            "marker": {
             "pattern": {
              "fillmode": "overlay",
              "size": 10,
              "solidity": 0.2
             }
            },
            "type": "histogram"
           }
          ],
          "histogram2d": [
           {
            "colorbar": {
             "outlinewidth": 0,
             "ticks": ""
            },
            "colorscale": [
             [
              0,
              "#0d0887"
             ],
             [
              0.1111111111111111,
              "#46039f"
             ],
             [
              0.2222222222222222,
              "#7201a8"
             ],
             [
              0.3333333333333333,
              "#9c179e"
             ],
             [
              0.4444444444444444,
              "#bd3786"
             ],
             [
              0.5555555555555556,
              "#d8576b"
             ],
             [
              0.6666666666666666,
              "#ed7953"
             ],
             [
              0.7777777777777778,
              "#fb9f3a"
             ],
             [
              0.8888888888888888,
              "#fdca26"
             ],
             [
              1,
              "#f0f921"
             ]
            ],
            "type": "histogram2d"
           }
          ],
          "histogram2dcontour": [
           {
            "colorbar": {
             "outlinewidth": 0,
             "ticks": ""
            },
            "colorscale": [
             [
              0,
              "#0d0887"
             ],
             [
              0.1111111111111111,
              "#46039f"
             ],
             [
              0.2222222222222222,
              "#7201a8"
             ],
             [
              0.3333333333333333,
              "#9c179e"
             ],
             [
              0.4444444444444444,
              "#bd3786"
             ],
             [
              0.5555555555555556,
              "#d8576b"
             ],
             [
              0.6666666666666666,
              "#ed7953"
             ],
             [
              0.7777777777777778,
              "#fb9f3a"
             ],
             [
              0.8888888888888888,
              "#fdca26"
             ],
             [
              1,
              "#f0f921"
             ]
            ],
            "type": "histogram2dcontour"
           }
          ],
          "mesh3d": [
           {
            "colorbar": {
             "outlinewidth": 0,
             "ticks": ""
            },
            "type": "mesh3d"
           }
          ],
          "parcoords": [
           {
            "line": {
             "colorbar": {
              "outlinewidth": 0,
              "ticks": ""
             }
            },
            "type": "parcoords"
           }
          ],
          "pie": [
           {
            "automargin": true,
            "type": "pie"
           }
          ],
          "scatter": [
           {
            "fillpattern": {
             "fillmode": "overlay",
             "size": 10,
             "solidity": 0.2
            },
            "type": "scatter"
           }
          ],
          "scatter3d": [
           {
            "line": {
             "colorbar": {
              "outlinewidth": 0,
              "ticks": ""
             }
            },
            "marker": {
             "colorbar": {
              "outlinewidth": 0,
              "ticks": ""
             }
            },
            "type": "scatter3d"
           }
          ],
          "scattercarpet": [
           {
            "marker": {
             "colorbar": {
              "outlinewidth": 0,
              "ticks": ""
             }
            },
            "type": "scattercarpet"
           }
          ],
          "scattergeo": [
           {
            "marker": {
             "colorbar": {
              "outlinewidth": 0,
              "ticks": ""
             }
            },
            "type": "scattergeo"
           }
          ],
          "scattergl": [
           {
            "marker": {
             "colorbar": {
              "outlinewidth": 0,
              "ticks": ""
             }
            },
            "type": "scattergl"
           }
          ],
          "scattermapbox": [
           {
            "marker": {
             "colorbar": {
              "outlinewidth": 0,
              "ticks": ""
             }
            },
            "type": "scattermapbox"
           }
          ],
          "scatterpolar": [
           {
            "marker": {
             "colorbar": {
              "outlinewidth": 0,
              "ticks": ""
             }
            },
            "type": "scatterpolar"
           }
          ],
          "scatterpolargl": [
           {
            "marker": {
             "colorbar": {
              "outlinewidth": 0,
              "ticks": ""
             }
            },
            "type": "scatterpolargl"
           }
          ],
          "scatterternary": [
           {
            "marker": {
             "colorbar": {
              "outlinewidth": 0,
              "ticks": ""
             }
            },
            "type": "scatterternary"
           }
          ],
          "surface": [
           {
            "colorbar": {
             "outlinewidth": 0,
             "ticks": ""
            },
            "colorscale": [
             [
              0,
              "#0d0887"
             ],
             [
              0.1111111111111111,
              "#46039f"
             ],
             [
              0.2222222222222222,
              "#7201a8"
             ],
             [
              0.3333333333333333,
              "#9c179e"
             ],
             [
              0.4444444444444444,
              "#bd3786"
             ],
             [
              0.5555555555555556,
              "#d8576b"
             ],
             [
              0.6666666666666666,
              "#ed7953"
             ],
             [
              0.7777777777777778,
              "#fb9f3a"
             ],
             [
              0.8888888888888888,
              "#fdca26"
             ],
             [
              1,
              "#f0f921"
             ]
            ],
            "type": "surface"
           }
          ],
          "table": [
           {
            "cells": {
             "fill": {
              "color": "#EBF0F8"
             },
             "line": {
              "color": "white"
             }
            },
            "header": {
             "fill": {
              "color": "#C8D4E3"
             },
             "line": {
              "color": "white"
             }
            },
            "type": "table"
           }
          ]
         },
         "layout": {
          "annotationdefaults": {
           "arrowcolor": "#2a3f5f",
           "arrowhead": 0,
           "arrowwidth": 1
          },
          "autotypenumbers": "strict",
          "coloraxis": {
           "colorbar": {
            "outlinewidth": 0,
            "ticks": ""
           }
          },
          "colorscale": {
           "diverging": [
            [
             0,
             "#8e0152"
            ],
            [
             0.1,
             "#c51b7d"
            ],
            [
             0.2,
             "#de77ae"
            ],
            [
             0.3,
             "#f1b6da"
            ],
            [
             0.4,
             "#fde0ef"
            ],
            [
             0.5,
             "#f7f7f7"
            ],
            [
             0.6,
             "#e6f5d0"
            ],
            [
             0.7,
             "#b8e186"
            ],
            [
             0.8,
             "#7fbc41"
            ],
            [
             0.9,
             "#4d9221"
            ],
            [
             1,
             "#276419"
            ]
           ],
           "sequential": [
            [
             0,
             "#0d0887"
            ],
            [
             0.1111111111111111,
             "#46039f"
            ],
            [
             0.2222222222222222,
             "#7201a8"
            ],
            [
             0.3333333333333333,
             "#9c179e"
            ],
            [
             0.4444444444444444,
             "#bd3786"
            ],
            [
             0.5555555555555556,
             "#d8576b"
            ],
            [
             0.6666666666666666,
             "#ed7953"
            ],
            [
             0.7777777777777778,
             "#fb9f3a"
            ],
            [
             0.8888888888888888,
             "#fdca26"
            ],
            [
             1,
             "#f0f921"
            ]
           ],
           "sequentialminus": [
            [
             0,
             "#0d0887"
            ],
            [
             0.1111111111111111,
             "#46039f"
            ],
            [
             0.2222222222222222,
             "#7201a8"
            ],
            [
             0.3333333333333333,
             "#9c179e"
            ],
            [
             0.4444444444444444,
             "#bd3786"
            ],
            [
             0.5555555555555556,
             "#d8576b"
            ],
            [
             0.6666666666666666,
             "#ed7953"
            ],
            [
             0.7777777777777778,
             "#fb9f3a"
            ],
            [
             0.8888888888888888,
             "#fdca26"
            ],
            [
             1,
             "#f0f921"
            ]
           ]
          },
          "colorway": [
           "#636efa",
           "#EF553B",
           "#00cc96",
           "#ab63fa",
           "#FFA15A",
           "#19d3f3",
           "#FF6692",
           "#B6E880",
           "#FF97FF",
           "#FECB52"
          ],
          "font": {
           "color": "#2a3f5f"
          },
          "geo": {
           "bgcolor": "white",
           "lakecolor": "white",
           "landcolor": "#E5ECF6",
           "showlakes": true,
           "showland": true,
           "subunitcolor": "white"
          },
          "hoverlabel": {
           "align": "left"
          },
          "hovermode": "closest",
          "mapbox": {
           "style": "light"
          },
          "paper_bgcolor": "white",
          "plot_bgcolor": "#E5ECF6",
          "polar": {
           "angularaxis": {
            "gridcolor": "white",
            "linecolor": "white",
            "ticks": ""
           },
           "bgcolor": "#E5ECF6",
           "radialaxis": {
            "gridcolor": "white",
            "linecolor": "white",
            "ticks": ""
           }
          },
          "scene": {
           "xaxis": {
            "backgroundcolor": "#E5ECF6",
            "gridcolor": "white",
            "gridwidth": 2,
            "linecolor": "white",
            "showbackground": true,
            "ticks": "",
            "zerolinecolor": "white"
           },
           "yaxis": {
            "backgroundcolor": "#E5ECF6",
            "gridcolor": "white",
            "gridwidth": 2,
            "linecolor": "white",
            "showbackground": true,
            "ticks": "",
            "zerolinecolor": "white"
           },
           "zaxis": {
            "backgroundcolor": "#E5ECF6",
            "gridcolor": "white",
            "gridwidth": 2,
            "linecolor": "white",
            "showbackground": true,
            "ticks": "",
            "zerolinecolor": "white"
           }
          },
          "shapedefaults": {
           "line": {
            "color": "#2a3f5f"
           }
          },
          "ternary": {
           "aaxis": {
            "gridcolor": "white",
            "linecolor": "white",
            "ticks": ""
           },
           "baxis": {
            "gridcolor": "white",
            "linecolor": "white",
            "ticks": ""
           },
           "bgcolor": "#E5ECF6",
           "caxis": {
            "gridcolor": "white",
            "linecolor": "white",
            "ticks": ""
           }
          },
          "title": {
           "x": 0.05
          },
          "xaxis": {
           "automargin": true,
           "gridcolor": "white",
           "linecolor": "white",
           "ticks": "",
           "title": {
            "standoff": 15
           },
           "zerolinecolor": "white",
           "zerolinewidth": 2
          },
          "yaxis": {
           "automargin": true,
           "gridcolor": "white",
           "linecolor": "white",
           "ticks": "",
           "title": {
            "standoff": 15
           },
           "zerolinecolor": "white",
           "zerolinewidth": 2
          }
         }
        }
       }
      }
     },
     "metadata": {},
     "output_type": "display_data"
    }
   ],
   "source": [
    "\n",
    "fig = px.pie(top_skills, values='total_score', names=top_skills.index)\n",
    "fig.show()\n"
   ]
  },
  {
   "cell_type": "markdown",
   "metadata": {},
   "source": [
    "#### 4. Cоставьте топ-10 городов с наибольшей средней заработной платой по вакансиям тестировщика (QA)."
   ]
  },
  {
   "cell_type": "code",
   "execution_count": null,
   "metadata": {},
   "outputs": [],
   "source": [
    "# ВАШ КОД ЗДЕСЬ\n"
   ]
  },
  {
   "cell_type": "markdown",
   "metadata": {},
   "source": [
    "#### 5. Покажите динамику количества вакансии по месяцам даты создания."
   ]
  },
  {
   "cell_type": "code",
   "execution_count": null,
   "metadata": {},
   "outputs": [],
   "source": [
    "# ВАШ КОД ЗДЕСЬ\n"
   ]
  },
  {
   "cell_type": "markdown",
   "metadata": {},
   "source": [
    "#### 6. Напишите функцию для поиска вакансий по переданным в нее значениям заработной платы, наличия тестового задания, наличия заданного текста в наименовании вакансии, наличия заданного навыка. В результате выведите количество найденных вакансий, среднюю заработную плату по найденным вакансиям и список ссылок найденных вакансий. "
   ]
  },
  {
   "cell_type": "code",
   "execution_count": null,
   "metadata": {},
   "outputs": [],
   "source": [
    "# ВАШ КОД ЗДЕСЬ\n"
   ]
  },
  {
   "cell_type": "markdown",
   "metadata": {},
   "source": [
    "#### *Необязательно*. Усложненный вариант - сделать атрибуты функции опциональными, чтобы иметь возможность фильтрации вакансий по любой комбинации условий."
   ]
  },
  {
   "cell_type": "code",
   "execution_count": null,
   "metadata": {},
   "outputs": [],
   "source": [
    "# ВАШ КОД ЗДЕСЬ\n"
   ]
  }
 ],
 "metadata": {
  "kernelspec": {
   "display_name": "Python 3 (ipykernel)",
   "language": "python",
   "name": "python3"
  },
  "language_info": {
   "codemirror_mode": {
    "name": "ipython",
    "version": 3
   },
   "file_extension": ".py",
   "mimetype": "text/x-python",
   "name": "python",
   "nbconvert_exporter": "python",
   "pygments_lexer": "ipython3",
   "version": "3.10.5"
  }
 },
 "nbformat": 4,
 "nbformat_minor": 4
}
