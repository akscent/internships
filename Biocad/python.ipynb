{
 "cells": [
  {
   "cell_type": "markdown",
   "metadata": {},
   "source": [
    "<center style=\"font-size: 26px\"> <b>Проверка уровня знаний Python</b></center>"
   ]
  },
  {
   "cell_type": "code",
   "execution_count": 2,
   "metadata": {},
   "outputs": [],
   "source": [
    "# обеспечиваем совместимость с Python 2 и 3\n",
    "from __future__ import (absolute_import, division, print_function, unicode_literals)\n",
    "\n",
    "# отключаем предупреждения дистрибутива Anaconda\n",
    "import warnings\n",
    "warnings.simplefilter('ignore')"
   ]
  },
  {
   "cell_type": "markdown",
   "metadata": {},
   "source": [
    "### Практические задания:"
   ]
  },
  {
   "cell_type": "markdown",
   "metadata": {},
   "source": [
    "#### Загрузите датасет, который вы использовали в блоке задания Power BI как dataframe\n",
    "\n",
    "[Датасет с платформы ИНИД](https://www.data-in.ru/data-catalog/datasets/133/#dataset-overview)"
   ]
  },
  {
   "cell_type": "code",
   "execution_count": 18,
   "metadata": {},
   "outputs": [
    {
     "name": "stdout",
     "output_type": "stream",
     "text": [
      "['Description', 'Data']\n"
     ]
    }
   ],
   "source": [
    "\n",
    "import pandas as pd\n",
    "data = pd.ExcelFile('data.xlsx')\n",
    "print(data.sheet_names)\n",
    "df = data.parse('Data')"
   ]
  },
  {
   "cell_type": "markdown",
   "metadata": {},
   "source": [
    "#### 1. Выведете типы данных столбцов"
   ]
  },
  {
   "cell_type": "code",
   "execution_count": 65,
   "metadata": {
    "scrolled": true
   },
   "outputs": [
    {
     "name": "stdout",
     "output_type": "stream",
     "text": [
      "Страна                                                            object\n",
      "Краткие обозначения                                               object\n",
      "Город                                                             object\n",
      "Дата поставки/новости                                     datetime64[ns]\n",
      "Дата завершения (для случаев отправления персонала)       datetime64[ns]\n",
      "Природа помощи (правительственная/неправительственная)            object\n",
      "Наборы тестов (кол-во)                                           float64\n",
      "Тест-системы/исследования (кол-во)                               float64\n",
      "Тесты (факт)                                                     float64\n",
      "СИЗ (факт)                                                       float64\n",
      "Мед. оборудование (факт)                                         float64\n",
      "Медикаменты (факт)                                               float64\n",
      "Персонал (факт)                                                  float64\n",
      "Вакцина (кол-во)                                                 float64\n",
      "Марка вакцины                                                     object\n",
      "Вакцина (первый компонент)                                       float64\n",
      "Вакцина (второй компонент)                                       float64\n",
      "Вакцина (факт)                                                   float64\n",
      "Прочее (факт)                                                    float64\n",
      "Карточка помощи (описание, текст)                                 object\n",
      "Источник 1                                                        object\n",
      "Источник 2                                                        object\n",
      "Источник 3                                                        object\n",
      "Роспотребнадзор                                                  float64\n",
      "МЧС                                                              float64\n",
      "Минобороны                                                       float64\n",
      "Минздрав                                                         float64\n",
      "ФМБА                                                             float64\n",
      "Другие организации                                                object\n",
      "Международные организации                                         object\n",
      "Домен 1                                                           object\n",
      "dtype: object\n"
     ]
    }
   ],
   "source": [
    "\n",
    "df_types=df.dtypes\n",
    "print(df_types)"
   ]
  },
  {
   "cell_type": "markdown",
   "metadata": {},
   "source": [
    "#### 3. Уберите из названий столбцов знаки переносов ('\\n')"
   ]
  },
  {
   "cell_type": "code",
   "execution_count": 22,
   "metadata": {},
   "outputs": [],
   "source": [
    "\n",
    "df.columns = df.columns.str.replace(\"\\n\", \"\")\n"
   ]
  },
  {
   "cell_type": "markdown",
   "metadata": {},
   "source": [
    "#### 4. Выведите таблицу, которая позволит просмотреть первую дату поставки и общее количество поставленной вакцины в рамках Марки вакцины и страны."
   ]
  },
  {
   "cell_type": "code",
   "execution_count": 30,
   "metadata": {
    "scrolled": true
   },
   "outputs": [
    {
     "data": {
      "text/html": [
       "<div>\n",
       "<style scoped>\n",
       "    .dataframe tbody tr th:only-of-type {\n",
       "        vertical-align: middle;\n",
       "    }\n",
       "\n",
       "    .dataframe tbody tr th {\n",
       "        vertical-align: top;\n",
       "    }\n",
       "\n",
       "    .dataframe thead th {\n",
       "        text-align: right;\n",
       "    }\n",
       "</style>\n",
       "<table border=\"1\" class=\"dataframe\">\n",
       "  <thead>\n",
       "    <tr style=\"text-align: right;\">\n",
       "      <th></th>\n",
       "      <th></th>\n",
       "      <th>Дата поставки/новости</th>\n",
       "      <th>Вакцина (кол-во)</th>\n",
       "    </tr>\n",
       "    <tr>\n",
       "      <th>Марка вакцины</th>\n",
       "      <th>Страна</th>\n",
       "      <th></th>\n",
       "      <th></th>\n",
       "    </tr>\n",
       "  </thead>\n",
       "  <tbody>\n",
       "    <tr>\n",
       "      <th rowspan=\"14\" valign=\"top\">Спутник V</th>\n",
       "      <th>Абхазия</th>\n",
       "      <td>2021-04-30</td>\n",
       "      <td>2500.0</td>\n",
       "    </tr>\n",
       "    <tr>\n",
       "      <th>Азербайджан</th>\n",
       "      <td>2021-04-26</td>\n",
       "      <td>15000.0</td>\n",
       "    </tr>\n",
       "    <tr>\n",
       "      <th>Ангола</th>\n",
       "      <td>2021-05-30</td>\n",
       "      <td>50000.0</td>\n",
       "    </tr>\n",
       "    <tr>\n",
       "      <th>Армения</th>\n",
       "      <td>2021-03-02</td>\n",
       "      <td>2060.0</td>\n",
       "    </tr>\n",
       "    <tr>\n",
       "      <th>Вьетнам</th>\n",
       "      <td>2021-03-16</td>\n",
       "      <td>1000.0</td>\n",
       "    </tr>\n",
       "    <tr>\n",
       "      <th>Египет</th>\n",
       "      <td>2021-06-17</td>\n",
       "      <td>13680.0</td>\n",
       "    </tr>\n",
       "    <tr>\n",
       "      <th>Зимбабве</th>\n",
       "      <td>2021-06-09</td>\n",
       "      <td>50000.0</td>\n",
       "    </tr>\n",
       "    <tr>\n",
       "      <th>Киргизия</th>\n",
       "      <td>2021-04-22</td>\n",
       "      <td>5000.0</td>\n",
       "    </tr>\n",
       "    <tr>\n",
       "      <th>Молдавия</th>\n",
       "      <td>2021-04-24</td>\n",
       "      <td>172000.0</td>\n",
       "    </tr>\n",
       "    <tr>\n",
       "      <th>Никарагуа</th>\n",
       "      <td>2021-02-23</td>\n",
       "      <td>106000.0</td>\n",
       "    </tr>\n",
       "    <tr>\n",
       "      <th>Палестина</th>\n",
       "      <td>2021-02-04</td>\n",
       "      <td>30000.0</td>\n",
       "    </tr>\n",
       "    <tr>\n",
       "      <th>Таджикистан</th>\n",
       "      <td>2021-08-13</td>\n",
       "      <td>50000.0</td>\n",
       "    </tr>\n",
       "    <tr>\n",
       "      <th>Украина</th>\n",
       "      <td>2021-01-30</td>\n",
       "      <td>0.0</td>\n",
       "    </tr>\n",
       "    <tr>\n",
       "      <th>Шри-Ланка</th>\n",
       "      <td>2021-11-22</td>\n",
       "      <td>5000.0</td>\n",
       "    </tr>\n",
       "    <tr>\n",
       "      <th rowspan=\"9\" valign=\"top\">Спутник Лайт</th>\n",
       "      <th>Бенин</th>\n",
       "      <td>2022-01-24</td>\n",
       "      <td>100000.0</td>\n",
       "    </tr>\n",
       "    <tr>\n",
       "      <th>Вьетнам</th>\n",
       "      <td>2021-12-24</td>\n",
       "      <td>100000.0</td>\n",
       "    </tr>\n",
       "    <tr>\n",
       "      <th>Джибути</th>\n",
       "      <td>2022-01-03</td>\n",
       "      <td>100000.0</td>\n",
       "    </tr>\n",
       "    <tr>\n",
       "      <th>Киргизия</th>\n",
       "      <td>2021-11-12</td>\n",
       "      <td>200000.0</td>\n",
       "    </tr>\n",
       "    <tr>\n",
       "      <th>Лаос</th>\n",
       "      <td>2021-09-22</td>\n",
       "      <td>30000.0</td>\n",
       "    </tr>\n",
       "    <tr>\n",
       "      <th>Сирия</th>\n",
       "      <td>2021-07-24</td>\n",
       "      <td>250000.0</td>\n",
       "    </tr>\n",
       "    <tr>\n",
       "      <th>Тунис</th>\n",
       "      <td>2022-01-15</td>\n",
       "      <td>100000.0</td>\n",
       "    </tr>\n",
       "    <tr>\n",
       "      <th>Турменистан</th>\n",
       "      <td>2021-12-24</td>\n",
       "      <td>10000.0</td>\n",
       "    </tr>\n",
       "    <tr>\n",
       "      <th>Украина</th>\n",
       "      <td>2021-07-28</td>\n",
       "      <td>798350.0</td>\n",
       "    </tr>\n",
       "    <tr>\n",
       "      <th>ЭпиВакКорона</th>\n",
       "      <th>Белоруссия</th>\n",
       "      <td>2021-02-03</td>\n",
       "      <td>300.0</td>\n",
       "    </tr>\n",
       "  </tbody>\n",
       "</table>\n",
       "</div>"
      ],
      "text/plain": [
       "                          Дата поставки/новости  Вакцина (кол-во)\n",
       "Марка вакцины Страна                                             \n",
       "Спутник V     Абхазия                2021-04-30            2500.0\n",
       "              Азербайджан            2021-04-26           15000.0\n",
       "              Ангола                 2021-05-30           50000.0\n",
       "              Армения                2021-03-02            2060.0\n",
       "              Вьетнам                2021-03-16            1000.0\n",
       "              Египет                 2021-06-17           13680.0\n",
       "              Зимбабве               2021-06-09           50000.0\n",
       "              Киргизия               2021-04-22            5000.0\n",
       "              Молдавия               2021-04-24          172000.0\n",
       "              Никарагуа              2021-02-23          106000.0\n",
       "              Палестина              2021-02-04           30000.0\n",
       "              Таджикистан            2021-08-13           50000.0\n",
       "              Украина                2021-01-30               0.0\n",
       "              Шри-Ланка              2021-11-22            5000.0\n",
       "Спутник Лайт  Бенин                  2022-01-24          100000.0\n",
       "              Вьетнам                2021-12-24          100000.0\n",
       "              Джибути                2022-01-03          100000.0\n",
       "              Киргизия               2021-11-12          200000.0\n",
       "              Лаос                   2021-09-22           30000.0\n",
       "              Сирия                  2021-07-24          250000.0\n",
       "              Тунис                  2022-01-15          100000.0\n",
       "              Турменистан            2021-12-24           10000.0\n",
       "              Украина                2021-07-28          798350.0\n",
       "ЭпиВакКорона  Белоруссия             2021-02-03             300.0"
      ]
     },
     "execution_count": 30,
     "metadata": {},
     "output_type": "execute_result"
    }
   ],
   "source": [
    "\n",
    "table1 = df.groupby([\"Марка вакцины\", \"Страна\"]).agg({\"Дата поставки/новости\" : \"min\", \"Вакцина (кол-во)\" : \"sum\"})\n",
    "table1"
   ]
  },
  {
   "cell_type": "markdown",
   "metadata": {},
   "source": [
    "#### 5. Напишите код для выгрузки полученной таблицы из задания 4 в xlsx так, чтобы лист Excel-файла назывался \"Выгрузка\" и были сохранены заголовки таблицы"
   ]
  },
  {
   "cell_type": "code",
   "execution_count": 32,
   "metadata": {},
   "outputs": [],
   "source": [
    "\n",
    "table1.to_excel('table1.xlsx',  sheet_name='Выгрузка')"
   ]
  },
  {
   "cell_type": "markdown",
   "metadata": {},
   "source": [
    "#### 6. Достать домены источников 1, 2, 3\n",
    "Для столбцов Источников создать столбцы Доменов, где будет извлечен только домен (источник: https://sputnik-abkhazia.ru/Abkhazia/20200320/..., домен: sputnik-abkhazia.ru). В исходном датасете 3 столбца источника и соответственно должно быть создана 3 столбца с доменами."
   ]
  },
  {
   "cell_type": "code",
   "execution_count": 94,
   "metadata": {},
   "outputs": [
    {
     "data": {
      "text/plain": [
       "<bound method NDFrame.head of       Страна Краткие обозначения           Город Дата поставки/новости  \\\n",
       "0    Абхазия                  AB             NaN            2020-03-20   \n",
       "1    Абхазия                  AB             NaN            2020-04-18   \n",
       "2    Абхазия                  AB             NaN            2020-10-18   \n",
       "3    Абхазия                  AB             NaN            2020-10-27   \n",
       "4    Абхазия                  AB           Сухум            2020-10-20   \n",
       "..       ...                 ...             ...                   ...   \n",
       "214  Украина                  UA         Луганск            2021-07-28   \n",
       "215  Украина                  UA          Донецк            2021-12-23   \n",
       "216  Украина                  UA         Луганск            2021-11-25   \n",
       "217  Украина                  UA          Донецк            2021-11-25   \n",
       "218  Абхазия                  AB  Сухум, Гудаута            2021-08-19   \n",
       "\n",
       "    Дата завершения (для случаев отправления персонала)  \\\n",
       "0                                                  NaT    \n",
       "1                                           2020-05-18    \n",
       "2                                                  NaT    \n",
       "3                                                  NaT    \n",
       "4                                           2021-03-09    \n",
       "..                                                 ...    \n",
       "214                                                NaT    \n",
       "215                                                NaT    \n",
       "216                                                NaT    \n",
       "217                                                NaT    \n",
       "218                                         2021-09-24    \n",
       "\n",
       "    Природа помощи (правительственная/неправительственная)  \\\n",
       "0                                                    П       \n",
       "1                                                    П       \n",
       "2                                                    П       \n",
       "3                                                    П       \n",
       "4                                                    П       \n",
       "..                                                 ...       \n",
       "214                                                  П       \n",
       "215                                                  П       \n",
       "216                                                  П       \n",
       "217                                                  П       \n",
       "218                                                  П       \n",
       "\n",
       "     Наборы тестов (кол-во)  Тест-системы/исследования (кол-во)  Тесты (факт)  \\\n",
       "0                       NaN                               400.0           1.0   \n",
       "1                       NaN                                 NaN           NaN   \n",
       "2                       NaN                                 NaN           NaN   \n",
       "3                    1000.0                             10000.0           1.0   \n",
       "4                       NaN                                 NaN           NaN   \n",
       "..                      ...                                 ...           ...   \n",
       "214                     NaN                                 NaN           NaN   \n",
       "215                     NaN                                 NaN           NaN   \n",
       "216                     NaN                                 NaN           NaN   \n",
       "217                     NaN                                 NaN           NaN   \n",
       "218                     NaN                                 NaN           NaN   \n",
       "\n",
       "     СИЗ (факт)  ...  Роспотребнадзор  МЧС  Минобороны  Минздрав ФМБА  \\\n",
       "0           NaN  ...              1.0  NaN         NaN       NaN  NaN   \n",
       "1           NaN  ...              NaN  NaN         1.0       NaN  NaN   \n",
       "2           NaN  ...              NaN  NaN         1.0       NaN  NaN   \n",
       "3           NaN  ...              1.0  NaN         NaN       NaN  NaN   \n",
       "4           NaN  ...              NaN  NaN         1.0       NaN  NaN   \n",
       "..          ...  ...              ...  ...         ...       ...  ...   \n",
       "214         NaN  ...              NaN  NaN         NaN       NaN  NaN   \n",
       "215         NaN  ...              NaN  1.0         NaN       NaN  NaN   \n",
       "216         NaN  ...              NaN  1.0         NaN       NaN  NaN   \n",
       "217         NaN  ...              NaN  1.0         NaN       NaN  NaN   \n",
       "218         NaN  ...              NaN  NaN         1.0       NaN  NaN   \n",
       "\n",
       "     Другие организации  Международные организации              Домен 1  \\\n",
       "0                   NaN                        NaN  sputnik-abkhazia.ru   \n",
       "1                   NaN                        NaN           www.mid.ru   \n",
       "2                   NaN                        NaN      function.mil.ru   \n",
       "3                   NaN                        NaN      apsnypress.info   \n",
       "4                   NaN                        NaN      function.mil.ru   \n",
       "..                  ...                        ...                  ...   \n",
       "214       Единая Россия                        NaN         sovminlnr.ru   \n",
       "215                 NaN                        NaN             mzdnr.ru   \n",
       "216                 NaN                        NaN             mzlnr.su   \n",
       "217                 NaN                        NaN             mzdnr.ru   \n",
       "218                 NaN                        NaN           www.mid.ru   \n",
       "\n",
       "                 Домен 2              Домен 3  \n",
       "0    sputnik-abkhazia.ru                  NaN  \n",
       "1        abkhazia.mid.ru  sputnik-abkhazia.ru  \n",
       "2    sputnik-abkhazia.ru      function.mil.ru  \n",
       "3                tass.ru                  NaN  \n",
       "4        function.mil.ru  sputnik-abkhazia.ru  \n",
       "..                   ...                  ...  \n",
       "214         lug-info.com              tass.ru  \n",
       "215      www.mchs.gov.ru                  NaN  \n",
       "216      www.mchs.gov.ru                  NaN  \n",
       "217        dan-news.info      www.mchs.gov.ru  \n",
       "218      function.mil.ru      function.mil.ru  \n",
       "\n",
       "[219 rows x 33 columns]>"
      ]
     },
     "execution_count": 94,
     "metadata": {},
     "output_type": "execute_result"
    }
   ],
   "source": [
    "\n",
    "from urllib.parse import urlparse\n",
    "import pandas as pd\n",
    "d1 = df['Источник 1'].str.extract('(?<=http://)(.*?)(?=/)|(?<=https://)(.*?)(?=/)')\n",
    "d1 = d1[0].fillna(d1[1]).fillna(df['Источник 1'])\n",
    "df[\"Домен 1\"] = d1\n",
    "d2 = df['Источник 2'].str.extract('(?<=http://)(.*?)(?=/)|(?<=https://)(.*?)(?=/)')\n",
    "d2 = d2[0].fillna(d2[1]).fillna(df['Источник 2'])\n",
    "df[\"Домен 2\"] = d2\n",
    "d3 = df['Источник 3'].str.extract('(?<=http://)(.*?)(?=/)|(?<=https://)(.*?)(?=/)')\n",
    "d3 = d3[0].fillna(d3[1]).fillna(df['Источник 3'])\n",
    "df[\"Домен 3\"] = d3\n",
    "df.head\n"
   ]
  },
  {
   "cell_type": "code",
   "execution_count": null,
   "metadata": {},
   "outputs": [],
   "source": []
  }
 ],
 "metadata": {
  "kernelspec": {
   "display_name": "Python 3 (ipykernel)",
   "language": "python",
   "name": "python3"
  },
  "language_info": {
   "codemirror_mode": {
    "name": "ipython",
    "version": 3
   },
   "file_extension": ".py",
   "mimetype": "text/x-python",
   "name": "python",
   "nbconvert_exporter": "python",
   "pygments_lexer": "ipython3",
   "version": "3.9.7"
  }
 },
 "nbformat": 4,
 "nbformat_minor": 4
}
