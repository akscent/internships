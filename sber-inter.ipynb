{
 "cells": [
  {
   "cell_type": "code",
   "execution_count": 1,
   "id": "b04e8719",
   "metadata": {
    "execution": {
     "iopub.execute_input": "2024-02-22T12:04:42.194061Z",
     "iopub.status.busy": "2024-02-22T12:04:42.193404Z",
     "iopub.status.idle": "2024-02-22T12:04:58.295863Z",
     "shell.execute_reply": "2024-02-22T12:04:58.294559Z"
    },
    "papermill": {
     "duration": 16.113186,
     "end_time": "2024-02-22T12:04:58.298643",
     "exception": false,
     "start_time": "2024-02-22T12:04:42.185457",
     "status": "completed"
    },
    "tags": []
   },
   "outputs": [],
   "source": [
    "!pip install polars > istallations.txt"
   ]
  },
  {
   "cell_type": "code",
   "execution_count": 2,
   "id": "7578d4cc",
   "metadata": {
    "_cell_guid": "b1076dfc-b9ad-4769-8c92-a6c4dae69d19",
    "_uuid": "8f2839f25d086af736a60e9eeb907d3b93b6e0e5",
    "execution": {
     "iopub.execute_input": "2024-02-22T12:04:58.311661Z",
     "iopub.status.busy": "2024-02-22T12:04:58.311268Z",
     "iopub.status.idle": "2024-02-22T12:05:01.155727Z",
     "shell.execute_reply": "2024-02-22T12:05:01.154293Z"
    },
    "papermill": {
     "duration": 2.853938,
     "end_time": "2024-02-22T12:05:01.158355",
     "exception": false,
     "start_time": "2024-02-22T12:04:58.304417",
     "status": "completed"
    },
    "tags": []
   },
   "outputs": [
    {
     "name": "stdout",
     "output_type": "stream",
     "text": [
      "/kaggle/input/sbermarket-internship-competition/sample_submission.csv\n",
      "/kaggle/input/sbermarket-internship-competition/train.csv\n"
     ]
    }
   ],
   "source": [
    "import polars as pl\n",
    "import numpy as np\n",
    "import pandas as pd\n",
    "import os\n",
    "import time\n",
    "from sklearn.metrics import f1_score\n",
    "from sklearn.model_selection import train_test_split\n",
    "\n",
    "for dirname, _, filenames in os.walk('/kaggle/input'):\n",
    "    for filename in filenames:\n",
    "        print(os.path.join(dirname, filename))\n"
   ]
  },
  {
   "cell_type": "code",
   "execution_count": 3,
   "id": "a9dc9faf",
   "metadata": {
    "execution": {
     "iopub.execute_input": "2024-02-22T12:05:01.171157Z",
     "iopub.status.busy": "2024-02-22T12:05:01.170603Z",
     "iopub.status.idle": "2024-02-22T12:05:01.984267Z",
     "shell.execute_reply": "2024-02-22T12:05:01.982927Z"
    },
    "papermill": {
     "duration": 0.823282,
     "end_time": "2024-02-22T12:05:01.987158",
     "exception": false,
     "start_time": "2024-02-22T12:05:01.163876",
     "status": "completed"
    },
    "tags": []
   },
   "outputs": [],
   "source": [
    "raw = pl.read_csv('../input/sbermarket-internship-competition/train.csv')\n",
    "sub = pl.read_csv('../input/sbermarket-internship-competition/sample_submission.csv')\n",
    "\n",
    "# Приведение столбца 'cart' к типу string\n",
    "raw = raw.with_columns(raw['cart'].cast(str).alias(\"cart\"))"
   ]
  },
  {
   "cell_type": "code",
   "execution_count": 4,
   "id": "302754ea",
   "metadata": {
    "execution": {
     "iopub.execute_input": "2024-02-22T12:05:02.000442Z",
     "iopub.status.busy": "2024-02-22T12:05:02.000025Z",
     "iopub.status.idle": "2024-02-22T12:05:02.030185Z",
     "shell.execute_reply": "2024-02-22T12:05:02.028527Z"
    },
    "papermill": {
     "duration": 0.039602,
     "end_time": "2024-02-22T12:05:02.032515",
     "exception": true,
     "start_time": "2024-02-22T12:05:01.992913",
     "status": "failed"
    },
    "tags": []
   },
   "outputs": [
    {
     "name": "stderr",
     "output_type": "stream",
     "text": [
      "UsageError: Line magic function `%%time` not found.\n"
     ]
    }
   ],
   "source": [
    "def t_v_data(raw: pl.DataFrame) -> tuple[pl.DataFrame, pl.DataFrame]:\n",
    "    \"\"\"\n",
    "    Обрабатывает датафрейм polars и возвращает обработынный тренировочный и валидационный датасеты.\n",
    "\n",
    "    Args:\n",
    "        raw (pl.DataFrame): Polars DataFrame для обработки.\n",
    "\n",
    "    Returns:\n",
    "        tuple[pl.DataFrame, pl.DataFrame]: Обработанные DataFrame для train_data и valid_data.\n",
    "    \"\"\"\n",
    "\n",
    "    # OHE 'cart', группировка по юзеру и дате заказа по максимальным значениям\n",
    "    # Таким образом для каждой категории, если она была в этот день в заказе у пользователя, будет 1\n",
    "    train_raw = raw.to_dummies(columns='cart').group_by(['user_id', 'order_completed_at']).max()\n",
    "    train_raw = train_raw.sort(['user_id', 'order_completed_at'])\n",
    "\n",
    "    # Вычисление порядкового номера заказа для каждого пользователя\n",
    "    # pl.lit - создает временный столбец, чтобы вычислять 1 и нумерация начиналась с 0\n",
    "    train_raw = train_raw.with_columns(\n",
    "        (pl.col('user_id').cum_count() - pl.lit(1)).over(['user_id']).alias('order_number')\n",
    "    )\n",
    "\n",
    "    # Удаление даты. ХОТЯ ТУТ МОЖНО ДОСТАТЬ КАКИЕ_ТО ФИЧИ; НАПРИМЕР ВРЕМЯ СУТОК\n",
    "    # Можно посмотреть следующее вероятное время заказа\n",
    "    train_raw = train_raw.drop('order_completed_at')\n",
    "\n",
    "    # Группировка по 'user_id' и вычисление максимального номера заказа\n",
    "    grouped = train_raw.group_by('user_id').agg(pl.max('order_number').alias('max_order_number'))\n",
    "\n",
    "    # Присоединение к train_raw для получения максимального номера заказа для каждого 'user_id'\n",
    "    merged = train_raw.join(grouped, on='user_id')\n",
    "\n",
    "    # Определение последнего заказа для каждого пользователя\n",
    "    last_order = merged['max_order_number'] == merged['order_number']\n",
    "\n",
    "    # Разделение на train_data (заказы, кроме последнего) и valid_data (последний заказ)\n",
    "    train_data = train_raw.filter(~last_order).group_by('user_id').sum()\n",
    "    valid_data = train_raw.filter(last_order)\n",
    "\n",
    "    return train_data, valid_data\n",
    "\n",
    "def Train_create(train_data: pl.DataFrame, valid_data: pl.DataFrame) -> pd.DataFrame:\n",
    "    \"\"\"\n",
    "    Обрабатывает train & val и возвращает укомплектованный pd.Dataframe Train.\n",
    "\n",
    "    Args:\n",
    "        train_data (pl.DataFrame): DataFrame с данными обучающего набора.\n",
    "        valid_data (pl.DataFrame): DataFrame с данными валидационного набора.\n",
    "\n",
    "    Returns:\n",
    "        pd.DataFrame: Итоговый DataFrame после обработки.\n",
    "    \"\"\"\n",
    "    # Преобразование в длинный формат\n",
    "    train_melt = train_data.drop('order_number').melt(id_vars=['user_id'], variable_name='category', value_name='ordered')\n",
    "    valid_melt = valid_data.drop('order_number').melt(id_vars=['user_id'], variable_name='category', value_name='target')\n",
    "    \n",
    "    Train = train_melt\n",
    "    # Создание DataFrame с информацией о номере заказа для каждого пользователя в valid_data\n",
    "    order_number_df = valid_data.select(['user_id', 'order_number']).unique()\n",
    "    Train = Train.join(order_number_df, on='user_id', how='left')\n",
    "\n",
    "    # Вычисление рейтинга для каждой записи в Train\n",
    "    Train = Train.with_columns((pl.col('ordered') / pl.col('order_number')).alias('rating'))\n",
    "\n",
    "    # Формирование уникального идентификатора для каждой записи в Train\n",
    "    Train = Train.with_columns((pl.col('user_id').cast(pl.Utf8) + ';' + pl.col('category')).alias('id'))\n",
    "\n",
    "    # Присоединение целевой переменной из valid_melt к Train\n",
    "    Train = Train.with_columns(valid_melt.select('target'))\n",
    "\n",
    "    # Расчет суммарного количества заказанных продуктов по каждой категории в Train\n",
    "    dl_tmp = Train.group_by('category').agg(pl.col(['ordered']).sum())\n",
    "\n",
    "    # Присоединение информации о суммарном количестве заказанных продуктов к Train\n",
    "    Train = Train.join(dl_tmp.select('category', 'ordered'), on='category').rename({\"ordered_right\": \"total_ordered\"})\n",
    "\n",
    "    # Преобразование в pandas DataFrame\n",
    "    Train = Train.to_pandas()\n",
    "\n",
    "    return Train\n",
    "\n",
    "%%time\n",
    "train_data, val_data = t_v_data(raw)\n",
    "Train = Train_create(train_data, val_data)\n"
   ]
  },
  {
   "cell_type": "code",
   "execution_count": null,
   "id": "0515bc59",
   "metadata": {
    "execution": {
     "iopub.execute_input": "2024-02-22T12:04:07.851978Z",
     "iopub.status.busy": "2024-02-22T12:04:07.851675Z",
     "iopub.status.idle": "2024-02-22T12:04:07.949227Z",
     "shell.execute_reply": "2024-02-22T12:04:07.948394Z",
     "shell.execute_reply.started": "2024-02-22T12:04:07.851957Z"
    },
    "papermill": {
     "duration": null,
     "end_time": null,
     "exception": null,
     "start_time": null,
     "status": "pending"
    },
    "tags": []
   },
   "outputs": [],
   "source": [
    "Train"
   ]
  },
  {
   "cell_type": "code",
   "execution_count": null,
   "id": "69a27f2f",
   "metadata": {
    "execution": {
     "iopub.execute_input": "2024-02-22T11:34:33.817108Z",
     "iopub.status.busy": "2024-02-22T11:34:33.816720Z",
     "iopub.status.idle": "2024-02-22T11:34:41.371566Z",
     "shell.execute_reply": "2024-02-22T11:34:41.370969Z",
     "shell.execute_reply.started": "2024-02-22T11:34:33.817082Z"
    },
    "papermill": {
     "duration": null,
     "end_time": null,
     "exception": null,
     "start_time": null,
     "status": "pending"
    },
    "tags": []
   },
   "outputs": [],
   "source": [
    "%%time\n",
    "raw = raw.with_columns(raw['cart'].cast(str).alias(\"cart\"))\n",
    "train_raw = raw.to_dummies(columns = 'cart')\n",
    "train_raw = train_raw.group_by(['user_id', 'order_completed_at']).max()\n",
    "train_raw = train_raw.sort(['user_id', 'order_completed_at'])\n",
    "train_raw = train_raw.with_columns(\n",
    "    (pl.col('user_id').cum_count() - pl.lit(1)).over(['user_id']).alias('order_number')\n",
    ")\n",
    "train_raw = train_raw.drop('order_completed_at')\n",
    "grouped = train_raw.group_by('user_id').agg(pl.max('order_number').alias('max_order_number'))\n",
    "merged = train_raw.join(grouped, on='user_id')\n",
    "last_order = merged['max_order_number'] == merged['order_number']\n",
    "train_data = train_raw.filter(~last_order).group_by('user_id').sum()\n",
    "valid_data = train_raw.filter(last_order)\n",
    "\n",
    "train_melt = train_data.drop('order_number').melt(id_vars=['user_id'], variable_name='category', value_name='ordered')\n",
    "valid_melt = valid_data.drop('order_number').melt(id_vars=['user_id'], variable_name='category', value_name='target')\n",
    "\n",
    "Train = train_melt\n",
    "\n",
    "order_number_df = valid_data.select(['user_id', 'order_number']).unique()\n",
    "Train = Train.join(order_number_df, on='user_id', how='left')\n",
    "Train = Train.with_columns((pl.col('ordered') / pl.col('order_number')).alias('rating'))\n",
    "Train = Train.with_columns((pl.col('user_id').cast(pl.Utf8) + ';' + pl.col('category')).alias('id'))\n",
    "Train = Train.with_columns(valid_melt.select('target'))\n",
    "dl_tmp = Train.group_by('category').agg(pl.col(['ordered']).sum())\n",
    "Train = Train.join(dl_tmp.select('category', 'ordered'), on='category').rename({\"ordered_right\": \"total_ordered\"})\n",
    "Train = Train.to_pandas()"
   ]
  },
  {
   "cell_type": "code",
   "execution_count": null,
   "id": "72b2c7f4",
   "metadata": {
    "execution": {
     "iopub.execute_input": "2024-02-22T11:34:41.373113Z",
     "iopub.status.busy": "2024-02-22T11:34:41.372766Z",
     "iopub.status.idle": "2024-02-22T11:34:41.381162Z",
     "shell.execute_reply": "2024-02-22T11:34:41.380478Z",
     "shell.execute_reply.started": "2024-02-22T11:34:41.373091Z"
    },
    "papermill": {
     "duration": null,
     "end_time": null,
     "exception": null,
     "start_time": null,
     "status": "pending"
    },
    "tags": []
   },
   "outputs": [],
   "source": [
    "Train"
   ]
  },
  {
   "cell_type": "code",
   "execution_count": null,
   "id": "2c0ebecd",
   "metadata": {
    "execution": {
     "iopub.execute_input": "2024-02-22T11:14:44.014087Z",
     "iopub.status.busy": "2024-02-22T11:14:44.013773Z",
     "iopub.status.idle": "2024-02-22T11:14:44.019497Z",
     "shell.execute_reply": "2024-02-22T11:14:44.018577Z",
     "shell.execute_reply.started": "2024-02-22T11:14:44.014061Z"
    },
    "papermill": {
     "duration": null,
     "end_time": null,
     "exception": null,
     "start_time": null,
     "status": "pending"
    },
    "tags": []
   },
   "outputs": [],
   "source": [
    "tmp_pl = valid_melt.select(pl.col(['target', 'user_id']))"
   ]
  },
  {
   "cell_type": "code",
   "execution_count": null,
   "id": "9840b32e",
   "metadata": {
    "execution": {
     "iopub.execute_input": "2024-02-22T11:16:56.022083Z",
     "iopub.status.busy": "2024-02-22T11:16:56.021757Z",
     "iopub.status.idle": "2024-02-22T11:16:56.026080Z",
     "shell.execute_reply": "2024-02-22T11:16:56.025417Z",
     "shell.execute_reply.started": "2024-02-22T11:16:56.022058Z"
    },
    "papermill": {
     "duration": null,
     "end_time": null,
     "exception": null,
     "start_time": null,
     "status": "pending"
    },
    "tags": []
   },
   "outputs": [],
   "source": [
    "Train = Train.with_columns(valid_melt.select('target'))"
   ]
  },
  {
   "cell_type": "code",
   "execution_count": null,
   "id": "cc9d383e",
   "metadata": {
    "execution": {
     "iopub.execute_input": "2024-02-22T11:28:45.558105Z",
     "iopub.status.busy": "2024-02-22T11:28:45.557719Z",
     "iopub.status.idle": "2024-02-22T11:28:46.967582Z",
     "shell.execute_reply": "2024-02-22T11:28:46.966664Z",
     "shell.execute_reply.started": "2024-02-22T11:28:45.558078Z"
    },
    "papermill": {
     "duration": null,
     "end_time": null,
     "exception": null,
     "start_time": null,
     "status": "pending"
    },
    "tags": []
   },
   "outputs": [],
   "source": [
    "Train = Train.with_columns(valid_melt.select('target'))\n",
    "dl_tmp = Train.group_by('category').agg(pl.col(['ordered']).sum())\n",
    "Train = Train.join(dl_tmp.select('category', 'ordered'), on='category').rename({\"ordered_right\": \"total_ordered\"})"
   ]
  },
  {
   "cell_type": "code",
   "execution_count": null,
   "id": "9d24b728",
   "metadata": {
    "execution": {
     "iopub.execute_input": "2024-02-22T10:51:21.749098Z",
     "iopub.status.busy": "2024-02-22T10:51:21.748734Z",
     "iopub.status.idle": "2024-02-22T10:51:23.571518Z",
     "shell.execute_reply": "2024-02-22T10:51:23.570100Z",
     "shell.execute_reply.started": "2024-02-22T10:51:21.749071Z"
    },
    "papermill": {
     "duration": null,
     "end_time": null,
     "exception": null,
     "start_time": null,
     "status": "pending"
    },
    "tags": []
   },
   "outputs": [],
   "source": [
    "%%time\n",
    "# sparse matrix for temporary use\n",
    "train_raw = pd.get_dummies(raw_pd, columns = ['cart'], prefix='', prefix_sep='', dtype='bool')\n",
    "train_raw = train_raw.groupby(['user_id', 'order_completed_at']).any().reset_index()\n",
    "\n",
    "# order counter for each use\n",
    "train_raw['order_number'] = train_raw.groupby(['user_id']).cumcount()\n",
    "train_raw = train_raw.drop('order_completed_at', axis=1)\n",
    "\n",
    "# separate datasets by the last purchase\n",
    "last_order = train_raw.groupby(['user_id'])['order_number'].transform(max) == train_raw['order_number']\n",
    "train = train_raw[~last_order].groupby('user_id').sum().reset_index()\n",
    "valid = train_raw[last_order].reset_index(drop=True)\n",
    "\n",
    "#purchase counter for each category for each user\n",
    "train_melt = pd.melt(train, id_vars=['user_id'], var_name='category', value_name='ordered')\n",
    "valid_melt = pd.melt(valid, id_vars=['user_id'], var_name='category', value_name='target')\n",
    "\n",
    "Train = train_melt.copy()\n",
    "\n",
    "# total purchase counter for each user\n",
    "order_number = valid[['user_id', 'order_number']].set_index('user_id').squeeze()\n",
    "Train['orders_total']= Train['user_id'].map(order_number)\n",
    "\n",
    "#average amount of each category in  customer's purchase\n",
    "Train['rating'] = Train['ordered'] / Train['orders_total']\n",
    "\n",
    "# user_id / category as in submission file\n",
    "Train['id'] = Train['user_id'].astype(str) + ';' + Train['category']\n",
    "\n",
    "# target variable (the last known purchase)\n",
    "Train['target'] = valid_melt['target'].astype(int)\n",
    "\n",
    "#remove those users/categories who are not represented in the submission file\n",
    "# Train = Train[Train.id.isin(sub.id.unique())].reset_index(drop=True)\n",
    "#Check\n",
    "print((Train.sort_values('id')['id'].values == Train.sort_values('id')['id'].values).all())\n",
    "\n",
    "#purchase counter by all user (for represetned users)\n",
    "total_ordered = Train.groupby('category')['ordered'].sum()\n",
    "Train['total_ordered'] = Train['category'].map(total_ordered)\n",
    "\n",
    "Train"
   ]
  },
  {
   "cell_type": "code",
   "execution_count": null,
   "id": "d5b76544",
   "metadata": {
    "execution": {
     "iopub.execute_input": "2024-02-22T03:05:19.119555Z",
     "iopub.status.busy": "2024-02-22T03:05:19.119086Z",
     "iopub.status.idle": "2024-02-22T03:05:19.149319Z",
     "shell.execute_reply": "2024-02-22T03:05:19.148017Z",
     "shell.execute_reply.started": "2024-02-22T03:05:19.119514Z"
    },
    "papermill": {
     "duration": null,
     "end_time": null,
     "exception": null,
     "start_time": null,
     "status": "pending"
    },
    "tags": []
   },
   "outputs": [],
   "source": [
    "train"
   ]
  },
  {
   "cell_type": "code",
   "execution_count": null,
   "id": "d0162386",
   "metadata": {
    "papermill": {
     "duration": null,
     "end_time": null,
     "exception": null,
     "start_time": null,
     "status": "pending"
    },
    "tags": []
   },
   "outputs": [],
   "source": []
  }
 ],
 "metadata": {
  "kaggle": {
   "accelerator": "none",
   "dataSources": [
    {
     "databundleVersionId": 2344227,
     "sourceId": 29296,
     "sourceType": "competition"
    }
   ],
   "dockerImageVersionId": 30646,
   "isGpuEnabled": false,
   "isInternetEnabled": true,
   "language": "python",
   "sourceType": "notebook"
  },
  "kernelspec": {
   "display_name": "Python 3",
   "language": "python",
   "name": "python3"
  },
  "language_info": {
   "codemirror_mode": {
    "name": "ipython",
    "version": 3
   },
   "file_extension": ".py",
   "mimetype": "text/x-python",
   "name": "python",
   "nbconvert_exporter": "python",
   "pygments_lexer": "ipython3",
   "version": "3.10.13"
  },
  "papermill": {
   "default_parameters": {},
   "duration": 23.640838,
   "end_time": "2024-02-22T12:05:02.659702",
   "environment_variables": {},
   "exception": true,
   "input_path": "__notebook__.ipynb",
   "output_path": "__notebook__.ipynb",
   "parameters": {},
   "start_time": "2024-02-22T12:04:39.018864",
   "version": "2.5.0"
  }
 },
 "nbformat": 4,
 "nbformat_minor": 5
}
