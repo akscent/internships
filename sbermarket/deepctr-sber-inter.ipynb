{
 "cells": [
  {
   "cell_type": "code",
   "execution_count": 1,
   "id": "579e9d0f",
   "metadata": {
    "_cell_guid": "b1076dfc-b9ad-4769-8c92-a6c4dae69d19",
    "_uuid": "8f2839f25d086af736a60e9eeb907d3b93b6e0e5",
    "execution": {
     "iopub.execute_input": "2024-03-06T09:04:42.332495Z",
     "iopub.status.busy": "2024-03-06T09:04:42.332086Z",
     "iopub.status.idle": "2024-03-06T09:04:57.012591Z",
     "shell.execute_reply": "2024-03-06T09:04:57.011293Z"
    },
    "papermill": {
     "duration": 14.689577,
     "end_time": "2024-03-06T09:04:57.015686",
     "exception": false,
     "start_time": "2024-03-06T09:04:42.326109",
     "status": "completed"
    },
    "tags": []
   },
   "outputs": [
    {
     "name": "stdout",
     "output_type": "stream",
     "text": [
      "Collecting LibRecommender\r\n",
      "  Downloading LibRecommender-1.4.0-cp310-cp310-manylinux_2_17_x86_64.manylinux2014_x86_64.whl.metadata (29 kB)\r\n",
      "Requirement already satisfied: gensim>=4.0.0 in /opt/conda/lib/python3.10/site-packages (from LibRecommender) (4.3.2)\r\n",
      "Requirement already satisfied: tqdm in /opt/conda/lib/python3.10/site-packages (from LibRecommender) (4.66.1)\r\n",
      "Requirement already satisfied: numpy>=1.18.5 in /opt/conda/lib/python3.10/site-packages (from gensim>=4.0.0->LibRecommender) (1.24.4)\r\n",
      "Requirement already satisfied: scipy>=1.7.0 in /opt/conda/lib/python3.10/site-packages (from gensim>=4.0.0->LibRecommender) (1.11.4)\r\n",
      "Requirement already satisfied: smart-open>=1.8.1 in /opt/conda/lib/python3.10/site-packages (from gensim>=4.0.0->LibRecommender) (6.4.0)\r\n",
      "Downloading LibRecommender-1.4.0-cp310-cp310-manylinux_2_17_x86_64.manylinux2014_x86_64.whl (2.1 MB)\r\n",
      "\u001b[2K   \u001b[90m━━━━━━━━━━━━━━━━━━━━━━━━━━━━━━━━━━━━━━━━\u001b[0m \u001b[32m2.1/2.1 MB\u001b[0m \u001b[31m22.2 MB/s\u001b[0m eta \u001b[36m0:00:00\u001b[0m\r\n",
      "\u001b[?25hInstalling collected packages: LibRecommender\r\n",
      "Successfully installed LibRecommender-1.4.0\r\n"
     ]
    }
   ],
   "source": [
    "!pip install -U LibRecommender"
   ]
  },
  {
   "cell_type": "code",
   "execution_count": 2,
   "id": "ab67afbe",
   "metadata": {
    "execution": {
     "iopub.execute_input": "2024-03-06T09:04:57.032618Z",
     "iopub.status.busy": "2024-03-06T09:04:57.031699Z",
     "iopub.status.idle": "2024-03-06T09:05:10.214563Z",
     "shell.execute_reply": "2024-03-06T09:05:10.213391Z"
    },
    "papermill": {
     "duration": 13.19424,
     "end_time": "2024-03-06T09:05:10.217353",
     "exception": false,
     "start_time": "2024-03-06T09:04:57.023113",
     "status": "completed"
    },
    "tags": []
   },
   "outputs": [
    {
     "name": "stdout",
     "output_type": "stream",
     "text": [
      "Collecting fastparquet\r\n",
      "  Downloading fastparquet-2024.2.0-cp310-cp310-manylinux_2_17_x86_64.manylinux2014_x86_64.whl.metadata (4.1 kB)\r\n",
      "Requirement already satisfied: pandas>=1.5.0 in /opt/conda/lib/python3.10/site-packages (from fastparquet) (2.2.0)\r\n",
      "Requirement already satisfied: numpy>=1.20.3 in /opt/conda/lib/python3.10/site-packages (from fastparquet) (1.24.4)\r\n",
      "Collecting cramjam>=2.3 (from fastparquet)\r\n",
      "  Downloading cramjam-2.8.2-cp310-cp310-manylinux_2_17_x86_64.manylinux2014_x86_64.whl.metadata (4.1 kB)\r\n",
      "Requirement already satisfied: fsspec in /opt/conda/lib/python3.10/site-packages (from fastparquet) (2023.12.2)\r\n",
      "Requirement already satisfied: packaging in /opt/conda/lib/python3.10/site-packages (from fastparquet) (21.3)\r\n",
      "Requirement already satisfied: python-dateutil>=2.8.2 in /opt/conda/lib/python3.10/site-packages (from pandas>=1.5.0->fastparquet) (2.8.2)\r\n",
      "Requirement already satisfied: pytz>=2020.1 in /opt/conda/lib/python3.10/site-packages (from pandas>=1.5.0->fastparquet) (2023.3.post1)\r\n",
      "Requirement already satisfied: tzdata>=2022.7 in /opt/conda/lib/python3.10/site-packages (from pandas>=1.5.0->fastparquet) (2023.4)\r\n",
      "Requirement already satisfied: pyparsing!=3.0.5,>=2.0.2 in /opt/conda/lib/python3.10/site-packages (from packaging->fastparquet) (3.1.1)\r\n",
      "Requirement already satisfied: six>=1.5 in /opt/conda/lib/python3.10/site-packages (from python-dateutil>=2.8.2->pandas>=1.5.0->fastparquet) (1.16.0)\r\n",
      "Downloading fastparquet-2024.2.0-cp310-cp310-manylinux_2_17_x86_64.manylinux2014_x86_64.whl (1.7 MB)\r\n",
      "\u001b[2K   \u001b[90m━━━━━━━━━━━━━━━━━━━━━━━━━━━━━━━━━━━━━━━━\u001b[0m \u001b[32m1.7/1.7 MB\u001b[0m \u001b[31m16.0 MB/s\u001b[0m eta \u001b[36m0:00:00\u001b[0m\r\n",
      "\u001b[?25hDownloading cramjam-2.8.2-cp310-cp310-manylinux_2_17_x86_64.manylinux2014_x86_64.whl (1.9 MB)\r\n",
      "\u001b[2K   \u001b[90m━━━━━━━━━━━━━━━━━━━━━━━━━━━━━━━━━━━━━━━━\u001b[0m \u001b[32m1.9/1.9 MB\u001b[0m \u001b[31m52.3 MB/s\u001b[0m eta \u001b[36m0:00:00\u001b[0m\r\n",
      "\u001b[?25hInstalling collected packages: cramjam, fastparquet\r\n",
      "Successfully installed cramjam-2.8.2 fastparquet-2024.2.0\r\n"
     ]
    }
   ],
   "source": [
    "!pip install fastparquet"
   ]
  },
  {
   "cell_type": "code",
   "execution_count": null,
   "id": "e01e984e",
   "metadata": {
    "papermill": {
     "duration": 0.00511,
     "end_time": "2024-03-06T09:05:10.228093",
     "exception": false,
     "start_time": "2024-03-06T09:05:10.222983",
     "status": "completed"
    },
    "tags": []
   },
   "outputs": [],
   "source": []
  },
  {
   "cell_type": "code",
   "execution_count": 3,
   "id": "35f8cf75",
   "metadata": {
    "execution": {
     "iopub.execute_input": "2024-03-06T09:05:10.241052Z",
     "iopub.status.busy": "2024-03-06T09:05:10.240663Z",
     "iopub.status.idle": "2024-03-06T09:05:27.451556Z",
     "shell.execute_reply": "2024-03-06T09:05:27.450279Z"
    },
    "papermill": {
     "duration": 17.220516,
     "end_time": "2024-03-06T09:05:27.454329",
     "exception": false,
     "start_time": "2024-03-06T09:05:10.233813",
     "status": "completed"
    },
    "tags": []
   },
   "outputs": [
    {
     "name": "stderr",
     "output_type": "stream",
     "text": [
      "2024-03-06 09:05:13.374864: E external/local_xla/xla/stream_executor/cuda/cuda_dnn.cc:9261] Unable to register cuDNN factory: Attempting to register factory for plugin cuDNN when one has already been registered\n",
      "2024-03-06 09:05:13.375005: E external/local_xla/xla/stream_executor/cuda/cuda_fft.cc:607] Unable to register cuFFT factory: Attempting to register factory for plugin cuFFT when one has already been registered\n",
      "2024-03-06 09:05:13.552775: E external/local_xla/xla/stream_executor/cuda/cuda_blas.cc:1515] Unable to register cuBLAS factory: Attempting to register factory for plugin cuBLAS when one has already been registered\n"
     ]
    }
   ],
   "source": [
    "import pandas as pd\n",
    "import tensorflow as tf\n",
    "import tqdm\n",
    "import warnings\n",
    "import fastparquet\n",
    "from sklearn.metrics import f1_score\n",
    "from sklearn.model_selection import train_test_split\n",
    "warnings.filterwarnings(\"ignore\")"
   ]
  },
  {
   "cell_type": "code",
   "execution_count": 4,
   "id": "860fd59e",
   "metadata": {
    "execution": {
     "iopub.execute_input": "2024-03-06T09:05:27.468098Z",
     "iopub.status.busy": "2024-03-06T09:05:27.467081Z",
     "iopub.status.idle": "2024-03-06T09:05:27.473584Z",
     "shell.execute_reply": "2024-03-06T09:05:27.472488Z"
    },
    "papermill": {
     "duration": 0.016137,
     "end_time": "2024-03-06T09:05:27.476148",
     "exception": false,
     "start_time": "2024-03-06T09:05:27.460011",
     "status": "completed"
    },
    "tags": []
   },
   "outputs": [],
   "source": [
    "def f1 (real, pred, **kwargs):\n",
    "    return f1_score(real, (pred > 0.2).astype(int), **kwargs)\n",
    "\n",
    "N_THREADS = 4\n",
    "N_FOLDS = 5\n",
    "RANDOM_STATE = 42\n",
    "TEST_SIZE = 0.2\n",
    "TARGET_NAME = 'label'"
   ]
  },
  {
   "cell_type": "code",
   "execution_count": null,
   "id": "2ebbe144",
   "metadata": {
    "papermill": {
     "duration": 0.005275,
     "end_time": "2024-03-06T09:05:27.487031",
     "exception": false,
     "start_time": "2024-03-06T09:05:27.481756",
     "status": "completed"
    },
    "tags": []
   },
   "outputs": [],
   "source": []
  },
  {
   "cell_type": "code",
   "execution_count": 5,
   "id": "a3fbecbb",
   "metadata": {
    "execution": {
     "iopub.execute_input": "2024-03-06T09:05:27.500281Z",
     "iopub.status.busy": "2024-03-06T09:05:27.499668Z",
     "iopub.status.idle": "2024-03-06T09:07:05.064093Z",
     "shell.execute_reply": "2024-03-06T09:07:05.061766Z"
    },
    "papermill": {
     "duration": 97.577006,
     "end_time": "2024-03-06T09:07:05.069619",
     "exception": false,
     "start_time": "2024-03-06T09:05:27.492613",
     "status": "completed"
    },
    "tags": []
   },
   "outputs": [],
   "source": [
    "s_Train = pd.read_parquet('/kaggle/input/next-orders/s_Train (1).parquet')\n",
    "# s_Test = pd.read_parquet('/kaggle/input/next-orders/s_Test (1).parquet')\n",
    "\n",
    "s_Train.rename(columns={'user_id': 'user', 'category': 'item', 'target': 'label'}, inplace=True)\n",
    "new_order = ['user', 'item', 'label'] + [col for col in s_Train.columns if col not in ['user', 'item', 'label']]\n",
    "s_Train = s_Train.reindex(columns=new_order)\n",
    "\n",
    "Train_set, Valid_set = train_test_split(s_Train, test_size = TEST_SIZE,\n",
    "                                        stratify = s_Train[TARGET_NAME], random_state = 23)\n",
    "Train_set.reset_index(drop=True, inplace=True)\n",
    "Valid_set.reset_index(drop=True, inplace=True)\n",
    "\n",
    "del s_Train"
   ]
  },
  {
   "cell_type": "code",
   "execution_count": 6,
   "id": "d3b89f1d",
   "metadata": {
    "execution": {
     "iopub.execute_input": "2024-03-06T09:07:05.086271Z",
     "iopub.status.busy": "2024-03-06T09:07:05.084904Z",
     "iopub.status.idle": "2024-03-06T09:07:10.826440Z",
     "shell.execute_reply": "2024-03-06T09:07:10.825168Z"
    },
    "papermill": {
     "duration": 5.751569,
     "end_time": "2024-03-06T09:07:10.829045",
     "exception": false,
     "start_time": "2024-03-06T09:07:05.077476",
     "status": "completed"
    },
    "tags": []
   },
   "outputs": [],
   "source": [
    "Train_set.drop(columns = ['id'], axis = 1, inplace = True)\n",
    "# Valid_set.drop(columns = 'id', axis = 1, inplace = True)"
   ]
  },
  {
   "cell_type": "code",
   "execution_count": null,
   "id": "e3ace436",
   "metadata": {
    "papermill": {
     "duration": 0.005366,
     "end_time": "2024-03-06T09:07:10.840092",
     "exception": false,
     "start_time": "2024-03-06T09:07:10.834726",
     "status": "completed"
    },
    "tags": []
   },
   "outputs": [],
   "source": []
  },
  {
   "cell_type": "code",
   "execution_count": 7,
   "id": "d30be026",
   "metadata": {
    "execution": {
     "iopub.execute_input": "2024-03-06T09:07:10.852934Z",
     "iopub.status.busy": "2024-03-06T09:07:10.852541Z",
     "iopub.status.idle": "2024-03-06T09:07:10.870656Z",
     "shell.execute_reply": "2024-03-06T09:07:10.869463Z"
    },
    "papermill": {
     "duration": 0.027695,
     "end_time": "2024-03-06T09:07:10.873397",
     "exception": false,
     "start_time": "2024-03-06T09:07:10.845702",
     "status": "completed"
    },
    "tags": []
   },
   "outputs": [],
   "source": [
    "from libreco.data import DatasetFeat\n",
    "\n",
    "sparse_col = [\"Clusters\"]\n",
    "dense_col = ['total_order_in_cat_max',\n",
    " 'ordered_mean',\n",
    " 'pc2',\n",
    " 'total_rating_cat_max',\n",
    " 'rating_max',\n",
    " 'rating_mean',\n",
    " 'pc5',\n",
    " 'weekday_mean',\n",
    " 'pc6',\n",
    " 'pc4',\n",
    " 'pc10',\n",
    " 'pc3',\n",
    " 'pc1',\n",
    " 'pc7',\n",
    " 'pc8',\n",
    " 'pc9',\n",
    " 'rating_per_month_mean',\n",
    " 'month_std',\n",
    " 'month_mean',\n",
    " 'rating_per_month_std',\n",
    " 'weekday_std',\n",
    " 'month_max',\n",
    " 'ordered_std',\n",
    " 'rating_std',\n",
    " 'weekday_min',\n",
    " 'month_min',\n",
    " 't_rating_per_month_mean',\n",
    " 'Clusters',\n",
    " 'weekday_max',\n",
    " 't_rating_per_month_sum',\n",
    " 'tc_rating_per_month_mean',\n",
    " 't_rating_per_month_median',\n",
    " 't_rating_per_month_std',\n",
    " 'tc_rating_per_month_sum',\n",
    " 'ordered_max',\n",
    " 'tc_rating_per_month_std']\n",
    "user_col = []\n",
    "item_col = ['Clusters', 'total_order_in_cat_max',\n",
    " 'ordered_mean',\n",
    " 'pc2',\n",
    " 'total_rating_cat_max',\n",
    " 'rating_max',\n",
    " 'rating_mean',\n",
    " 'pc5',\n",
    " 'weekday_mean',\n",
    " 'pc6',\n",
    " 'pc4',\n",
    " 'pc10',\n",
    " 'pc3',\n",
    " 'pc1',\n",
    " 'pc7',\n",
    " 'pc8',\n",
    " 'pc9',\n",
    " 'rating_per_month_mean',\n",
    " 'month_std',\n",
    " 'month_mean',\n",
    " 'rating_per_month_std',\n",
    " 'weekday_std',\n",
    " 'month_max',\n",
    " 'ordered_std',\n",
    " 'rating_std',\n",
    " 'weekday_min',\n",
    " 'month_min',\n",
    " 't_rating_per_month_mean',\n",
    " 'Clusters',\n",
    " 'weekday_max',\n",
    " 't_rating_per_month_sum',\n",
    " 'tc_rating_per_month_mean',\n",
    " 't_rating_per_month_median',\n",
    " 't_rating_per_month_std',\n",
    " 'tc_rating_per_month_sum',\n",
    " 'ordered_max',\n",
    " 'tc_rating_per_month_std']"
   ]
  },
  {
   "cell_type": "code",
   "execution_count": 8,
   "id": "7c3e8a94",
   "metadata": {
    "execution": {
     "iopub.execute_input": "2024-03-06T09:07:10.886618Z",
     "iopub.status.busy": "2024-03-06T09:07:10.886216Z",
     "iopub.status.idle": "2024-03-06T09:08:03.461034Z",
     "shell.execute_reply": "2024-03-06T09:08:03.459759Z"
    },
    "papermill": {
     "duration": 52.58463,
     "end_time": "2024-03-06T09:08:03.463771",
     "exception": false,
     "start_time": "2024-03-06T09:07:10.879141",
     "status": "completed"
    },
    "tags": []
   },
   "outputs": [],
   "source": [
    "train_data, data_info = DatasetFeat.build_trainset(Train_set, user_col, item_col, sparse_col, dense_col)\n",
    "eval_data = DatasetFeat.build_evalset(Valid_set)\n",
    "# test_data = DatasetFeat.build_testset(test_data)"
   ]
  },
  {
   "cell_type": "code",
   "execution_count": 9,
   "id": "4cf81140",
   "metadata": {
    "execution": {
     "iopub.execute_input": "2024-03-06T09:08:03.479237Z",
     "iopub.status.busy": "2024-03-06T09:08:03.478825Z",
     "iopub.status.idle": "2024-03-06T09:49:08.177116Z",
     "shell.execute_reply": "2024-03-06T09:49:08.175402Z"
    },
    "papermill": {
     "duration": 2464.710013,
     "end_time": "2024-03-06T09:49:08.179598",
     "exception": false,
     "start_time": "2024-03-06T09:08:03.469585",
     "status": "completed"
    },
    "tags": []
   },
   "outputs": [
    {
     "name": "stdout",
     "output_type": "stream",
     "text": [
      "Training start time: \u001b[35m2024-03-06 09:08:43\u001b[0m\n",
      "total params: \u001b[33m447,783\u001b[0m | embedding params: \u001b[33m355,951\u001b[0m | network params: \u001b[33m91,832\u001b[0m\n"
     ]
    },
    {
     "name": "stderr",
     "output_type": "stream",
     "text": [
      "train: 100%|██████████| 110125/110125 [17:54<00:00, 102.53it/s]\n"
     ]
    },
    {
     "name": "stdout",
     "output_type": "stream",
     "text": [
      "Epoch 1 elapsed: 1074.116s\n",
      "\t \u001b[32mtrain_loss: 1.5871\u001b[0m\n"
     ]
    },
    {
     "name": "stderr",
     "output_type": "stream",
     "text": [
      "eval_pointwise: 100%|██████████| 861/861 [00:37<00:00, 23.06it/s]\n",
      "eval_listwise: 100%|██████████| 1931/1931 [01:21<00:00, 23.78it/s]\n"
     ]
    },
    {
     "name": "stdout",
     "output_type": "stream",
     "text": [
      "\t eval log_loss: 0.6932\n",
      "\t eval roc_auc: 0.5001\n",
      "\t eval precision@10: 0.0993\n",
      "\t eval recall@10: 0.3122\n",
      "==============================\n"
     ]
    },
    {
     "name": "stderr",
     "output_type": "stream",
     "text": [
      "train: 100%|██████████| 110125/110125 [17:48<00:00, 103.04it/s]\n"
     ]
    },
    {
     "name": "stdout",
     "output_type": "stream",
     "text": [
      "Epoch 2 elapsed: 1068.777s\n",
      "\t \u001b[32mtrain_loss: 0.6937\u001b[0m\n"
     ]
    },
    {
     "name": "stderr",
     "output_type": "stream",
     "text": [
      "eval_pointwise: 100%|██████████| 861/861 [00:37<00:00, 23.27it/s]\n",
      "eval_listwise: 100%|██████████| 1931/1931 [01:21<00:00, 23.57it/s]\n"
     ]
    },
    {
     "name": "stdout",
     "output_type": "stream",
     "text": [
      "\t eval log_loss: 0.6933\n",
      "\t eval roc_auc: 0.4997\n",
      "\t eval precision@10: 0.0642\n",
      "\t eval recall@10: 0.2011\n",
      "==============================\n"
     ]
    }
   ],
   "source": [
    "from libreco.algorithms import DeepFM\n",
    "\n",
    "model = DeepFM(\n",
    "    task=\"ranking\",\n",
    "    data_info=data_info,\n",
    "    embed_size=16,\n",
    "    n_epochs=2,\n",
    "    use_bn=True,\n",
    "    hidden_units=(128, 64, 32),\n",
    ")\n",
    "\n",
    "model.fit(\n",
    "    train_data,\n",
    "    neg_sampling=True,\n",
    "    verbose=2,\n",
    "    shuffle=True,\n",
    "    eval_data=eval_data,\n",
    "    metrics=[\"loss\", \"roc_auc\", \"precision\", \"recall\"],\n",
    ")"
   ]
  },
  {
   "cell_type": "code",
   "execution_count": 10,
   "id": "eb5cb8ba",
   "metadata": {
    "execution": {
     "iopub.execute_input": "2024-03-06T09:49:11.220642Z",
     "iopub.status.busy": "2024-03-06T09:49:11.220161Z",
     "iopub.status.idle": "2024-03-06T09:49:27.294241Z",
     "shell.execute_reply": "2024-03-06T09:49:27.293051Z"
    },
    "papermill": {
     "duration": 17.606363,
     "end_time": "2024-03-06T09:49:27.297303",
     "exception": false,
     "start_time": "2024-03-06T09:49:09.690940",
     "status": "completed"
    },
    "tags": []
   },
   "outputs": [],
   "source": [
    "data_info.save(\"./\", model_name=\"wide_deep\")\n",
    "model.save(\"./\", model_name=\"wide_deep\")"
   ]
  },
  {
   "cell_type": "code",
   "execution_count": null,
   "id": "4011d413",
   "metadata": {
    "papermill": {
     "duration": 1.550366,
     "end_time": "2024-03-06T09:49:30.291349",
     "exception": false,
     "start_time": "2024-03-06T09:49:28.740983",
     "status": "completed"
    },
    "tags": []
   },
   "outputs": [],
   "source": []
  },
  {
   "cell_type": "code",
   "execution_count": null,
   "id": "e997727d",
   "metadata": {
    "papermill": {
     "duration": 1.495323,
     "end_time": "2024-03-06T09:49:33.290572",
     "exception": false,
     "start_time": "2024-03-06T09:49:31.795249",
     "status": "completed"
    },
    "tags": []
   },
   "outputs": [],
   "source": []
  }
 ],
 "metadata": {
  "kaggle": {
   "accelerator": "none",
   "dataSources": [
    {
     "datasetId": 4484528,
     "sourceId": 7765064,
     "sourceType": "datasetVersion"
    }
   ],
   "dockerImageVersionId": 30646,
   "isGpuEnabled": false,
   "isInternetEnabled": true,
   "language": "python",
   "sourceType": "notebook"
  },
  "kernelspec": {
   "display_name": "Python 3",
   "language": "python",
   "name": "python3"
  },
  "language_info": {
   "codemirror_mode": {
    "name": "ipython",
    "version": 3
   },
   "file_extension": ".py",
   "mimetype": "text/x-python",
   "name": "python",
   "nbconvert_exporter": "python",
   "pygments_lexer": "ipython3",
   "version": "3.10.13"
  },
  "papermill": {
   "default_parameters": {},
   "duration": 2698.168501,
   "end_time": "2024-03-06T09:49:37.612111",
   "environment_variables": {},
   "exception": null,
   "input_path": "__notebook__.ipynb",
   "output_path": "__notebook__.ipynb",
   "parameters": {},
   "start_time": "2024-03-06T09:04:39.443610",
   "version": "2.5.0"
  }
 },
 "nbformat": 4,
 "nbformat_minor": 5
}
